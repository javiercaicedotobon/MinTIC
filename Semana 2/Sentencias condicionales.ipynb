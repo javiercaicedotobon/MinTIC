{
  "cells": [
    {
      "cell_type": "markdown",
      "metadata": {
        "id": "R0kZBV176rs1"
      },
      "source": [
        "**Ejecuta el siguiente bloque de código siempre antes de ejecutar el resto del notebook.**"
      ]
    },
    {
      "cell_type": "code",
      "execution_count": null,
      "metadata": {
        "id": "mwrh0vPv6rs7"
      },
      "outputs": [],
      "source": [
        "from IPython.core.magic import  Magics, magics_class, cell_magic, line_magic\n",
        "\n",
        "@magics_class\n",
        "class Helper(Magics):\n",
        "\n",
        "  def __init__(self, shell=None,  **kwargs):\n",
        "    super().__init__(shell=shell, **kwargs)\n",
        "\n",
        "  @cell_magic\n",
        "  def debug_cell_with_pytutor(self, line, cell):\n",
        "    import urllib.parse\n",
        "    url_src = urllib.parse.quote(cell)\n",
        "    str_begin = '<iframe width=\"1000\" height=\"500\" frameborder=\"0\" src=\"https://pythontutor.com/iframe-embed.html#code='\n",
        "    str_end   = '&cumulative=false&py=3&curInstr=0\"></iframe>'\n",
        "    import IPython\n",
        "    from google.colab import output\n",
        "    display(IPython.display.HTML(str_begin+url_src+str_end))\n",
        "\n",
        "get_ipython().register_magics(Helper)"
      ]
    },
    {
      "cell_type": "markdown",
      "metadata": {
        "id": "Co0fWSH96rs_"
      },
      "source": [
        "# Estructuras de control condicionales\n",
        "\n",
        "La toma de decisiones es inherente a nuestra propia vida. Constantemente tenemos que tomar alternativas dependiendo de algún suceso o acontecimiento o de la ocurrencia de un evento u objetivo. La programación propone las estructuras de control condicionales para modificar el flujo de ejecución de las instrucciones de un programa, dentro de las estructuras condicionales tenemos la estructura `if`, `elif` y  `else`, además de  combinaciones de estos.\n",
        "\n",
        "\n",
        "## Sentencia if...else en Python\n",
        "La sentencia `if` nos permite ejecutar un bloque de código únicamente si una condición dada se cumple, su sintaxis es muy simple:\n",
        "\n",
        "```python\n",
        "if condicion:\n",
        "    instruccion_1\n",
        "    instruccion_2\n",
        "    #.\n",
        "    #.\n",
        "    #.\n",
        "    instruccion_n\n",
        "\n",
        "instruccion_fuera_del_if\n",
        "```\n",
        "La instrucción `if` precede una condición lógica (la cual se construye a partir de los operadores lógicos y de comparación vistos en la sección anterior) Al finalizar esta condición se debe poner dos puntos `:` este operador le indica a Python que se iniciará un bloque de código que estará subordinado a la sentencia if, todas las instrucciones que queramos ejecutar cuando se cumpla la condición deben ir indentadas, es decir, corridas a la derecha por 4 espacios o un tabulador. Para cerrar el bloque de instrucciones del condicional, basta eliminar la indentación y seguir codificando de manera natural.\n",
        "\n",
        "Para las personas que tengan experiencia programando en otros lenguajes, notarán que en Python no se usan `{}` para rodear los bloques de código, por lo tanto es muy importante respetar los niveles de indentación dentro del programa, de lo contrario se pueden encontrar errores como los siguientes:\n"
      ]
    },
    {
      "cell_type": "code",
      "execution_count": null,
      "metadata": {
        "id": "12QTJ1sD6rtA",
        "outputId": "2a7e465c-fe62-41ee-b112-8e9bb47c9919"
      },
      "outputs": [
        {
          "ename": "IndentationError",
          "evalue": "unindent does not match any outer indentation level (<tokenize>, line 4)",
          "output_type": "error",
          "traceback": [
            "\u001b[1;36m  File \u001b[1;32m\"<tokenize>\"\u001b[1;36m, line \u001b[1;32m4\u001b[0m\n\u001b[1;33m    print(x)\u001b[0m\n\u001b[1;37m    ^\u001b[0m\n\u001b[1;31mIndentationError\u001b[0m\u001b[1;31m:\u001b[0m unindent does not match any outer indentation level\n"
          ]
        }
      ],
      "source": [
        "x = 5\n",
        "if x > 3:\n",
        "    x += 1\n",
        "  print(x)\n",
        "    x += 3"
      ]
    },
    {
      "cell_type": "code",
      "execution_count": null,
      "metadata": {
        "id": "4yXAK09w6rtB",
        "outputId": "e26307c4-58b1-4abf-b211-4b0f3bede316",
        "colab": {
          "base_uri": "https://localhost:8080/",
          "height": 131
        }
      },
      "outputs": [
        {
          "output_type": "error",
          "ename": "IndentationError",
          "evalue": "ignored",
          "traceback": [
            "\u001b[0;36m  File \u001b[0;32m\"<ipython-input-2-f04dc12ce01d>\"\u001b[0;36m, line \u001b[0;32m5\u001b[0m\n\u001b[0;31m    x += 3\u001b[0m\n\u001b[0m    ^\u001b[0m\n\u001b[0;31mIndentationError\u001b[0m\u001b[0;31m:\u001b[0m unexpected indent\n"
          ]
        }
      ],
      "source": [
        "x = 5\n",
        "if x > 3:\n",
        "    x += 1\n",
        "print(x)\n",
        "    x += 3"
      ]
    },
    {
      "cell_type": "markdown",
      "metadata": {
        "id": "mQC8Vru86rtC"
      },
      "source": [
        "Veamos un pequeño ejemplo de su funcionamiento. Digitemos un número, el siguiente script nos dirá si el número es positivo o negativo."
      ]
    },
    {
      "cell_type": "code",
      "execution_count": null,
      "metadata": {
        "colab": {
          "base_uri": "https://localhost:8080/"
        },
        "id": "gfjxAuUD6rtD",
        "outputId": "35d8181d-b71d-4b52-d5fc-20a9f8691b7b"
      },
      "outputs": [
        {
          "output_type": "stream",
          "name": "stdout",
          "text": [
            "digite un número: 55\n",
            "55 es un número positivo.\n",
            "esta línea siempre se ejecuta.\n",
            "esta línea también se ejecuta siempre.\n"
          ]
        }
      ],
      "source": [
        "num = int(input(\"digite un número: \"))\n",
        "if num > 0:\n",
        "    print(f\"{num} es un número positivo.\")\n",
        "print(\"esta línea siempre se ejecuta.\")\n",
        "if num < 0:\n",
        "    print(f\"{num} es un número negativo.\")\n",
        "print(\"esta línea también se ejecuta siempre.\")"
      ]
    },
    {
      "cell_type": "markdown",
      "metadata": {
        "id": "-UtXB7ZP6rtF"
      },
      "source": [
        "En el ejemplo anterior, `num > 0` y `num < 0` son expresiones de prueba, el cuerpo del `if` solo se ejecuta si se evalúan como `True`.\n",
        "\n",
        "Cuando la variable `num` recibe un número mayor a 0, la expresión de prueba del primer `if` es verdadera y se ejecutan las sentencias dentro del cuerpo de este, sin embargo, la expresión de prueba del segundo será falsa, pues espera un número menor a 0 y las sentencias dentro este se omiten.\n",
        "\n",
        "Las sentencias print() de las líneas 4 y 7 quedan fuera de los bloques `if` ya que no tienen el mismo nivel de indentación, como se mencionó arriba. Por lo tanto, se ejecutan independientemente de la expresión de prueba.\n",
        "\n",
        "\n"
      ]
    },
    {
      "cell_type": "markdown",
      "source": [
        "Veamos cómo el intérprete ejecuta las líneas una a una, ejecuta el siguiente bloque de código, la herramienta [Python Tutor](https://pythontutor.com/) ofrece un entorno donde podemos ver los pasos que realiza el programa para ejecutar el código."
      ],
      "metadata": {
        "id": "fP5-rylyDNAs"
      }
    },
    {
      "cell_type": "code",
      "execution_count": null,
      "metadata": {
        "id": "QrfFI7FP6rtE",
        "colab": {
          "base_uri": "https://localhost:8080/",
          "height": 541
        },
        "outputId": "2d8cc4a3-6570-4465-8881-5ca417044f15"
      },
      "outputs": [
        {
          "output_type": "display_data",
          "data": {
            "text/plain": [
              "<IPython.core.display.HTML object>"
            ],
            "text/html": [
              "<iframe width=\"1000\" height=\"500\" frameborder=\"0\" src=\"https://pythontutor.com/iframe-embed.html#code=num%20%3D%205%20%23Cambia%20este%20valor%20y%20ejecuta%20la%20l%C3%ADnea%0Aif%20num%20%3E%200%3A%0A%20%20%20%20print%28f%22%7Bnum%7D%20es%20un%20n%C3%BAmero%20positivo.%22%29%0Aprint%28%22esta%20l%C3%ADnea%20siempre%20se%20ejecuta.%22%29%0Aif%20num%20%3C%200%3A%0A%20%20%20%20print%28f%22%7Bnum%7D%20es%20un%20n%C3%BAmero%20negativo.%22%29%0Aprint%28%22esta%20l%C3%ADnea%20tambi%C3%A9n%20se%20ejecuta%20siempre.%22%29&cumulative=false&py=3&curInstr=0\"></iframe>"
            ]
          },
          "metadata": {}
        }
      ],
      "source": [
        "%%debug_cell_with_pytutor\n",
        "num = 5 #Cambia este valor y ejecuta la línea\n",
        "if num > 0:\n",
        "    print(f\"{num} es un número positivo.\")\n",
        "print(\"esta línea siempre se ejecuta.\")\n",
        "if num < 0:\n",
        "    print(f\"{num} es un número negativo.\")\n",
        "print(\"esta línea también se ejecuta siempre.\")"
      ]
    },
    {
      "cell_type": "markdown",
      "source": [
        "Este código no es muy eficiente en la realidad, puesto que debe evaluar dos condiciones sumamente similares, si un número es mayor que 0, por lógica sabemos que el caso contrario (que sea menor) es falso, por esta razón, al evaluar el primer `if` obtendremos un valor lógico (`True` o `False`) e ingresaremos a su bloque de código únicamente si la condición fue verdadera, aquí es donde entra la sentencia `else`, esta nos permite definir un bloque de código que deseemos ejecutar en caso de que no se cumpla la condición, es decir, una ruta alternativa.\n",
        "\n",
        "Su sintaxis es la siguiente:\n",
        "\n",
        "```python\n",
        "if condicion:\n",
        "\n",
        "    instrucciones_caso_verdadero\n",
        "\n",
        "else:\n",
        "\n",
        "    instrucciones_caso_contrario\n",
        "\n",
        "instruccion_fuera_del_if\n",
        "```\n",
        "\n",
        "La sentencia `if..else` evalúa la expresión de prueba y ejecutará el cuerpo del `if` sólo cuando la condición de prueba sea `True`. Si la condición es `False`, se ejecuta el cuerpo de else. La indentación se utiliza para separar los bloques. Así pues, nuestro ejemplo queda de la siguiente manera usando la sentencia `else`\n",
        "> **Es posible tener sentencias `if` sin estar acompañadas de un `else`, pero no se puede tener un `else` por sí solo, recordemos que esta sentencia se usa para definir caminos alternativos, si no se tiene una condición, ¿de qué camino nos podríamos desviar?**"
      ],
      "metadata": {
        "id": "8ipIW4i_EnQr"
      }
    },
    {
      "cell_type": "code",
      "source": [
        "num = int(input(\"digite un número: \"))\n",
        "if num > 0:\n",
        "    print(f\"{num} es un número positivo.\")\n",
        "else:\n",
        "    print(f\"{num} es un número negativo.\")\n"
      ],
      "metadata": {
        "colab": {
          "base_uri": "https://localhost:8080/"
        },
        "id": "FEtFpnSvNJB1",
        "outputId": "0ca73e10-31c0-4fa6-9643-6914fb40af58"
      },
      "execution_count": null,
      "outputs": [
        {
          "output_type": "stream",
          "name": "stdout",
          "text": [
            "digite un número: -67\n",
            "-67 es un número negativo.\n"
          ]
        }
      ]
    },
    {
      "cell_type": "markdown",
      "source": [
        "Si deseas ver su ejecución paso a paso, ejecuta el siguiente bloque:"
      ],
      "metadata": {
        "id": "v9uWdqO6NTwh"
      }
    },
    {
      "cell_type": "code",
      "source": [
        "%%debug_cell_with_pytutor\n",
        "num = 5 #Cambia este valor por números positivos y negativos\n",
        "if num > 0:\n",
        "    print(f\"{num} es un número positivo.\")\n",
        "else:\n",
        "    print(f\"{num} es un número negativo.\")\n"
      ],
      "metadata": {
        "id": "21pkRF9KNYMv"
      },
      "execution_count": null,
      "outputs": []
    },
    {
      "cell_type": "markdown",
      "source": [
        "## If anidados\n",
        "\n",
        "En ocasiones queremos verificar más de una condición para las variables suministradas, en este caso, una de las opciones con las que contamos para solucionar esto son los `if` anidados, Python nos permite construir cuantos condicionales deseemos al interior de otros condicionales, sin embargo, no es una buena práctica anidar demasiados `if`, ya que el código será sumamente complejo de leer, si nuestra solución tiene ese tipo de estructuras demasiado profundas, tal vez lo mejor sea sentarse y pensar en una alternativa distinta. Veamos un ejemplo de cómo usar los if anidados. \n",
        "\n",
        "\n",
        "Supongamos que queremos saber si un número dado es par o impar, si es par, queremos saber si también es múltiplo de 5 y si es impar, verificaremos si también es múltiplo de 3.\n",
        "\n",
        "\n",
        ">*   Un número es par si al dividirlo por 2, la división arroja un residuo 0.\n",
        "*   Un número es múltiplo de 5 o de 3 si al dividirlo por uno de estos valores, el residuo también es 0.\n",
        "\n",
        "Como vemos, estas condiciones se pueden construir a partir de la operación de módulo (el cual, recordemos que nos retorna el residuo de la división de dos números enteros) y la comparación `==`"
      ],
      "metadata": {
        "id": "u8CzDhV0UBmD"
      }
    },
    {
      "cell_type": "code",
      "source": [
        "num = int(input(\"digite un número: \"))\n",
        "if num % 2 == 0: #permite evaluar si un número es par o no \n",
        "    if num % 5 == 0:#permite evaluar si un número es divisible por 5\n",
        "        print(f\"{num} es un número par y múltiplo de 5\")\n",
        "    else:\n",
        "        print(f\"{num} es un número par\")\n",
        "else:\n",
        "    if num % 3 == 0:#permite evaluar si un número es divisible por 3\n",
        "        print(f\"{num} es un número impar y múltiplo de 3\")\n",
        "    else:\n",
        "        print(f\"{num} es un número impar\")"
      ],
      "metadata": {
        "colab": {
          "base_uri": "https://localhost:8080/"
        },
        "id": "nLLelsTHUA3T",
        "outputId": "3ea1f162-182b-4f9b-9b2b-331cd4e2dd8b"
      },
      "execution_count": null,
      "outputs": [
        {
          "output_type": "stream",
          "name": "stdout",
          "text": [
            "digite un número: 50\n",
            "50 es un número par y múltiplo de 5\n"
          ]
        }
      ]
    },
    {
      "cell_type": "markdown",
      "source": [
        "Y ahora, ¿qué pasaría si nos interesa saber si el número es par **Y/O** múltiplo de 5?...  Si tenemos combinaciones de condiciones, nos conviene en este caso usar operadores lógicos, ya que permiten realizar un único bloque de código y de este modo hacemos más eficiente el programa.\n",
        "\n",
        "Para esto es importante recordar las tablas de verdad de dichos operadores:\n",
        "<br>\n",
        "<br>\n",
        "<br>\n",
        "\n",
        "|   A   |   B   |A `and` B| A `or` B| `not` A|\n",
        "|:-----:|:-----:|:-------:|:-------:|:------:|\n",
        "|`False`|`False`|`False`  |`False`  |`True`  |\n",
        "|`False`|`True` |`False`  |`True`   |`True`  |\n",
        "|`True` |`False`|`False`  |`True`   |`False` |\n",
        "|`True` |`True` |`True`   |`True`   |`False` |\n",
        "\n",
        "<br>\n",
        "<br>\n",
        "\n",
        "\n",
        "El operador `and` corresponde a una conjunción $\\bigwedge$ y solo arroja un valor `True` si ambas condiciones son `True`, mientras que el operador `or` corresponde a la disyunción $⋁$ y retorna un valor `True` si alguna de las condiciones es `True`. Finalmente el operador `not` equivale a una negación y retorna el valor opuesto al que tenía originalmente la condición. Tomando el ejemplo anterior, si quisiéramos detectar los números que sean pares **Y** múltiplos de 5 únicamente, podríamos realizar el siguiente código."
      ],
      "metadata": {
        "id": "0PBqc1fa68TF"
      }
    },
    {
      "cell_type": "code",
      "source": [
        "num = int(input(\"digite un número: \"))\n",
        "if num % 2 == 0 and num % 5 == 0:\n",
        "    print(f\"{num} es un número par y múltiplo de 5\")\n",
        "else:\n",
        "    print(f\"{num} el número no cumple la condición\")\n",
        "    "
      ],
      "metadata": {
        "id": "B_CJJGfgAgZu"
      },
      "execution_count": null,
      "outputs": []
    },
    {
      "cell_type": "markdown",
      "source": [
        "Si quisiéramos complicar un poco más el ejercicio y solicitar que imprima un mensaje cuando los números sean pares **Y** múltiplos de 5 o cuando sean impares **O** múltiplos de 3, nos veríamos en la necesidad de usar ifs anidados nuevamente, debido a que la disyunción de la segunda condición implica que también debería imprimir un mensaje si el número es par y múltiplo de 3. En la programación es importante comprender muy bien el objetivo del código que vamos a realizar y a partir del mismo buscar cuales son las herramientas que harán más fácil el alcanzar dicho objetivo. Este sería el código."
      ],
      "metadata": {
        "id": "zBLiXl9TBMeZ"
      }
    },
    {
      "cell_type": "code",
      "source": [
        "num = int(input(\"digite un número: \"))\n",
        "if num % 2 == 0:\n",
        "    if num % 5 == 0:\n",
        "        print(f\"{num} es un número par y múltiplo de 5\")\n",
        "    if num % 3 == 0:\n",
        "        print(f\"{num} es un número par y múltiplo de 3\")\n",
        "else:\n",
        "    if num % 3 == 0:\n",
        "        print(f\"{num} es un número impar y múltiplo de 3\")\n",
        "    else:\n",
        "        print(f\"{num} es un número impar\")"
      ],
      "metadata": {
        "colab": {
          "base_uri": "https://localhost:8080/"
        },
        "id": "yG9mBKeLCA-b",
        "outputId": "d98e7f46-156f-4ab9-e100-363ca40c6199"
      },
      "execution_count": null,
      "outputs": [
        {
          "output_type": "stream",
          "name": "stdout",
          "text": [
            "digite un número: 6\n",
            "6 es un número par y múltiplo de 3\n"
          ]
        }
      ]
    },
    {
      "cell_type": "markdown",
      "source": [
        "## Sentencia if...elif...else\n",
        "\n",
        "Finalmente, ¿qué pasa si tenemos la necesidad de que nuestro programa ejecute una única alternativa de muchas? Podríamos usar muchos `if` consecutivos, sin embargo, proceder de esta forma resulta costoso, debido a que el programa tendrá que verificar cada una de las condiciones, aún cuando sabemos que la mayoría fallarán. Para evitar esto Python cuenta con la sentencia `elif`; con ella, si alguna de las condiciones es válida, ejecutará su bloque y luego saltará hasta el final de las condiciones. El único caso en el que Python tendrá que probar todos los condicionales, es cuando ninguno de ellos es válido y deberá ejecutar el bloque de la sentencia `else`.\n",
        "\n",
        "Un ejemplo perfecto para la aplicación de esta estructura es un menú, cuando el usuario elija una opción, no nos interesa que el programa intente ejecutar las demás. Creemos una calculadora que opere dos números a partir de un menú, ejecuta el siguiente bloque de código con python tutor, prueba con diferentes combinaciones de valores y mira cómo se comporta el programa, ¿qué sucede si ingresas un número que no esté en la lista?"
      ],
      "metadata": {
        "id": "xewzHJT3D8IM"
      }
    },
    {
      "cell_type": "code",
      "source": [
        "%%debug_cell_with_pytutor\n",
        "a = float(input('digite el número 1: '))\n",
        "b = float(input('digite el número 2: '))\n",
        "print(\n",
        "    \"\"\"Menú:\n",
        "    1. Sumar\n",
        "    2. Restar\n",
        "    3. Multiplicar\n",
        "    4. Dividir\n",
        "    5. Módulo\n",
        "    6. Potencia\n",
        "\"\"\")\n",
        "opcion = int(input('Digite la opción: '))\n",
        "if(opcion == 1):\n",
        "    print(f\"{a} + {b} = \", a + b)\n",
        "elif(opcion == 2):\n",
        "    print(f\"{a} - {b} = \", a - b)\n",
        "elif(opcion == 3):\n",
        "    print(f\"{a} * {b} = \", a * b)\n",
        "elif(opcion == 4):\n",
        "    print(f\"{a} / {b} = \", a / b)\n",
        "elif(opcion == 5):\n",
        "    print(f\"{a} % {b} = \", a % b)\n",
        "elif(opcion == 6):\n",
        "    print(f\"{a} ^ {b} = \", a ** b)\n",
        "else:\n",
        "    print(\"opción inválida\")"
      ],
      "metadata": {
        "id": "ZeXsLKAZ8Lur"
      },
      "execution_count": null,
      "outputs": []
    }
  ],
  "metadata": {
    "kernelspec": {
      "display_name": "Python 3",
      "language": "python",
      "name": "python3"
    },
    "language_info": {
      "codemirror_mode": {
        "name": "ipython",
        "version": 3
      },
      "file_extension": ".py",
      "mimetype": "text/x-python",
      "name": "python",
      "nbconvert_exporter": "python",
      "pygments_lexer": "ipython3",
      "version": "3.8.5"
    },
    "colab": {
      "name": "Sentencias condicionales.ipynb",
      "provenance": []
    }
  },
  "nbformat": 4,
  "nbformat_minor": 0
}