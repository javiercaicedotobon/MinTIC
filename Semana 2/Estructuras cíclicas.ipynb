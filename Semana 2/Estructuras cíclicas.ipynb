{
  "nbformat": 4,
  "nbformat_minor": 0,
  "metadata": {
    "colab": {
      "name": "3R-Estructuras cíclicas.ipynb",
      "provenance": [],
      "collapsed_sections": []
    },
    "kernelspec": {
      "name": "python3",
      "display_name": "Python 3"
    },
    "language_info": {
      "name": "python"
    }
  },
  "cells": [
    {
      "cell_type": "markdown",
      "source": [
        "**Ejecuta el siguiente bloque de código siempre antes de ejecutar el resto del notebook.**"
      ],
      "metadata": {
        "id": "Y0K0UjO9J-gQ"
      }
    },
    {
      "cell_type": "code",
      "execution_count": null,
      "metadata": {
        "id": "jkDxlwYFJAcR"
      },
      "outputs": [],
      "source": [
        "from IPython.core.magic import  Magics, magics_class, cell_magic, line_magic\n",
        "\n",
        "@magics_class\n",
        "class Helper(Magics):\n",
        "\n",
        "  def __init__(self, shell=None,  **kwargs):\n",
        "    super().__init__(shell=shell, **kwargs)\n",
        "\n",
        "  @cell_magic\n",
        "  def debug_cell_with_pytutor(self, line, cell):\n",
        "    import urllib.parse\n",
        "    url_src = urllib.parse.quote(cell)\n",
        "    str_begin = '<iframe width=\"1000\" height=\"500\" frameborder=\"0\" src=\"https://pythontutor.com/iframe-embed.html#code='\n",
        "    str_end   = '&cumulative=false&py=3&curInstr=0\"></iframe>'\n",
        "    import IPython\n",
        "    from google.colab import output\n",
        "    display(IPython.display.HTML(str_begin+url_src+str_end))\n",
        "\n",
        "get_ipython().register_magics(Helper)"
      ]
    },
    {
      "cell_type": "markdown",
      "source": [
        "# Estructuras de control cíclicas\n",
        "\n",
        "Los algoritmos que hemos planteado hasta ahora son un conjunto de instrucciones que se ejecutan una sola vez, pero el computador está diseñado para desarrollar aplicaciones en las que una operación se pueda repetir cuantas veces queramos. En la vida cotidiana es común encontrar tareas donde es necesario que un grupo de instrucciones se repitan muchas veces, por ejemplo el ensamblaje de un producto dentro de una cadena de producción. En la computación, podemos aprovechar la velocidad de respuesta de las máquinas, para que realicen este tipo de tareas y las desarrolle más rápido que como lo haría un ser humano, esto se logra gracias a las estructuras de control repetitivas o ciclos.\n",
        "\n",
        "Estas estructuras están conformadas por una condición y un grupo de instrucciones que se desean repetir. La condición, como vimos en la sección anterior, es una expresión lógica que determina un valor de verdad: `True` o `False`. Si la condición es `True`, el ciclo se ejecuta; de lo contrario, el computador avanza a la siguiente instrucción fuera del bloque. Dentro del conjunto de instrucciones que se desean repetir es posible usar cualquiera de las instrucciones vistas hasta ahora, además de poder añadir otros ciclos de forma anidada. \n",
        "\n",
        "La ejecución repetida de un conjunto de sentencias se llama **iteración**. Python tiene dos estructuras para la iteración: la sentencia `while` y la sentencia `for`. Antes de estudiar las estructuras cíclicas, definamos algunos términos importantes.\n",
        "\n",
        "> * **Contador**: como su nombre lo dice, cuenta el número de ocurrencias de un evento dentro de un ciclo.\n",
        "Por ejemplo: en el programa para determinar el nuevo salario de una\n",
        "persona, nos interesaría conocer el número de personas a las que se les\n",
        "hizo el cálculo. Ahí se requiere un contador. Un contador, por lo general, se\n",
        "inicializa en cero.\n",
        "* **Acumulador**: es una variable en la cual se lleva el total de un concepto\n",
        "específico en un ciclo.\n",
        "Por ejemplo: en el programa para determinar el nuevo salario de una\n",
        "persona, nos interesaría conocer el total de salarios anteriores, el total de\n",
        "aumentos y el total de nuevos salarios. Para cada uno de esos totales se\n",
        "requiere un acumulador.\n",
        "* **Promedio**: es el valor medio de un evento cuantificable. Se obtiene dividiendo\n",
        "un acumulador entre su respectivo contador"
      ],
      "metadata": {
        "id": "1DqsfMiJKNTp"
      }
    },
    {
      "cell_type": "markdown",
      "source": [
        "## Ciclo While\n",
        "\n",
        "Esta es la estructura cíclica más básica que existe, permite repetir instrucciones mientras se cumpla una condición determinada, lo cual permite diseñar ciclos en los cuales no se conoce de antemano la cantidad de veces que se accederá al bloque de código a repetir.\n",
        "\n",
        "```python\n",
        "while condicion_de_parada:\n",
        "    instruccion\n",
        "#fin ciclo while\n",
        "```\n",
        "\n",
        "La sintaxis del ciclo while es muy similar a la estructura del `if` que analizamos en la sección anterior; tenemos la palabra reservada `while`, que le indica a Python que el bloque de instrucciones a continuación se debe repetir si se cumple una condición lógica predefinida (comúnmente  la denominamos condición de parada), que determinará cuándo se termina el ciclo, se debe añadir dos puntos `:` para abrir un nuevo bloque en Python.\n",
        "\n",
        "\n",
        "Si conocemos la cantidad de iteraciones a realizar dentro del ciclo `while`, podemos comparar un contador con dicha cantidad para construir la condición del ciclo, ej: `n > 10`, `cont <= 15`.\n",
        "\n",
        "Como ejemplo, creemos un programa que imprima las potencias de 2 hasta un número n dado por el usuario ($2^n$) es decir $2,4,8,16,32,...$. Como no sabemos de entrada cuantas repeticiones se van a realizar, debemos usar un ciclo.\n",
        "\n",
        "\n",
        "\n"
      ],
      "metadata": {
        "id": "-A9RO-ikNcG9"
      }
    },
    {
      "cell_type": "code",
      "source": [
        "%%debug_cell_with_pytutor\n",
        "\n",
        "n = int(input(\"digita la potencia máxima a imprimir: \"))\n",
        "i = 0\n",
        "while i <= n:\n",
        "    print(f'2^{i} = {2**i}')\n",
        "    i += 1\n",
        "\n"
      ],
      "metadata": {
        "id": "ZGkFTIP3Nb1U"
      },
      "execution_count": null,
      "outputs": []
    },
    {
      "cell_type": "markdown",
      "source": [
        "Cuando usamos un contador dentro de la condición de parada de un ciclo, es muy importante actualizar su valor internamente dentro del bloque de código, de lo contrario, el programa se quedará atorado en un ciclo infinito.\n",
        "\n",
        "Un ejemplo de aplicación de los ciclos `while` cuando no conocemos la cantidad de iteraciones a realizar es un menú, puesto que este debe estar disponible para el usuario hasta que él mismo decida salir. Usemos el ejemplo de calculadora de la sección anterior:"
      ],
      "metadata": {
        "id": "SHot4E9jCidA"
      }
    },
    {
      "cell_type": "code",
      "source": [
        "%%debug_cell_with_pytutor\n",
        "# a = float(input('diginte el número 1: '))\n",
        "# b = float(input('diginte el número 2: '))\n",
        "a = 10\n",
        "b = 5\n",
        "salida = False\n",
        "\n",
        "while salida == False:\n",
        "    print(\n",
        "        \"\"\"Menú:\n",
        "        1. Sumar\n",
        "        2. Restar\n",
        "        3. Multiplicar\n",
        "        4. Dividir\n",
        "        5. Módulo\n",
        "        6. Potencia\n",
        "        0. salir\n",
        "    \"\"\")\n",
        "    opcion = int(input('Digite la opción: '))\n",
        "    if(opcion == 1):\n",
        "        print(f\"{a} + {b} = \",a+b)\n",
        "    elif(opcion == 2):\n",
        "        print(f\"{a} - {b} = \",a-b)\n",
        "    elif(opcion == 3):\n",
        "        print(f\"{a} * {b} = \",a*b)\n",
        "    elif(opcion == 4):\n",
        "        print(f\"{a} / {b} = \",a/b)\n",
        "    elif(opcion == 5):\n",
        "        print(f\"{a} % {b} = \",a%b)\n",
        "    elif(opcion == 6):\n",
        "        print(f\"{a} ^ {b} = \",a**b)\n",
        "    elif(opcion == 0):\n",
        "        salida = True\n",
        "    else:\n",
        "        print(\"opción invalida\")"
      ],
      "metadata": {
        "id": "fQIjJ01sE6IB"
      },
      "execution_count": null,
      "outputs": []
    },
    {
      "cell_type": "markdown",
      "source": [
        "En este menú, solo cuando ingresamos la opción 0 la variable `salida` cambia de `False` a `True` por lo que el ciclo se repetirá cuantas veces queramos.\n",
        "\n",
        "Cuando conocemos la cantidad de iteraciones deseadas tenemos otra alternativa mucho más simple de implementar, ya que no debemos controlar manualmente el estado de las variables, ni garantizar que la condición de parada se cumpla en algún momento (Para evitar los ciclos infinitos) Esta alternativa es la sentencia `for`.\n",
        "\n",
        "\n",
        "## Ciclo For\n",
        "En todo problema que necesite ser solucionado usando ciclos se puede implementar la estructura `while`, que es la estructura general para la solución de problemas cíclicos. Sin embargo, cuando conocemos la cantidad de iteraciones que requiere el programa, es más conveniente usar la estructura `for`, su uso es más limitado, pero cuando se puede implementar permite que se ahorren dos instrucciones que incluye ciclo `while`.\n",
        "\n",
        "Esta estructura permite que una o más instrucciones se repitan cero o más veces mientras el valor de una variable crece o decrece a razón de un valor constante, en este caso, la variable contador. La diferencia entre esta clase de ciclos y la estructura `while` es que `for` maneja la inicialización del contador y su incremento en forma automática, como veremos en su sintaxis: \n",
        "\n",
        "```python\n",
        "for contador in range(inicio,fin,variación):\n",
        "    instrucciones\n",
        "#fin ciclo for\n",
        "\n",
        "```\n",
        "\n",
        "las instrucciones `in range` se encargan de asignarle un valor al contador cada que se inicia una iteración, a su vez, `range` es la función encargada de crear el conjunto de valores que necesitamos dentro del ciclo, estos serán siempre números enteros, e irán desde el valor que definamos en `inicio` hasta `fin` **sin incluir directamente este último** y con una separación entre cada valor dada por `variación`, cuyo valor por defecto es de `1`, es decir que el ciclo aumentará uno a uno los valores del contador (ej: $0,1,2,3,4,5,...$), en caso de no especificar este dato, `range` asumirá este valor por defecto.\n",
        "\n",
        "Si el valor de `fin`es menor a `inicio` el ciclo será decreciente, sin embargo, se debe definir un incremento negativo en el parámetro `variación`, por ejemplo `-1`. La variable `contador` no necesita ser inicializada en ningún valor antes del ciclo y una vez finalice el ciclo, esta conservará el último valor que recibe de `range`; si utilizamos la misma variable en otro ciclo, su valor interno se reiniciará con el primer dato que le asigne la función `range`. \n",
        "\n",
        "\n",
        "Veamos qué imprimen distintos ciclos según su definición de range:\n"
      ],
      "metadata": {
        "id": "0eF_IZIGkUf_"
      }
    },
    {
      "cell_type": "code",
      "source": [
        "print('range(0,10)')\n",
        "#aquí range generará los números del 0 al 9\n",
        "for i in range(0,10):\n",
        "    print(i,end=\" \")\n",
        "\n",
        "print('\\n\\nrange(15,5,-1)')\n",
        "#se generarán los números del 15 al 6 en modo decreciente\n",
        "for i in range(15,5,-1):\n",
        "    print(i,end=\" \")\n",
        "\n",
        "print('\\n\\nrange(0,20,2)')\n",
        "#se generan los núemros de dos en dos, del 0 hasta \"dos\" antes del 20, es decir 18\n",
        "for i in range(0,20,2):\n",
        "    print(i,end=\" \")\n",
        "\n",
        "print('\\n\\nrange(10,100,10)')\n",
        "#se generan los núemros de diez en diez, del 10 hasta \"diez\" antes del 100, es decir 90\n",
        "for i in range(10,100,10):\n",
        "    print(i,end=\" \")"
      ],
      "metadata": {
        "id": "Vi5IFejEkTxI",
        "colab": {
          "base_uri": "https://localhost:8080/"
        },
        "outputId": "3d4159fa-0dd9-40e0-a65d-c75ca87ea920"
      },
      "execution_count": null,
      "outputs": [
        {
          "output_type": "stream",
          "name": "stdout",
          "text": [
            "range(0,10)\n",
            "0 1 2 3 4 5 6 7 8 9 \n",
            "\n",
            "range(15,5,-1)\n",
            "15 14 13 12 11 10 9 8 7 6 \n",
            "\n",
            "range(0,20,2)\n",
            "0 2 4 6 8 10 12 14 16 18 \n",
            "\n",
            "range(10,100,10)\n",
            "10 20 30 40 50 60 70 80 90 "
          ]
        }
      ]
    },
    {
      "cell_type": "code",
      "source": [
        "for i in range(0,10):\n",
        "    print(i)\n",
        "print(\"fin ciclo\",i)"
      ],
      "metadata": {
        "colab": {
          "base_uri": "https://localhost:8080/"
        },
        "id": "SS_PcuZ1p5E2",
        "outputId": "6c422d21-d908-4ce6-d04c-1f6ba14632dc"
      },
      "execution_count": null,
      "outputs": [
        {
          "output_type": "stream",
          "name": "stdout",
          "text": [
            "0\n",
            "1\n",
            "2\n",
            "3\n",
            "4\n",
            "5\n",
            "6\n",
            "7\n",
            "8\n",
            "9\n",
            "fin ciclo 9\n"
          ]
        }
      ]
    },
    {
      "cell_type": "markdown",
      "source": [
        "## Instrucciones útiles para ciclos:\n",
        "\n",
        "### `break`\n",
        "Esta sentencia nos permite interrumpir un ciclo. Veámoslo con un ejemplo, un número es primo si es divisible únicamente por sí mismo y por 1 (recordemos que el 1 no es primo). Podemos implementar esta verificación con un ciclo y una operación de módulo, si el módulo del número por el contador es igual a 0, el número es divisible por el contador, por lo tanto, no hace falta verificar los demás números pues ya sabemos que nos es primo."
      ],
      "metadata": {
        "id": "jFImjlq2tC8T"
      }
    },
    {
      "cell_type": "code",
      "source": [
        "%%debug_cell_with_pytutor\n",
        "\n",
        "n = 77 #cambia este valor varias veces y ejecuta el bloque\n",
        "sw = 0 #esta variable nos permitirá verificar al final si el número es primo\n",
        "for i in range(2,n):\n",
        "    if n % i == 0:\n",
        "        print(f\"{n} es divisible por {i}, no es primo\")\n",
        "        sw = 1 #como no es primo, cambiamos el valor\n",
        "        break\n",
        "if sw == 0: #si continúa siendo 0 quiere decir que la condición no se cumplió\n",
        "    print(f\"{n} es primo\")"
      ],
      "metadata": {
        "id": "fhmzQ1jzvgWo"
      },
      "execution_count": null,
      "outputs": []
    },
    {
      "cell_type": "markdown",
      "source": [
        "### `continue` \n",
        "\n",
        "Esta sentencia nos permite saltarnos una iteración completamente, ignorando las instrucciones que pudiera encontrar luego de dicha sentencia, es decir, una vez que el intérprete encuentre la instrucción, dará por terminada la iteración y regresará al inicio del ciclo para verificar si se deben realizar más iteraciones. En el ciclo `while` debemos tener cuidado con esta sentencia, si ponemos el continue antes de actualizar una condición de parada, o el contador, crearemos un ciclo infinito. En los siguientes bloques de código veremos este comportamiento, Python Tutor nos alerta del ciclo infinito en el segundo bloque, ya que esta herramienta no nos permite ejecutar más de 1000 instrucciones."
      ],
      "metadata": {
        "id": "HvKTi8B6wqwl"
      }
    },
    {
      "cell_type": "code",
      "source": [
        "%%debug_cell_with_pytutor\n",
        "\n",
        "for i in range(0,5):\n",
        "    if(i == 3):\n",
        "        continue\n",
        "    print(i)"
      ],
      "metadata": {
        "id": "uj-Au-TsxHQB"
      },
      "execution_count": null,
      "outputs": []
    },
    {
      "cell_type": "code",
      "source": [
        "%%debug_cell_with_pytutor\n",
        "i =  0\n",
        "while i < 5:\n",
        "    if(i == 3):\n",
        "        continue\n",
        "    print(i)\n",
        "    i+=1\n"
      ],
      "metadata": {
        "id": "ODxMQT_Bymdg"
      },
      "execution_count": null,
      "outputs": []
    },
    {
      "cell_type": "markdown",
      "source": [
        "## Ciclos anidados\n",
        "\n",
        "Un ciclo anidado es un ciclo dentro del cuerpo del ciclo externo. El ciclo interno o externo puede ser de cualquier tipo, como un ciclo `while` o un `for`. Por ejemplo, el ciclo exterior `for` puede contener un `while` y viceversa.\n",
        "\n",
        "El ciclo externo puede contener más de un ciclo interno. No hay ninguna limitación en el encadenamiento de ciclos. En el ciclo anidado, el número de iteraciones será igual al número de iteraciones del ciclo exterior multiplicado por las iteraciones del ciclo interior.\n",
        "\n",
        "En cada iteración del ciclo exterior el ciclo interior ejecuta todas sus iteraciones. En cada iteración de un ciclo exterior el ciclo interior vuelve a empezar y completa su ejecución antes de que el ciclo exterior pueda continuar con su siguiente iteración.\n",
        "\n",
        "Los ciclos anidados se utilizan normalmente para trabajar con estructuras de datos multidimensionales, como la impresión de matrices bidimensionales o la iteración de una lista que contiene una lista anidada (Esto lo veremos más adelante)\n",
        "\n",
        "```python\n",
        "# ciclo for externo\n",
        "for contador1 in range(ini1,fin1): \n",
        "   # ciclo for interno\n",
        "   for contador2 in range(ini2,fin2):\n",
        "       cuerpo ciclo interno\n",
        "   cuerpo ciclo externo\n",
        "```\n",
        "Es importante no usar el mismo contador en ambos ciclos, de lo contrario, se experimentarán comportamientos extraños en el código, por ejemplo, te podrías saltar algunas iteraciones en el ciclo u obtendrás resultados imprevistos al operar con el contador internamente.\n",
        "\n",
        "Usemos el ejemplo anterior para ver este comportamiento, creemos un ciclo que nos entregue los números primos hasta un número dado.\n",
        "> si quieres ver su comportamiento en Python Tutor, agrega la siguiente línea al inicio del bloque:\n",
        "```python\n",
        "%%debug_cell_with_pytutor\n",
        "```"
      ],
      "metadata": {
        "id": "ECBEAo4nz_2R"
      }
    },
    {
      "cell_type": "code",
      "source": [
        "limite = 100 #cambia este valor varias veces y ejecuta el bloque\n",
        "for i in range(2,limite):\n",
        "    sw = 0 \n",
        "    for j in range(2,i):\n",
        "        if i % j == 0: #nuestro contador i será el numero a verificar si es primo\n",
        "            sw = 1 \n",
        "            break\n",
        "    if sw == 0: \n",
        "        print(i, end=\" \")"
      ],
      "metadata": {
        "colab": {
          "base_uri": "https://localhost:8080/"
        },
        "id": "kLTz3ulk5gEC",
        "outputId": "64a1e44d-ed23-4a88-c216-32fd84e688d9"
      },
      "execution_count": null,
      "outputs": [
        {
          "output_type": "stream",
          "name": "stdout",
          "text": [
            "2 3 5 7 11 13 17 19 23 29 31 37 41 43 47 53 59 61 67 71 73 79 83 89 97 "
          ]
        }
      ]
    }
  ]
}