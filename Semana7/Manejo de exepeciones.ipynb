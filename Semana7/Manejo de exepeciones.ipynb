{
  "nbformat": 4,
  "nbformat_minor": 0,
  "metadata": {
    "colab": {
      "name": "2R-Manejo de expeciones.ipynb",
      "provenance": [],
      "collapsed_sections": []
    },
    "kernelspec": {
      "name": "python3",
      "display_name": "Python 3"
    },
    "language_info": {
      "name": "python"
    }
  },
  "cells": [
    {
      "cell_type": "markdown",
      "source": [
        "**Ejecuta el siguiente bloque de código siempre antes de ejecutar el resto del notebook.**"
      ],
      "metadata": {
        "id": "1JjjHecwsEEu"
      }
    },
    {
      "cell_type": "code",
      "execution_count": null,
      "metadata": {
        "id": "dPPdpeKzrw0K"
      },
      "outputs": [],
      "source": [
        "from IPython.core.magic import  Magics, magics_class, cell_magic, line_magic\n",
        "\n",
        "@magics_class\n",
        "class Helper(Magics):\n",
        "\n",
        "  def __init__(self, shell=None,  **kwargs):\n",
        "    super().__init__(shell=shell, **kwargs)\n",
        "\n",
        "  @cell_magic\n",
        "  def debug_cell_with_pytutor(self, line, cell):\n",
        "    import urllib.parse\n",
        "    url_src = urllib.parse.quote(cell)\n",
        "    str_begin = '<iframe width=\"1000\" height=\"500\" frameborder=\"0\" src=\"https://pythontutor.com/iframe-embed.html#code='\n",
        "    str_end   = '&cumulative=false&py=3&curInstr=0\"></iframe>'\n",
        "    import IPython\n",
        "    from google.colab import output\n",
        "    display(IPython.display.HTML(str_begin+url_src+str_end))\n",
        "\n",
        "get_ipython().register_magics(Helper)"
      ]
    },
    {
      "cell_type": "markdown",
      "source": [
        "# Manejo de Excepciones\n",
        "\n",
        "En esta sección vamos a eliminar la suposición de que el usuario sabe cómo funciona nuestro programa, es natural que no sepa cómo debe ingresar la información para que nuestra aplicación le entregue el resultado que espera. Incluso, es muy fácil que \"rompa\" nuestra ejecución por ejemplo al ingresar un string cuando esperábamos un número. Vamos a aprender a anticiparnos a ese tipo de fallos.\n",
        "\n",
        "Los errores en Python pueden ser de dos tipos: errores de sintaxis y excepciones. Los errores son los problemas en un programa debido a los cuales el programa detendrá la ejecución, por ejemplo, escribir `fir` en lugar de `for` o no poner `:` luego al final de una sentencia `if`. Por otro lado, las excepciones se producen cuando ocurren algunos eventos internos que cambian el flujo normal del programa. \n",
        "\n",
        "\n",
        "\n"
      ],
      "metadata": {
        "id": "9OQNIw5jsLA1"
      }
    },
    {
      "cell_type": "markdown",
      "source": [
        "## Diferencia entre errores de sintaxis y excepciones\n",
        "* **Error de sintaxis**: Como su nombre lo indica, este error es causado por una sintaxis incorrecta en el código. Lleva a la terminación del programa. "
      ],
      "metadata": {
        "id": "-2qAarFJyRmo"
      }
    },
    {
      "cell_type": "code",
      "source": [
        "fir i in range(1,10):\n",
        "    print(i)"
      ],
      "metadata": {
        "colab": {
          "base_uri": "https://localhost:8080/",
          "height": 130
        },
        "id": "Vz8Sme-NsLPs",
        "outputId": "75382de5-1be0-4af9-c529-14fd4af2b3a9"
      },
      "execution_count": null,
      "outputs": [
        {
          "output_type": "error",
          "ename": "SyntaxError",
          "evalue": "ignored",
          "traceback": [
            "\u001b[0;36m  File \u001b[0;32m\"<ipython-input-1-42ca5e5fbf09>\"\u001b[0;36m, line \u001b[0;32m1\u001b[0m\n\u001b[0;31m    fir i in range(1,10):\u001b[0m\n\u001b[0m        ^\u001b[0m\n\u001b[0;31mSyntaxError\u001b[0m\u001b[0;31m:\u001b[0m invalid syntax\n"
          ]
        }
      ]
    },
    {
      "cell_type": "markdown",
      "source": [
        "**Excepciones**: Las excepciones se plantean cuando el programa es sintácticamente correcto, pero el código dio lugar a un error. Este error no detiene la ejecución del programa, sin embargo, cambia el flujo normal del programa."
      ],
      "metadata": {
        "id": "z3Uvj1u6xtZ_"
      }
    },
    {
      "cell_type": "code",
      "source": [
        "#Creemos uno de las excepciones más comunes,\n",
        "#La división por cero y en uno de los escenarios más comunes\n",
        "\n",
        "particiones = 1\n",
        "\n",
        "for i in range(10):\n",
        "    particiones /= i\n",
        "\n",
        "print(particiones) \n",
        "\n"
      ],
      "metadata": {
        "colab": {
          "base_uri": "https://localhost:8080/",
          "height": 234
        },
        "id": "NkugF1oSziqd",
        "outputId": "9ac4e440-5282-4a99-dfce-688631344ad7"
      },
      "execution_count": null,
      "outputs": [
        {
          "output_type": "error",
          "ename": "ZeroDivisionError",
          "evalue": "ignored",
          "traceback": [
            "\u001b[0;31m---------------------------------------------------------------------------\u001b[0m",
            "\u001b[0;31mZeroDivisionError\u001b[0m                         Traceback (most recent call last)",
            "\u001b[0;32m<ipython-input-1-631a4623e90b>\u001b[0m in \u001b[0;36m<module>\u001b[0;34m()\u001b[0m\n\u001b[1;32m      5\u001b[0m \u001b[0;34m\u001b[0m\u001b[0m\n\u001b[1;32m      6\u001b[0m \u001b[0;32mfor\u001b[0m \u001b[0mi\u001b[0m \u001b[0;32min\u001b[0m \u001b[0mrange\u001b[0m\u001b[0;34m(\u001b[0m\u001b[0;36m10\u001b[0m\u001b[0;34m)\u001b[0m\u001b[0;34m:\u001b[0m\u001b[0;34m\u001b[0m\u001b[0;34m\u001b[0m\u001b[0m\n\u001b[0;32m----> 7\u001b[0;31m     \u001b[0mparticiones\u001b[0m \u001b[0;34m/=\u001b[0m \u001b[0mi\u001b[0m\u001b[0;34m\u001b[0m\u001b[0;34m\u001b[0m\u001b[0m\n\u001b[0m\u001b[1;32m      8\u001b[0m \u001b[0;34m\u001b[0m\u001b[0m\n\u001b[1;32m      9\u001b[0m \u001b[0mprint\u001b[0m\u001b[0;34m(\u001b[0m\u001b[0mparticiones\u001b[0m\u001b[0;34m)\u001b[0m\u001b[0;34m\u001b[0m\u001b[0;34m\u001b[0m\u001b[0m\n",
            "\u001b[0;31mZeroDivisionError\u001b[0m: division by zero"
          ]
        }
      ]
    },
    {
      "cell_type": "markdown",
      "source": [
        "En el reporte de error anterior, `ZeroDivisionError` es la excepción que generó nuestro código al ejecutarse de forma inapropiada. Python tiene muchos tipos de excepciones que responden a distintos tipos de error, en este [enlace](https://docs.python.org/2/library/exceptions.html#exception-hierarchy) encontrarás una lista con la gran cantidad que hay dentro del lenguaje, sin embargo, no estudiaremos en detalle todas y cada una.\n",
        "\n",
        "Algunos de los Errores de Excepción más comunes son : \n",
        " \n",
        "* `IOError`: si el archivo no se puede abrir\n",
        "* `KeyboardInterrupt`: cuando el usuario pulsa una tecla no requerida\n",
        "* `ValueError`: cuando la función incorporada recibe un argumento erróneo\n",
        "* `EOFError`: si se llega al final del archivo sin leer ningún dato\n",
        "* `ImportError`: si no se puede encontrar el módulo\n",
        "* `TypeError`: cuando se realizan operaciones con tipos no compatibles entre sí.\n",
        "\n",
        "\n",
        "\n"
      ],
      "metadata": {
        "id": "2jD6ZQdUzalA"
      }
    },
    {
      "cell_type": "markdown",
      "source": [
        "## Try Except en Python\n",
        "Las sentencias `try` y `except` se utilizan para manejar estas excepciones  dentro de nuestro código en Python. El bloque `try` se utiliza para comprobar si hay errores en el código, es decir, el código dentro del bloque `try` se ejecutará cuando no haya ningún error en el programa. Mientras que el código dentro del bloque `except` se ejecutará cuando el programa encuentre algún error en el bloque `try` anterior.\n",
        "\n",
        "```python\n",
        "try:\n",
        "    instrucciones\n",
        "except:\n",
        "    instrucciones\n",
        "    #se ejecuta si hubo error en try\n",
        "\n",
        "```\n",
        "\n",
        "### ¿Cómo funciona try()? \n",
        " \n",
        "\n",
        "Primero se ejecuta la sentencia `try`, es decir, el bloque de código asociado a dicha sentencia. Si no hay ninguna excepción, entonces sólo se ejecutará el `try`, y se salta el `except`.\n",
        "\n",
        "Si se produce alguna excepción, el bloque del `try` se interrumpe  y se ejecuta el bloque del  `except`. Si ocurre alguna excepción, pero la sentencia `except` dentro del código no la maneja, se pasa a las sentencias try externas, si es que las hay (es decir, si tenemos bloques try-except anidados). Si la excepción no se maneja, entonces la ejecución se detiene. Una sentencia try puede tener más de un bloque `except`\n",
        "\n"
      ],
      "metadata": {
        "id": "lyISd7WaApbB"
      }
    },
    {
      "cell_type": "code",
      "source": [
        "#Resolvamos la excepción del ejercicio anterior\n",
        "\n",
        "particiones = 1\n",
        "\n",
        "for i in range(10):\n",
        "    try:\n",
        "        particiones /= i\n",
        "    except:\n",
        "        print('división por cero, el ciclo ignorará la operación')\n",
        "\n",
        "print(particiones) "
      ],
      "metadata": {
        "colab": {
          "base_uri": "https://localhost:8080/"
        },
        "id": "ebVSGBKGHFnE",
        "outputId": "860d21af-7162-4249-d6a1-801aa5081dfe"
      },
      "execution_count": null,
      "outputs": [
        {
          "output_type": "stream",
          "name": "stdout",
          "text": [
            "división por cero, el ciclo ignorará la operación\n",
            "2.7557319223985893e-06\n"
          ]
        }
      ]
    },
    {
      "cell_type": "markdown",
      "source": [
        "Podemos controlar el tipo de excepción específica añadiendo el tipo de error al bloque `except`, además, podemos asignar una variable para almacenar el mensaje de error usando la sentencia `as`:"
      ],
      "metadata": {
        "id": "qj8LD0X5Ykm7"
      }
    },
    {
      "cell_type": "code",
      "source": [
        "a = input('digite un número: ')\n",
        "try:\n",
        "    print(a + 15)\n",
        "except TypeError as e:\n",
        "    print('La variable no se almacenó como número')\n",
        "    print('error: ',e, sep='\\n') "
      ],
      "metadata": {
        "colab": {
          "base_uri": "https://localhost:8080/"
        },
        "id": "owl_pR-OH8xI",
        "outputId": "03bc7131-2742-4df0-c98c-81aaac5e7cd0"
      },
      "execution_count": null,
      "outputs": [
        {
          "output_type": "stream",
          "name": "stdout",
          "text": [
            "digite un número: 465\n",
            "La variable no se almacenó como número\n",
            "error: \n",
            "can only concatenate str (not \"int\") to str\n"
          ]
        }
      ]
    },
    {
      "cell_type": "markdown",
      "source": [
        "## Palabra clave finally en Python\n",
        "Python cuenta, además, con la instrucción `finally`, que siempre se ejecuta después de los bloques try y except. El bloque final siempre se ejecuta después de la terminación normal del bloque try o después de que el bloque try termine debido a algunas excepciones.\n",
        "\n",
        "```python\n",
        "try:\n",
        "    instrucciones\n",
        "except:\n",
        "    instrucciones\n",
        "    #se ejecuta si hubo error en try\n",
        "finally:\n",
        "    instrucción\n",
        "    #siempre se ejecuta\n",
        "```\n"
      ],
      "metadata": {
        "id": "OIja_upjZpak"
      }
    },
    {
      "cell_type": "code",
      "source": [
        "particiones = 1\n",
        "\n",
        "for i in range(10):\n",
        "    try:\n",
        "        particiones /= i\n",
        "    except:\n",
        "        print('división por cero, el ciclo ignorará la operación')\n",
        "    finally:\n",
        "        print('\\ndivisión parcial: ',particiones)\n",
        "\n",
        "print('\\nresultado final',particiones) "
      ],
      "metadata": {
        "colab": {
          "base_uri": "https://localhost:8080/"
        },
        "id": "6TYSCyfXaDIw",
        "outputId": "6fb6cf5a-804c-46e1-dcd4-f6a98b033b74"
      },
      "execution_count": null,
      "outputs": [
        {
          "output_type": "stream",
          "name": "stdout",
          "text": [
            "división por cero, el ciclo ignorará la operación\n",
            "\n",
            "división parcial:  1\n",
            "\n",
            "división parcial:  1.0\n",
            "\n",
            "división parcial:  0.5\n",
            "\n",
            "división parcial:  0.16666666666666666\n",
            "\n",
            "división parcial:  0.041666666666666664\n",
            "\n",
            "división parcial:  0.008333333333333333\n",
            "\n",
            "división parcial:  0.001388888888888889\n",
            "\n",
            "división parcial:  0.0001984126984126984\n",
            "\n",
            "división parcial:  2.48015873015873e-05\n",
            "\n",
            "división parcial:  2.7557319223985893e-06\n",
            "\n",
            "resultado final 2.7557319223985893e-06\n"
          ]
        }
      ]
    }
  ]
}