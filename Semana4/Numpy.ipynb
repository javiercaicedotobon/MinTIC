{
  "cells": [
    {
      "cell_type": "markdown",
      "metadata": {
        "id": "view-in-github",
        "colab_type": "text"
      },
      "source": [
        "<a href=\"https://colab.research.google.com/github/javiercaicedotobon/MinTIC/blob/main/Semana4/Numpy.ipynb\" target=\"_parent\"><img src=\"https://colab.research.google.com/assets/colab-badge.svg\" alt=\"Open In Colab\"/></a>"
      ]
    },
    {
      "cell_type": "markdown",
      "metadata": {
        "id": "OI7Gay7RrIVB"
      },
      "source": [
        "**Ejecuta esta linea de código para descargar los datos necesarios para correr el notebook**"
      ]
    },
    {
      "cell_type": "code",
      "execution_count": null,
      "metadata": {
        "colab": {
          "base_uri": "https://localhost:8080/"
        },
        "id": "0eOHsnFBrPSd",
        "outputId": "75be5217-76ec-49b0-be80-9f40f6006c31"
      },
      "outputs": [
        {
          "name": "stdout",
          "output_type": "stream",
          "text": [
            "--2022-03-17 21:20:16--  https://raw.githubusercontent.com/cosmolejo/dataRepo/master/Pokemon.csv\n",
            "Resolving raw.githubusercontent.com (raw.githubusercontent.com)... 185.199.108.133, 185.199.109.133, 185.199.110.133, ...\n",
            "Connecting to raw.githubusercontent.com (raw.githubusercontent.com)|185.199.108.133|:443... connected.\n",
            "HTTP request sent, awaiting response... 200 OK\n",
            "Length: 44028 (43K) [text/plain]\n",
            "Saving to: ‘Pokemon.csv’\n",
            "\n",
            "Pokemon.csv         100%[===================>]  43.00K  --.-KB/s    in 0.001s  \n",
            "\n",
            "2022-03-17 21:20:16 (38.8 MB/s) - ‘Pokemon.csv’ saved [44028/44028]\n",
            "\n"
          ]
        }
      ],
      "source": [
        "!wget  https://raw.githubusercontent.com/cosmolejo/dataRepo/master/Pokemon.csv"
      ]
    },
    {
      "cell_type": "markdown",
      "metadata": {
        "id": "Nf27mEfZt12I"
      },
      "source": [
        "#Introducción a Numpy\n",
        "\n",
        "Este [notebook](https://www.kaggle.com/abdullahsahin/numpy-tutorial-for-beginner/notebook) fue tomado de la plataforma [kagle](https://www.kaggle.com/#) una comunidad en línea de científicos de datos y profesionales del aprendizaje automático. En ella encontrarán distintos tutoriales, bancos de datos y competencias remuneradas en ciencias de datos.\n",
        "\n",
        "Creditos a ***ABDULLAH SAHIN***"
      ]
    },
    {
      "cell_type": "markdown",
      "metadata": {
        "_uuid": "bf71945ed61b50db90d6ee39a1fe141fdcfa04fa",
        "button": false,
        "id": "Tl3ebHxJrCJg",
        "new_sheet": false,
        "run_control": {
          "read_only": false
        }
      },
      "source": [
        "# Introduction<a id=\"0\"></a>\n",
        "<hr>\n",
        "\n",
        "**NumPy** is a basic package for scientific computing. It is a **Python** language implementation which includes:\n",
        "\n",
        "* The powerful N-dimensional array structure\n",
        "* Sophisticated functions\n",
        "* Tools that can be integrated into C/C++ and Fortran code\n",
        "* Linear algebra, Fourier transform and random number features\n",
        "\n",
        "In addition to being used for scientific computing, NumPy also can be used as an efficient multi-dimensional container for general data. Because it can work with any type of data, NumPy can be integrated into multiple types of databases seamlessly and efficiently.\n",
        "\n",
        "* If you like it, thank you for you **upvotes**.\n",
        "* If you have any **question**, I will happy to hear it\n",
        "\n",
        "<hr>\n",
        "\n",
        "1. [ndarray](#1)\n",
        "2. [Create a specific array](#2)\n",
        "3. [Shape and operation](#3)\n",
        "4. [Index](#4)\n",
        "5. [Mathematics](#5)\n",
        "6. [Matrix](#6)\n",
        "7. [Random Number](#7)\n",
        "8. [Conclusion](#8)\n",
        "9. [Reference](#9)"
      ]
    },
    {
      "cell_type": "code",
      "execution_count": null,
      "metadata": {
        "_uuid": "ff2674e2b424b9119168092dd12365e68ad9d883",
        "button": false,
        "id": "T8iQX1R6rCJm",
        "new_sheet": false,
        "run_control": {
          "read_only": false
        }
      },
      "outputs": [],
      "source": [
        "import numpy as np # linear algebra\n",
        "import pandas as pd # data processing, CSV file I/O (e.g. pd.read_csv)"
      ]
    },
    {
      "cell_type": "markdown",
      "metadata": {
        "_uuid": "2996d40561d475c2830c57cc7a5b79f3f9a46de2",
        "button": false,
        "id": "19yqIN2yrCJn",
        "new_sheet": false,
        "run_control": {
          "read_only": false
        }
      },
      "source": [
        "Basic Porperties and array creation"
      ]
    },
    {
      "cell_type": "markdown",
      "metadata": {
        "_uuid": "cea7c5bbb1000bf27817a4482f5a1b460c6e7ecb",
        "button": false,
        "id": "Z4BJD6Y7rCJo",
        "new_sheet": false,
        "run_control": {
          "read_only": false
        }
      },
      "source": [
        "Here is an array with rank 1, and the length of the axis is 3:"
      ]
    },
    {
      "cell_type": "code",
      "execution_count": null,
      "metadata": {
        "_uuid": "e674f48ab8c4282c06f2c7ab087731d5e207c1a6",
        "button": false,
        "colab": {
          "base_uri": "https://localhost:8080/"
        },
        "id": "H3AKNbHlrCJo",
        "new_sheet": false,
        "outputId": "8f2ce319-2287-43ac-bdc8-6160f88d67df",
        "run_control": {
          "read_only": false
        }
      },
      "outputs": [
        {
          "data": {
            "text/plain": [
              "[1, 2, 3]"
            ]
          },
          "execution_count": 3,
          "metadata": {},
          "output_type": "execute_result"
        }
      ],
      "source": [
        "[1,2,3]"
      ]
    },
    {
      "cell_type": "markdown",
      "metadata": {
        "_uuid": "8de7a767363b3a783b47f66fa5e5be217f19c84b",
        "button": false,
        "id": "g2k0KbpkrCJp",
        "new_sheet": false,
        "run_control": {
          "read_only": false
        }
      },
      "source": [
        "Below is an array with rank 2, and the length of the axis is 3 too:"
      ]
    },
    {
      "cell_type": "code",
      "execution_count": null,
      "metadata": {
        "_uuid": "75ac6b9d186ff23a564be6b48698641f29a360e2",
        "button": false,
        "colab": {
          "base_uri": "https://localhost:8080/"
        },
        "id": "iCgVm190rCJp",
        "new_sheet": false,
        "outputId": "28cdcd27-c5ac-4634-c9c9-a919bae6a4a3",
        "run_control": {
          "read_only": false
        }
      },
      "outputs": [
        {
          "data": {
            "text/plain": [
              "[[1, 2, 3], [4, 5, 6]]"
            ]
          },
          "execution_count": 4,
          "metadata": {},
          "output_type": "execute_result"
        }
      ],
      "source": [
        "[[ 1, 2, 3],[ 4, 5, 6]]"
      ]
    },
    {
      "cell_type": "markdown",
      "metadata": {
        "_uuid": "aeabb5140b0dbf9bef98b2817a4f5b180e0bba61",
        "button": false,
        "id": "7hNeFLqsrCJq",
        "new_sheet": false,
        "run_control": {
          "read_only": false
        }
      },
      "source": [
        "We can create an array of NumPy through the array function, for example:"
      ]
    },
    {
      "cell_type": "code",
      "execution_count": null,
      "metadata": {
        "_uuid": "aebb0040493c3eab313c247189b344f3442635a2",
        "button": false,
        "colab": {
          "base_uri": "https://localhost:8080/"
        },
        "id": "ZJ9CBcgYrCJr",
        "new_sheet": false,
        "outputId": "c275b34c-58e5-4fa5-8496-01d3c217ecd1",
        "run_control": {
          "read_only": false
        }
      },
      "outputs": [
        {
          "name": "stdout",
          "output_type": "stream",
          "text": [
            "a:  [1 2 3]\n",
            "b:  [[1 2 3]\n",
            " [4 5 6]]\n"
          ]
        }
      ],
      "source": [
        "a = np.array([1, 2, 3])\n",
        "b = np.array([(1,2,3), (4,5,6)])\n",
        "\n",
        "print(\"a: \",a)\n",
        "print(\"b: \",b)"
      ]
    },
    {
      "cell_type": "markdown",
      "metadata": {
        "_uuid": "aa6f0d008d44375ccbde0404138bd5a55dea31a9",
        "button": false,
        "id": "mSQ06Ae8rCJr",
        "new_sheet": false,
        "run_control": {
          "read_only": false
        }
      },
      "source": [
        "Note that the square brackets are required here. And the following way of writing is wrong:"
      ]
    },
    {
      "cell_type": "code",
      "execution_count": null,
      "metadata": {
        "_uuid": "e41bd94cf1310d057c9f88d71edae0531762fae0",
        "button": false,
        "id": "LTzx65HFrCJs",
        "new_sheet": false,
        "run_control": {
          "read_only": false
        }
      },
      "outputs": [],
      "source": [
        "# a = np.array(1,2,3,4) # WRONG!!!"
      ]
    },
    {
      "cell_type": "markdown",
      "metadata": {
        "_uuid": "1167c9394bd6be70a0c045d698f7009a9f117b6a",
        "button": false,
        "id": "X0o1yQrYrCJs",
        "new_sheet": false,
        "run_control": {
          "read_only": false
        }
      },
      "source": [
        "NumPy's array class is **ndarray**, which has an alias  **numpy.array**, but it's different from **array.array** in the Python standard library. The latter is just a one-dimensional array. The features of **ndarray** are as follows:\n",
        "<a id=\"1\"></a>\n",
        "<mark>[Return Contents](#0)\n",
        "<hr>\n",
        "\n",
        "* **ndarray.ndim:** the dimension number of the array. It's called rank in Python.\n",
        "* **ndarray.shape:** the dimension of the array. It's a series of numbers whose length is determined by the dimension （ndim） of the array. For example, the shape of a one-dimensional array with length n is n. And the shape of an array with n rows and m columns is n,m.\n",
        "* **ndarray.size:** the number of all elements in the array.\n",
        "* **ndarray.dtype:** the type of the element in the array, such as numpy.int32, numpy.int16, or numpy.float64.\n",
        "* **ndarray.itemsize:** the size of each element in the array, in bytes.\n",
        "* **ndarray.data:** the buffering for storing the array elements. Usually we only need to access the elements by subscripts, and don't need to access the buffer.\n",
        "\n",
        "Let's take a look at the code example:"
      ]
    },
    {
      "cell_type": "code",
      "execution_count": null,
      "metadata": {
        "_uuid": "dbe83d57fb5ea992077a6565ce3628531a50dbf3",
        "button": false,
        "colab": {
          "base_uri": "https://localhost:8080/"
        },
        "id": "nEGu9V8TrCJt",
        "new_sheet": false,
        "outputId": "f482267b-1887-40ea-830c-b443398dd288",
        "run_control": {
          "read_only": false
        }
      },
      "outputs": [
        {
          "name": "stdout",
          "output_type": "stream",
          "text": [
            "a=\n",
            "[1 2 3]\n",
            "a's ndim 1\n",
            "a's shape (3,)\n",
            "a's size 3\n",
            "a's dtype int64\n",
            "a's itemsize 8\n",
            "\n",
            "b=\n",
            "[[1 2 3]\n",
            " [4 5 6]]\n",
            "b's ndim 2\n",
            "b's shape (2, 3)\n",
            "b's size 6\n",
            "b's dtype int64\n",
            "b's itemsize 8\n"
          ]
        }
      ],
      "source": [
        "a = np.array([1, 2, 3])\n",
        "b = np.array([(1,2,3), (4,5,6)])\n",
        "\n",
        "print('a=')\n",
        "print(a)\n",
        "print(\"a's ndim {}\".format(a.ndim))\n",
        "print(\"a's shape {}\".format(a.shape))\n",
        "print(\"a's size {}\".format(a.size))\n",
        "print(\"a's dtype {}\".format(a.dtype))\n",
        "print(\"a's itemsize {}\".format(a.itemsize))\n",
        "\n",
        "print('')\n",
        "\n",
        "print('b=')\n",
        "print(b)\n",
        "print(\"b's ndim {}\".format(b.ndim))\n",
        "print(\"b's shape {}\".format(b.shape))\n",
        "print(\"b's size {}\".format(b.size))\n",
        "print(\"b's dtype {}\".format(b.dtype))\n",
        "print(\"b's itemsize {}\".format(b.itemsize))"
      ]
    },
    {
      "cell_type": "markdown",
      "metadata": {
        "_uuid": "eafdd6863a8e825a9aa950913384498fa54c80ca",
        "button": false,
        "id": "xgnYkNSerCJu",
        "new_sheet": false,
        "run_control": {
          "read_only": false
        }
      },
      "source": [
        "We can also specify the type of the element when creating the array, for example:"
      ]
    },
    {
      "cell_type": "code",
      "execution_count": null,
      "metadata": {
        "_uuid": "a1aef2d7545dc40ae13b82f7d23ebb21587111e1",
        "button": false,
        "colab": {
          "base_uri": "https://localhost:8080/"
        },
        "id": "Qs2LxrarrCJu",
        "new_sheet": false,
        "outputId": "9d167967-d7c6-4cf2-b32a-66cb46f1ae86",
        "run_control": {
          "read_only": false
        }
      },
      "outputs": [
        {
          "data": {
            "text/plain": [
              "array([[1.+0.j, 2.+0.j],\n",
              "       [3.+0.j, 4.+0.j]])"
            ]
          },
          "execution_count": 7,
          "metadata": {},
          "output_type": "execute_result"
        }
      ],
      "source": [
        "c = np.array( [ [1,2], [3,4] ], dtype=complex )\n",
        "c"
      ]
    },
    {
      "cell_type": "markdown",
      "metadata": {
        "_uuid": "13627c7fab3119daf7be184a0f42f8ed60a2f40f",
        "button": false,
        "id": "JQPqG0GcrCJv",
        "new_sheet": false,
        "run_control": {
          "read_only": false
        }
      },
      "source": [
        "## Create a specific array<a id=\"2\"></a>\n",
        "<mark>[Return Contents](#0)\n",
        "<hr>\n",
        "\n",
        "In actual project engineering, we often need some specific data, and some helper functions are provided in NumPy:\n",
        "\n",
        "* **zeros:** used to create an array whose elements are all 0\n",
        "* **ones:** used to create an array whose elements are all 1\n",
        "* **empty:** used to create uninitialized data. so the content is undefined.\n",
        "* **arange:** used to create an array by specifying the scope and step-length\n",
        "* **linespace:** used to create an array by specifying the range and the number of elements\n",
        "* **random:** used to generate random numbers"
      ]
    },
    {
      "cell_type": "code",
      "execution_count": null,
      "metadata": {
        "_uuid": "efc52c4adbc234364c5e4aae77a207387c5b941c",
        "button": false,
        "colab": {
          "base_uri": "https://localhost:8080/"
        },
        "id": "5OPcy29XrCJv",
        "new_sheet": false,
        "outputId": "e61b9c1a-72ae-4966-9ebe-49460cff701d",
        "run_control": {
          "read_only": false
        }
      },
      "outputs": [
        {
          "name": "stdout",
          "output_type": "stream",
          "text": [
            "np.zeros((2,3)= \n",
            "[[0. 0. 0.]\n",
            " [0. 0. 0.]]\n",
            "\n",
            "np.ones((2,3))= \n",
            "[[1. 1. 1.]\n",
            " [1. 1. 1.]]\n",
            "\n",
            "np.empty((2,3))= \n",
            "[[1. 1. 1.]\n",
            " [1. 1. 1.]]\n",
            "\n",
            "np.arange(1, 2, 0.3)= \n",
            "[1.  1.3 1.6 1.9]\n",
            "\n",
            "np.linspace(1, 2, 7)= \n",
            "[1.         1.16666667 1.33333333 1.5        1.66666667 1.83333333\n",
            " 2.        ]\n",
            "\n",
            "np.random.random((2,3))= \n",
            "[[0.57804621 0.80309513 0.98162694]\n",
            " [0.31719156 0.52288142 0.95117676]]\n",
            "\n"
          ]
        }
      ],
      "source": [
        "a = np.zeros((2,3))\n",
        "print('np.zeros((2,3)= \\n{}\\n'.format(a))\n",
        "\n",
        "b = np.ones((2,3))\n",
        "print('np.ones((2,3))= \\n{}\\n'.format(b))\n",
        "\n",
        "c = np.empty((2,3))\n",
        "print('np.empty((2,3))= \\n{}\\n'.format(c))\n",
        "\n",
        "d = np.arange(1, 2, 0.3)\n",
        "print('np.arange(1, 2, 0.3)= \\n{}\\n'.format(d))\n",
        "\n",
        "e = np.linspace(1, 2, 7)\n",
        "print('np.linspace(1, 2, 7)= \\n{}\\n'.format(e))\n",
        "\n",
        "f = np.random.random((2,3))\n",
        "print('np.random.random((2,3))= \\n{}\\n'.format(f))"
      ]
    },
    {
      "cell_type": "markdown",
      "metadata": {
        "_uuid": "fd4eef4ed6dcb4a0e3041b235d3d2461e66b817f",
        "button": false,
        "id": "BUPQvBNErCJw",
        "new_sheet": false,
        "run_control": {
          "read_only": false
        }
      },
      "source": [
        "## Shape and operation<a id=\"3\"></a>\n",
        "<mark>[Return Contents](#0)\n",
        "<hr>\n",
        "\n",
        "In addition to generating an array, after we have held some data, we may need to generate some new data structures based on the existing array. In this case, we can use the following functions:\n",
        "\n",
        "* **reshape:** used to generate a new array based on the existing array and the specified shape\n",
        "* **vstack:** used to stack multiple arrays in vertical direction (the dimensions of the array must be matched)\n",
        "* **hstack:** used to stack multiple arrays in horizontal direction (the dimensions of the array must be matched)\n",
        "* **hsplit:** used to split the array horizontally\n",
        "* **vsplit:** used to split the array vertically\n",
        "\n",
        "We'll use some examples to illustrate.\n",
        "\n",
        "To make it easier to test, let's create a few data:\n",
        "\n",
        "* **zero_line:** an array with a row containing three 0\n",
        "* **one_column:** an array with a column containing three 1\n",
        "* **a:** a matrix with 2 rows and 3 columns\n",
        "* **b:** an integer array in the interval of [11,20]"
      ]
    },
    {
      "cell_type": "code",
      "execution_count": null,
      "metadata": {
        "_uuid": "183a876e8c1fb4a04fcdebb5fe5f80357f2c6455",
        "button": false,
        "colab": {
          "base_uri": "https://localhost:8080/"
        },
        "id": "GWQvZSvfrCJw",
        "new_sheet": false,
        "outputId": "1ba3f01d-6471-48db-986e-0d9007c7ca9a",
        "run_control": {
          "read_only": false
        }
      },
      "outputs": [
        {
          "name": "stdout",
          "output_type": "stream",
          "text": [
            "zero_line = \n",
            "[[0. 0. 0.]]\n",
            "\n",
            "one_column = \n",
            "[[1.]\n",
            " [1.]\n",
            " [1.]]\n",
            "\n",
            "a = \n",
            "[[1 2 3]\n",
            " [4 5 6]]\n",
            "\n",
            "b = \n",
            "[11 12 13 14 15 16 17 18 19]\n",
            "\n"
          ]
        }
      ],
      "source": [
        "zero_line = np.zeros((1,3))\n",
        "one_column = np.ones((3,1))\n",
        "print(\"zero_line = \\n{}\\n\".format(zero_line))\n",
        "print(\"one_column = \\n{}\\n\".format(one_column))\n",
        "\n",
        "a = np.array([(1,2,3), (4,5,6)])\n",
        "b = np.arange(11, 20)\n",
        "print(\"a = \\n{}\\n\".format(a))\n",
        "print(\"b = \\n{}\\n\".format(b))"
      ]
    },
    {
      "cell_type": "markdown",
      "metadata": {
        "_uuid": "965b93ea00a0024b9e8820d5bf3d802e9e7e29f9",
        "button": false,
        "id": "F_5HlKXHrCJx",
        "new_sheet": false,
        "run_control": {
          "read_only": false
        }
      },
      "source": [
        "The array b is a one-dimensional array originally, and we resize it into a matrix of 3 rows and 3 columns by the reshape method:"
      ]
    },
    {
      "cell_type": "code",
      "execution_count": null,
      "metadata": {
        "_uuid": "4d505f232ce6286451728e4f85b12d9bdde64654",
        "button": false,
        "colab": {
          "base_uri": "https://localhost:8080/"
        },
        "id": "cNzPrQi2rCJx",
        "new_sheet": false,
        "outputId": "291578ea-3e15-4a43-ca47-df49a7b8252e",
        "run_control": {
          "read_only": false
        }
      },
      "outputs": [
        {
          "name": "stdout",
          "output_type": "stream",
          "text": [
            "b.reshape(3, -1) = \n",
            "[[11 12 13]\n",
            " [14 15 16]\n",
            " [17 18 19]]\n",
            "\n"
          ]
        }
      ],
      "source": [
        "b = b.reshape(3, -1)\n",
        "print(\"b.reshape(3, -1) = \\n{}\\n\".format(b))"
      ]
    },
    {
      "cell_type": "markdown",
      "metadata": {
        "_uuid": "54983a9eb06f0696c16e154aa9dc82b10694c9af",
        "button": false,
        "id": "aLv5lHYdrCJx",
        "new_sheet": false,
        "run_control": {
          "read_only": false
        }
      },
      "source": [
        "The second parameter here is set to -1, which means that it'll be determined based on actual conditions automatically. Since the array has 9 elements originally, the matrix after being resized is 3X3. The code output is as follows:"
      ]
    },
    {
      "cell_type": "code",
      "execution_count": null,
      "metadata": {
        "_uuid": "734fb79e97a046f2af59d1baf28cebcda11b7c98",
        "button": false,
        "colab": {
          "base_uri": "https://localhost:8080/"
        },
        "id": "Eh0qMY8HrCJy",
        "new_sheet": false,
        "outputId": "aa19ba55-ea81-4a50-fa70-c3aaa02f910c",
        "run_control": {
          "read_only": false
        }
      },
      "outputs": [
        {
          "data": {
            "text/plain": [
              "array([[11, 12, 13],\n",
              "       [14, 15, 16],\n",
              "       [17, 18, 19]])"
            ]
          },
          "execution_count": 13,
          "metadata": {},
          "output_type": "execute_result"
        }
      ],
      "source": [
        "b.reshape(3, -1)"
      ]
    },
    {
      "cell_type": "markdown",
      "metadata": {
        "_uuid": "a78d85d3cc1a16f67c4d1df518064d9f6655a9d0",
        "button": false,
        "id": "Nn1mstCdrCJy",
        "new_sheet": false,
        "run_control": {
          "read_only": false
        }
      },
      "source": [
        "Next, we'll stack the three arrays vertically through the vstack function:"
      ]
    },
    {
      "cell_type": "code",
      "execution_count": null,
      "metadata": {
        "_uuid": "0b792ff88126b66792f6d9cd7231935391a449ac",
        "button": false,
        "colab": {
          "base_uri": "https://localhost:8080/"
        },
        "id": "3SY2UVUJrCJy",
        "new_sheet": false,
        "outputId": "cbd0860b-8e41-4be7-dfb3-15fe42037e1e",
        "run_control": {
          "read_only": false
        }
      },
      "outputs": [
        {
          "name": "stdout",
          "output_type": "stream",
          "text": [
            "c = np.vstack((a,b, zero_line)) = \n",
            "[[ 1.  2.  3.]\n",
            " [ 4.  5.  6.]\n",
            " [11. 12. 13.]\n",
            " [14. 15. 16.]\n",
            " [17. 18. 19.]\n",
            " [ 0.  0.  0.]]\n",
            "\n"
          ]
        }
      ],
      "source": [
        "c = np.vstack((a, b, zero_line))\n",
        "print(\"c = np.vstack((a,b, zero_line)) = \\n{}\\n\".format(c))"
      ]
    },
    {
      "cell_type": "markdown",
      "metadata": {
        "_uuid": "ebe627c6bcccc9bcc539ab5016ee41d918970782",
        "button": false,
        "id": "GCFx6w7arCJy",
        "new_sheet": false,
        "run_control": {
          "read_only": false
        }
      },
      "source": [
        "Similarly, we can also use the hstack for horizontal stacking. This time we need to adjust the structure of the array a first:"
      ]
    },
    {
      "cell_type": "code",
      "execution_count": null,
      "metadata": {
        "_uuid": "741a43b359a2c9d749f8de79cabbb5c9a8424e4e",
        "button": false,
        "colab": {
          "base_uri": "https://localhost:8080/"
        },
        "id": "OfJrFaYjrCJz",
        "new_sheet": false,
        "outputId": "46967acd-eb5f-44fe-b80c-d05ee9fb4e42",
        "run_control": {
          "read_only": false
        }
      },
      "outputs": [
        {
          "name": "stdout",
          "output_type": "stream",
          "text": [
            "a.reshape(3, 2) = \n",
            "[[1 2]\n",
            " [3 4]\n",
            " [5 6]]\n",
            "\n",
            "d = np.hstack((a,b, one_column)) = \n",
            "[[ 1.  2. 11. 12. 13.  1.]\n",
            " [ 3.  4. 14. 15. 16.  1.]\n",
            " [ 5.  6. 17. 18. 19.  1.]]\n",
            "\n"
          ]
        }
      ],
      "source": [
        "a = a.reshape(3, 2)\n",
        "print(\"a.reshape(3, 2) = \\n{}\\n\".format(a))\n",
        "\n",
        "d = np.hstack((a, b, one_column))\n",
        "print(\"d = np.hstack((a,b, one_column)) = \\n{}\\n\".format(d))"
      ]
    },
    {
      "cell_type": "markdown",
      "metadata": {
        "_uuid": "da72cee4b256e82e012acd360bde444f24753bb5",
        "button": false,
        "id": "HH3UCjoOrCJz",
        "new_sheet": false,
        "run_control": {
          "read_only": false
        }
      },
      "source": [
        "Next, let's take a look at the split. First, we split the array d into three arrays in horizontal direction. Then we print out the middle one (the subscript is 1):"
      ]
    },
    {
      "cell_type": "code",
      "execution_count": null,
      "metadata": {
        "_uuid": "49410d8c4a2de4401e68ae9482a04dcedf0fb255",
        "button": false,
        "colab": {
          "base_uri": "https://localhost:8080/"
        },
        "id": "yq9R9tATrCJz",
        "new_sheet": false,
        "outputId": "c661a5fd-b53e-4a8a-a014-f7626a7ce690",
        "run_control": {
          "read_only": false
        }
      },
      "outputs": [
        {
          "name": "stdout",
          "output_type": "stream",
          "text": [
            "e = np.hsplit(d, 3) = \n",
            "[array([[1., 2.],\n",
            "       [3., 4.],\n",
            "       [5., 6.]]), array([[11., 12.],\n",
            "       [14., 15.],\n",
            "       [17., 18.]]), array([[13.,  1.],\n",
            "       [16.,  1.],\n",
            "       [19.,  1.]])]\n",
            "\n",
            "e[1] = \n",
            "[[11. 12.]\n",
            " [14. 15.]\n",
            " [17. 18.]]\n",
            "\n"
          ]
        }
      ],
      "source": [
        "e = np.hsplit(d, 3) # Split a into 3\n",
        "print(\"e = np.hsplit(d, 3) = \\n{}\\n\".format(e))\n",
        "print(\"e[1] = \\n{}\\n\".format(e[1]))"
      ]
    },
    {
      "cell_type": "markdown",
      "metadata": {
        "_uuid": "850665290468de42b4600b8ada00106bfbde0fd6",
        "button": false,
        "id": "J7IT9wsJrCJz",
        "new_sheet": false,
        "run_control": {
          "read_only": false
        }
      },
      "source": [
        "In addition to specifying number to split the array evenly, we can also specify the number of columns to split. The following is to split the array d from the first column and the third column:"
      ]
    },
    {
      "cell_type": "code",
      "execution_count": null,
      "metadata": {
        "_uuid": "83c2e07835fad242fa05bfc21bb5c1933f98b630",
        "button": false,
        "colab": {
          "base_uri": "https://localhost:8080/"
        },
        "id": "m7hjJ4jWrCJz",
        "new_sheet": false,
        "outputId": "4aa6f5d6-4497-4917-e58f-5430bbfd2c4f",
        "run_control": {
          "read_only": false
        }
      },
      "outputs": [
        {
          "name": "stdout",
          "output_type": "stream",
          "text": [
            "f = np.hsplit(d, (1, 3)) = \n",
            "[array([[1.],\n",
            "       [3.],\n",
            "       [5.]]), array([[ 2., 11.],\n",
            "       [ 4., 14.],\n",
            "       [ 6., 17.]]), array([[12., 13.,  1.],\n",
            "       [15., 16.,  1.],\n",
            "       [18., 19.,  1.]])]\n",
            "\n"
          ]
        }
      ],
      "source": [
        "f = np.hsplit(d, (1, 3)) # # Split a after the 1st and the 3rd column\n",
        "print(\"f = np.hsplit(d, (1, 3)) = \\n{}\\n\".format(f))"
      ]
    },
    {
      "cell_type": "markdown",
      "metadata": {
        "_uuid": "cd147a6ef41ef2e15d1001cc324d41193ec055ad",
        "button": false,
        "id": "mq188elzrCJz",
        "new_sheet": false,
        "run_control": {
          "read_only": false
        }
      },
      "source": [
        "Finally, we split the array d in the vertical direction. Similarly, if the specified number cannot make the array be split evenly, it will fail:"
      ]
    },
    {
      "cell_type": "code",
      "execution_count": null,
      "metadata": {
        "_uuid": "12eb3db4e0596f056b5ee4314d57ca5e67ad3106",
        "button": false,
        "colab": {
          "base_uri": "https://localhost:8080/"
        },
        "id": "I7j0HBr_rCJ0",
        "new_sheet": false,
        "outputId": "c1e9a7e1-e0da-4272-cc83-9217185635fd",
        "run_control": {
          "read_only": false
        }
      },
      "outputs": [
        {
          "name": "stdout",
          "output_type": "stream",
          "text": [
            "np.hsplit(d, 2) = \n",
            "[array([[ 1.,  2., 11., 12., 13.,  1.]]), array([[ 3.,  4., 14., 15., 16.,  1.]]), array([[ 5.,  6., 17., 18., 19.,  1.]])]\n",
            "\n"
          ]
        }
      ],
      "source": [
        "g = np.vsplit(d, 3)\n",
        "print(\"np.hsplit(d, 2) = \\n{}\\n\".format(g))\n",
        "\n",
        "# np.vsplit(d, 2) # ValueError: array split does not result in an equal division"
      ]
    },
    {
      "cell_type": "markdown",
      "metadata": {
        "_uuid": "1860b6716e3db57b6d302afdd6f68edb608c23f3",
        "button": false,
        "id": "LzaqbDCdrCJ0",
        "new_sheet": false,
        "run_control": {
          "read_only": false
        }
      },
      "source": [
        "## Index<a id=\"4\"></a>\n",
        "<mark>[Return Contents](#0)\n",
        "<hr>\n",
        "\n",
        "Next we look at how to access the data in the NumPy array.\n",
        "\n",
        "Again, for testing convenience, let's create a one-dimensional array first. Its content is integers in the interval of [100,200).\n",
        "\n",
        "Basically, we can specify the subscripts by array[index] to access the elements of the array."
      ]
    },
    {
      "cell_type": "code",
      "execution_count": null,
      "metadata": {
        "_uuid": "50f45c6c7e780069549a2e186f5cb705d46d685a",
        "button": false,
        "colab": {
          "base_uri": "https://localhost:8080/"
        },
        "id": "NrgsKmVErCJ0",
        "new_sheet": false,
        "outputId": "d9e1f051-47b2-4f43-cd9b-4225566fc038",
        "run_control": {
          "read_only": false
        }
      },
      "outputs": [
        {
          "name": "stdout",
          "output_type": "stream",
          "text": [
            "base_data\n",
            "=[100 101 102 103 104 105 106 107 108 109 110 111 112 113 114 115 116 117\n",
            " 118 119 120 121 122 123 124 125 126 127 128 129 130 131 132 133 134 135\n",
            " 136 137 138 139 140 141 142 143 144 145 146 147 148 149 150 151 152 153\n",
            " 154 155 156 157 158 159 160 161 162 163 164 165 166 167 168 169 170 171\n",
            " 172 173 174 175 176 177 178 179 180 181 182 183 184 185 186 187 188 189\n",
            " 190 191 192 193 194 195 196 197 198 199]\n",
            "\n",
            "base_data[10] = 110\n",
            "\n"
          ]
        }
      ],
      "source": [
        "base_data = np.arange(100, 200)\n",
        "print(\"base_data\\n={}\\n\".format(base_data))\n",
        "\n",
        "print(\"base_data[10] = {}\\n\".format(base_data[10]))"
      ]
    },
    {
      "cell_type": "markdown",
      "metadata": {
        "_uuid": "9f51fb2baca7b095cb14d63d096733c536076dc0",
        "button": false,
        "id": "D8oF5G4OrCJ0",
        "new_sheet": false,
        "run_control": {
          "read_only": false
        }
      },
      "source": [
        "In NumPy, we can create an array containing several subscripts to get the elements in the target array. For example:"
      ]
    },
    {
      "cell_type": "code",
      "execution_count": null,
      "metadata": {
        "_uuid": "99408ffa558ae8b9332aa9753c3dc8d1c119f681",
        "button": false,
        "colab": {
          "base_uri": "https://localhost:8080/"
        },
        "id": "90Kzk87nrCJ0",
        "new_sheet": false,
        "outputId": "9b90c3f2-2f49-4770-a2c0-8de18d99a52e",
        "run_control": {
          "read_only": false
        }
      },
      "outputs": [
        {
          "name": "stdout",
          "output_type": "stream",
          "text": [
            "base_data[every_five] = \n",
            "[100 105 110 115 120 125 130 135 140 145 150 155 160 165 170 175 180 185\n",
            " 190 195]\n",
            "\n"
          ]
        }
      ],
      "source": [
        "every_five = np.arange(0, 100, 5)\n",
        "print(\"base_data[every_five] = \\n{}\\n\".format(\n",
        "    base_data[every_five]))"
      ]
    },
    {
      "cell_type": "markdown",
      "metadata": {
        "_uuid": "8735fdc0428754458b3a23cdf58d2818b59098a5",
        "button": false,
        "id": "w5HjV6GPrCJ1",
        "new_sheet": false,
        "run_control": {
          "read_only": false
        }
      },
      "source": [
        "The subscript array can be one-dimensional, or multi-dimensional. Let's suppose that we want to get a 2X2 matrix whose content comes from the four subscripts of 1, 2, 10, and 20 in the target array, so the code can be written:"
      ]
    },
    {
      "cell_type": "code",
      "execution_count": null,
      "metadata": {
        "_uuid": "d434066f61772de0c12e6fd8c3c7eb94852ccfb7",
        "button": false,
        "colab": {
          "base_uri": "https://localhost:8080/"
        },
        "id": "033OB42DrCJ1",
        "new_sheet": false,
        "outputId": "1c91db62-8930-404e-edf8-9d9cfecc1c54",
        "run_control": {
          "read_only": false
        }
      },
      "outputs": [
        {
          "name": "stdout",
          "output_type": "stream",
          "text": [
            "a = \n",
            "[[ 1  2]\n",
            " [10 20]]\n",
            "\n",
            "base_data[a] = \n",
            "[[101 102]\n",
            " [110 120]]\n",
            "\n"
          ]
        }
      ],
      "source": [
        "a = np.array([(1,2), (10,20)])\n",
        "print(\"a = \\n{}\\n\".format(a))\n",
        "print(\"base_data[a] = \\n{}\\n\".format(base_data[a]))"
      ]
    },
    {
      "cell_type": "markdown",
      "metadata": {
        "_uuid": "7dd58d1c2c948be7a0e8c0bbd9e586011c44cbe3",
        "button": false,
        "id": "zmzDG5dNrCJ1",
        "new_sheet": false,
        "run_control": {
          "read_only": false
        }
      },
      "source": [
        "The above we see is the case where the target array is one-dimensional. Let's convert the following array into a 10X10 two-dimensional array."
      ]
    },
    {
      "cell_type": "code",
      "execution_count": null,
      "metadata": {
        "_uuid": "8a1576f10685c5e37d796f7350b4687123132491",
        "button": false,
        "colab": {
          "base_uri": "https://localhost:8080/"
        },
        "id": "JsLo5tRtrCJ1",
        "new_sheet": false,
        "outputId": "52134081-9950-4d41-ce14-61a2c2fc75ea",
        "run_control": {
          "read_only": false
        }
      },
      "outputs": [
        {
          "name": "stdout",
          "output_type": "stream",
          "text": [
            "base_data2 = np.reshape(base_data, (10, -1)) = \n",
            "[[100 101 102 103 104 105 106 107 108 109]\n",
            " [110 111 112 113 114 115 116 117 118 119]\n",
            " [120 121 122 123 124 125 126 127 128 129]\n",
            " [130 131 132 133 134 135 136 137 138 139]\n",
            " [140 141 142 143 144 145 146 147 148 149]\n",
            " [150 151 152 153 154 155 156 157 158 159]\n",
            " [160 161 162 163 164 165 166 167 168 169]\n",
            " [170 171 172 173 174 175 176 177 178 179]\n",
            " [180 181 182 183 184 185 186 187 188 189]\n",
            " [190 191 192 193 194 195 196 197 198 199]]\n",
            "\n"
          ]
        }
      ],
      "source": [
        "base_data2 = base_data.reshape(10, -1)\n",
        "print(\"base_data2 = np.reshape(base_data, (10, -1)) = \\n{}\\n\".format(base_data2))"
      ]
    },
    {
      "cell_type": "markdown",
      "metadata": {
        "_uuid": "f3f6be4a7fd80a1fee342b3b8c22dbc07b6979f1",
        "button": false,
        "id": "CWss963srCJ1",
        "new_sheet": false,
        "run_control": {
          "read_only": false
        }
      },
      "source": [
        "For a two-dimensional array,\n",
        "\n",
        "* if we only specify one subscript, the result of the access is still an array.\n",
        "* if we specify two subscripts,  the result of the access is the elements inside.\n",
        "* we can also specify the last element by \"-1\"."
      ]
    },
    {
      "cell_type": "code",
      "execution_count": null,
      "metadata": {
        "_uuid": "c0808ae64994a8ddc782e048de38fc91ded514cd",
        "button": false,
        "colab": {
          "base_uri": "https://localhost:8080/"
        },
        "id": "oT1xS8JYrCJ1",
        "new_sheet": false,
        "outputId": "5f0a39f1-85e7-4f18-f8f3-b19a8f24abfa",
        "run_control": {
          "read_only": false
        }
      },
      "outputs": [
        {
          "name": "stdout",
          "output_type": "stream",
          "text": [
            "base_data2[2] = \n",
            "[120 121 122 123 124 125 126 127 128 129]\n",
            "\n",
            "base_data2[2, 3] = \n",
            "123\n",
            "\n",
            "base_data2[-1, -1] = \n",
            "199\n",
            "\n"
          ]
        }
      ],
      "source": [
        "print(\"base_data2[2] = \\n{}\\n\".format(base_data2[2]))\n",
        "print(\"base_data2[2, 3] = \\n{}\\n\".format(base_data2[2, 3]))\n",
        "print(\"base_data2[-1, -1] = \\n{}\\n\".format(base_data2[-1, -1]))"
      ]
    },
    {
      "cell_type": "markdown",
      "metadata": {
        "_uuid": "697c271a0333c44ba183195e79569e473c1e5b4d",
        "button": false,
        "id": "CqFfee04rCJ1",
        "new_sheet": false,
        "run_control": {
          "read_only": false
        }
      },
      "source": [
        "In addition, we can also specify the scope by \":\", such as: 2:5 . Only to write \":\" indicates the full scope.\n",
        "\n",
        "Please see the code below:\n",
        "\n",
        "It will:\n",
        "\n",
        "* get all the elements of the row whose subscript is 2\n",
        "* get all the elements of the column whose subscript is 3\n",
        "* get all the elements of the rows whose subscripts are in [2,5) and the columns * whose subscripts are in [2,4). Please observe the following output carefully:"
      ]
    },
    {
      "cell_type": "code",
      "execution_count": null,
      "metadata": {
        "_uuid": "d815b60dafc48b9bc6752bab52e380fc255b7912",
        "button": false,
        "colab": {
          "base_uri": "https://localhost:8080/"
        },
        "id": "nQJiAhT8rCJ2",
        "new_sheet": false,
        "outputId": "de662d9a-bd5d-4c38-a8ed-092d101dcf8b",
        "run_control": {
          "read_only": false
        }
      },
      "outputs": [
        {
          "name": "stdout",
          "output_type": "stream",
          "text": [
            "base_data2[2, :]] = \n",
            "[120 121 122 123 124 125 126 127 128 129]\n",
            "\n",
            "base_data2[:, 3]] = \n",
            "[103 113 123 133 143 153 163 173 183 193]\n",
            "\n",
            "base_data2[2:5, 2:4]] = \n",
            "[[122 123]\n",
            " [132 133]\n",
            " [142 143]]\n",
            "\n"
          ]
        }
      ],
      "source": [
        "print(\"base_data2[2, :]] = \\n{}\\n\".format(base_data2[2, :]))\n",
        "print(\"base_data2[:, 3]] = \\n{}\\n\".format(base_data2[:, 3]))\n",
        "print(\"base_data2[2:5, 2:4]] = \\n{}\\n\".format(base_data2[2:5, 2:4]))"
      ]
    },
    {
      "cell_type": "markdown",
      "metadata": {
        "_uuid": "6392e02699f97abb3b2a92d8f43461121b1ac3e1",
        "button": false,
        "id": "s7UJglQorCJ2",
        "new_sheet": false,
        "run_control": {
          "read_only": false
        }
      },
      "source": [
        "## Mathematics<a id=\"5\"></a>\n",
        "<mark>[Return Contents](#0)\n",
        "<hr>"
      ]
    },
    {
      "cell_type": "markdown",
      "metadata": {
        "_uuid": "b2916d268046ecc168235673b101b48935086d0b",
        "button": false,
        "id": "CIhbtGkhrCJ2",
        "new_sheet": false,
        "run_control": {
          "read_only": false
        }
      },
      "source": [
        "There are also a lot of mathematical functions in NumPy. Here are some examples."
      ]
    },
    {
      "cell_type": "code",
      "execution_count": null,
      "metadata": {
        "_uuid": "7bbef723ae17c3b93003964cd0f81346dbc67670",
        "button": false,
        "colab": {
          "base_uri": "https://localhost:8080/"
        },
        "id": "XZC-FTGcrCJ2",
        "new_sheet": false,
        "outputId": "08330213-24ec-4543-a90f-94315a68d73c",
        "run_control": {
          "read_only": false
        }
      },
      "outputs": [
        {
          "name": "stdout",
          "output_type": "stream",
          "text": [
            "base_data = \n",
            "[[ 46.19324186  48.86135528 -25.26785545 -45.93230239  26.49102785]\n",
            " [ 23.59589215  47.9289554  -12.43078937  -5.66174324  32.11854558]\n",
            " [ 12.08463332 -27.67307239  31.1112311  -24.82263157  18.83736958]\n",
            " [ 25.99503038 -28.6865881    9.85929279  43.22050001  -0.2764504 ]\n",
            " [ -1.21159163  42.26013737 -38.90095056  17.17136133  -1.50876002]]\n",
            "\n",
            "np.amin(base_data) = -45.93230239229113\n",
            "np.amax(base_data) = 48.861355284657606\n",
            "np.average(base_data) = 8.53423355587606\n",
            "np.sum(base_data) = 213.3558388969015\n",
            "np.sin(base_data) = \n",
            "[[ 0.80200713 -0.98614282 -0.1347035  -0.92895777  0.97750466]\n",
            " [-0.99942385 -0.72087611  0.13516624  0.58220822  0.64621863]\n",
            " [-0.46331945 -0.56568318 -0.30000265  0.30516306 -0.01218604]\n",
            " [ 0.75933411  0.40067571 -0.42097037 -0.69022296 -0.27294255]\n",
            " [-0.93617669 -0.98856641 -0.93270379 -0.99423835 -0.99807637]]\n"
          ]
        }
      ],
      "source": [
        "base_data = (np.random.random((5, 5)) - 0.5) * 100\n",
        "print(\"base_data = \\n{}\\n\".format(base_data))\n",
        "\n",
        "print(\"np.amin(base_data) = {}\".format(np.amin(base_data)))\n",
        "print(\"np.amax(base_data) = {}\".format(np.amax(base_data)))\n",
        "print(\"np.average(base_data) = {}\".format(np.average(base_data)))\n",
        "print(\"np.sum(base_data) = {}\".format(np.sum(base_data)))\n",
        "print(\"np.sin(base_data) = \\n{}\".format(np.sin(base_data)))"
      ]
    },
    {
      "cell_type": "code",
      "execution_count": null,
      "metadata": {
        "_uuid": "f0509daea35041de88510b1f1caa0ea709437ecd",
        "colab": {
          "base_uri": "https://localhost:8080/"
        },
        "id": "fe3SrRHCrCJ2",
        "outputId": "b930256d-3282-4f9c-c338-147c913ec517"
      },
      "outputs": [
        {
          "name": "stdout",
          "output_type": "stream",
          "text": [
            "Multpiles:  [  1   4   9  16  25  36  49  64  81 100 121 144 169 196 225 256 289 324\n",
            " 361]\n",
            "Substracts:  [0 0 0 0 0 0 0 0 0 0 0 0 0 0 0 0 0 0 0]\n",
            "Add:  [ 2  4  6  8 10 12 14 16 18 20 22 24 26 28 30 32 34 36 38]\n",
            "Divide:  [1. 1. 1. 1. 1. 1. 1. 1. 1. 1. 1. 1. 1. 1. 1. 1. 1. 1. 1.]\n",
            "Add +50:  [51 52 53 54 55 56 57 58 59 60 61 62 63 64 65 66 67 68 69]\n"
          ]
        }
      ],
      "source": [
        "arr = np.arange(1,20)\n",
        "arr = arr * arr              #Multiplies each element by itself \n",
        "print(\"Multpiles: \",arr)\n",
        "arr = arr - arr              #Subtracts each element from itself\n",
        "print(\"Substracts: \",arr)\n",
        "arr = np.arange(1,20)\n",
        "arr = arr + arr              #Adds each element to itself\n",
        "print(\"Add: \",arr)\n",
        "arr = arr / arr              #Divides each element by itself\n",
        "print(\"Divide: \",arr)\n",
        "arr = np.arange(1,20)\n",
        "arr = arr + 50\n",
        "print(\"Add +50: \",arr)"
      ]
    },
    {
      "cell_type": "code",
      "execution_count": null,
      "metadata": {
        "_uuid": "f1102309d7542af1da3aa05bd4b90f03385347a7",
        "colab": {
          "base_uri": "https://localhost:8080/"
        },
        "id": "_4IyExrqrCJ3",
        "outputId": "f88cbae4-6d5b-4c5d-8be2-8e103b15d1a3"
      },
      "outputs": [
        {
          "name": "stdout",
          "output_type": "stream",
          "text": [
            "Sqrt:  [7.14142843 7.21110255 7.28010989 7.34846923 7.41619849 7.48331477\n",
            " 7.54983444 7.61577311 7.68114575 7.74596669 7.81024968 7.87400787\n",
            " 7.93725393 8.         8.06225775 8.1240384  8.18535277 8.24621125\n",
            " 8.30662386]\n",
            "Exp:  [1.40934908e+22 3.83100800e+22 1.04137594e+23 2.83075330e+23\n",
            " 7.69478527e+23 2.09165950e+24 5.68572000e+24 1.54553894e+25\n",
            " 4.20121040e+25 1.14200739e+26 3.10429794e+26 8.43835667e+26\n",
            " 2.29378316e+27 6.23514908e+27 1.69488924e+28 4.60718663e+28\n",
            " 1.25236317e+29 3.40427605e+29 9.25378173e+29]\n",
            "Sin:  [ 0.67022918  0.98662759  0.39592515 -0.55878905 -0.99975517 -0.521551\n",
            "  0.43616476  0.99287265  0.63673801 -0.30481062 -0.96611777 -0.7391807\n",
            "  0.1673557   0.92002604  0.82682868 -0.02655115 -0.85551998 -0.89792768\n",
            " -0.11478481]\n",
            "Cos:  [ 0.7421542  -0.16299078 -0.91828279 -0.82930983  0.02212676  0.85322011\n",
            "  0.89986683  0.11918014 -0.77108022 -0.95241298 -0.25810164  0.67350716\n",
            "  0.98589658  0.39185723 -0.56245385 -0.99964746 -0.5177698   0.44014302\n",
            "  0.99339038]\n",
            "Log:  [3.93182563 3.95124372 3.97029191 3.98898405 4.00733319 4.02535169\n",
            " 4.04305127 4.06044301 4.07753744 4.09434456 4.11087386 4.12713439\n",
            " 4.14313473 4.15888308 4.17438727 4.18965474 4.20469262 4.21950771\n",
            " 4.2341065 ]\n",
            "Sum:  1140\n",
            "Std:  5.477225575051661\n"
          ]
        }
      ],
      "source": [
        "print(\"Sqrt: \",np.sqrt(arr))#Returns the square root of each element \n",
        "print(\"Exp: \",np.exp(arr))     #Returns the exponentials of each element\n",
        "print(\"Sin: \",np.sin(arr))     #Returns the sin of each element\n",
        "print(\"Cos: \",np.cos(arr))     #Returns the cosine of each element\n",
        "print(\"Log: \",np.log(arr))     #Returns the logarithm of each element\n",
        "print(\"Sum: \",np.sum(arr))     #Returns the sum total of elements in the array\n",
        "print(\"Std: \",np.std(arr))     #Returns the standard deviation of in the array"
      ]
    },
    {
      "cell_type": "markdown",
      "metadata": {
        "_uuid": "3fb98eb74a3551366c1a53f772398c12ebd7495c",
        "button": false,
        "id": "vAWdtIvzrCJ3",
        "new_sheet": false,
        "run_control": {
          "read_only": false
        }
      },
      "source": [
        "## Matrix<a id=\"6\"></a>\n",
        "<mark>[Return Contents](#0)\n",
        "<hr>\n",
        "\n",
        "Now, let's take a look at how to use NumPy in a matrix way.\n",
        "\n",
        "First, let's create a 5X5 random integer matrix. There are two ways to get the transpose of a matrix: **.T** or **transpose** function. In addition, the matrix can be multiplied through the **dot** function. The sample code is as follows:"
      ]
    },
    {
      "cell_type": "code",
      "execution_count": null,
      "metadata": {
        "_uuid": "90e3bbc6a73de40f270d3e5ef24826b25b5c2d04",
        "button": false,
        "colab": {
          "base_uri": "https://localhost:8080/"
        },
        "id": "BVHBd2CgrCJ3",
        "new_sheet": false,
        "outputId": "af2400c4-3155-4f46-804b-526a7a11ed89",
        "run_control": {
          "read_only": false
        }
      },
      "outputs": [
        {
          "name": "stdout",
          "output_type": "stream",
          "text": [
            "base_data = \n",
            "[[ 27. -17.  39.  15.  40.]\n",
            " [ 24.  13. -41.  44.  -8.]\n",
            " [ 12. -16.  19. -38.   5.]\n",
            " [-31. -44.  14.  17. -38.]\n",
            " [-25.   9. -31.   0. -15.]]\n",
            "\n",
            "base_data.T = \n",
            "[[ 27.  24.  12. -31. -25.]\n",
            " [-17.  13. -16. -44.   9.]\n",
            " [ 39. -41.  19.  14. -31.]\n",
            " [ 15.  44. -38.  17.   0.]\n",
            " [ 40.  -8.   5. -38. -15.]]\n",
            "\n",
            "base_data.transpose() = \n",
            "[[ 27.  24.  12. -31. -25.]\n",
            " [-17.  13. -16. -44.   9.]\n",
            " [ 39. -41.  19.  14. -31.]\n",
            " [ 15.  44. -38.  17.   0.]\n",
            " [ 40.  -8.   5. -38. -15.]]\n",
            "\n",
            "matrix_one = \n",
            "[[1. 1. 1. 1. 1.]\n",
            " [1. 1. 1. 1. 1.]\n",
            " [1. 1. 1. 1. 1.]\n",
            " [1. 1. 1. 1. 1.]\n",
            " [1. 1. 1. 1. 1.]]\n",
            "\n",
            "minus_one = \n",
            "[[-1. -1. -1. -1. -1.]\n",
            " [-1. -1. -1. -1. -1.]\n",
            " [-1. -1. -1. -1. -1.]\n",
            " [-1. -1. -1. -1. -1.]\n",
            " [-1. -1. -1. -1. -1.]]\n",
            "\n",
            "np.dot(base_data, minus_one) = \n",
            "[[-104. -104. -104. -104. -104.]\n",
            " [ -32.  -32.  -32.  -32.  -32.]\n",
            " [  18.   18.   18.   18.   18.]\n",
            " [  82.   82.   82.   82.   82.]\n",
            " [  62.   62.   62.   62.   62.]]\n",
            "\n"
          ]
        }
      ],
      "source": [
        "base_data = np.floor((np.random.random((5, 5)) - 0.5) * 100)\n",
        "print(\"base_data = \\n{}\\n\".format(base_data))\n",
        "\n",
        "print(\"base_data.T = \\n{}\\n\".format(base_data.T))\n",
        "print(\"base_data.transpose() = \\n{}\\n\".format(base_data.transpose()))\n",
        "\n",
        "matrix_one = np.ones((5, 5))\n",
        "print(\"matrix_one = \\n{}\\n\".format(matrix_one))\n",
        "\n",
        "minus_one = np.dot(matrix_one, -1)\n",
        "print(\"minus_one = \\n{}\\n\".format(minus_one))\n",
        "\n",
        "print(\"np.dot(base_data, minus_one) = \\n{}\\n\".format(\n",
        "    np.dot(base_data, minus_one)))"
      ]
    },
    {
      "cell_type": "markdown",
      "metadata": {
        "_uuid": "0395dea256448fda62ac24ec0f2ac755afff1689",
        "button": false,
        "id": "8jr7egnUrCJ3",
        "new_sheet": false,
        "run_control": {
          "read_only": false
        }
      },
      "source": [
        "## Random Number<a id=\"7\"></a>\n",
        "<mark>[Return Contents](#0)\n",
        "<hr>\n",
        "\n",
        "At the end of the article, let's take a look at the use of random numbers.\n",
        "\n",
        "Random numbers are a feature we use very often during the programming process, such as generating demo data, or disordering existing data sequence randomly to segment the modeling data and the verification data.\n",
        "\n",
        "The numpy.random package contains a number of algorithms for random numbers. Here we list the four most common usage:\n",
        "\n",
        "The four usages are:\n",
        "\n",
        "* to generate 20 random numbers, each of which is between **[0.0, 1.0)**\n",
        "* to generate a random number based on the specified **shape**\n",
        "* to generate a specified number (such as 20) of random integers within the specified range (such as **[0, 100)**)\n",
        "* to disorder the sequence of the existing data (**[0, 1, 2, ..., 19]**) randomly\n",
        "The output is as follows:"
      ]
    },
    {
      "cell_type": "code",
      "execution_count": null,
      "metadata": {
        "_uuid": "ac8fcb29ab38c97ab39e8c30d0aa32221d78950e",
        "button": false,
        "colab": {
          "base_uri": "https://localhost:8080/"
        },
        "id": "bTrNi45rrCJ3",
        "new_sheet": false,
        "outputId": "2a2d30db-ca5c-4c79-a4f9-f17eef61e2f7",
        "run_control": {
          "read_only": false
        }
      },
      "outputs": [
        {
          "name": "stdout",
          "output_type": "stream",
          "text": [
            "random: [0.215081   0.57735915 0.20811259 0.37881527 0.82054122 0.30472902\n",
            " 0.76276674 0.94424167 0.13843456 0.85759865 0.4965837  0.77363327\n",
            " 0.54794253 0.74841182 0.15544318 0.05927336 0.82318256 0.1817038\n",
            " 0.01359952 0.83053727]\n",
            "\n",
            "rand: [[0.85233414 0.07414227 0.90252677 0.33360404]\n",
            " [0.16110139 0.71985488 0.04608619 0.84776958]\n",
            " [0.8069466  0.32312964 0.21395472 0.17265418]]\n",
            "\n",
            "randint: [22 47 70 41 63 42 11 58 18 53 17 60 77 61 66 14  8 64 39 14]\n",
            "\n",
            "permutation: [11 10  5  2 17  9  6 12 14 18  8  3 13  0 19 15  4  1  7 16]\n",
            "\n"
          ]
        }
      ],
      "source": [
        "print(\"random: {}\\n\".format(np.random.random(20)));\n",
        "\n",
        "print(\"rand: {}\\n\".format(np.random.rand(3, 4)));\n",
        "\n",
        "print(\"randint: {}\\n\".format(np.random.randint(0, 100, 20)));\n",
        "\n",
        "print(\"permutation: {}\\n\".format(np.random.permutation(np.arange(20))));"
      ]
    },
    {
      "cell_type": "markdown",
      "metadata": {
        "_uuid": "b504f4657764a57d6dfaff6be2b97f2e902d55ab",
        "id": "7ntiKxx_rCJ4"
      },
      "source": [
        "## Conclusion <a id=\"8\"></a>\n",
        "<mark>[Return Contents](#0)\n",
        "<hr>\n",
        "* If you like it, thank you for you upvotes.\n",
        "* If you have any question, I will happy to hear it"
      ]
    },
    {
      "cell_type": "markdown",
      "metadata": {
        "_uuid": "ce1a98641bb759f570a741c1bce0fca106eaf508",
        "button": false,
        "id": "DKX9ctdNrCJ4",
        "new_sheet": false,
        "run_control": {
          "read_only": false
        }
      },
      "source": [
        "## Reference<a id=\"9\"></a>\n",
        "<mark>[Return Contents](#0)\n",
        "<hr>\n",
        "\n",
        "* https://www.tutorialdocs.com/article/python-numpy-tutorial.html\n",
        "* https://towardsdatascience.com/lets-talk-about-numpy-for-datascience-beginners-b8088722309f\n",
        "* http://www.numpy.org"
      ]
    }
  ],
  "metadata": {
    "colab": {
      "name": "Numpy.ipynb",
      "provenance": [],
      "include_colab_link": true
    },
    "kernelspec": {
      "display_name": "Python 3",
      "language": "python",
      "name": "python3"
    },
    "language_info": {
      "codemirror_mode": {
        "name": "ipython",
        "version": 3
      },
      "file_extension": ".py",
      "mimetype": "text/x-python",
      "name": "python",
      "nbconvert_exporter": "python",
      "pygments_lexer": "ipython3",
      "version": "3.8.5"
    }
  },
  "nbformat": 4,
  "nbformat_minor": 0
}