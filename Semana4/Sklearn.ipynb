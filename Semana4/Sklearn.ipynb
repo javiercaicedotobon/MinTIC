{
  "cells": [
    {
      "cell_type": "markdown",
      "metadata": {
        "id": "view-in-github",
        "colab_type": "text"
      },
      "source": [
        "<a href=\"https://colab.research.google.com/github/javiercaicedotobon/MinTIC/blob/main/Semana4/Sklearn.ipynb\" target=\"_parent\"><img src=\"https://colab.research.google.com/assets/colab-badge.svg\" alt=\"Open In Colab\"/></a>"
      ]
    },
    {
      "cell_type": "markdown",
      "metadata": {
        "id": "aHGB97_8wvec"
      },
      "source": [
        "**Ejecuta esta linea de código para descargar los datos necesarios para correr el notebook**"
      ]
    },
    {
      "cell_type": "code",
      "execution_count": null,
      "metadata": {
        "colab": {
          "base_uri": "https://localhost:8080/"
        },
        "id": "zWK7IY9Nww1U",
        "outputId": "63bd71e4-b5e8-4994-a821-b4893dfe20ea"
      },
      "outputs": [
        {
          "name": "stdout",
          "output_type": "stream",
          "text": [
            "--2022-03-17 22:02:15--  https://raw.githubusercontent.com/cosmolejo/dataRepo/master/train.csv\n",
            "Resolving raw.githubusercontent.com (raw.githubusercontent.com)... 185.199.108.133, 185.199.109.133, 185.199.110.133, ...\n",
            "Connecting to raw.githubusercontent.com (raw.githubusercontent.com)|185.199.108.133|:443... connected.\n",
            "HTTP request sent, awaiting response... 200 OK\n",
            "Length: 61194 (60K) [text/plain]\n",
            "Saving to: ‘train.csv’\n",
            "\n",
            "train.csv           100%[===================>]  59.76K  --.-KB/s    in 0.004s  \n",
            "\n",
            "2022-03-17 22:02:15 (15.6 MB/s) - ‘train.csv’ saved [61194/61194]\n",
            "\n",
            "--2022-03-17 22:02:15--  https://raw.githubusercontent.com/cosmolejo/dataRepo/master/test.csv\n",
            "Resolving raw.githubusercontent.com (raw.githubusercontent.com)... 185.199.109.133, 185.199.108.133, 185.199.110.133, ...\n",
            "Connecting to raw.githubusercontent.com (raw.githubusercontent.com)|185.199.109.133|:443... connected.\n",
            "HTTP request sent, awaiting response... 200 OK\n",
            "Length: 28629 (28K) [text/plain]\n",
            "Saving to: ‘test.csv’\n",
            "\n",
            "test.csv            100%[===================>]  27.96K  --.-KB/s    in 0s      \n",
            "\n",
            "2022-03-17 22:02:15 (72.0 MB/s) - ‘test.csv’ saved [28629/28629]\n",
            "\n"
          ]
        }
      ],
      "source": [
        "!wget https://raw.githubusercontent.com/cosmolejo/dataRepo/master/train.csv\n",
        "!wget https://raw.githubusercontent.com/cosmolejo/dataRepo/master/test.csv"
      ]
    },
    {
      "cell_type": "markdown",
      "metadata": {
        "id": "H5yXdb-nw61b"
      },
      "source": [
        "#Introducción a Sklearn\n",
        "\n",
        "Este [notebook](https://www.kaggle.com/ialimustufa/titanic-beginner-s-guide-with-sklearn/data#) fue tomado de la plataforma [kagle](https://www.kaggle.com/#) una comunidad en línea de científicos de datos y profesionales del aprendizaje automático. En ella encontrarán distintos tutoriales, bancos de datos y competencias remuneradas en ciencias de datos.\n",
        "\n",
        "Creditos a ***ALI MUSTUFA SHAIKH***"
      ]
    },
    {
      "cell_type": "markdown",
      "metadata": {
        "_uuid": "08c5693b1c47e47bb5ddd0979f3865b9b0de95c9",
        "id": "mh0hRLWxwsoB"
      },
      "source": [
        "# Machine Learning to Predict Titanic Survivors \n",
        "Hi, I'm a current undergraduate student interested in the Data Science and Machine Learning field. In this Kernel, I will try to step by step build a ML model using sklearn to predict the outcomes of each passenger aboard the titanic. This guide is meant for people starting with data visualization, analysis and Machine Learning. If that sounds like you, then you're in the right place! It is not as difficult as you think to understand.\n",
        "\n",
        "*Please upvote and share if this helps you!! Also, feel free to fork this kernel to play around with the code and test it for yourself. If you plan to use any part of this code, please reference this kernel!* I will be glad to answer any questions you may have in the comments. Thank You! \n"
      ]
    },
    {
      "cell_type": "markdown",
      "metadata": {
        "_uuid": "e5f4bfc42ab2cc96dc924cd12ea144e2ee1d76dd",
        "id": "BE_nwoaJwsoH"
      },
      "source": [
        "## Update\n",
        "Thank you all so much for the support and reading this kernel! I am very inspired to keep learning and I hope you are too. I am in the progress of making more kernels for more competitions as well as ones for data visualization and statistics. Please stay tuned for those, as I will be publishing them very soon! Again, thank you so much and please feel free to contact me or ask any questions! "
      ]
    },
    {
      "cell_type": "markdown",
      "metadata": {
        "_uuid": "7e51a8d8c11aeb90bb74e1519b537203318a6ca8",
        "id": "ML39C4HlwsoI"
      },
      "source": [
        "# Contents\n",
        "1. [Importing Libraries and Packages](#p1)\n",
        "2. [Loading and Viewing Data Set](#p2)\n",
        "3. [Dealing with NaN Values (Imputation)](#p3)\n",
        "4. [Plotting and Visualizing Data](#p4)\n",
        "5. [Feature Engineering](#p5)\n",
        "6. [Modeling and Predicting with sklearn](#p6)\n",
        "7. [Evaluating Model Performances](#p7)\n",
        "8. [Tuning Parameters with GridSearchCV](#p8)\n",
        "9. [Submission](#p9)"
      ]
    },
    {
      "cell_type": "markdown",
      "metadata": {
        "_uuid": "b5a9e650ed4ee4bcb942881e39476de033684e8f",
        "id": "dL0CZZviwsoJ"
      },
      "source": [
        "<a id=\"p1\"></a>\n",
        "# 1. Importing Libraries and Packages\n",
        "We will use these packages to help us manipulate the data and visualize the features/labels as well as measure how well our model performed. Numpy and Pandas are helpful for manipulating the dataframe and its columns and cells. We will use matplotlib along with Seaborn to visualize our data."
      ]
    },
    {
      "cell_type": "code",
      "execution_count": null,
      "metadata": {
        "_cell_guid": "b1076dfc-b9ad-4769-8c92-a6c4dae69d19",
        "_uuid": "8f2839f25d086af736a60e9eeb907d3b93b6e0e5",
        "id": "2CGPqTBtwsoJ"
      },
      "outputs": [],
      "source": [
        "import numpy as np \n",
        "import pandas as pd \n",
        "\n",
        "import seaborn as sns\n",
        "from matplotlib import pyplot as plt\n",
        "%matplotlib inline\n",
        "sns.set_style(\"whitegrid\")\n",
        "\n",
        "import warnings\n",
        "warnings.filterwarnings(\"ignore\")"
      ]
    },
    {
      "cell_type": "markdown",
      "metadata": {
        "_uuid": "9b574000bd7d01fc11bd1a2a129512c420ae9d60",
        "id": "aHskZ3JmwsoL"
      },
      "source": [
        "<a id=\"p2\"></a>\n",
        "# 2. Loading and Viewing Data Set\n",
        "With Pandas, we can load both the training and testing set that we wil later use to train and test our model. Before we begin, we should take a look at our data table to see the values that we'll be working with. We can use the head and describe function to look at some sample data and statistics. We can also look at its keys and column names."
      ]
    },
    {
      "cell_type": "code",
      "execution_count": null,
      "metadata": {
        "_cell_guid": "79c7e3d0-c299-4dcb-8224-4455121ee9b0",
        "_uuid": "d629ff2d2480ee46fbb7e2d37f6b5fab8052498a",
        "id": "fZVpEnprwsoL",
        "scrolled": true
      },
      "outputs": [],
      "source": [
        "training = pd.read_csv(\"train.csv\")\n",
        "testing = pd.read_csv(\"test.csv\")"
      ]
    },
    {
      "cell_type": "code",
      "execution_count": null,
      "metadata": {
        "_uuid": "17d595b96b41eecfaeb9185bca85c7b5abd8d2a1",
        "colab": {
          "base_uri": "https://localhost:8080/",
          "height": 206
        },
        "id": "dEpVNwIAwsoM",
        "outputId": "94a8ee7d-38c9-48e5-a95c-f69d0a0f3b02"
      },
      "outputs": [
        {
          "data": {
            "text/html": [
              "\n",
              "  <div id=\"df-ef2aa421-d80e-48d7-ba7a-b1e50949c288\">\n",
              "    <div class=\"colab-df-container\">\n",
              "      <div>\n",
              "<style scoped>\n",
              "    .dataframe tbody tr th:only-of-type {\n",
              "        vertical-align: middle;\n",
              "    }\n",
              "\n",
              "    .dataframe tbody tr th {\n",
              "        vertical-align: top;\n",
              "    }\n",
              "\n",
              "    .dataframe thead th {\n",
              "        text-align: right;\n",
              "    }\n",
              "</style>\n",
              "<table border=\"1\" class=\"dataframe\">\n",
              "  <thead>\n",
              "    <tr style=\"text-align: right;\">\n",
              "      <th></th>\n",
              "      <th>PassengerId</th>\n",
              "      <th>Survived</th>\n",
              "      <th>Pclass</th>\n",
              "      <th>Name</th>\n",
              "      <th>Sex</th>\n",
              "      <th>Age</th>\n",
              "      <th>SibSp</th>\n",
              "      <th>Parch</th>\n",
              "      <th>Ticket</th>\n",
              "      <th>Fare</th>\n",
              "      <th>Cabin</th>\n",
              "      <th>Embarked</th>\n",
              "    </tr>\n",
              "  </thead>\n",
              "  <tbody>\n",
              "    <tr>\n",
              "      <th>0</th>\n",
              "      <td>1</td>\n",
              "      <td>0</td>\n",
              "      <td>3</td>\n",
              "      <td>Braund, Mr. Owen Harris</td>\n",
              "      <td>male</td>\n",
              "      <td>22.0</td>\n",
              "      <td>1</td>\n",
              "      <td>0</td>\n",
              "      <td>A/5 21171</td>\n",
              "      <td>7.2500</td>\n",
              "      <td>NaN</td>\n",
              "      <td>S</td>\n",
              "    </tr>\n",
              "    <tr>\n",
              "      <th>1</th>\n",
              "      <td>2</td>\n",
              "      <td>1</td>\n",
              "      <td>1</td>\n",
              "      <td>Cumings, Mrs. John Bradley (Florence Briggs Th...</td>\n",
              "      <td>female</td>\n",
              "      <td>38.0</td>\n",
              "      <td>1</td>\n",
              "      <td>0</td>\n",
              "      <td>PC 17599</td>\n",
              "      <td>71.2833</td>\n",
              "      <td>C85</td>\n",
              "      <td>C</td>\n",
              "    </tr>\n",
              "    <tr>\n",
              "      <th>2</th>\n",
              "      <td>3</td>\n",
              "      <td>1</td>\n",
              "      <td>3</td>\n",
              "      <td>Heikkinen, Miss. Laina</td>\n",
              "      <td>female</td>\n",
              "      <td>26.0</td>\n",
              "      <td>0</td>\n",
              "      <td>0</td>\n",
              "      <td>STON/O2. 3101282</td>\n",
              "      <td>7.9250</td>\n",
              "      <td>NaN</td>\n",
              "      <td>S</td>\n",
              "    </tr>\n",
              "    <tr>\n",
              "      <th>3</th>\n",
              "      <td>4</td>\n",
              "      <td>1</td>\n",
              "      <td>1</td>\n",
              "      <td>Futrelle, Mrs. Jacques Heath (Lily May Peel)</td>\n",
              "      <td>female</td>\n",
              "      <td>35.0</td>\n",
              "      <td>1</td>\n",
              "      <td>0</td>\n",
              "      <td>113803</td>\n",
              "      <td>53.1000</td>\n",
              "      <td>C123</td>\n",
              "      <td>S</td>\n",
              "    </tr>\n",
              "    <tr>\n",
              "      <th>4</th>\n",
              "      <td>5</td>\n",
              "      <td>0</td>\n",
              "      <td>3</td>\n",
              "      <td>Allen, Mr. William Henry</td>\n",
              "      <td>male</td>\n",
              "      <td>35.0</td>\n",
              "      <td>0</td>\n",
              "      <td>0</td>\n",
              "      <td>373450</td>\n",
              "      <td>8.0500</td>\n",
              "      <td>NaN</td>\n",
              "      <td>S</td>\n",
              "    </tr>\n",
              "  </tbody>\n",
              "</table>\n",
              "</div>\n",
              "      <button class=\"colab-df-convert\" onclick=\"convertToInteractive('df-ef2aa421-d80e-48d7-ba7a-b1e50949c288')\"\n",
              "              title=\"Convert this dataframe to an interactive table.\"\n",
              "              style=\"display:none;\">\n",
              "        \n",
              "  <svg xmlns=\"http://www.w3.org/2000/svg\" height=\"24px\"viewBox=\"0 0 24 24\"\n",
              "       width=\"24px\">\n",
              "    <path d=\"M0 0h24v24H0V0z\" fill=\"none\"/>\n",
              "    <path d=\"M18.56 5.44l.94 2.06.94-2.06 2.06-.94-2.06-.94-.94-2.06-.94 2.06-2.06.94zm-11 1L8.5 8.5l.94-2.06 2.06-.94-2.06-.94L8.5 2.5l-.94 2.06-2.06.94zm10 10l.94 2.06.94-2.06 2.06-.94-2.06-.94-.94-2.06-.94 2.06-2.06.94z\"/><path d=\"M17.41 7.96l-1.37-1.37c-.4-.4-.92-.59-1.43-.59-.52 0-1.04.2-1.43.59L10.3 9.45l-7.72 7.72c-.78.78-.78 2.05 0 2.83L4 21.41c.39.39.9.59 1.41.59.51 0 1.02-.2 1.41-.59l7.78-7.78 2.81-2.81c.8-.78.8-2.07 0-2.86zM5.41 20L4 18.59l7.72-7.72 1.47 1.35L5.41 20z\"/>\n",
              "  </svg>\n",
              "      </button>\n",
              "      \n",
              "  <style>\n",
              "    .colab-df-container {\n",
              "      display:flex;\n",
              "      flex-wrap:wrap;\n",
              "      gap: 12px;\n",
              "    }\n",
              "\n",
              "    .colab-df-convert {\n",
              "      background-color: #E8F0FE;\n",
              "      border: none;\n",
              "      border-radius: 50%;\n",
              "      cursor: pointer;\n",
              "      display: none;\n",
              "      fill: #1967D2;\n",
              "      height: 32px;\n",
              "      padding: 0 0 0 0;\n",
              "      width: 32px;\n",
              "    }\n",
              "\n",
              "    .colab-df-convert:hover {\n",
              "      background-color: #E2EBFA;\n",
              "      box-shadow: 0px 1px 2px rgba(60, 64, 67, 0.3), 0px 1px 3px 1px rgba(60, 64, 67, 0.15);\n",
              "      fill: #174EA6;\n",
              "    }\n",
              "\n",
              "    [theme=dark] .colab-df-convert {\n",
              "      background-color: #3B4455;\n",
              "      fill: #D2E3FC;\n",
              "    }\n",
              "\n",
              "    [theme=dark] .colab-df-convert:hover {\n",
              "      background-color: #434B5C;\n",
              "      box-shadow: 0px 1px 3px 1px rgba(0, 0, 0, 0.15);\n",
              "      filter: drop-shadow(0px 1px 2px rgba(0, 0, 0, 0.3));\n",
              "      fill: #FFFFFF;\n",
              "    }\n",
              "  </style>\n",
              "\n",
              "      <script>\n",
              "        const buttonEl =\n",
              "          document.querySelector('#df-ef2aa421-d80e-48d7-ba7a-b1e50949c288 button.colab-df-convert');\n",
              "        buttonEl.style.display =\n",
              "          google.colab.kernel.accessAllowed ? 'block' : 'none';\n",
              "\n",
              "        async function convertToInteractive(key) {\n",
              "          const element = document.querySelector('#df-ef2aa421-d80e-48d7-ba7a-b1e50949c288');\n",
              "          const dataTable =\n",
              "            await google.colab.kernel.invokeFunction('convertToInteractive',\n",
              "                                                     [key], {});\n",
              "          if (!dataTable) return;\n",
              "\n",
              "          const docLinkHtml = 'Like what you see? Visit the ' +\n",
              "            '<a target=\"_blank\" href=https://colab.research.google.com/notebooks/data_table.ipynb>data table notebook</a>'\n",
              "            + ' to learn more about interactive tables.';\n",
              "          element.innerHTML = '';\n",
              "          dataTable['output_type'] = 'display_data';\n",
              "          await google.colab.output.renderOutput(dataTable, element);\n",
              "          const docLink = document.createElement('div');\n",
              "          docLink.innerHTML = docLinkHtml;\n",
              "          element.appendChild(docLink);\n",
              "        }\n",
              "      </script>\n",
              "    </div>\n",
              "  </div>\n",
              "  "
            ],
            "text/plain": [
              "   PassengerId  Survived  Pclass  \\\n",
              "0            1         0       3   \n",
              "1            2         1       1   \n",
              "2            3         1       3   \n",
              "3            4         1       1   \n",
              "4            5         0       3   \n",
              "\n",
              "                                                Name     Sex   Age  SibSp  \\\n",
              "0                            Braund, Mr. Owen Harris    male  22.0      1   \n",
              "1  Cumings, Mrs. John Bradley (Florence Briggs Th...  female  38.0      1   \n",
              "2                             Heikkinen, Miss. Laina  female  26.0      0   \n",
              "3       Futrelle, Mrs. Jacques Heath (Lily May Peel)  female  35.0      1   \n",
              "4                           Allen, Mr. William Henry    male  35.0      0   \n",
              "\n",
              "   Parch            Ticket     Fare Cabin Embarked  \n",
              "0      0         A/5 21171   7.2500   NaN        S  \n",
              "1      0          PC 17599  71.2833   C85        C  \n",
              "2      0  STON/O2. 3101282   7.9250   NaN        S  \n",
              "3      0            113803  53.1000  C123        S  \n",
              "4      0            373450   8.0500   NaN        S  "
            ]
          },
          "execution_count": 89,
          "metadata": {},
          "output_type": "execute_result"
        }
      ],
      "source": [
        "training.head()"
      ]
    },
    {
      "cell_type": "code",
      "execution_count": null,
      "metadata": {
        "_uuid": "ea5cc5601d9989c520b8269f0d3434fd4b7c4128",
        "colab": {
          "base_uri": "https://localhost:8080/",
          "height": 300
        },
        "id": "p4w6s4LZwsoO",
        "outputId": "d7a23653-3bb8-492f-f88d-7d064b545c01"
      },
      "outputs": [
        {
          "data": {
            "text/html": [
              "\n",
              "  <div id=\"df-7b5cb5a2-cf53-4acb-82b2-d15299e81330\">\n",
              "    <div class=\"colab-df-container\">\n",
              "      <div>\n",
              "<style scoped>\n",
              "    .dataframe tbody tr th:only-of-type {\n",
              "        vertical-align: middle;\n",
              "    }\n",
              "\n",
              "    .dataframe tbody tr th {\n",
              "        vertical-align: top;\n",
              "    }\n",
              "\n",
              "    .dataframe thead th {\n",
              "        text-align: right;\n",
              "    }\n",
              "</style>\n",
              "<table border=\"1\" class=\"dataframe\">\n",
              "  <thead>\n",
              "    <tr style=\"text-align: right;\">\n",
              "      <th></th>\n",
              "      <th>PassengerId</th>\n",
              "      <th>Survived</th>\n",
              "      <th>Pclass</th>\n",
              "      <th>Age</th>\n",
              "      <th>SibSp</th>\n",
              "      <th>Parch</th>\n",
              "      <th>Fare</th>\n",
              "    </tr>\n",
              "  </thead>\n",
              "  <tbody>\n",
              "    <tr>\n",
              "      <th>count</th>\n",
              "      <td>891.000000</td>\n",
              "      <td>891.000000</td>\n",
              "      <td>891.000000</td>\n",
              "      <td>714.000000</td>\n",
              "      <td>891.000000</td>\n",
              "      <td>891.000000</td>\n",
              "      <td>891.000000</td>\n",
              "    </tr>\n",
              "    <tr>\n",
              "      <th>mean</th>\n",
              "      <td>446.000000</td>\n",
              "      <td>0.383838</td>\n",
              "      <td>2.308642</td>\n",
              "      <td>29.699118</td>\n",
              "      <td>0.523008</td>\n",
              "      <td>0.381594</td>\n",
              "      <td>32.204208</td>\n",
              "    </tr>\n",
              "    <tr>\n",
              "      <th>std</th>\n",
              "      <td>257.353842</td>\n",
              "      <td>0.486592</td>\n",
              "      <td>0.836071</td>\n",
              "      <td>14.526497</td>\n",
              "      <td>1.102743</td>\n",
              "      <td>0.806057</td>\n",
              "      <td>49.693429</td>\n",
              "    </tr>\n",
              "    <tr>\n",
              "      <th>min</th>\n",
              "      <td>1.000000</td>\n",
              "      <td>0.000000</td>\n",
              "      <td>1.000000</td>\n",
              "      <td>0.420000</td>\n",
              "      <td>0.000000</td>\n",
              "      <td>0.000000</td>\n",
              "      <td>0.000000</td>\n",
              "    </tr>\n",
              "    <tr>\n",
              "      <th>25%</th>\n",
              "      <td>223.500000</td>\n",
              "      <td>0.000000</td>\n",
              "      <td>2.000000</td>\n",
              "      <td>20.125000</td>\n",
              "      <td>0.000000</td>\n",
              "      <td>0.000000</td>\n",
              "      <td>7.910400</td>\n",
              "    </tr>\n",
              "    <tr>\n",
              "      <th>50%</th>\n",
              "      <td>446.000000</td>\n",
              "      <td>0.000000</td>\n",
              "      <td>3.000000</td>\n",
              "      <td>28.000000</td>\n",
              "      <td>0.000000</td>\n",
              "      <td>0.000000</td>\n",
              "      <td>14.454200</td>\n",
              "    </tr>\n",
              "    <tr>\n",
              "      <th>75%</th>\n",
              "      <td>668.500000</td>\n",
              "      <td>1.000000</td>\n",
              "      <td>3.000000</td>\n",
              "      <td>38.000000</td>\n",
              "      <td>1.000000</td>\n",
              "      <td>0.000000</td>\n",
              "      <td>31.000000</td>\n",
              "    </tr>\n",
              "    <tr>\n",
              "      <th>max</th>\n",
              "      <td>891.000000</td>\n",
              "      <td>1.000000</td>\n",
              "      <td>3.000000</td>\n",
              "      <td>80.000000</td>\n",
              "      <td>8.000000</td>\n",
              "      <td>6.000000</td>\n",
              "      <td>512.329200</td>\n",
              "    </tr>\n",
              "  </tbody>\n",
              "</table>\n",
              "</div>\n",
              "      <button class=\"colab-df-convert\" onclick=\"convertToInteractive('df-7b5cb5a2-cf53-4acb-82b2-d15299e81330')\"\n",
              "              title=\"Convert this dataframe to an interactive table.\"\n",
              "              style=\"display:none;\">\n",
              "        \n",
              "  <svg xmlns=\"http://www.w3.org/2000/svg\" height=\"24px\"viewBox=\"0 0 24 24\"\n",
              "       width=\"24px\">\n",
              "    <path d=\"M0 0h24v24H0V0z\" fill=\"none\"/>\n",
              "    <path d=\"M18.56 5.44l.94 2.06.94-2.06 2.06-.94-2.06-.94-.94-2.06-.94 2.06-2.06.94zm-11 1L8.5 8.5l.94-2.06 2.06-.94-2.06-.94L8.5 2.5l-.94 2.06-2.06.94zm10 10l.94 2.06.94-2.06 2.06-.94-2.06-.94-.94-2.06-.94 2.06-2.06.94z\"/><path d=\"M17.41 7.96l-1.37-1.37c-.4-.4-.92-.59-1.43-.59-.52 0-1.04.2-1.43.59L10.3 9.45l-7.72 7.72c-.78.78-.78 2.05 0 2.83L4 21.41c.39.39.9.59 1.41.59.51 0 1.02-.2 1.41-.59l7.78-7.78 2.81-2.81c.8-.78.8-2.07 0-2.86zM5.41 20L4 18.59l7.72-7.72 1.47 1.35L5.41 20z\"/>\n",
              "  </svg>\n",
              "      </button>\n",
              "      \n",
              "  <style>\n",
              "    .colab-df-container {\n",
              "      display:flex;\n",
              "      flex-wrap:wrap;\n",
              "      gap: 12px;\n",
              "    }\n",
              "\n",
              "    .colab-df-convert {\n",
              "      background-color: #E8F0FE;\n",
              "      border: none;\n",
              "      border-radius: 50%;\n",
              "      cursor: pointer;\n",
              "      display: none;\n",
              "      fill: #1967D2;\n",
              "      height: 32px;\n",
              "      padding: 0 0 0 0;\n",
              "      width: 32px;\n",
              "    }\n",
              "\n",
              "    .colab-df-convert:hover {\n",
              "      background-color: #E2EBFA;\n",
              "      box-shadow: 0px 1px 2px rgba(60, 64, 67, 0.3), 0px 1px 3px 1px rgba(60, 64, 67, 0.15);\n",
              "      fill: #174EA6;\n",
              "    }\n",
              "\n",
              "    [theme=dark] .colab-df-convert {\n",
              "      background-color: #3B4455;\n",
              "      fill: #D2E3FC;\n",
              "    }\n",
              "\n",
              "    [theme=dark] .colab-df-convert:hover {\n",
              "      background-color: #434B5C;\n",
              "      box-shadow: 0px 1px 3px 1px rgba(0, 0, 0, 0.15);\n",
              "      filter: drop-shadow(0px 1px 2px rgba(0, 0, 0, 0.3));\n",
              "      fill: #FFFFFF;\n",
              "    }\n",
              "  </style>\n",
              "\n",
              "      <script>\n",
              "        const buttonEl =\n",
              "          document.querySelector('#df-7b5cb5a2-cf53-4acb-82b2-d15299e81330 button.colab-df-convert');\n",
              "        buttonEl.style.display =\n",
              "          google.colab.kernel.accessAllowed ? 'block' : 'none';\n",
              "\n",
              "        async function convertToInteractive(key) {\n",
              "          const element = document.querySelector('#df-7b5cb5a2-cf53-4acb-82b2-d15299e81330');\n",
              "          const dataTable =\n",
              "            await google.colab.kernel.invokeFunction('convertToInteractive',\n",
              "                                                     [key], {});\n",
              "          if (!dataTable) return;\n",
              "\n",
              "          const docLinkHtml = 'Like what you see? Visit the ' +\n",
              "            '<a target=\"_blank\" href=https://colab.research.google.com/notebooks/data_table.ipynb>data table notebook</a>'\n",
              "            + ' to learn more about interactive tables.';\n",
              "          element.innerHTML = '';\n",
              "          dataTable['output_type'] = 'display_data';\n",
              "          await google.colab.output.renderOutput(dataTable, element);\n",
              "          const docLink = document.createElement('div');\n",
              "          docLink.innerHTML = docLinkHtml;\n",
              "          element.appendChild(docLink);\n",
              "        }\n",
              "      </script>\n",
              "    </div>\n",
              "  </div>\n",
              "  "
            ],
            "text/plain": [
              "       PassengerId    Survived      Pclass         Age       SibSp  \\\n",
              "count   891.000000  891.000000  891.000000  714.000000  891.000000   \n",
              "mean    446.000000    0.383838    2.308642   29.699118    0.523008   \n",
              "std     257.353842    0.486592    0.836071   14.526497    1.102743   \n",
              "min       1.000000    0.000000    1.000000    0.420000    0.000000   \n",
              "25%     223.500000    0.000000    2.000000   20.125000    0.000000   \n",
              "50%     446.000000    0.000000    3.000000   28.000000    0.000000   \n",
              "75%     668.500000    1.000000    3.000000   38.000000    1.000000   \n",
              "max     891.000000    1.000000    3.000000   80.000000    8.000000   \n",
              "\n",
              "            Parch        Fare  \n",
              "count  891.000000  891.000000  \n",
              "mean     0.381594   32.204208  \n",
              "std      0.806057   49.693429  \n",
              "min      0.000000    0.000000  \n",
              "25%      0.000000    7.910400  \n",
              "50%      0.000000   14.454200  \n",
              "75%      0.000000   31.000000  \n",
              "max      6.000000  512.329200  "
            ]
          },
          "execution_count": 90,
          "metadata": {},
          "output_type": "execute_result"
        }
      ],
      "source": [
        "training.describe()"
      ]
    },
    {
      "cell_type": "code",
      "execution_count": null,
      "metadata": {
        "_uuid": "3d25ce4c089559faf5ab3b78667e6201a62e57da",
        "colab": {
          "base_uri": "https://localhost:8080/"
        },
        "id": "p4D_wLX6wsoP",
        "outputId": "9960d7a0-7251-4b51-e4f8-dcc4f4656fa4"
      },
      "outputs": [
        {
          "name": "stdout",
          "output_type": "stream",
          "text": [
            "Index(['PassengerId', 'Survived', 'Pclass', 'Name', 'Sex', 'Age', 'SibSp',\n",
            "       'Parch', 'Ticket', 'Fare', 'Cabin', 'Embarked'],\n",
            "      dtype='object')\n",
            "Index(['PassengerId', 'Pclass', 'Name', 'Sex', 'Age', 'SibSp', 'Parch',\n",
            "       'Ticket', 'Fare', 'Cabin', 'Embarked'],\n",
            "      dtype='object')\n"
          ]
        }
      ],
      "source": [
        "print(training.keys())\n",
        "print(testing.keys())"
      ]
    },
    {
      "cell_type": "markdown",
      "metadata": {
        "_uuid": "e6d7efeb33bee9b004b0a309c21feb9c90bde389",
        "id": "pPqsnrIUwsoP"
      },
      "source": [
        "<a id=\"p3\"></a>\n",
        "# 3. Dealing with NaN Values (Imputation)\n",
        "There are NaN values in our data set in the age column. Furthermore, the Cabin column has too many missing values and isn't useful to be used in predicting survival. We can just drop the column as well as the NaN values which will get in the way of training our model. We also need to fill in the NaN values with replacement values in order for the model to have a complete prediction for every row in the data set. This process is known as **imputation** and we will show how to replace the missing data."
      ]
    },
    {
      "cell_type": "code",
      "execution_count": null,
      "metadata": {
        "_uuid": "fc61dad51cca67aafca7447fb02b58d8bbb2a226",
        "colab": {
          "base_uri": "https://localhost:8080/"
        },
        "id": "6cOGTZdNwsoQ",
        "outputId": "f5d5e609-cf6d-414e-fbd3-8d95575516ad",
        "scrolled": true
      },
      "outputs": [
        {
          "name": "stdout",
          "output_type": "stream",
          "text": [
            "Training Data Frame\n",
            "PassengerId      0\n",
            "Survived         0\n",
            "Pclass           0\n",
            "Name             0\n",
            "Sex              0\n",
            "Age            177\n",
            "SibSp            0\n",
            "Parch            0\n",
            "Ticket           0\n",
            "Fare             0\n",
            "Cabin          687\n",
            "Embarked         2\n",
            "dtype: int64\n",
            " \n",
            "Testing Data Frame\n",
            "PassengerId      0\n",
            "Pclass           0\n",
            "Name             0\n",
            "Sex              0\n",
            "Age             86\n",
            "SibSp            0\n",
            "Parch            0\n",
            "Ticket           0\n",
            "Fare             1\n",
            "Cabin          327\n",
            "Embarked         0\n",
            "dtype: int64\n"
          ]
        }
      ],
      "source": [
        "def null_table(training, testing):\n",
        "    print(\"Training Data Frame\")\n",
        "    print(pd.isnull(training).sum()) \n",
        "    print(\" \")\n",
        "    print(\"Testing Data Frame\")\n",
        "    print(pd.isnull(testing).sum())\n",
        "\n",
        "null_table(training, testing)"
      ]
    },
    {
      "cell_type": "code",
      "execution_count": null,
      "metadata": {
        "_uuid": "4dfb986a769ce38cb258a3e8f0fc2b4c9490612f",
        "colab": {
          "base_uri": "https://localhost:8080/"
        },
        "id": "js2hN6S0wsoQ",
        "outputId": "7a779eca-2cd0-49e5-c25e-e038bf58523e"
      },
      "outputs": [
        {
          "name": "stdout",
          "output_type": "stream",
          "text": [
            "Training Data Frame\n",
            "PassengerId      0\n",
            "Survived         0\n",
            "Pclass           0\n",
            "Name             0\n",
            "Sex              0\n",
            "Age            177\n",
            "SibSp            0\n",
            "Parch            0\n",
            "Fare             0\n",
            "Embarked         2\n",
            "dtype: int64\n",
            " \n",
            "Testing Data Frame\n",
            "PassengerId     0\n",
            "Pclass          0\n",
            "Name            0\n",
            "Sex             0\n",
            "Age            86\n",
            "SibSp           0\n",
            "Parch           0\n",
            "Fare            1\n",
            "Embarked        0\n",
            "dtype: int64\n"
          ]
        }
      ],
      "source": [
        "training.drop(labels = [\"Cabin\", \"Ticket\"], axis = 1, inplace = True)\n",
        "testing.drop(labels = [\"Cabin\", \"Ticket\"], axis = 1, inplace = True)\n",
        "\n",
        "null_table(training, testing)"
      ]
    },
    {
      "cell_type": "markdown",
      "metadata": {
        "_uuid": "b8cd1cb47f574b46b2058f2e3635d034ce9a57e5",
        "id": "tzH6MFXKwsoR"
      },
      "source": [
        "We take a look at the distribution of the Age column to see if it's skewed or symmetrical. This will help us determine what value to replace the NaN values."
      ]
    },
    {
      "cell_type": "code",
      "execution_count": null,
      "metadata": {
        "_uuid": "b791d174a23371a6a9748906771189bf45051ff2",
        "colab": {
          "base_uri": "https://localhost:8080/",
          "height": 296
        },
        "id": "XHQq_Q7awsoS",
        "outputId": "e2613d18-6174-4ace-c4c7-34500d36b0d5"
      },
      "outputs": [
        {
          "data": {
            "text/plain": [
              "<matplotlib.axes._subplots.AxesSubplot at 0x7f1717b3c1d0>"
            ]
          },
          "execution_count": 94,
          "metadata": {},
          "output_type": "execute_result"
        },
        {
          "data": {
            "image/png": "[encoded data removed]",
            "text/plain": [
              "<Figure size 432x288 with 1 Axes>"
            ]
          },
          "metadata": {},
          "output_type": "display_data"
        }
      ],
      "source": [
        "copy = training.copy()\n",
        "copy.dropna(inplace = True)\n",
        "sns.distplot(copy[\"Age\"])"
      ]
    },
    {
      "cell_type": "markdown",
      "metadata": {
        "_uuid": "c04adcb431b42cb574ee0741fdb86925b83863ff",
        "id": "21xsiiAbwsoS"
      },
      "source": [
        "* Looks like the distribution of ages is slightly skewed right. Because of this, we can fill in the null values with the median for the most accuracy."
      ]
    },
    {
      "cell_type": "code",
      "execution_count": null,
      "metadata": {
        "_uuid": "dfa607948743e80892fdf82a000c7a96873d38ce",
        "colab": {
          "base_uri": "https://localhost:8080/"
        },
        "id": "DsjHby5cwsoS",
        "outputId": "d34d7b17-e2ac-48af-af28-bd87c90373ea"
      },
      "outputs": [
        {
          "name": "stdout",
          "output_type": "stream",
          "text": [
            "Training Data Frame\n",
            "PassengerId    0\n",
            "Survived       0\n",
            "Pclass         0\n",
            "Name           0\n",
            "Sex            0\n",
            "Age            0\n",
            "SibSp          0\n",
            "Parch          0\n",
            "Fare           0\n",
            "Embarked       0\n",
            "dtype: int64\n",
            " \n",
            "Testing Data Frame\n",
            "PassengerId    0\n",
            "Pclass         0\n",
            "Name           0\n",
            "Sex            0\n",
            "Age            0\n",
            "SibSp          0\n",
            "Parch          0\n",
            "Fare           0\n",
            "Embarked       0\n",
            "dtype: int64\n"
          ]
        }
      ],
      "source": [
        "#the median will be an acceptable value to place in the NaN cells\n",
        "training[\"Age\"].fillna(training[\"Age\"].median(), inplace = True)\n",
        "testing[\"Age\"].fillna(testing[\"Age\"].median(), inplace = True) \n",
        "training[\"Embarked\"].fillna(\"S\", inplace = True)\n",
        "testing[\"Fare\"].fillna(testing[\"Fare\"].median(), inplace = True)\n",
        "\n",
        "null_table(training, testing)\n"
      ]
    },
    {
      "cell_type": "markdown",
      "metadata": {
        "_uuid": "8ae1ecf061805ccaf6663b50bf4c21252f4195a4",
        "id": "PdbaU8QZwsoT"
      },
      "source": [
        "<a id=\"p4\"></a>\n",
        "# 4. Plotting and Visualizing Data\n",
        "It is very important to understand and visualize any data we are going to use in a machine learning model. By visualizing, we can see the trends and general associations of variables like Sex and Age with survival rate. We can make several different graphs for each feature we want to work with to see the entropy and information gain of the feature. "
      ]
    },
    {
      "cell_type": "markdown",
      "metadata": {
        "_uuid": "14ac153fd1d8992bed821c28532da3dd99a3ce2d",
        "id": "RwMq5JgQwsoT"
      },
      "source": [
        "**Gender**"
      ]
    },
    {
      "cell_type": "code",
      "execution_count": null,
      "metadata": {
        "_uuid": "a313f660ca8133f5c625814a6c599f5c527a9b22",
        "colab": {
          "base_uri": "https://localhost:8080/",
          "height": 382
        },
        "id": "JjTaAX_RwsoT",
        "outputId": "c1b3402a-4da3-4169-abe0-ff9131b2e85d"
      },
      "outputs": [
        {
          "data": {
            "image/png": "[encoded data removed]",
            "text/plain": [
              "<Figure size 432x288 with 1 Axes>"
            ]
          },
          "metadata": {},
          "output_type": "display_data"
        },
        {
          "name": "stdout",
          "output_type": "stream",
          "text": [
            "Total people survived is: 342\n",
            "Proportion of Females who survived:\n",
            "0.6812865497076024\n",
            "Proportion of Males who survived:\n",
            "0.31871345029239767\n"
          ]
        }
      ],
      "source": [
        "#can ignore the testing set for now\n",
        "sns.barplot(x=\"Sex\", y=\"Survived\", data=training)\n",
        "plt.title(\"Distribution of Survival based on Gender\")\n",
        "plt.show()\n",
        "\n",
        "total_survived_females = training[training.Sex == \"female\"][\"Survived\"].sum()\n",
        "total_survived_males = training[training.Sex == \"male\"][\"Survived\"].sum()\n",
        "\n",
        "print(\"Total people survived is: \" + str((total_survived_females + total_survived_males)))\n",
        "print(\"Proportion of Females who survived:\") \n",
        "print(total_survived_females/(total_survived_females + total_survived_males))\n",
        "print(\"Proportion of Males who survived:\")\n",
        "print(total_survived_males/(total_survived_females + total_survived_males))"
      ]
    },
    {
      "cell_type": "markdown",
      "metadata": {
        "_uuid": "e924d85d07f0da76ad085c5ca8f26172a80ad987",
        "id": "DCe-ZgaqwsoU"
      },
      "source": [
        "> Note that the numbers printed above are the proportion of male/female survivors of all the surviviors ONLY. The graph shows the propotion of male/females out of ALL the passengers including those that didn't survive."
      ]
    },
    {
      "cell_type": "markdown",
      "metadata": {
        "_uuid": "69f48dadbaa468414c542c74af8bfe98a68ec20d",
        "id": "l8_d5-_1wsoU"
      },
      "source": [
        "Gender appears to be a very good feature to use to predict survival, as shown by the large difference in propotion survived. Let's take a look at how class plays a role in survival as well."
      ]
    },
    {
      "cell_type": "markdown",
      "metadata": {
        "_uuid": "8479cb62de593c2945b112b645a527be7aa776f3",
        "id": "wEGLw2FAwsoU"
      },
      "source": [
        "**Class**"
      ]
    },
    {
      "cell_type": "code",
      "execution_count": null,
      "metadata": {
        "_uuid": "d55d78e57c418f2ea9f57c6ae649dc9f044ef553",
        "colab": {
          "base_uri": "https://localhost:8080/",
          "height": 417
        },
        "id": "CJQwoxojwsoV",
        "outputId": "b6e3a782-7f1d-43b4-9057-1c24c52b63c2"
      },
      "outputs": [
        {
          "data": {
            "image/png": "[encoded data removed]",
            "text/plain": [
              "<Figure size 432x288 with 1 Axes>"
            ]
          },
          "metadata": {},
          "output_type": "display_data"
        },
        {
          "name": "stdout",
          "output_type": "stream",
          "text": [
            "Total people survived is: 342\n",
            "Proportion of Class 1 Passengers who survived:\n",
            "0.39766081871345027\n",
            "Proportion of Class 2 Passengers who survived:\n",
            "0.2543859649122807\n",
            "Proportion of Class 3 Passengers who survived:\n",
            "0.347953216374269\n"
          ]
        }
      ],
      "source": [
        "sns.barplot(x=\"Pclass\", y=\"Survived\", data=training)\n",
        "plt.ylabel(\"Survival Rate\")\n",
        "plt.title(\"Distribution of Survival Based on Class\")\n",
        "plt.show()\n",
        "\n",
        "total_survived_one = training[training.Pclass == 1][\"Survived\"].sum()\n",
        "total_survived_two = training[training.Pclass == 2][\"Survived\"].sum()\n",
        "total_survived_three = training[training.Pclass == 3][\"Survived\"].sum()\n",
        "total_survived_class = total_survived_one + total_survived_two + total_survived_three\n",
        "\n",
        "print(\"Total people survived is: \" + str(total_survived_class))\n",
        "print(\"Proportion of Class 1 Passengers who survived:\") \n",
        "print(total_survived_one/total_survived_class)\n",
        "print(\"Proportion of Class 2 Passengers who survived:\")\n",
        "print(total_survived_two/total_survived_class)\n",
        "print(\"Proportion of Class 3 Passengers who survived:\")\n",
        "print(total_survived_three/total_survived_class)"
      ]
    },
    {
      "cell_type": "code",
      "execution_count": null,
      "metadata": {
        "_uuid": "205515b33d6dd0962cab4fb825caa45c77e5ec12",
        "colab": {
          "base_uri": "https://localhost:8080/",
          "height": 312
        },
        "id": "pYHmiMoSwsoV",
        "outputId": "e42dccc2-94ea-4312-87d5-9be99bb0e9c8"
      },
      "outputs": [
        {
          "data": {
            "text/plain": [
              "Text(0.5, 1.0, 'Survival Rates Based on Gender and Class')"
            ]
          },
          "execution_count": 98,
          "metadata": {},
          "output_type": "execute_result"
        },
        {
          "data": {
            "image/png": "[encoded data removed]",
            "text/plain": [
              "<Figure size 432x288 with 1 Axes>"
            ]
          },
          "metadata": {},
          "output_type": "display_data"
        }
      ],
      "source": [
        "sns.barplot(x=\"Pclass\", y=\"Survived\", hue=\"Sex\", data=training)\n",
        "plt.ylabel(\"Survival Rate\")\n",
        "plt.title(\"Survival Rates Based on Gender and Class\")\n",
        "#help(sns.barplot)"
      ]
    },
    {
      "cell_type": "code",
      "execution_count": null,
      "metadata": {
        "_uuid": "ac54f705c3fc462445cad2de978d7077646f933a",
        "colab": {
          "base_uri": "https://localhost:8080/",
          "height": 312
        },
        "id": "dH4uFBkAwsoV",
        "outputId": "655feb4e-0aa8-4875-ca9e-d91f1c0dc3fc"
      },
      "outputs": [
        {
          "data": {
            "text/plain": [
              "Text(0.5, 1.0, 'Survival Rates Based on Gender and Class')"
            ]
          },
          "execution_count": 99,
          "metadata": {},
          "output_type": "execute_result"
        },
        {
          "data": {
            "image/png": "[encoded data removed]",
            "text/plain": [
              "<Figure size 432x288 with 1 Axes>"
            ]
          },
          "metadata": {},
          "output_type": "display_data"
        }
      ],
      "source": [
        "sns.barplot(x=\"Sex\", y=\"Survived\", hue=\"Pclass\", data=training)\n",
        "plt.ylabel(\"Survival Rate\")\n",
        "plt.title(\"Survival Rates Based on Gender and Class\")"
      ]
    },
    {
      "cell_type": "markdown",
      "metadata": {
        "_uuid": "13dde8426cb8a654e6f50cb1855e4369c362ea68",
        "id": "nfMRgthcwsoW"
      },
      "source": [
        "It appears that class also plays a role in survival, as shown by the bar graph. People in Pclass 1 were more likely to survive than people in the other 2 Pclasses."
      ]
    },
    {
      "cell_type": "markdown",
      "metadata": {
        "_uuid": "ad10453d5d42100bfb65be57900ff1554508a95c",
        "id": "oV0IUAnRwsoW"
      },
      "source": [
        "**Age**"
      ]
    },
    {
      "cell_type": "code",
      "execution_count": null,
      "metadata": {
        "_uuid": "323af5a70d2033f9fa1b5cc8286a675869ba302e",
        "colab": {
          "base_uri": "https://localhost:8080/",
          "height": 295
        },
        "id": "vXDnMPGDwsoW",
        "outputId": "07a6389d-82ed-4704-b456-369207365bb0"
      },
      "outputs": [
        {
          "data": {
            "image/png": "[encoded data removed]",
            "text/plain": [
              "<Figure size 432x288 with 2 Axes>"
            ]
          },
          "metadata": {},
          "output_type": "display_data"
        }
      ],
      "source": [
        "survived_ages = training[training.Survived == 1][\"Age\"]\n",
        "not_survived_ages = training[training.Survived == 0][\"Age\"]\n",
        "plt.subplot(1, 2, 1)\n",
        "sns.distplot(survived_ages, kde=False)\n",
        "plt.axis([0, 100, 0, 100])\n",
        "plt.title(\"Survived\")\n",
        "plt.ylabel(\"Proportion\")\n",
        "plt.subplot(1, 2, 2)\n",
        "sns.distplot(not_survived_ages, kde=False)\n",
        "plt.axis([0, 100, 0, 100])\n",
        "plt.title(\"Didn't Survive\")\n",
        "plt.show()"
      ]
    },
    {
      "cell_type": "code",
      "execution_count": null,
      "metadata": {
        "_uuid": "46374be19c92dbeb146493226b47701820a1bc7f",
        "colab": {
          "base_uri": "https://localhost:8080/",
          "height": 296
        },
        "id": "ld05CaXdwsoW",
        "outputId": "428eec31-0856-43e8-c49e-715bded1ecad"
      },
      "outputs": [
        {
          "data": {
            "text/plain": [
              "<matplotlib.axes._subplots.AxesSubplot at 0x7f171789a3d0>"
            ]
          },
          "execution_count": 101,
          "metadata": {},
          "output_type": "execute_result"
        },
        {
          "data": {
            "image/png": "[encoded data removed]",
            "text/plain": [
              "<Figure size 432x288 with 1 Axes>"
            ]
          },
          "metadata": {},
          "output_type": "display_data"
        }
      ],
      "source": [
        "sns.stripplot(x=\"Survived\", y=\"Age\", data=training, jitter=True)"
      ]
    },
    {
      "cell_type": "markdown",
      "metadata": {
        "_uuid": "56bcea2157a75ed314388f1804aa2271cc631f25",
        "id": "PfQM_jmvwsoW"
      },
      "source": [
        "It appears as though passengers in the younger range of ages were more likely to survive than those in the older range of ages, as seen by the clustering in the strip plot, as well as the survival distributions of the histogram."
      ]
    },
    {
      "cell_type": "markdown",
      "metadata": {
        "_uuid": "5a208dd95d6b8546f25d02a55822fb84800e3772",
        "id": "xIYYyDVQwsoX"
      },
      "source": [
        "<a id=\"p5\"></a>\n",
        "# 5. Feature Engineering\n",
        "Because values in the Sex and Embarked columns are categorical values, we have to represent these strings as numerical values in order to perform our classification with our model. We can also do this process through **One-Hot-Encoding**."
      ]
    },
    {
      "cell_type": "code",
      "execution_count": null,
      "metadata": {
        "_uuid": "bbf26333a83e030e896203276d0d361ec021ac35",
        "colab": {
          "base_uri": "https://localhost:8080/",
          "height": 206
        },
        "id": "pVUe3RdJwsoY",
        "outputId": "188ae080-4c22-469e-d0a3-4c4d83290765"
      },
      "outputs": [
        {
          "data": {
            "text/html": [
              "\n",
              "  <div id=\"df-51ddd3ef-521b-4f3f-892a-bf2d62bba0bb\">\n",
              "    <div class=\"colab-df-container\">\n",
              "      <div>\n",
              "<style scoped>\n",
              "    .dataframe tbody tr th:only-of-type {\n",
              "        vertical-align: middle;\n",
              "    }\n",
              "\n",
              "    .dataframe tbody tr th {\n",
              "        vertical-align: top;\n",
              "    }\n",
              "\n",
              "    .dataframe thead th {\n",
              "        text-align: right;\n",
              "    }\n",
              "</style>\n",
              "<table border=\"1\" class=\"dataframe\">\n",
              "  <thead>\n",
              "    <tr style=\"text-align: right;\">\n",
              "      <th></th>\n",
              "      <th>PassengerId</th>\n",
              "      <th>Survived</th>\n",
              "      <th>Pclass</th>\n",
              "      <th>Name</th>\n",
              "      <th>Sex</th>\n",
              "      <th>Age</th>\n",
              "      <th>SibSp</th>\n",
              "      <th>Parch</th>\n",
              "      <th>Fare</th>\n",
              "      <th>Embarked</th>\n",
              "    </tr>\n",
              "  </thead>\n",
              "  <tbody>\n",
              "    <tr>\n",
              "      <th>743</th>\n",
              "      <td>744</td>\n",
              "      <td>0</td>\n",
              "      <td>3</td>\n",
              "      <td>McNamee, Mr. Neal</td>\n",
              "      <td>male</td>\n",
              "      <td>24.0</td>\n",
              "      <td>1</td>\n",
              "      <td>0</td>\n",
              "      <td>16.1000</td>\n",
              "      <td>S</td>\n",
              "    </tr>\n",
              "    <tr>\n",
              "      <th>174</th>\n",
              "      <td>175</td>\n",
              "      <td>0</td>\n",
              "      <td>1</td>\n",
              "      <td>Smith, Mr. James Clinch</td>\n",
              "      <td>male</td>\n",
              "      <td>56.0</td>\n",
              "      <td>0</td>\n",
              "      <td>0</td>\n",
              "      <td>30.6958</td>\n",
              "      <td>C</td>\n",
              "    </tr>\n",
              "    <tr>\n",
              "      <th>186</th>\n",
              "      <td>187</td>\n",
              "      <td>1</td>\n",
              "      <td>3</td>\n",
              "      <td>O'Brien, Mrs. Thomas (Johanna \"Hannah\" Godfrey)</td>\n",
              "      <td>female</td>\n",
              "      <td>28.0</td>\n",
              "      <td>1</td>\n",
              "      <td>0</td>\n",
              "      <td>15.5000</td>\n",
              "      <td>Q</td>\n",
              "    </tr>\n",
              "    <tr>\n",
              "      <th>371</th>\n",
              "      <td>372</td>\n",
              "      <td>0</td>\n",
              "      <td>3</td>\n",
              "      <td>Wiklund, Mr. Jakob Alfred</td>\n",
              "      <td>male</td>\n",
              "      <td>18.0</td>\n",
              "      <td>1</td>\n",
              "      <td>0</td>\n",
              "      <td>6.4958</td>\n",
              "      <td>S</td>\n",
              "    </tr>\n",
              "    <tr>\n",
              "      <th>327</th>\n",
              "      <td>328</td>\n",
              "      <td>1</td>\n",
              "      <td>2</td>\n",
              "      <td>Ball, Mrs. (Ada E Hall)</td>\n",
              "      <td>female</td>\n",
              "      <td>36.0</td>\n",
              "      <td>0</td>\n",
              "      <td>0</td>\n",
              "      <td>13.0000</td>\n",
              "      <td>S</td>\n",
              "    </tr>\n",
              "  </tbody>\n",
              "</table>\n",
              "</div>\n",
              "      <button class=\"colab-df-convert\" onclick=\"convertToInteractive('df-51ddd3ef-521b-4f3f-892a-bf2d62bba0bb')\"\n",
              "              title=\"Convert this dataframe to an interactive table.\"\n",
              "              style=\"display:none;\">\n",
              "        \n",
              "  <svg xmlns=\"http://www.w3.org/2000/svg\" height=\"24px\"viewBox=\"0 0 24 24\"\n",
              "       width=\"24px\">\n",
              "    <path d=\"M0 0h24v24H0V0z\" fill=\"none\"/>\n",
              "    <path d=\"M18.56 5.44l.94 2.06.94-2.06 2.06-.94-2.06-.94-.94-2.06-.94 2.06-2.06.94zm-11 1L8.5 8.5l.94-2.06 2.06-.94-2.06-.94L8.5 2.5l-.94 2.06-2.06.94zm10 10l.94 2.06.94-2.06 2.06-.94-2.06-.94-.94-2.06-.94 2.06-2.06.94z\"/><path d=\"M17.41 7.96l-1.37-1.37c-.4-.4-.92-.59-1.43-.59-.52 0-1.04.2-1.43.59L10.3 9.45l-7.72 7.72c-.78.78-.78 2.05 0 2.83L4 21.41c.39.39.9.59 1.41.59.51 0 1.02-.2 1.41-.59l7.78-7.78 2.81-2.81c.8-.78.8-2.07 0-2.86zM5.41 20L4 18.59l7.72-7.72 1.47 1.35L5.41 20z\"/>\n",
              "  </svg>\n",
              "      </button>\n",
              "      \n",
              "  <style>\n",
              "    .colab-df-container {\n",
              "      display:flex;\n",
              "      flex-wrap:wrap;\n",
              "      gap: 12px;\n",
              "    }\n",
              "\n",
              "    .colab-df-convert {\n",
              "      background-color: #E8F0FE;\n",
              "      border: none;\n",
              "      border-radius: 50%;\n",
              "      cursor: pointer;\n",
              "      display: none;\n",
              "      fill: #1967D2;\n",
              "      height: 32px;\n",
              "      padding: 0 0 0 0;\n",
              "      width: 32px;\n",
              "    }\n",
              "\n",
              "    .colab-df-convert:hover {\n",
              "      background-color: #E2EBFA;\n",
              "      box-shadow: 0px 1px 2px rgba(60, 64, 67, 0.3), 0px 1px 3px 1px rgba(60, 64, 67, 0.15);\n",
              "      fill: #174EA6;\n",
              "    }\n",
              "\n",
              "    [theme=dark] .colab-df-convert {\n",
              "      background-color: #3B4455;\n",
              "      fill: #D2E3FC;\n",
              "    }\n",
              "\n",
              "    [theme=dark] .colab-df-convert:hover {\n",
              "      background-color: #434B5C;\n",
              "      box-shadow: 0px 1px 3px 1px rgba(0, 0, 0, 0.15);\n",
              "      filter: drop-shadow(0px 1px 2px rgba(0, 0, 0, 0.3));\n",
              "      fill: #FFFFFF;\n",
              "    }\n",
              "  </style>\n",
              "\n",
              "      <script>\n",
              "        const buttonEl =\n",
              "          document.querySelector('#df-51ddd3ef-521b-4f3f-892a-bf2d62bba0bb button.colab-df-convert');\n",
              "        buttonEl.style.display =\n",
              "          google.colab.kernel.accessAllowed ? 'block' : 'none';\n",
              "\n",
              "        async function convertToInteractive(key) {\n",
              "          const element = document.querySelector('#df-51ddd3ef-521b-4f3f-892a-bf2d62bba0bb');\n",
              "          const dataTable =\n",
              "            await google.colab.kernel.invokeFunction('convertToInteractive',\n",
              "                                                     [key], {});\n",
              "          if (!dataTable) return;\n",
              "\n",
              "          const docLinkHtml = 'Like what you see? Visit the ' +\n",
              "            '<a target=\"_blank\" href=https://colab.research.google.com/notebooks/data_table.ipynb>data table notebook</a>'\n",
              "            + ' to learn more about interactive tables.';\n",
              "          element.innerHTML = '';\n",
              "          dataTable['output_type'] = 'display_data';\n",
              "          await google.colab.output.renderOutput(dataTable, element);\n",
              "          const docLink = document.createElement('div');\n",
              "          docLink.innerHTML = docLinkHtml;\n",
              "          element.appendChild(docLink);\n",
              "        }\n",
              "      </script>\n",
              "    </div>\n",
              "  </div>\n",
              "  "
            ],
            "text/plain": [
              "     PassengerId  Survived  Pclass  \\\n",
              "743          744         0       3   \n",
              "174          175         0       1   \n",
              "186          187         1       3   \n",
              "371          372         0       3   \n",
              "327          328         1       2   \n",
              "\n",
              "                                                Name     Sex   Age  SibSp  \\\n",
              "743                                McNamee, Mr. Neal    male  24.0      1   \n",
              "174                          Smith, Mr. James Clinch    male  56.0      0   \n",
              "186  O'Brien, Mrs. Thomas (Johanna \"Hannah\" Godfrey)  female  28.0      1   \n",
              "371                        Wiklund, Mr. Jakob Alfred    male  18.0      1   \n",
              "327                          Ball, Mrs. (Ada E Hall)  female  36.0      0   \n",
              "\n",
              "     Parch     Fare Embarked  \n",
              "743      0  16.1000        S  \n",
              "174      0  30.6958        C  \n",
              "186      0  15.5000        Q  \n",
              "371      0   6.4958        S  \n",
              "327      0  13.0000        S  "
            ]
          },
          "execution_count": 102,
          "metadata": {},
          "output_type": "execute_result"
        }
      ],
      "source": [
        "training.sample(5)"
      ]
    },
    {
      "cell_type": "code",
      "execution_count": null,
      "metadata": {
        "_uuid": "66934ee8a0f64f0faa2afce91d9e28a4a1b56864",
        "colab": {
          "base_uri": "https://localhost:8080/",
          "height": 206
        },
        "id": "FFgD5vNpwsoY",
        "outputId": "f09de2f2-3086-4f52-e92f-081ac4d44403"
      },
      "outputs": [
        {
          "data": {
            "text/html": [
              "\n",
              "  <div id=\"df-dcc89926-ed21-4dae-9474-5a1d34fc24c7\">\n",
              "    <div class=\"colab-df-container\">\n",
              "      <div>\n",
              "<style scoped>\n",
              "    .dataframe tbody tr th:only-of-type {\n",
              "        vertical-align: middle;\n",
              "    }\n",
              "\n",
              "    .dataframe tbody tr th {\n",
              "        vertical-align: top;\n",
              "    }\n",
              "\n",
              "    .dataframe thead th {\n",
              "        text-align: right;\n",
              "    }\n",
              "</style>\n",
              "<table border=\"1\" class=\"dataframe\">\n",
              "  <thead>\n",
              "    <tr style=\"text-align: right;\">\n",
              "      <th></th>\n",
              "      <th>PassengerId</th>\n",
              "      <th>Pclass</th>\n",
              "      <th>Name</th>\n",
              "      <th>Sex</th>\n",
              "      <th>Age</th>\n",
              "      <th>SibSp</th>\n",
              "      <th>Parch</th>\n",
              "      <th>Fare</th>\n",
              "      <th>Embarked</th>\n",
              "    </tr>\n",
              "  </thead>\n",
              "  <tbody>\n",
              "    <tr>\n",
              "      <th>295</th>\n",
              "      <td>1187</td>\n",
              "      <td>3</td>\n",
              "      <td>Angheloff, Mr. Minko</td>\n",
              "      <td>male</td>\n",
              "      <td>26.0</td>\n",
              "      <td>0</td>\n",
              "      <td>0</td>\n",
              "      <td>7.8958</td>\n",
              "      <td>S</td>\n",
              "    </tr>\n",
              "    <tr>\n",
              "      <th>347</th>\n",
              "      <td>1239</td>\n",
              "      <td>3</td>\n",
              "      <td>Whabee, Mrs. George Joseph (Shawneene Abi-Saab)</td>\n",
              "      <td>female</td>\n",
              "      <td>38.0</td>\n",
              "      <td>0</td>\n",
              "      <td>0</td>\n",
              "      <td>7.2292</td>\n",
              "      <td>C</td>\n",
              "    </tr>\n",
              "    <tr>\n",
              "      <th>227</th>\n",
              "      <td>1119</td>\n",
              "      <td>3</td>\n",
              "      <td>McNeill, Miss. Bridget</td>\n",
              "      <td>female</td>\n",
              "      <td>27.0</td>\n",
              "      <td>0</td>\n",
              "      <td>0</td>\n",
              "      <td>7.7500</td>\n",
              "      <td>Q</td>\n",
              "    </tr>\n",
              "    <tr>\n",
              "      <th>173</th>\n",
              "      <td>1065</td>\n",
              "      <td>3</td>\n",
              "      <td>Torfa, Mr. Assad</td>\n",
              "      <td>male</td>\n",
              "      <td>27.0</td>\n",
              "      <td>0</td>\n",
              "      <td>0</td>\n",
              "      <td>7.2292</td>\n",
              "      <td>C</td>\n",
              "    </tr>\n",
              "    <tr>\n",
              "      <th>99</th>\n",
              "      <td>991</td>\n",
              "      <td>3</td>\n",
              "      <td>Nancarrow, Mr. William Henry</td>\n",
              "      <td>male</td>\n",
              "      <td>33.0</td>\n",
              "      <td>0</td>\n",
              "      <td>0</td>\n",
              "      <td>8.0500</td>\n",
              "      <td>S</td>\n",
              "    </tr>\n",
              "  </tbody>\n",
              "</table>\n",
              "</div>\n",
              "      <button class=\"colab-df-convert\" onclick=\"convertToInteractive('df-dcc89926-ed21-4dae-9474-5a1d34fc24c7')\"\n",
              "              title=\"Convert this dataframe to an interactive table.\"\n",
              "              style=\"display:none;\">\n",
              "        \n",
              "  <svg xmlns=\"http://www.w3.org/2000/svg\" height=\"24px\"viewBox=\"0 0 24 24\"\n",
              "       width=\"24px\">\n",
              "    <path d=\"M0 0h24v24H0V0z\" fill=\"none\"/>\n",
              "    <path d=\"M18.56 5.44l.94 2.06.94-2.06 2.06-.94-2.06-.94-.94-2.06-.94 2.06-2.06.94zm-11 1L8.5 8.5l.94-2.06 2.06-.94-2.06-.94L8.5 2.5l-.94 2.06-2.06.94zm10 10l.94 2.06.94-2.06 2.06-.94-2.06-.94-.94-2.06-.94 2.06-2.06.94z\"/><path d=\"M17.41 7.96l-1.37-1.37c-.4-.4-.92-.59-1.43-.59-.52 0-1.04.2-1.43.59L10.3 9.45l-7.72 7.72c-.78.78-.78 2.05 0 2.83L4 21.41c.39.39.9.59 1.41.59.51 0 1.02-.2 1.41-.59l7.78-7.78 2.81-2.81c.8-.78.8-2.07 0-2.86zM5.41 20L4 18.59l7.72-7.72 1.47 1.35L5.41 20z\"/>\n",
              "  </svg>\n",
              "      </button>\n",
              "      \n",
              "  <style>\n",
              "    .colab-df-container {\n",
              "      display:flex;\n",
              "      flex-wrap:wrap;\n",
              "      gap: 12px;\n",
              "    }\n",
              "\n",
              "    .colab-df-convert {\n",
              "      background-color: #E8F0FE;\n",
              "      border: none;\n",
              "      border-radius: 50%;\n",
              "      cursor: pointer;\n",
              "      display: none;\n",
              "      fill: #1967D2;\n",
              "      height: 32px;\n",
              "      padding: 0 0 0 0;\n",
              "      width: 32px;\n",
              "    }\n",
              "\n",
              "    .colab-df-convert:hover {\n",
              "      background-color: #E2EBFA;\n",
              "      box-shadow: 0px 1px 2px rgba(60, 64, 67, 0.3), 0px 1px 3px 1px rgba(60, 64, 67, 0.15);\n",
              "      fill: #174EA6;\n",
              "    }\n",
              "\n",
              "    [theme=dark] .colab-df-convert {\n",
              "      background-color: #3B4455;\n",
              "      fill: #D2E3FC;\n",
              "    }\n",
              "\n",
              "    [theme=dark] .colab-df-convert:hover {\n",
              "      background-color: #434B5C;\n",
              "      box-shadow: 0px 1px 3px 1px rgba(0, 0, 0, 0.15);\n",
              "      filter: drop-shadow(0px 1px 2px rgba(0, 0, 0, 0.3));\n",
              "      fill: #FFFFFF;\n",
              "    }\n",
              "  </style>\n",
              "\n",
              "      <script>\n",
              "        const buttonEl =\n",
              "          document.querySelector('#df-dcc89926-ed21-4dae-9474-5a1d34fc24c7 button.colab-df-convert');\n",
              "        buttonEl.style.display =\n",
              "          google.colab.kernel.accessAllowed ? 'block' : 'none';\n",
              "\n",
              "        async function convertToInteractive(key) {\n",
              "          const element = document.querySelector('#df-dcc89926-ed21-4dae-9474-5a1d34fc24c7');\n",
              "          const dataTable =\n",
              "            await google.colab.kernel.invokeFunction('convertToInteractive',\n",
              "                                                     [key], {});\n",
              "          if (!dataTable) return;\n",
              "\n",
              "          const docLinkHtml = 'Like what you see? Visit the ' +\n",
              "            '<a target=\"_blank\" href=https://colab.research.google.com/notebooks/data_table.ipynb>data table notebook</a>'\n",
              "            + ' to learn more about interactive tables.';\n",
              "          element.innerHTML = '';\n",
              "          dataTable['output_type'] = 'display_data';\n",
              "          await google.colab.output.renderOutput(dataTable, element);\n",
              "          const docLink = document.createElement('div');\n",
              "          docLink.innerHTML = docLinkHtml;\n",
              "          element.appendChild(docLink);\n",
              "        }\n",
              "      </script>\n",
              "    </div>\n",
              "  </div>\n",
              "  "
            ],
            "text/plain": [
              "     PassengerId  Pclass                                             Name  \\\n",
              "295         1187       3                             Angheloff, Mr. Minko   \n",
              "347         1239       3  Whabee, Mrs. George Joseph (Shawneene Abi-Saab)   \n",
              "227         1119       3                           McNeill, Miss. Bridget   \n",
              "173         1065       3                                 Torfa, Mr. Assad   \n",
              "99           991       3                     Nancarrow, Mr. William Henry   \n",
              "\n",
              "        Sex   Age  SibSp  Parch    Fare Embarked  \n",
              "295    male  26.0      0      0  7.8958        S  \n",
              "347  female  38.0      0      0  7.2292        C  \n",
              "227  female  27.0      0      0  7.7500        Q  \n",
              "173    male  27.0      0      0  7.2292        C  \n",
              "99     male  33.0      0      0  8.0500        S  "
            ]
          },
          "execution_count": 103,
          "metadata": {},
          "output_type": "execute_result"
        }
      ],
      "source": [
        "testing.sample(5)"
      ]
    },
    {
      "cell_type": "markdown",
      "metadata": {
        "_uuid": "adbfc2d35676144cea7a3a80775229d51030990d",
        "id": "c9BYzBjRwsoY"
      },
      "source": [
        "We change Sex to binary, as either 1 for female or 0 for male. We do the same for Embarked. We do this same process on both the training and testing set to prepare our data for Machine Learning."
      ]
    },
    {
      "cell_type": "code",
      "execution_count": null,
      "metadata": {
        "_uuid": "18893231d1a1ec187e76095762e9f278d91e0714",
        "id": "jkIXXrPhwsoZ"
      },
      "outputs": [],
      "source": [
        "training.loc[training[\"Sex\"] == \"male\", \"Sex\"] = 0\n",
        "training.loc[training[\"Sex\"] == \"female\", \"Sex\"] = 1\n",
        "\n",
        "training.loc[training[\"Embarked\"] == \"S\", \"Embarked\"] = 0\n",
        "training.loc[training[\"Embarked\"] == \"C\", \"Embarked\"] = 1\n",
        "training.loc[training[\"Embarked\"] == \"Q\", \"Embarked\"] = 2\n",
        "\n",
        "testing.loc[testing[\"Sex\"] == \"male\", \"Sex\"] = 0\n",
        "testing.loc[testing[\"Sex\"] == \"female\", \"Sex\"] = 1\n",
        "\n",
        "testing.loc[testing[\"Embarked\"] == \"S\", \"Embarked\"] = 0\n",
        "testing.loc[testing[\"Embarked\"] == \"C\", \"Embarked\"] = 1\n",
        "testing.loc[testing[\"Embarked\"] == \"Q\", \"Embarked\"] = 2"
      ]
    },
    {
      "cell_type": "code",
      "execution_count": null,
      "metadata": {
        "_uuid": "b857a8e6e2e9542d53c01e4699f8d101780d5fee",
        "colab": {
          "base_uri": "https://localhost:8080/",
          "height": 363
        },
        "id": "mMyZxPzbwsoZ",
        "outputId": "1e0d735b-03dd-42a3-d9fc-3b66fbac1ce9"
      },
      "outputs": [
        {
          "data": {
            "text/html": [
              "\n",
              "  <div id=\"df-49446a95-4642-4baf-a4a3-3cb586ed386d\">\n",
              "    <div class=\"colab-df-container\">\n",
              "      <div>\n",
              "<style scoped>\n",
              "    .dataframe tbody tr th:only-of-type {\n",
              "        vertical-align: middle;\n",
              "    }\n",
              "\n",
              "    .dataframe tbody tr th {\n",
              "        vertical-align: top;\n",
              "    }\n",
              "\n",
              "    .dataframe thead th {\n",
              "        text-align: right;\n",
              "    }\n",
              "</style>\n",
              "<table border=\"1\" class=\"dataframe\">\n",
              "  <thead>\n",
              "    <tr style=\"text-align: right;\">\n",
              "      <th></th>\n",
              "      <th>PassengerId</th>\n",
              "      <th>Pclass</th>\n",
              "      <th>Name</th>\n",
              "      <th>Sex</th>\n",
              "      <th>Age</th>\n",
              "      <th>SibSp</th>\n",
              "      <th>Parch</th>\n",
              "      <th>Fare</th>\n",
              "      <th>Embarked</th>\n",
              "    </tr>\n",
              "  </thead>\n",
              "  <tbody>\n",
              "    <tr>\n",
              "      <th>314</th>\n",
              "      <td>1206</td>\n",
              "      <td>1</td>\n",
              "      <td>White, Mrs. John Stuart (Ella Holmes)</td>\n",
              "      <td>1</td>\n",
              "      <td>55.0</td>\n",
              "      <td>0</td>\n",
              "      <td>0</td>\n",
              "      <td>135.6333</td>\n",
              "      <td>1</td>\n",
              "    </tr>\n",
              "    <tr>\n",
              "      <th>177</th>\n",
              "      <td>1069</td>\n",
              "      <td>1</td>\n",
              "      <td>Stengel, Mr. Charles Emil Henry</td>\n",
              "      <td>0</td>\n",
              "      <td>54.0</td>\n",
              "      <td>1</td>\n",
              "      <td>0</td>\n",
              "      <td>55.4417</td>\n",
              "      <td>1</td>\n",
              "    </tr>\n",
              "    <tr>\n",
              "      <th>243</th>\n",
              "      <td>1135</td>\n",
              "      <td>3</td>\n",
              "      <td>Hyman, Mr. Abraham</td>\n",
              "      <td>0</td>\n",
              "      <td>27.0</td>\n",
              "      <td>0</td>\n",
              "      <td>0</td>\n",
              "      <td>7.8875</td>\n",
              "      <td>0</td>\n",
              "    </tr>\n",
              "    <tr>\n",
              "      <th>34</th>\n",
              "      <td>926</td>\n",
              "      <td>1</td>\n",
              "      <td>Mock, Mr. Philipp Edmund</td>\n",
              "      <td>0</td>\n",
              "      <td>30.0</td>\n",
              "      <td>1</td>\n",
              "      <td>0</td>\n",
              "      <td>57.7500</td>\n",
              "      <td>1</td>\n",
              "    </tr>\n",
              "    <tr>\n",
              "      <th>70</th>\n",
              "      <td>962</td>\n",
              "      <td>3</td>\n",
              "      <td>Mulvihill, Miss. Bertha E</td>\n",
              "      <td>1</td>\n",
              "      <td>24.0</td>\n",
              "      <td>0</td>\n",
              "      <td>0</td>\n",
              "      <td>7.7500</td>\n",
              "      <td>2</td>\n",
              "    </tr>\n",
              "    <tr>\n",
              "      <th>131</th>\n",
              "      <td>1023</td>\n",
              "      <td>1</td>\n",
              "      <td>Gracie, Col. Archibald IV</td>\n",
              "      <td>0</td>\n",
              "      <td>53.0</td>\n",
              "      <td>0</td>\n",
              "      <td>0</td>\n",
              "      <td>28.5000</td>\n",
              "      <td>1</td>\n",
              "    </tr>\n",
              "    <tr>\n",
              "      <th>198</th>\n",
              "      <td>1090</td>\n",
              "      <td>2</td>\n",
              "      <td>Baimbrigge, Mr. Charles Robert</td>\n",
              "      <td>0</td>\n",
              "      <td>23.0</td>\n",
              "      <td>0</td>\n",
              "      <td>0</td>\n",
              "      <td>10.5000</td>\n",
              "      <td>0</td>\n",
              "    </tr>\n",
              "    <tr>\n",
              "      <th>353</th>\n",
              "      <td>1245</td>\n",
              "      <td>2</td>\n",
              "      <td>Herman, Mr. Samuel</td>\n",
              "      <td>0</td>\n",
              "      <td>49.0</td>\n",
              "      <td>1</td>\n",
              "      <td>2</td>\n",
              "      <td>65.0000</td>\n",
              "      <td>0</td>\n",
              "    </tr>\n",
              "    <tr>\n",
              "      <th>77</th>\n",
              "      <td>969</td>\n",
              "      <td>1</td>\n",
              "      <td>Cornell, Mrs. Robert Clifford (Malvina Helen L...</td>\n",
              "      <td>1</td>\n",
              "      <td>55.0</td>\n",
              "      <td>2</td>\n",
              "      <td>0</td>\n",
              "      <td>25.7000</td>\n",
              "      <td>0</td>\n",
              "    </tr>\n",
              "    <tr>\n",
              "      <th>320</th>\n",
              "      <td>1212</td>\n",
              "      <td>3</td>\n",
              "      <td>Andersson, Mr. Johan Samuel</td>\n",
              "      <td>0</td>\n",
              "      <td>26.0</td>\n",
              "      <td>0</td>\n",
              "      <td>0</td>\n",
              "      <td>7.7750</td>\n",
              "      <td>0</td>\n",
              "    </tr>\n",
              "  </tbody>\n",
              "</table>\n",
              "</div>\n",
              "      <button class=\"colab-df-convert\" onclick=\"convertToInteractive('df-49446a95-4642-4baf-a4a3-3cb586ed386d')\"\n",
              "              title=\"Convert this dataframe to an interactive table.\"\n",
              "              style=\"display:none;\">\n",
              "        \n",
              "  <svg xmlns=\"http://www.w3.org/2000/svg\" height=\"24px\"viewBox=\"0 0 24 24\"\n",
              "       width=\"24px\">\n",
              "    <path d=\"M0 0h24v24H0V0z\" fill=\"none\"/>\n",
              "    <path d=\"M18.56 5.44l.94 2.06.94-2.06 2.06-.94-2.06-.94-.94-2.06-.94 2.06-2.06.94zm-11 1L8.5 8.5l.94-2.06 2.06-.94-2.06-.94L8.5 2.5l-.94 2.06-2.06.94zm10 10l.94 2.06.94-2.06 2.06-.94-2.06-.94-.94-2.06-.94 2.06-2.06.94z\"/><path d=\"M17.41 7.96l-1.37-1.37c-.4-.4-.92-.59-1.43-.59-.52 0-1.04.2-1.43.59L10.3 9.45l-7.72 7.72c-.78.78-.78 2.05 0 2.83L4 21.41c.39.39.9.59 1.41.59.51 0 1.02-.2 1.41-.59l7.78-7.78 2.81-2.81c.8-.78.8-2.07 0-2.86zM5.41 20L4 18.59l7.72-7.72 1.47 1.35L5.41 20z\"/>\n",
              "  </svg>\n",
              "      </button>\n",
              "      \n",
              "  <style>\n",
              "    .colab-df-container {\n",
              "      display:flex;\n",
              "      flex-wrap:wrap;\n",
              "      gap: 12px;\n",
              "    }\n",
              "\n",
              "    .colab-df-convert {\n",
              "      background-color: #E8F0FE;\n",
              "      border: none;\n",
              "      border-radius: 50%;\n",
              "      cursor: pointer;\n",
              "      display: none;\n",
              "      fill: #1967D2;\n",
              "      height: 32px;\n",
              "      padding: 0 0 0 0;\n",
              "      width: 32px;\n",
              "    }\n",
              "\n",
              "    .colab-df-convert:hover {\n",
              "      background-color: #E2EBFA;\n",
              "      box-shadow: 0px 1px 2px rgba(60, 64, 67, 0.3), 0px 1px 3px 1px rgba(60, 64, 67, 0.15);\n",
              "      fill: #174EA6;\n",
              "    }\n",
              "\n",
              "    [theme=dark] .colab-df-convert {\n",
              "      background-color: #3B4455;\n",
              "      fill: #D2E3FC;\n",
              "    }\n",
              "\n",
              "    [theme=dark] .colab-df-convert:hover {\n",
              "      background-color: #434B5C;\n",
              "      box-shadow: 0px 1px 3px 1px rgba(0, 0, 0, 0.15);\n",
              "      filter: drop-shadow(0px 1px 2px rgba(0, 0, 0, 0.3));\n",
              "      fill: #FFFFFF;\n",
              "    }\n",
              "  </style>\n",
              "\n",
              "      <script>\n",
              "        const buttonEl =\n",
              "          document.querySelector('#df-49446a95-4642-4baf-a4a3-3cb586ed386d button.colab-df-convert');\n",
              "        buttonEl.style.display =\n",
              "          google.colab.kernel.accessAllowed ? 'block' : 'none';\n",
              "\n",
              "        async function convertToInteractive(key) {\n",
              "          const element = document.querySelector('#df-49446a95-4642-4baf-a4a3-3cb586ed386d');\n",
              "          const dataTable =\n",
              "            await google.colab.kernel.invokeFunction('convertToInteractive',\n",
              "                                                     [key], {});\n",
              "          if (!dataTable) return;\n",
              "\n",
              "          const docLinkHtml = 'Like what you see? Visit the ' +\n",
              "            '<a target=\"_blank\" href=https://colab.research.google.com/notebooks/data_table.ipynb>data table notebook</a>'\n",
              "            + ' to learn more about interactive tables.';\n",
              "          element.innerHTML = '';\n",
              "          dataTable['output_type'] = 'display_data';\n",
              "          await google.colab.output.renderOutput(dataTable, element);\n",
              "          const docLink = document.createElement('div');\n",
              "          docLink.innerHTML = docLinkHtml;\n",
              "          element.appendChild(docLink);\n",
              "        }\n",
              "      </script>\n",
              "    </div>\n",
              "  </div>\n",
              "  "
            ],
            "text/plain": [
              "     PassengerId  Pclass                                               Name  \\\n",
              "314         1206       1              White, Mrs. John Stuart (Ella Holmes)   \n",
              "177         1069       1                    Stengel, Mr. Charles Emil Henry   \n",
              "243         1135       3                                 Hyman, Mr. Abraham   \n",
              "34           926       1                           Mock, Mr. Philipp Edmund   \n",
              "70           962       3                          Mulvihill, Miss. Bertha E   \n",
              "131         1023       1                          Gracie, Col. Archibald IV   \n",
              "198         1090       2                     Baimbrigge, Mr. Charles Robert   \n",
              "353         1245       2                                 Herman, Mr. Samuel   \n",
              "77           969       1  Cornell, Mrs. Robert Clifford (Malvina Helen L...   \n",
              "320         1212       3                        Andersson, Mr. Johan Samuel   \n",
              "\n",
              "    Sex   Age  SibSp  Parch      Fare Embarked  \n",
              "314   1  55.0      0      0  135.6333        1  \n",
              "177   0  54.0      1      0   55.4417        1  \n",
              "243   0  27.0      0      0    7.8875        0  \n",
              "34    0  30.0      1      0   57.7500        1  \n",
              "70    1  24.0      0      0    7.7500        2  \n",
              "131   0  53.0      0      0   28.5000        1  \n",
              "198   0  23.0      0      0   10.5000        0  \n",
              "353   0  49.0      1      2   65.0000        0  \n",
              "77    1  55.0      2      0   25.7000        0  \n",
              "320   0  26.0      0      0    7.7750        0  "
            ]
          },
          "execution_count": 105,
          "metadata": {},
          "output_type": "execute_result"
        }
      ],
      "source": [
        "testing.sample(10)"
      ]
    },
    {
      "cell_type": "markdown",
      "metadata": {
        "_uuid": "49a1c9d969495eacc54b5e03086ee4e682f7c472",
        "id": "qgMBQSWTwsoZ"
      },
      "source": [
        "We can combine SibSp and Parch into one synthetic feature called family size, which indicates the total number of family members on board for each member. "
      ]
    },
    {
      "cell_type": "code",
      "execution_count": null,
      "metadata": {
        "_uuid": "889c1c9d5c7a42f56562f12dfe9fc76cd4949cd1",
        "id": "GXjFFkWAwsoZ"
      },
      "outputs": [],
      "source": [
        "training[\"FamSize\"] = training[\"SibSp\"] + training[\"Parch\"] + 1\n",
        "testing[\"FamSize\"] = testing[\"SibSp\"] + testing[\"Parch\"] + 1"
      ]
    },
    {
      "cell_type": "markdown",
      "metadata": {
        "_uuid": "f41eb8b24fa207451ef641776189afb16c811c5d",
        "id": "HR0OsIpBwsoZ"
      },
      "source": [
        "This IsAlone feature also may work well with the data we're dealing with, telling us whether the passenger was along or not on the ship."
      ]
    },
    {
      "cell_type": "code",
      "execution_count": null,
      "metadata": {
        "_uuid": "d42df43ea7691877bb3875d15ce2804962f1e70e",
        "id": "LLY1M8nmwsoa"
      },
      "outputs": [],
      "source": [
        "training[\"IsAlone\"] = training.FamSize.apply(lambda x: 1 if x == 1 else 0)\n",
        "testing[\"IsAlone\"] = testing.FamSize.apply(lambda x: 1 if x == 1 else 0)"
      ]
    },
    {
      "cell_type": "markdown",
      "metadata": {
        "_uuid": "e57b637bc0e7028f1373559b8b8485fb983fa456",
        "id": "qys3yOjzwsoa"
      },
      "source": [
        "Although it may not seem like it, we can also extract some useful information from the name column. Not the actual names themselves, but the title of their names like Ms. or Mr. This may also provide a hint as to whether the passenger survived or not. Therefore we can extract this title and then encode it like we did for Sex and Embarked."
      ]
    },
    {
      "cell_type": "code",
      "execution_count": null,
      "metadata": {
        "_uuid": "fb584d57bfc2e25e1e106aeb117c87ee9ffa3c75",
        "id": "tuFI0JIiwsoa"
      },
      "outputs": [],
      "source": [
        "for name in training[\"Name\"]:\n",
        "    training[\"Title\"] = training[\"Name\"].str.extract(\"([A-Za-z]+)\\.\",expand=True)\n",
        "    \n",
        "for name in testing[\"Name\"]:\n",
        "    testing[\"Title\"] = testing[\"Name\"].str.extract(\"([A-Za-z]+)\\.\",expand=True)\n",
        "    \n",
        "title_replacements = {\"Mlle\": \"Other\", \"Major\": \"Other\", \"Col\": \"Other\", \"Sir\": \"Other\", \"Don\": \"Other\", \"Mme\": \"Other\",\n",
        "          \"Jonkheer\": \"Other\", \"Lady\": \"Other\", \"Capt\": \"Other\", \"Countess\": \"Other\", \"Ms\": \"Other\", \"Dona\": \"Other\", \"Rev\": \"Other\", \"Dr\": \"Other\"}\n",
        "\n",
        "training.replace({\"Title\": title_replacements}, inplace=True)\n",
        "testing.replace({\"Title\": title_replacements}, inplace=True)\n",
        "\n",
        "training.loc[training[\"Title\"] == \"Miss\", \"Title\"] = 0\n",
        "training.loc[training[\"Title\"] == \"Mr\", \"Title\"] = 1\n",
        "training.loc[training[\"Title\"] == \"Mrs\", \"Title\"] = 2\n",
        "training.loc[training[\"Title\"] == \"Master\", \"Title\"] = 3\n",
        "training.loc[training[\"Title\"] == \"Other\", \"Title\"] = 4\n",
        "\n",
        "testing.loc[testing[\"Title\"] == \"Miss\", \"Title\"] = 0\n",
        "testing.loc[testing[\"Title\"] == \"Mr\", \"Title\"] = 1\n",
        "testing.loc[testing[\"Title\"] == \"Mrs\", \"Title\"] = 2\n",
        "testing.loc[testing[\"Title\"] == \"Master\", \"Title\"] = 3\n",
        "testing.loc[testing[\"Title\"] == \"Other\", \"Title\"] = 4"
      ]
    },
    {
      "cell_type": "code",
      "execution_count": null,
      "metadata": {
        "_uuid": "4c82b45238c0405bfa93f028af4f96d0c8b6f760",
        "colab": {
          "base_uri": "https://localhost:8080/"
        },
        "id": "Jqmn3T7iwsoa",
        "outputId": "d21b55a0-fac2-48ba-b38b-4bbaa69a2500",
        "scrolled": true
      },
      "outputs": [
        {
          "name": "stdout",
          "output_type": "stream",
          "text": [
            "{0, 1, 2, 3, 4}\n"
          ]
        }
      ],
      "source": [
        "print(set(training[\"Title\"]))"
      ]
    },
    {
      "cell_type": "code",
      "execution_count": null,
      "metadata": {
        "_uuid": "382e3a9d9a34fe26c3f0494ff5d3fd48df59038b",
        "colab": {
          "base_uri": "https://localhost:8080/",
          "height": 206
        },
        "id": "8k8PddSwwsoa",
        "outputId": "4886b537-ed95-4d93-d1ca-38e54e375526"
      },
      "outputs": [
        {
          "data": {
            "text/html": [
              "\n",
              "  <div id=\"df-36bb656b-b78f-41b1-9c36-3f4539527413\">\n",
              "    <div class=\"colab-df-container\">\n",
              "      <div>\n",
              "<style scoped>\n",
              "    .dataframe tbody tr th:only-of-type {\n",
              "        vertical-align: middle;\n",
              "    }\n",
              "\n",
              "    .dataframe tbody tr th {\n",
              "        vertical-align: top;\n",
              "    }\n",
              "\n",
              "    .dataframe thead th {\n",
              "        text-align: right;\n",
              "    }\n",
              "</style>\n",
              "<table border=\"1\" class=\"dataframe\">\n",
              "  <thead>\n",
              "    <tr style=\"text-align: right;\">\n",
              "      <th></th>\n",
              "      <th>PassengerId</th>\n",
              "      <th>Survived</th>\n",
              "      <th>Pclass</th>\n",
              "      <th>Name</th>\n",
              "      <th>Sex</th>\n",
              "      <th>Age</th>\n",
              "      <th>SibSp</th>\n",
              "      <th>Parch</th>\n",
              "      <th>Fare</th>\n",
              "      <th>Embarked</th>\n",
              "      <th>FamSize</th>\n",
              "      <th>IsAlone</th>\n",
              "      <th>Title</th>\n",
              "    </tr>\n",
              "  </thead>\n",
              "  <tbody>\n",
              "    <tr>\n",
              "      <th>466</th>\n",
              "      <td>467</td>\n",
              "      <td>0</td>\n",
              "      <td>2</td>\n",
              "      <td>Campbell, Mr. William</td>\n",
              "      <td>0</td>\n",
              "      <td>28.0</td>\n",
              "      <td>0</td>\n",
              "      <td>0</td>\n",
              "      <td>0.0000</td>\n",
              "      <td>0</td>\n",
              "      <td>1</td>\n",
              "      <td>1</td>\n",
              "      <td>1</td>\n",
              "    </tr>\n",
              "    <tr>\n",
              "      <th>0</th>\n",
              "      <td>1</td>\n",
              "      <td>0</td>\n",
              "      <td>3</td>\n",
              "      <td>Braund, Mr. Owen Harris</td>\n",
              "      <td>0</td>\n",
              "      <td>22.0</td>\n",
              "      <td>1</td>\n",
              "      <td>0</td>\n",
              "      <td>7.2500</td>\n",
              "      <td>0</td>\n",
              "      <td>2</td>\n",
              "      <td>0</td>\n",
              "      <td>1</td>\n",
              "    </tr>\n",
              "    <tr>\n",
              "      <th>76</th>\n",
              "      <td>77</td>\n",
              "      <td>0</td>\n",
              "      <td>3</td>\n",
              "      <td>Staneff, Mr. Ivan</td>\n",
              "      <td>0</td>\n",
              "      <td>28.0</td>\n",
              "      <td>0</td>\n",
              "      <td>0</td>\n",
              "      <td>7.8958</td>\n",
              "      <td>0</td>\n",
              "      <td>1</td>\n",
              "      <td>1</td>\n",
              "      <td>1</td>\n",
              "    </tr>\n",
              "    <tr>\n",
              "      <th>510</th>\n",
              "      <td>511</td>\n",
              "      <td>1</td>\n",
              "      <td>3</td>\n",
              "      <td>Daly, Mr. Eugene Patrick</td>\n",
              "      <td>0</td>\n",
              "      <td>29.0</td>\n",
              "      <td>0</td>\n",
              "      <td>0</td>\n",
              "      <td>7.7500</td>\n",
              "      <td>2</td>\n",
              "      <td>1</td>\n",
              "      <td>1</td>\n",
              "      <td>1</td>\n",
              "    </tr>\n",
              "    <tr>\n",
              "      <th>626</th>\n",
              "      <td>627</td>\n",
              "      <td>0</td>\n",
              "      <td>2</td>\n",
              "      <td>Kirkland, Rev. Charles Leonard</td>\n",
              "      <td>0</td>\n",
              "      <td>57.0</td>\n",
              "      <td>0</td>\n",
              "      <td>0</td>\n",
              "      <td>12.3500</td>\n",
              "      <td>2</td>\n",
              "      <td>1</td>\n",
              "      <td>1</td>\n",
              "      <td>4</td>\n",
              "    </tr>\n",
              "  </tbody>\n",
              "</table>\n",
              "</div>\n",
              "      <button class=\"colab-df-convert\" onclick=\"convertToInteractive('df-36bb656b-b78f-41b1-9c36-3f4539527413')\"\n",
              "              title=\"Convert this dataframe to an interactive table.\"\n",
              "              style=\"display:none;\">\n",
              "        \n",
              "  <svg xmlns=\"http://www.w3.org/2000/svg\" height=\"24px\"viewBox=\"0 0 24 24\"\n",
              "       width=\"24px\">\n",
              "    <path d=\"M0 0h24v24H0V0z\" fill=\"none\"/>\n",
              "    <path d=\"M18.56 5.44l.94 2.06.94-2.06 2.06-.94-2.06-.94-.94-2.06-.94 2.06-2.06.94zm-11 1L8.5 8.5l.94-2.06 2.06-.94-2.06-.94L8.5 2.5l-.94 2.06-2.06.94zm10 10l.94 2.06.94-2.06 2.06-.94-2.06-.94-.94-2.06-.94 2.06-2.06.94z\"/><path d=\"M17.41 7.96l-1.37-1.37c-.4-.4-.92-.59-1.43-.59-.52 0-1.04.2-1.43.59L10.3 9.45l-7.72 7.72c-.78.78-.78 2.05 0 2.83L4 21.41c.39.39.9.59 1.41.59.51 0 1.02-.2 1.41-.59l7.78-7.78 2.81-2.81c.8-.78.8-2.07 0-2.86zM5.41 20L4 18.59l7.72-7.72 1.47 1.35L5.41 20z\"/>\n",
              "  </svg>\n",
              "      </button>\n",
              "      \n",
              "  <style>\n",
              "    .colab-df-container {\n",
              "      display:flex;\n",
              "      flex-wrap:wrap;\n",
              "      gap: 12px;\n",
              "    }\n",
              "\n",
              "    .colab-df-convert {\n",
              "      background-color: #E8F0FE;\n",
              "      border: none;\n",
              "      border-radius: 50%;\n",
              "      cursor: pointer;\n",
              "      display: none;\n",
              "      fill: #1967D2;\n",
              "      height: 32px;\n",
              "      padding: 0 0 0 0;\n",
              "      width: 32px;\n",
              "    }\n",
              "\n",
              "    .colab-df-convert:hover {\n",
              "      background-color: #E2EBFA;\n",
              "      box-shadow: 0px 1px 2px rgba(60, 64, 67, 0.3), 0px 1px 3px 1px rgba(60, 64, 67, 0.15);\n",
              "      fill: #174EA6;\n",
              "    }\n",
              "\n",
              "    [theme=dark] .colab-df-convert {\n",
              "      background-color: #3B4455;\n",
              "      fill: #D2E3FC;\n",
              "    }\n",
              "\n",
              "    [theme=dark] .colab-df-convert:hover {\n",
              "      background-color: #434B5C;\n",
              "      box-shadow: 0px 1px 3px 1px rgba(0, 0, 0, 0.15);\n",
              "      filter: drop-shadow(0px 1px 2px rgba(0, 0, 0, 0.3));\n",
              "      fill: #FFFFFF;\n",
              "    }\n",
              "  </style>\n",
              "\n",
              "      <script>\n",
              "        const buttonEl =\n",
              "          document.querySelector('#df-36bb656b-b78f-41b1-9c36-3f4539527413 button.colab-df-convert');\n",
              "        buttonEl.style.display =\n",
              "          google.colab.kernel.accessAllowed ? 'block' : 'none';\n",
              "\n",
              "        async function convertToInteractive(key) {\n",
              "          const element = document.querySelector('#df-36bb656b-b78f-41b1-9c36-3f4539527413');\n",
              "          const dataTable =\n",
              "            await google.colab.kernel.invokeFunction('convertToInteractive',\n",
              "                                                     [key], {});\n",
              "          if (!dataTable) return;\n",
              "\n",
              "          const docLinkHtml = 'Like what you see? Visit the ' +\n",
              "            '<a target=\"_blank\" href=https://colab.research.google.com/notebooks/data_table.ipynb>data table notebook</a>'\n",
              "            + ' to learn more about interactive tables.';\n",
              "          element.innerHTML = '';\n",
              "          dataTable['output_type'] = 'display_data';\n",
              "          await google.colab.output.renderOutput(dataTable, element);\n",
              "          const docLink = document.createElement('div');\n",
              "          docLink.innerHTML = docLinkHtml;\n",
              "          element.appendChild(docLink);\n",
              "        }\n",
              "      </script>\n",
              "    </div>\n",
              "  </div>\n",
              "  "
            ],
            "text/plain": [
              "     PassengerId  Survived  Pclass                            Name Sex   Age  \\\n",
              "466          467         0       2           Campbell, Mr. William   0  28.0   \n",
              "0              1         0       3         Braund, Mr. Owen Harris   0  22.0   \n",
              "76            77         0       3               Staneff, Mr. Ivan   0  28.0   \n",
              "510          511         1       3        Daly, Mr. Eugene Patrick   0  29.0   \n",
              "626          627         0       2  Kirkland, Rev. Charles Leonard   0  57.0   \n",
              "\n",
              "     SibSp  Parch     Fare Embarked  FamSize  IsAlone Title  \n",
              "466      0      0   0.0000        0        1        1     1  \n",
              "0        1      0   7.2500        0        2        0     1  \n",
              "76       0      0   7.8958        0        1        1     1  \n",
              "510      0      0   7.7500        2        1        1     1  \n",
              "626      0      0  12.3500        2        1        1     4  "
            ]
          },
          "execution_count": 110,
          "metadata": {},
          "output_type": "execute_result"
        }
      ],
      "source": [
        "training.sample(5)"
      ]
    },
    {
      "cell_type": "markdown",
      "metadata": {
        "_uuid": "41de656234ed079e07f5390372c3a9306a17e98a",
        "id": "P09T4MtXwsob"
      },
      "source": [
        "<a id=\"p6\"></a>\n",
        "# 6. Model Fitting and Predicting\n",
        "Now that our data has been processed and formmated properly, and that we understand the general data we're working with as well as the trends and associations, we can start to build our model. We can import different classifiers from sklearn. We will try different types of models to see which one gives the best accuracy for its predictions."
      ]
    },
    {
      "cell_type": "markdown",
      "metadata": {
        "_uuid": "2c7048c1e2d22005039a58fea15ebadcc27ec2bf",
        "id": "dhEGAJIBwsob"
      },
      "source": [
        "**sklearn Models to Test**"
      ]
    },
    {
      "cell_type": "code",
      "execution_count": null,
      "metadata": {
        "_uuid": "247cf16dde7c8b0403beae7a93322bf2863ec6f9",
        "id": "9MyLWmJGwsob"
      },
      "outputs": [],
      "source": [
        "from sklearn.svm import SVC, LinearSVC\n",
        "from sklearn.ensemble import RandomForestClassifier\n",
        "from sklearn.linear_model import LogisticRegression\n",
        "from sklearn.neighbors import KNeighborsClassifier\n",
        "from sklearn.naive_bayes import GaussianNB\n",
        "from sklearn.tree import DecisionTreeClassifier"
      ]
    },
    {
      "cell_type": "markdown",
      "metadata": {
        "_uuid": "2cd333e04846dcd31b6a622fe901d4f55c958bd6",
        "id": "m5F4M5Eqwsob"
      },
      "source": [
        "To evaluate our model performance, we can use the make_scorere and accuracy_score function from sklearn metrics."
      ]
    },
    {
      "cell_type": "code",
      "execution_count": null,
      "metadata": {
        "_uuid": "63e0f0169267edd3e4c45ae829476f51e4d1df0e",
        "id": "CZ6OPlPzwsob"
      },
      "outputs": [],
      "source": [
        "from sklearn.metrics import make_scorer, accuracy_score "
      ]
    },
    {
      "cell_type": "markdown",
      "metadata": {
        "_uuid": "92194bb407126ddec5273bb45fdbd5d515854e0a",
        "id": "Y54pW_M9wsob"
      },
      "source": [
        "We can also use a GridSearch cross validation to find the optimal parameters for the model we choose to work with and use to predict on our testing set."
      ]
    },
    {
      "cell_type": "code",
      "execution_count": null,
      "metadata": {
        "_uuid": "9bd1078ce44840c71b2e4fe6a0651b538d892995",
        "id": "QCcABEFdwsob"
      },
      "outputs": [],
      "source": [
        "from sklearn.model_selection import GridSearchCV"
      ]
    },
    {
      "cell_type": "markdown",
      "metadata": {
        "_uuid": "db3842b4fcfcf0d1e7b0c802217b7a38d489ccb8",
        "id": "S5fF7Yxlwsoc"
      },
      "source": [
        "**Defining Features in Training/Test Set**"
      ]
    },
    {
      "cell_type": "code",
      "execution_count": null,
      "metadata": {
        "_uuid": "d9484f14efc825d2eb1e5496995d57d6a788de22",
        "id": "rb3T_SJRwsoc"
      },
      "outputs": [],
      "source": [
        "features = [\"Pclass\", \"Sex\", \"Age\", \"Embarked\", \"Fare\", \"FamSize\", \"IsAlone\", \"Title\"]\n",
        "X_train = training[features] #define training features set\n",
        "y_train = training[\"Survived\"] #define training label set\n",
        "X_test = testing[features] #define testing features set\n",
        "#we don't have y_test, that is what we're trying to predict with our model"
      ]
    },
    {
      "cell_type": "markdown",
      "metadata": {
        "_uuid": "a008d1b7a4a90e34b2844922295f8146823f02ee",
        "id": "AdvbbtMswsoc"
      },
      "source": [
        "**Validation Data Set**\n",
        "\n",
        "Although we already have a test set, it is generally easy to overfit the data with these classifiers. It is therefore useful to have a third data set called the validation data set to ensure that our model doesn't overfit with the data. We can make this third data set with sklearn's train_test_split function. We can also use the validation data set to test the general accuracy of our model."
      ]
    },
    {
      "cell_type": "code",
      "execution_count": null,
      "metadata": {
        "_uuid": "525f4a8f4119d03e20726b7b594d037e3fa30172",
        "id": "4tx7oyLIwsoc"
      },
      "outputs": [],
      "source": [
        "from sklearn.model_selection import train_test_split #to create validation data set\n",
        "\n",
        "X_training, X_valid, y_training, y_valid = train_test_split(X_train, y_train, test_size=0.2, random_state=0) #X_valid and y_valid are the validation sets"
      ]
    },
    {
      "cell_type": "markdown",
      "metadata": {
        "_uuid": "d3597926b012f917a34e9c2369baaa35b4e79452",
        "id": "g5SkDOQKwsoc"
      },
      "source": [
        "**SVC Model**"
      ]
    },
    {
      "cell_type": "code",
      "execution_count": null,
      "metadata": {
        "_uuid": "39fd28f225d9f1a9d283aa441e5e57508cbc7474",
        "colab": {
          "base_uri": "https://localhost:8080/"
        },
        "id": "Eu7jSKhYwsod",
        "outputId": "0c909c5b-c89f-438b-accf-028d8b8df290"
      },
      "outputs": [
        {
          "name": "stdout",
          "output_type": "stream",
          "text": [
            "0.7262569832402235\n"
          ]
        }
      ],
      "source": [
        "svc_clf = SVC() \n",
        "svc_clf.fit(X_training, y_training)\n",
        "pred_svc = svc_clf.predict(X_valid)\n",
        "acc_svc = accuracy_score(y_valid, pred_svc)\n",
        "\n",
        "print(acc_svc)"
      ]
    },
    {
      "cell_type": "markdown",
      "metadata": {
        "_uuid": "e6fa08797335fb70e5399aac9d0aa418ddc91416",
        "id": "ta9ZqTkWwsod"
      },
      "source": [
        "**LinearSVC Model**"
      ]
    },
    {
      "cell_type": "code",
      "execution_count": null,
      "metadata": {
        "_uuid": "58b88de30c4a4fa7273cf63e50a54a71fb70e83b",
        "colab": {
          "base_uri": "https://localhost:8080/"
        },
        "id": "6691rwagwsod",
        "outputId": "53c579a3-6f18-443e-92a7-f53c3f83c672"
      },
      "outputs": [
        {
          "name": "stdout",
          "output_type": "stream",
          "text": [
            "0.7430167597765364\n"
          ]
        }
      ],
      "source": [
        "linsvc_clf = LinearSVC()\n",
        "linsvc_clf.fit(X_training, y_training)\n",
        "pred_linsvc = linsvc_clf.predict(X_valid)\n",
        "acc_linsvc = accuracy_score(y_valid, pred_linsvc)\n",
        "\n",
        "print(acc_linsvc)"
      ]
    },
    {
      "cell_type": "markdown",
      "metadata": {
        "_uuid": "e2a0d34546d72e87ea6b6cc8515040fd3f315227",
        "id": "_BIMxJVdwsod"
      },
      "source": [
        "**RandomForest Model**"
      ]
    },
    {
      "cell_type": "code",
      "execution_count": null,
      "metadata": {
        "_uuid": "1a64bcaa1f6beb3fb70f1fe0c8565379a4cce677",
        "colab": {
          "base_uri": "https://localhost:8080/"
        },
        "id": "9dnGkgJmwsod",
        "outputId": "baaa0ddc-3b18-49c2-b179-a68676b673f2"
      },
      "outputs": [
        {
          "name": "stdout",
          "output_type": "stream",
          "text": [
            "0.8435754189944135\n"
          ]
        }
      ],
      "source": [
        "rf_clf = RandomForestClassifier()\n",
        "rf_clf.fit(X_training, y_training)\n",
        "pred_rf = rf_clf.predict(X_valid)\n",
        "acc_rf = accuracy_score(y_valid, pred_rf)\n",
        "\n",
        "print(acc_rf)"
      ]
    },
    {
      "cell_type": "markdown",
      "metadata": {
        "_uuid": "be2afad3f04bb3317225d689198ce2f817d1634d",
        "id": "k6v91H1kwsoe"
      },
      "source": [
        "**LogisiticRegression Model**"
      ]
    },
    {
      "cell_type": "code",
      "execution_count": null,
      "metadata": {
        "_uuid": "1fb3aef22962da43e521b386c754c9b2c7ba0e9e",
        "colab": {
          "base_uri": "https://localhost:8080/"
        },
        "id": "X2QK2QAgwsoe",
        "outputId": "505907a7-1da0-47c4-9fe5-01f064700fd0"
      },
      "outputs": [
        {
          "name": "stdout",
          "output_type": "stream",
          "text": [
            "0.8100558659217877\n"
          ]
        }
      ],
      "source": [
        "logreg_clf = LogisticRegression()\n",
        "logreg_clf.fit(X_training, y_training)\n",
        "pred_logreg = logreg_clf.predict(X_valid)\n",
        "acc_logreg = accuracy_score(y_valid, pred_logreg)\n",
        "\n",
        "print(acc_logreg)"
      ]
    },
    {
      "cell_type": "markdown",
      "metadata": {
        "_uuid": "b171f05d72bdc35ce4bb6c64ac22acb06986c4ed",
        "id": "-V0-zzRhwsoe"
      },
      "source": [
        "**KNeighbors Model**"
      ]
    },
    {
      "cell_type": "code",
      "execution_count": null,
      "metadata": {
        "_uuid": "4db5787d77d70de18781b2b15cd5ad5b16d0e2b0",
        "colab": {
          "base_uri": "https://localhost:8080/"
        },
        "id": "wOGWTnKvwsoe",
        "outputId": "387aeaf7-9048-41ea-dea9-b795aeb75ecc"
      },
      "outputs": [
        {
          "name": "stdout",
          "output_type": "stream",
          "text": [
            "0.7430167597765364\n"
          ]
        }
      ],
      "source": [
        "knn_clf = KNeighborsClassifier()\n",
        "knn_clf.fit(X_training, y_training)\n",
        "pred_knn = knn_clf.predict(X_valid)\n",
        "acc_knn = accuracy_score(y_valid, pred_knn)\n",
        "\n",
        "print(acc_knn)"
      ]
    },
    {
      "cell_type": "markdown",
      "metadata": {
        "_uuid": "be52b3ffcc1f25f5c6bc03ff8a94802f6693657b",
        "id": "S6Hvn29-wsoe"
      },
      "source": [
        "**GaussianNB Model**"
      ]
    },
    {
      "cell_type": "code",
      "execution_count": null,
      "metadata": {
        "_uuid": "7c8531ec4857b0fb7ccdfc153fbd7a6ca07e4fef",
        "colab": {
          "base_uri": "https://localhost:8080/"
        },
        "id": "7dALcRJZwsoe",
        "outputId": "5b7534ac-ff3e-4480-a4c5-e942562c8e06"
      },
      "outputs": [
        {
          "name": "stdout",
          "output_type": "stream",
          "text": [
            "0.7877094972067039\n"
          ]
        }
      ],
      "source": [
        "gnb_clf = GaussianNB()\n",
        "gnb_clf.fit(X_training, y_training)\n",
        "pred_gnb = gnb_clf.predict(X_valid)\n",
        "acc_gnb = accuracy_score(y_valid, pred_gnb)\n",
        "\n",
        "print(acc_gnb)"
      ]
    },
    {
      "cell_type": "markdown",
      "metadata": {
        "_uuid": "0160729b9da414de164ca5aec33d70302014f7ea",
        "id": "GlFbhvQQwsof"
      },
      "source": [
        "**DecisionTree Model**"
      ]
    },
    {
      "cell_type": "code",
      "execution_count": null,
      "metadata": {
        "_uuid": "5b66cede005b80b15db98dadfe25453f79cff61c",
        "colab": {
          "base_uri": "https://localhost:8080/"
        },
        "id": "X7sXwg5Awsof",
        "outputId": "579e9190-8c3b-417a-c0ae-3a666f8dd48c"
      },
      "outputs": [
        {
          "name": "stdout",
          "output_type": "stream",
          "text": [
            "0.776536312849162\n"
          ]
        }
      ],
      "source": [
        "dt_clf = DecisionTreeClassifier()\n",
        "dt_clf.fit(X_training, y_training)\n",
        "pred_dt = dt_clf.predict(X_valid)\n",
        "acc_dt = accuracy_score(y_valid, pred_dt)\n",
        "\n",
        "print(acc_dt)"
      ]
    },
    {
      "cell_type": "markdown",
      "metadata": {
        "_uuid": "adcda2b37a78d95205f14fbe4c580d4e0174088b",
        "id": "4JQYp0J1wsof"
      },
      "source": [
        "<a id=\"p7\"></a>\n",
        "# 7. Evaluating Model Performances\n",
        "After making so many models and predictions, we should evaluate and see which model performed the best and which model to use on our testing set."
      ]
    },
    {
      "cell_type": "code",
      "execution_count": null,
      "metadata": {
        "_uuid": "032b969ac47e3ea4fb7b77a0d43411f5184012ca",
        "colab": {
          "base_uri": "https://localhost:8080/",
          "height": 269
        },
        "id": "TaeelqSbwsog",
        "outputId": "75d1802a-507d-4a34-b3e0-31027ceda870"
      },
      "outputs": [
        {
          "data": {
            "text/html": [
              "\n",
              "  <div id=\"df-d0de9dd6-229e-40e3-9acd-50123ddfb9bf\">\n",
              "    <div class=\"colab-df-container\">\n",
              "      <div>\n",
              "<style scoped>\n",
              "    .dataframe tbody tr th:only-of-type {\n",
              "        vertical-align: middle;\n",
              "    }\n",
              "\n",
              "    .dataframe tbody tr th {\n",
              "        vertical-align: top;\n",
              "    }\n",
              "\n",
              "    .dataframe thead th {\n",
              "        text-align: right;\n",
              "    }\n",
              "</style>\n",
              "<table border=\"1\" class=\"dataframe\">\n",
              "  <thead>\n",
              "    <tr style=\"text-align: right;\">\n",
              "      <th></th>\n",
              "      <th>Model</th>\n",
              "      <th>Accuracy</th>\n",
              "    </tr>\n",
              "  </thead>\n",
              "  <tbody>\n",
              "    <tr>\n",
              "      <th>2</th>\n",
              "      <td>Random Forest</td>\n",
              "      <td>0.843575</td>\n",
              "    </tr>\n",
              "    <tr>\n",
              "      <th>3</th>\n",
              "      <td>Logistic Regression</td>\n",
              "      <td>0.810056</td>\n",
              "    </tr>\n",
              "    <tr>\n",
              "      <th>5</th>\n",
              "      <td>Gaussian Naive Bayes</td>\n",
              "      <td>0.787709</td>\n",
              "    </tr>\n",
              "    <tr>\n",
              "      <th>6</th>\n",
              "      <td>Decision Tree</td>\n",
              "      <td>0.776536</td>\n",
              "    </tr>\n",
              "    <tr>\n",
              "      <th>1</th>\n",
              "      <td>Linear SVC</td>\n",
              "      <td>0.743017</td>\n",
              "    </tr>\n",
              "    <tr>\n",
              "      <th>4</th>\n",
              "      <td>K Nearest Neighbors</td>\n",
              "      <td>0.743017</td>\n",
              "    </tr>\n",
              "    <tr>\n",
              "      <th>0</th>\n",
              "      <td>SVC</td>\n",
              "      <td>0.726257</td>\n",
              "    </tr>\n",
              "  </tbody>\n",
              "</table>\n",
              "</div>\n",
              "      <button class=\"colab-df-convert\" onclick=\"convertToInteractive('df-d0de9dd6-229e-40e3-9acd-50123ddfb9bf')\"\n",
              "              title=\"Convert this dataframe to an interactive table.\"\n",
              "              style=\"display:none;\">\n",
              "        \n",
              "  <svg xmlns=\"http://www.w3.org/2000/svg\" height=\"24px\"viewBox=\"0 0 24 24\"\n",
              "       width=\"24px\">\n",
              "    <path d=\"M0 0h24v24H0V0z\" fill=\"none\"/>\n",
              "    <path d=\"M18.56 5.44l.94 2.06.94-2.06 2.06-.94-2.06-.94-.94-2.06-.94 2.06-2.06.94zm-11 1L8.5 8.5l.94-2.06 2.06-.94-2.06-.94L8.5 2.5l-.94 2.06-2.06.94zm10 10l.94 2.06.94-2.06 2.06-.94-2.06-.94-.94-2.06-.94 2.06-2.06.94z\"/><path d=\"M17.41 7.96l-1.37-1.37c-.4-.4-.92-.59-1.43-.59-.52 0-1.04.2-1.43.59L10.3 9.45l-7.72 7.72c-.78.78-.78 2.05 0 2.83L4 21.41c.39.39.9.59 1.41.59.51 0 1.02-.2 1.41-.59l7.78-7.78 2.81-2.81c.8-.78.8-2.07 0-2.86zM5.41 20L4 18.59l7.72-7.72 1.47 1.35L5.41 20z\"/>\n",
              "  </svg>\n",
              "      </button>\n",
              "      \n",
              "  <style>\n",
              "    .colab-df-container {\n",
              "      display:flex;\n",
              "      flex-wrap:wrap;\n",
              "      gap: 12px;\n",
              "    }\n",
              "\n",
              "    .colab-df-convert {\n",
              "      background-color: #E8F0FE;\n",
              "      border: none;\n",
              "      border-radius: 50%;\n",
              "      cursor: pointer;\n",
              "      display: none;\n",
              "      fill: #1967D2;\n",
              "      height: 32px;\n",
              "      padding: 0 0 0 0;\n",
              "      width: 32px;\n",
              "    }\n",
              "\n",
              "    .colab-df-convert:hover {\n",
              "      background-color: #E2EBFA;\n",
              "      box-shadow: 0px 1px 2px rgba(60, 64, 67, 0.3), 0px 1px 3px 1px rgba(60, 64, 67, 0.15);\n",
              "      fill: #174EA6;\n",
              "    }\n",
              "\n",
              "    [theme=dark] .colab-df-convert {\n",
              "      background-color: #3B4455;\n",
              "      fill: #D2E3FC;\n",
              "    }\n",
              "\n",
              "    [theme=dark] .colab-df-convert:hover {\n",
              "      background-color: #434B5C;\n",
              "      box-shadow: 0px 1px 3px 1px rgba(0, 0, 0, 0.15);\n",
              "      filter: drop-shadow(0px 1px 2px rgba(0, 0, 0, 0.3));\n",
              "      fill: #FFFFFF;\n",
              "    }\n",
              "  </style>\n",
              "\n",
              "      <script>\n",
              "        const buttonEl =\n",
              "          document.querySelector('#df-d0de9dd6-229e-40e3-9acd-50123ddfb9bf button.colab-df-convert');\n",
              "        buttonEl.style.display =\n",
              "          google.colab.kernel.accessAllowed ? 'block' : 'none';\n",
              "\n",
              "        async function convertToInteractive(key) {\n",
              "          const element = document.querySelector('#df-d0de9dd6-229e-40e3-9acd-50123ddfb9bf');\n",
              "          const dataTable =\n",
              "            await google.colab.kernel.invokeFunction('convertToInteractive',\n",
              "                                                     [key], {});\n",
              "          if (!dataTable) return;\n",
              "\n",
              "          const docLinkHtml = 'Like what you see? Visit the ' +\n",
              "            '<a target=\"_blank\" href=https://colab.research.google.com/notebooks/data_table.ipynb>data table notebook</a>'\n",
              "            + ' to learn more about interactive tables.';\n",
              "          element.innerHTML = '';\n",
              "          dataTable['output_type'] = 'display_data';\n",
              "          await google.colab.output.renderOutput(dataTable, element);\n",
              "          const docLink = document.createElement('div');\n",
              "          docLink.innerHTML = docLinkHtml;\n",
              "          element.appendChild(docLink);\n",
              "        }\n",
              "      </script>\n",
              "    </div>\n",
              "  </div>\n",
              "  "
            ],
            "text/plain": [
              "                  Model  Accuracy\n",
              "2         Random Forest  0.843575\n",
              "3   Logistic Regression  0.810056\n",
              "5  Gaussian Naive Bayes  0.787709\n",
              "6         Decision Tree  0.776536\n",
              "1            Linear SVC  0.743017\n",
              "4   K Nearest Neighbors  0.743017\n",
              "0                   SVC  0.726257"
            ]
          },
          "execution_count": 124,
          "metadata": {},
          "output_type": "execute_result"
        }
      ],
      "source": [
        "model_performance = pd.DataFrame({\n",
        "    \"Model\": [\"SVC\", \"Linear SVC\", \"Random Forest\", \n",
        "              \"Logistic Regression\", \"K Nearest Neighbors\", \"Gaussian Naive Bayes\",  \n",
        "              \"Decision Tree\"],\n",
        "    \"Accuracy\": [acc_svc, acc_linsvc, acc_rf, \n",
        "              acc_logreg, acc_knn, acc_gnb, acc_dt]\n",
        "})\n",
        "\n",
        "model_performance.sort_values(by=\"Accuracy\", ascending=False)"
      ]
    },
    {
      "cell_type": "markdown",
      "metadata": {
        "_uuid": "2155e211b1bcc8165f32b444a9122316d9d69e49",
        "id": "hTITTeePwsog"
      },
      "source": [
        "It appears that the Random Forest model works the best with our data so we will use it on the test set."
      ]
    }
  ],
  "metadata": {
    "colab": {
      "name": "Sklearn.ipynb",
      "provenance": [],
      "include_colab_link": true
    },
    "kernelspec": {
      "display_name": "Python 3",
      "language": "python",
      "name": "python3"
    },
    "language_info": {
      "codemirror_mode": {
        "name": "ipython",
        "version": 3
      },
      "file_extension": ".py",
      "mimetype": "text/x-python",
      "name": "python",
      "nbconvert_exporter": "python",
      "pygments_lexer": "ipython3",
      "version": "3.8.5"
    }
  },
  "nbformat": 4,
  "nbformat_minor": 0
}