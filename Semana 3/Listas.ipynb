{
  "nbformat": 4,
  "nbformat_minor": 0,
  "metadata": {
    "colab": {
      "name": "1R-Listas.ipynb",
      "provenance": []
    },
    "kernelspec": {
      "name": "python3",
      "display_name": "Python 3"
    },
    "language_info": {
      "name": "python"
    }
  },
  "cells": [
    {
      "cell_type": "markdown",
      "source": [
        "**Ejecuta el siguiente bloque de código siempre antes de ejecutar el resto del notebook.**"
      ],
      "metadata": {
        "id": "WRnoH3EU7DdT"
      }
    },
    {
      "cell_type": "code",
      "execution_count": null,
      "metadata": {
        "id": "o6ucpyifE9v4"
      },
      "outputs": [],
      "source": [
        "from IPython.core.magic import  Magics, magics_class, cell_magic, line_magic\n",
        "\n",
        "@magics_class\n",
        "class Helper(Magics):\n",
        "\n",
        "  def __init__(self, shell=None,  **kwargs):\n",
        "    super().__init__(shell=shell, **kwargs)\n",
        "\n",
        "  @cell_magic\n",
        "  def debug_cell_with_pytutor(self, line, cell):\n",
        "    import urllib.parse\n",
        "    url_src = urllib.parse.quote(cell)\n",
        "    str_begin = '<iframe width=\"1000\" height=\"500\" frameborder=\"0\" src=\"https://pythontutor.com/iframe-embed.html#code='\n",
        "    str_end   = '&cumulative=false&py=3&curInstr=0\"></iframe>'\n",
        "    import IPython\n",
        "    from google.colab import output\n",
        "    display(IPython.display.HTML(str_begin+url_src+str_end))\n",
        "\n",
        "get_ipython().register_magics(Helper)"
      ]
    },
    {
      "cell_type": "markdown",
      "source": [
        "# Estructuras de datos\n",
        "\n",
        "Hasta ahora hemos trabajado almacenando datos en variables, esto es útil cuando necesitamos hacer operaciones sobre estos y reportar los resultados. Pero ¿Qué pasa si queremos trabajar con una cantidad de datos mayor? En este caso podríamos asignar una variable para cada dato, pero podría ocurrir que sean tantos que se vuelva una tarea tediosa, o incluso, que ni siquiera sepamos cuantos datos necesitamos. Para remediar este problema podemos usar las estructuras de datos, estas son una forma de organizar los datos en la computadora, de tal manera que nos permita realizar unas operaciones con ellas de forma muy eficiente.  Python ofrece 4 tipos de estructuras de forma nativa, con las cuales podemos crear otras mucho más complejas según la necesidad de nuestro programa.\n",
        "\n",
        "\n",
        "## Listas\n",
        "\n",
        "Consideremos una situación en la que necesitamos almacenar cinco números enteros. Si utilizamos los conceptos de variables, entonces necesitamos cinco variables y el programa será el siguiente:\n",
        "\n"
      ],
      "metadata": {
        "id": "3DYH8XVe7ITq"
      }
    },
    {
      "cell_type": "code",
      "source": [
        "num1 = 10      \n",
        "num2 = 20   \n",
        "num3 = 30   \n",
        "num4 = 40 \n",
        "num5 = 50\n",
        "\n",
        "print(num1,num2,num3,num4,num5)"
      ],
      "metadata": {
        "colab": {
          "base_uri": "https://localhost:8080/"
        },
        "id": "CJqr4DeZ7C5Y",
        "outputId": "508b0ff1-5cd8-41d2-babf-4bab9c789264"
      },
      "execution_count": null,
      "outputs": [
        {
          "output_type": "stream",
          "name": "stdout",
          "text": [
            "10 20 30 40 50\n"
          ]
        }
      ]
    },
    {
      "cell_type": "markdown",
      "source": [
        "Ahora regresemos a la discusión anterior, que pasa si necesitamos 5000 números, ¿creamos 5000 variables? Por supuesto que no. Para manejar estas situaciones, casi todos los lenguajes de programación proporcionan un concepto llamado array o en nuestro caso una lista. Una lista es una estructura de datos que puede almacenar una colección de tamaño indeterminado de elementos.\n",
        "\n",
        "```python\n",
        "lista = [] #lista vacía\n",
        "lista[2] = 5 #asignación de un valor a una posición\n",
        "\n",
        "```\n",
        "\n",
        "En lugar de declarar variables individuales, como `num1`, `num2`, ..., `num99`, sólo tenemos que declarar una lista y utilizar la notación de corchetes `num[0]` que vimos en la sección de string en los tipos de datos: `num[0], num[1]`,..., `num[99]` para representar las variables individuales. Aquí, 0, 1, 2, .....99 son los índices asociados a la variable `num` y se utilizan para representar elementos individuales disponibles en la lista. Todas las listas inician el conteo de sus índices en la posición 0, de este modo, la posición 5 de la lista `num` sería `num[4]`. Los índices son los identificadores numéricos que diferencian cada posición de la lista, este valor siempre es un número entero. Todas las listas están formadas por posiciones de memoria contiguas dentro de la memoria RAM, La dirección más baja corresponde al primer elemento y la más alta al último.\n",
        "\n",
        "\n",
        "Si queremos definir una lista con algunos valores en su interior, basta con escribirlos separados por coma dentro de los corchetes `[ ]`:"
      ],
      "metadata": {
        "id": "WrN6yoSNNjmo"
      }
    },
    {
      "cell_type": "code",
      "source": [
        "lista = [1,2,3,4]\n",
        "print(lista)\n",
        "print(lista[2])"
      ],
      "metadata": {
        "id": "gjhL67ABwfJF",
        "colab": {
          "base_uri": "https://localhost:8080/"
        },
        "outputId": "a6af2524-7746-4e07-906e-1d9b5db8433d"
      },
      "execution_count": null,
      "outputs": [
        {
          "output_type": "stream",
          "name": "stdout",
          "text": [
            "[1, 2, 3, 4]\n",
            "3\n"
          ]
        }
      ]
    },
    {
      "cell_type": "code",
      "source": [
        "print(lista[1.5])"
      ],
      "metadata": {
        "colab": {
          "base_uri": "https://localhost:8080/",
          "height": 165
        },
        "id": "EF4wB7yL_UNQ",
        "outputId": "0b712cfa-d816-4e90-e12d-962fda778cf3"
      },
      "execution_count": null,
      "outputs": [
        {
          "output_type": "error",
          "ename": "TypeError",
          "evalue": "ignored",
          "traceback": [
            "\u001b[0;31m---------------------------------------------------------------------------\u001b[0m",
            "\u001b[0;31mTypeError\u001b[0m                                 Traceback (most recent call last)",
            "\u001b[0;32m<ipython-input-10-806c4651355a>\u001b[0m in \u001b[0;36m<module>\u001b[0;34m()\u001b[0m\n\u001b[0;32m----> 1\u001b[0;31m \u001b[0mprint\u001b[0m\u001b[0;34m(\u001b[0m\u001b[0mlista\u001b[0m\u001b[0;34m[\u001b[0m\u001b[0;36m1.5\u001b[0m\u001b[0;34m]\u001b[0m\u001b[0;34m)\u001b[0m\u001b[0;34m\u001b[0m\u001b[0;34m\u001b[0m\u001b[0m\n\u001b[0m",
            "\u001b[0;31mTypeError\u001b[0m: list indices must be integers or slices, not float"
          ]
        }
      ]
    },
    {
      "cell_type": "markdown",
      "source": [
        "Las listas además nos permiten modificar los valores ya existentes en su interior, si conocemos la posición del dato que queremos modificar, basta con usar la notación de corchetes `[ ]` e indicar el índice del dato dentro de la operación de asignación.\n",
        "```python\n",
        "lista[2] = 5 #asignación de un valor a una posición\n",
        "``` "
      ],
      "metadata": {
        "id": "kzghnK03t9Bg"
      }
    },
    {
      "cell_type": "code",
      "source": [
        "print('Lista original', lista)\n",
        "lista[2] = 5 #asignación de un valor a una posición\n",
        "print('Lista modificada', lista)"
      ],
      "metadata": {
        "colab": {
          "base_uri": "https://localhost:8080/"
        },
        "id": "tzgkhhZ3t7rz",
        "outputId": "f409054d-f905-4752-91a6-7aeb57d68dbb"
      },
      "execution_count": null,
      "outputs": [
        {
          "output_type": "stream",
          "name": "stdout",
          "text": [
            "Lista original [1, 2, 3, 4]\n",
            "Lista modificada [1, 2, 5, 4]\n"
          ]
        }
      ]
    },
    {
      "cell_type": "markdown",
      "source": [
        "Las listas en su interior pueden almacenar cualquiera de los tipos de datos que estudiamos anteriormente, además también puede almacenar otras listas internamente y vale la pena resaltar que también podemos almacenar las demás estructuras de datos que veremos luego:"
      ],
      "metadata": {
        "id": "RZ3E4y4c4ppU"
      }
    },
    {
      "cell_type": "code",
      "source": [
        "lista2 = ['a',0,5.14,[1,2,3]]\n",
        "print(lista2)"
      ],
      "metadata": {
        "id": "rH5CamfswfKD",
        "colab": {
          "base_uri": "https://localhost:8080/"
        },
        "outputId": "8de1b58d-5356-4200-9656-1718229b9dd5"
      },
      "execution_count": null,
      "outputs": [
        {
          "output_type": "stream",
          "name": "stdout",
          "text": [
            "['a', 0, 5.14, [1, 2, 3]]\n"
          ]
        }
      ]
    },
    {
      "cell_type": "markdown",
      "source": [
        "Si necesitamos conocer cuántos valores tenemos almacenados en su interior, podemos usar la función `len`, si la aplicamos a la `lista2` obtendremos 4 items, esto quiere decir, que las listas al interior de otras, solo se cuentan como una sola entidad para la lista exterior."
      ],
      "metadata": {
        "id": "-f3A9EvK5FMg"
      }
    },
    {
      "cell_type": "code",
      "source": [
        "print(len(lista2))"
      ],
      "metadata": {
        "id": "2zrKe5aXwfS7",
        "colab": {
          "base_uri": "https://localhost:8080/"
        },
        "outputId": "b33f1a56-0bc3-4a54-d5d3-d36917a71662"
      },
      "execution_count": null,
      "outputs": [
        {
          "output_type": "stream",
          "name": "stdout",
          "text": [
            "4\n"
          ]
        }
      ]
    },
    {
      "cell_type": "markdown",
      "source": [
        "Intentemos acceder a los datos de la lista:"
      ],
      "metadata": {
        "id": "rjr3PDXy5t4w"
      }
    },
    {
      "cell_type": "code",
      "source": [
        "print(lista2[0])\n",
        "print(lista2[1])\n",
        "print(lista2[2])\n",
        "print(lista2[3])"
      ],
      "metadata": {
        "colab": {
          "base_uri": "https://localhost:8080/"
        },
        "id": "ClA0bkIC53Wr",
        "outputId": "e991395c-e950-41b1-d405-6b86ef8425cc"
      },
      "execution_count": null,
      "outputs": [
        {
          "output_type": "stream",
          "name": "stdout",
          "text": [
            "a\n",
            "0\n",
            "5.14\n",
            "[1, 2, 3]\n"
          ]
        }
      ]
    },
    {
      "cell_type": "markdown",
      "source": [
        "Si quisiéramos acceder a los datos de la lista interna debemos usar la notación de corchetes dobles `[ ][ ]` ¿por qué? En realidad es muy simple, la variable `lista[3]` es una lista y Python la reconoce como tal, por esta razón, al añadir los segundos corchetes, estamos indicandole a python que acceda a un valor en el interior de esta nueva lista."
      ],
      "metadata": {
        "id": "bvr2K-eo6ENN"
      }
    },
    {
      "cell_type": "code",
      "source": [
        "print(lista2[3][2])"
      ],
      "metadata": {
        "colab": {
          "base_uri": "https://localhost:8080/"
        },
        "id": "F9ovULA97IeZ",
        "outputId": "516f6c6e-f4d3-421a-b30f-7ad8061fc85c"
      },
      "execution_count": null,
      "outputs": [
        {
          "output_type": "stream",
          "name": "stdout",
          "text": [
            "3\n"
          ]
        }
      ]
    },
    {
      "cell_type": "markdown",
      "source": [
        "Es importante que tengamos en cuenta que esta notación sólo funciona en este tipo de casos y nos arrojará un error al intentar aplicarla en una posición de la lista que no sea indexable (es decir, que el dato no contenga valores con índice en su interior) De momento hemos estudiado dos tipos de datos indexables, las listas y los strings, ya que en las cadenas de texto podemos acceder a un carácter en una posición específica."
      ],
      "metadata": {
        "id": "62rW7OQs7Rgj"
      }
    },
    {
      "cell_type": "code",
      "source": [
        "print(lista2[2][0])"
      ],
      "metadata": {
        "colab": {
          "base_uri": "https://localhost:8080/",
          "height": 165
        },
        "id": "RIiZtcm18R8R",
        "outputId": "90ba826f-8bd2-4b30-9f6e-bd3800c73017"
      },
      "execution_count": null,
      "outputs": [
        {
          "output_type": "error",
          "ename": "TypeError",
          "evalue": "ignored",
          "traceback": [
            "\u001b[0;31m---------------------------------------------------------------------------\u001b[0m",
            "\u001b[0;31mTypeError\u001b[0m                                 Traceback (most recent call last)",
            "\u001b[0;32m<ipython-input-8-e493425a069d>\u001b[0m in \u001b[0;36m<module>\u001b[0;34m()\u001b[0m\n\u001b[0;32m----> 1\u001b[0;31m \u001b[0mprint\u001b[0m\u001b[0;34m(\u001b[0m\u001b[0mlista2\u001b[0m\u001b[0;34m[\u001b[0m\u001b[0;36m2\u001b[0m\u001b[0;34m]\u001b[0m\u001b[0;34m[\u001b[0m\u001b[0;36m0\u001b[0m\u001b[0;34m]\u001b[0m\u001b[0;34m)\u001b[0m\u001b[0;34m\u001b[0m\u001b[0;34m\u001b[0m\u001b[0m\n\u001b[0m",
            "\u001b[0;31mTypeError\u001b[0m: 'float' object is not subscriptable"
          ]
        }
      ]
    },
    {
      "cell_type": "code",
      "source": [
        "s = 'soy un string indexado'\n",
        "print(s[5],s[8])\n"
      ],
      "metadata": {
        "colab": {
          "base_uri": "https://localhost:8080/"
        },
        "id": "8CHI4atM8DFb",
        "outputId": "a0e93fbf-fa90-4aea-fcae-9d08a0cafe4a"
      },
      "execution_count": null,
      "outputs": [
        {
          "output_type": "stream",
          "name": "stdout",
          "text": [
            "n t\n"
          ]
        }
      ]
    },
    {
      "cell_type": "markdown",
      "source": [
        "## Inserción de elementos\n",
        "\n",
        "Añadir nuevos elementos dentro de la lista es un proceso bastante sencillo, contamos con dos métodos, el primero consiste en usar la función `append` de las listas, escribiendolo luego del nombre de la lista y un punto:\n",
        "\n",
        "```python\n",
        "lista.append(dato)\n",
        "```\n",
        "\n"
      ],
      "metadata": {
        "id": "BWpWKLiCBh6O"
      }
    },
    {
      "cell_type": "code",
      "source": [
        "print('lista antes de inserción:',lista)\n",
        "lista.append(5)\n",
        "print('lista luego de inserción:',lista)"
      ],
      "metadata": {
        "colab": {
          "base_uri": "https://localhost:8080/"
        },
        "id": "5Sd9QL89BsaC",
        "outputId": "cc8df7bb-1f63-41f7-db74-ed4c6453c9a7"
      },
      "execution_count": null,
      "outputs": [
        {
          "output_type": "stream",
          "name": "stdout",
          "text": [
            "lista antes de inserción: [1, 2, 3, 4]\n",
            "lista luego de inserción: [1, 2, 3, 4, 5]\n"
          ]
        }
      ]
    },
    {
      "cell_type": "markdown",
      "source": [
        "El segundo método es la concatenación, es decir, unir dos listas pegando la nueva lista al final de la otra, usando el operador de inserción `+=`. \n",
        "\n",
        "```python\n",
        "lista+=[dato]\n",
        "```"
      ],
      "metadata": {
        "id": "x_YLKfZBCkXy"
      }
    },
    {
      "cell_type": "code",
      "source": [
        "print('lista antes de inserción:',lista)\n",
        "lista+=[6]\n",
        "print('lista luego de inserción:',lista)"
      ],
      "metadata": {
        "colab": {
          "base_uri": "https://localhost:8080/"
        },
        "id": "apTWR6UvCjVW",
        "outputId": "d081686e-08ee-4d33-8e6c-62d340ebde1f"
      },
      "execution_count": null,
      "outputs": [
        {
          "output_type": "stream",
          "name": "stdout",
          "text": [
            "lista antes de inserción: [1, 2, 3, 4, 5]\n",
            "lista luego de inserción: [1, 2, 3, 4, 5, 6]\n"
          ]
        }
      ]
    },
    {
      "cell_type": "markdown",
      "source": [
        "Este proceso se puede realizar con listas de cualquier longitud, no necesariamente se debe concatenar un solo dato a la vez."
      ],
      "metadata": {
        "id": "71GLz-CnDX9u"
      }
    },
    {
      "cell_type": "code",
      "source": [
        "print('lista antes de inserción:',lista)\n",
        "lista+=[7,8,9,10]\n",
        "print('lista luego de inserción:',lista)"
      ],
      "metadata": {
        "colab": {
          "base_uri": "https://localhost:8080/"
        },
        "id": "sBBhpANBDl1s",
        "outputId": "d1290caa-4cb5-489d-8fb4-5227cf7dcf06"
      },
      "execution_count": null,
      "outputs": [
        {
          "output_type": "stream",
          "name": "stdout",
          "text": [
            "lista antes de inserción: [1, 2, 3, 4, 5, 6]\n",
            "lista luego de inserción: [1, 2, 3, 4, 5, 6, 7, 8, 9, 10]\n"
          ]
        }
      ]
    },
    {
      "cell_type": "markdown",
      "source": [
        "## Eliminar elementos de una lista\n",
        "Python cuenta con varios métodos para eliminar datos de la lista, cada uno cumple una función distinta.\n",
        "\n",
        "### `del`\n",
        "\n",
        "La sentencia `del` nos permite eliminar directamente de la memoria una lista completa o el valor en una posición específica:"
      ],
      "metadata": {
        "id": "lr_BDHwGD1bK"
      }
    },
    {
      "cell_type": "code",
      "source": [
        "print('lista antes de eliminar un dato:',lista)\n",
        "del lista[3]\n",
        "print('lista luego de eliminar un dato:',lista)"
      ],
      "metadata": {
        "colab": {
          "base_uri": "https://localhost:8080/"
        },
        "id": "Xe8mCsdzEnsu",
        "outputId": "858be9a6-2df8-4bac-cb27-494b02f4891f"
      },
      "execution_count": null,
      "outputs": [
        {
          "output_type": "stream",
          "name": "stdout",
          "text": [
            "lista antes de eliminar un dato: [1, 2, 3, 4, 5, 6, 7, 8, 9, 10]\n",
            "lista luego de eliminar un dato: [1, 2, 3, 5, 6, 7, 8, 9, 10]\n"
          ]
        }
      ]
    },
    {
      "cell_type": "code",
      "source": [
        "del lista\n",
        "print(lista)"
      ],
      "metadata": {
        "colab": {
          "base_uri": "https://localhost:8080/",
          "height": 182
        },
        "id": "QdWIxFUtE0pr",
        "outputId": "defc7eca-94df-4f51-eb36-cea25fc8f408"
      },
      "execution_count": null,
      "outputs": [
        {
          "output_type": "error",
          "ename": "NameError",
          "evalue": "ignored",
          "traceback": [
            "\u001b[0;31m---------------------------------------------------------------------------\u001b[0m",
            "\u001b[0;31mNameError\u001b[0m                                 Traceback (most recent call last)",
            "\u001b[0;32m<ipython-input-19-a365b7d8c882>\u001b[0m in \u001b[0;36m<module>\u001b[0;34m()\u001b[0m\n\u001b[1;32m      1\u001b[0m \u001b[0;32mdel\u001b[0m \u001b[0mlista\u001b[0m\u001b[0;34m\u001b[0m\u001b[0;34m\u001b[0m\u001b[0m\n\u001b[0;32m----> 2\u001b[0;31m \u001b[0mprint\u001b[0m\u001b[0;34m(\u001b[0m\u001b[0mlista\u001b[0m\u001b[0;34m)\u001b[0m\u001b[0;34m\u001b[0m\u001b[0;34m\u001b[0m\u001b[0m\n\u001b[0m",
            "\u001b[0;31mNameError\u001b[0m: name 'lista' is not defined"
          ]
        }
      ]
    },
    {
      "cell_type": "markdown",
      "source": [
        "Como vemos en el bloque de arriba, al usar `del` con la lista completa, al tratar de operar nuevamente con ella, el código nos retorna un error."
      ],
      "metadata": {
        "id": "nsHL5elvE640"
      }
    },
    {
      "cell_type": "code",
      "source": [
        "lista3 = [5,1,2,8,6,4,3,9,10,56,10,9,5,1]"
      ],
      "metadata": {
        "id": "wvjoy_myFJal"
      },
      "execution_count": null,
      "outputs": []
    },
    {
      "cell_type": "markdown",
      "source": [
        "### `remove`\n",
        "\n",
        "Si no conocemos la posición del dato que queremos eliminar, podemos usar la función `remove` (la cual tiene una sintaxis similar a `append`)\n",
        "\n",
        "```python\n",
        "lista.remove(dato)\n",
        "```\n",
        "\n",
        "`remove` recorre la lista de derecha a izquierda (o sea partiendo del índice `0`) y elimina el primer valor que coincida con el dato que especificamos, si el dato no se encuentra, la función retornará un error.\n"
      ],
      "metadata": {
        "id": "vMs_UmZ1FNoE"
      }
    },
    {
      "cell_type": "code",
      "source": [
        "print('lista antes de eliminar un dato:',lista3)\n",
        "lista3.remove(8)\n",
        "print('lista luego de eliminar un dato:',lista3)"
      ],
      "metadata": {
        "colab": {
          "base_uri": "https://localhost:8080/"
        },
        "id": "sYtJ1XQ9GOy-",
        "outputId": "4d22bba3-c8dd-4536-f623-fdd1147620c5"
      },
      "execution_count": null,
      "outputs": [
        {
          "output_type": "stream",
          "name": "stdout",
          "text": [
            "lista antes de eliminar un dato: [5, 1, 2, 8, 6, 4, 3, 9, 10, 56, 10, 9, 5, 1]\n",
            "lista luego de eliminar un dato: [5, 1, 2, 6, 4, 3, 9, 10, 56, 10, 9, 5, 1]\n"
          ]
        }
      ]
    },
    {
      "cell_type": "code",
      "source": [
        "print('lista antes de eliminar un dato:',lista3)\n",
        "lista3.remove(77)\n",
        "print('lista luego de eliminar un dato:',lista3)"
      ],
      "metadata": {
        "colab": {
          "base_uri": "https://localhost:8080/",
          "height": 217
        },
        "id": "zkb_ud9PGb_4",
        "outputId": "c8c76a3c-dcc2-453d-c34c-5121826a0777"
      },
      "execution_count": null,
      "outputs": [
        {
          "output_type": "stream",
          "name": "stdout",
          "text": [
            "lista antes de eliminar un dato: [5, 1, 2, 6, 4, 3, 9, 10, 56, 10, 9, 5, 1]\n"
          ]
        },
        {
          "output_type": "error",
          "ename": "ValueError",
          "evalue": "ignored",
          "traceback": [
            "\u001b[0;31m---------------------------------------------------------------------------\u001b[0m",
            "\u001b[0;31mValueError\u001b[0m                                Traceback (most recent call last)",
            "\u001b[0;32m<ipython-input-24-050a43da3327>\u001b[0m in \u001b[0;36m<module>\u001b[0;34m()\u001b[0m\n\u001b[1;32m      1\u001b[0m \u001b[0mprint\u001b[0m\u001b[0;34m(\u001b[0m\u001b[0;34m'lista antes de eliminar un dato:'\u001b[0m\u001b[0;34m,\u001b[0m\u001b[0mlista3\u001b[0m\u001b[0;34m)\u001b[0m\u001b[0;34m\u001b[0m\u001b[0;34m\u001b[0m\u001b[0m\n\u001b[0;32m----> 2\u001b[0;31m \u001b[0mlista3\u001b[0m\u001b[0;34m.\u001b[0m\u001b[0mremove\u001b[0m\u001b[0;34m(\u001b[0m\u001b[0;36m77\u001b[0m\u001b[0;34m)\u001b[0m\u001b[0;34m\u001b[0m\u001b[0;34m\u001b[0m\u001b[0m\n\u001b[0m\u001b[1;32m      3\u001b[0m \u001b[0mprint\u001b[0m\u001b[0;34m(\u001b[0m\u001b[0;34m'lista luego de eliminar un dato:'\u001b[0m\u001b[0;34m,\u001b[0m\u001b[0mlista3\u001b[0m\u001b[0;34m)\u001b[0m\u001b[0;34m\u001b[0m\u001b[0;34m\u001b[0m\u001b[0m\n",
            "\u001b[0;31mValueError\u001b[0m: list.remove(x): x not in list"
          ]
        }
      ]
    },
    {
      "cell_type": "markdown",
      "source": [
        "### `pop`\n",
        "\n",
        "La función pop() también se puede utilizar para eliminar y devolver un elemento de la lista, pero por defecto sólo elimina el último elemento de la lista, para eliminar un elemento de una posición específica de la Lista, debemos pasar el índice del elemento a la función.\n",
        "\n",
        "```python\n",
        "lista.pop() #elimina el último dato\n",
        "lista.pop(5) #elimina el dato en el índice 5\n",
        "x = lista.pop(4) #elimina el dato en el índice 4 y lo almacena en la variable x\n",
        "n = lista.pop() #elimina el último dato y lo almacena en la variable n\n",
        "```"
      ],
      "metadata": {
        "id": "Twb8XV_PGqHr"
      }
    },
    {
      "cell_type": "code",
      "source": [
        "print('lista antes de eliminar un dato:',lista3)\n",
        "lista3.pop()\n",
        "print('lista luego de eliminar un dato:',lista3)"
      ],
      "metadata": {
        "colab": {
          "base_uri": "https://localhost:8080/"
        },
        "id": "INk4YoQMHWNL",
        "outputId": "75bbd8ee-7fdb-4ba1-bd21-c1ac18c21171"
      },
      "execution_count": null,
      "outputs": [
        {
          "output_type": "stream",
          "name": "stdout",
          "text": [
            "lista antes de eliminar un dato: [5, 1, 2, 6, 4, 3, 9, 10, 56, 10, 9, 5, 1]\n",
            "lista luego de eliminar un dato: [5, 1, 2, 6, 4, 3, 9, 10, 56, 10, 9, 5]\n"
          ]
        }
      ]
    },
    {
      "cell_type": "code",
      "source": [
        "print('lista antes de eliminar un dato:',lista3)\n",
        "lista3.pop(0) #eliminemos el primer dato\n",
        "print('lista luego de eliminar un dato:',lista3)"
      ],
      "metadata": {
        "colab": {
          "base_uri": "https://localhost:8080/"
        },
        "id": "YsOjkFMbHbol",
        "outputId": "6ee342bb-0b3a-4f39-edf7-fef8732bc3c2"
      },
      "execution_count": null,
      "outputs": [
        {
          "output_type": "stream",
          "name": "stdout",
          "text": [
            "lista antes de eliminar un dato: [5, 1, 2, 6, 4, 3, 9, 10, 56, 10, 9, 5]\n",
            "lista luego de eliminar un dato: [1, 2, 6, 4, 3, 9, 10, 56, 10, 9, 5]\n"
          ]
        }
      ]
    },
    {
      "cell_type": "code",
      "source": [
        "print('lista antes de eliminar un dato:',lista3)\n",
        "x = lista3.pop() \n",
        "print('lista luego de eliminar un dato:',lista3)\n",
        "print('dato eliminado: ',x)"
      ],
      "metadata": {
        "colab": {
          "base_uri": "https://localhost:8080/"
        },
        "id": "TF5oV_L5Hhf-",
        "outputId": "a05bd130-bbbd-444a-9f44-77948266a21a"
      },
      "execution_count": null,
      "outputs": [
        {
          "output_type": "stream",
          "name": "stdout",
          "text": [
            "lista antes de eliminar un dato: [1, 2, 6, 4, 3, 9, 10, 56, 10, 9, 5]\n",
            "lista luego de eliminar un dato: [1, 2, 6, 4, 3, 9, 10, 56, 10, 9]\n",
            "dato eliminado:  5\n"
          ]
        }
      ]
    },
    {
      "cell_type": "markdown",
      "source": [
        "## Iteración en una lista\n",
        "\n",
        "Como vemos, imprimir, añadir o eliminar datos de una lista, dependiendo de su tamaño, se puede convertir en una tarea compleja, pero **repetitiva**. Por este motivo Python nos permite recorrer listas usando el ciclo `for`.\n",
        "\n",
        "Tenemos dos alternativas en este caso, la primera consiste en usar la función `len` para conocer el tamaño de la lista y crear el ciclo con un `range` que use este valor como límite.\n",
        "\n",
        "```python\n",
        "for i in range(0,len(lista)):\n",
        "    lista[i] #acceso a la i-ésima posición de la lista\n",
        "\n",
        "```\n",
        "\n",
        "De este modo, podemos acceder a las posiciones de la lista usando el contador del ciclo (en el caso del ejemplo, `i`) Dentro de este ciclo se puede usar cualquiera de las operaciones que hemos visto hasta ahora para manipular la lista.\n"
      ],
      "metadata": {
        "id": "7vtpKmV1IAln"
      }
    },
    {
      "cell_type": "code",
      "source": [
        "%%debug_cell_with_pytutor\n",
        "# Creemos una lista con los números del 1 al 15\n",
        "l = [] #lista vacía\n",
        "for i in range(1,16):\n",
        "    l.append(i)\n",
        "print(l)"
      ],
      "metadata": {
        "id": "OklpPBBvJxDP"
      },
      "execution_count": null,
      "outputs": []
    },
    {
      "cell_type": "code",
      "source": [
        "%%debug_cell_with_pytutor\n",
        "# Creemos una lista con los números del 1 al 15\n",
        "l = [] #lista vacia\n",
        "for i in range(1,16):\n",
        "    l.append(i)\n",
        "print(l)\n",
        "# Eliminemos los valores entre 5 y 10\n",
        "for i in range(5,11):\n",
        "    l.remove(i)\n",
        "print(l)"
      ],
      "metadata": {
        "id": "-VQrIdt8Kzhp"
      },
      "execution_count": null,
      "outputs": []
    },
    {
      "cell_type": "markdown",
      "source": [
        "La segunda alternativa es reemplazar `range` directamente por la lista dentro del ciclo `for`\n",
        "\n",
        "```python\n",
        "for i in lista:\n",
        "    instrucciones\n",
        "\n",
        "```\n",
        "\n",
        "En este caso `i` deja de ser un contador y pasa a recibir uno a uno los valores que estén en la lista, esto es útil cuando no nos interesa conocer el índice de cada dato, por ejemplo, cuando queremos simplemente realizar una operación con los valores. Calculemos la media aritmética de los valores en `lista3`"
      ],
      "metadata": {
        "id": "E1NDtHaGLoh0"
      }
    },
    {
      "cell_type": "code",
      "source": [
        "%%debug_cell_with_pytutor\n",
        "lista3 = [5,1,2,8,6,4,3,9,10,56,10,9,5,1]\n",
        "media = 0 \n",
        "for i in lista3:\n",
        "    print(i) #veamos qué hay internamente en i\n",
        "    media+=i #sumamos el dato al acumulado\n",
        "media/=len(lista3) #dividimos por el total de datos\n",
        "print(\"la media de los datos es: \",media)"
      ],
      "metadata": {
        "id": "3Jk4Q45nraQs"
      },
      "execution_count": null,
      "outputs": []
    },
    {
      "cell_type": "markdown",
      "source": [
        "## Indexado negativo\n",
        "\n",
        "Si por algún motivo necesitamos recorrer las listas de forma inversa, es decir, del dato en el indice de mayor valor hacia el cero, Python nos permite hacerlo de forma simple usando el indexado negativo, del mismo modo que cada posición tiene un valor positivo asociado y partiendo del 0, las listas cuentan con un indice negativo que parte de `-1`, el cual siempre se le asigna al último dato de la lista.\n",
        "\n",
        "<center><img src=\"https://qph.fs.quoracdn.net/main-qimg-a380b1bc159589df5e0b9842e5b56b6d-lq\" alt=\"indices negativos\"></center>\n",
        "\n",
        "Esto es algo muy útil ya que siempre podremos acceder a la última posición de la lista sin necesidad de conocer el tamaño de la misma."
      ],
      "metadata": {
        "id": "E03HhKJI8YLv"
      }
    },
    {
      "cell_type": "code",
      "source": [
        "print(lista3)\n",
        "print('último dato: ',lista3[-1])\n",
        "lista3.pop()\n",
        "print(lista3)\n",
        "print('último dato: ',lista3[-1])\n",
        "lista3.pop()\n",
        "print(lista3)\n",
        "print('último dato: ',lista3[-1])"
      ],
      "metadata": {
        "colab": {
          "base_uri": "https://localhost:8080/"
        },
        "id": "8YcFg6ixsTNC",
        "outputId": "cf9b2094-01f8-483f-fb18-47ef017f7a13"
      },
      "execution_count": null,
      "outputs": [
        {
          "output_type": "stream",
          "name": "stdout",
          "text": [
            "[5, 1, 2, 8, 6, 4, 3, 9, 10, 56, 10, 9, 5, 1]\n",
            "ultimo dato:  1\n",
            "[5, 1, 2, 8, 6, 4, 3, 9, 10, 56, 10, 9, 5]\n",
            "ultimo dato:  5\n",
            "[5, 1, 2, 8, 6, 4, 3, 9, 10, 56, 10, 9]\n",
            "ultimo dato:  9\n"
          ]
        }
      ]
    },
    {
      "cell_type": "markdown",
      "source": [
        "## \"Slicing\"\n",
        "\n",
        "En las listas, hay múltiples formas de imprimir una lista completa con todos los elementos, pero para imprimir un rango específico de elementos de la lista, utilizamos la operación **Slice**. La operación **Slice** se realiza en las Listas con el uso de dos puntos (`:`).\n",
        "```python\n",
        "lista[índice_inicial:índice_final:variación]\n",
        "```\n",
        "La operación de slicing se comporta del mismo modo que la función `range` que estudiamos en la sección anterior, podemos definir un valor inicial y final entre los cuales se extraerán las posiciones de la lista y además podemos definir un incremento en el parámetro `variación`, es decir, la cantidad que saltará entre cada índice (si usamos un incremento de 2, la sublista tomará los datos de 2 en 2). \n",
        " Para imprimir los elementos desde el principio hasta un rango se utiliza `[: índice]`, para imprimir los elementos desde el final se utiliza `[:-índice]`, para imprimir los elementos desde un Índice específico hasta el final se utiliza `[índice:]`, para imprimir los elementos dentro de un rango se utiliza `[índice_inicial:índice_final]` y para imprimir la lista en su totalidad podemos usar el operador `slice` por sí solo `[:]`. Además, para imprimir toda la lista en orden inverso, usamos `[::-1]` ya que un incremento de -1 le indica a Python que debe recorrer en reversa la lista.\n",
        "\n",
        "Como vimos en la imagen anterior, la operación de slice se puede realizar también en sobre los índices negativos. "
      ],
      "metadata": {
        "id": "f8l1u847tIM-"
      }
    },
    {
      "cell_type": "code",
      "source": [
        "texto = ['M', 'O', 'N', 'T', 'Y', ' ', 'P', 'Y', 'T', 'H', 'O', 'N']\n",
        "print(texto[:])"
      ],
      "metadata": {
        "colab": {
          "base_uri": "https://localhost:8080/"
        },
        "id": "cO4vKxddt8P7",
        "outputId": "cc618a30-e407-4274-9308-ae8b7deccef2"
      },
      "execution_count": null,
      "outputs": [
        {
          "output_type": "stream",
          "name": "stdout",
          "text": [
            "['M', 'O', 'N', 'T', 'Y', ' ', 'P', 'Y', 'T', 'H', 'O', 'N']\n"
          ]
        }
      ]
    },
    {
      "cell_type": "code",
      "source": [
        "print(texto[6:10])"
      ],
      "metadata": {
        "colab": {
          "base_uri": "https://localhost:8080/"
        },
        "id": "_vujONaTudzP",
        "outputId": "18f8e21a-792e-4b19-a8e3-08e37aa86715"
      },
      "execution_count": null,
      "outputs": [
        {
          "output_type": "stream",
          "name": "stdout",
          "text": [
            "['P', 'Y', 'T', 'H']\n"
          ]
        }
      ]
    },
    {
      "cell_type": "code",
      "source": [
        "print(texto[-12:-7])"
      ],
      "metadata": {
        "colab": {
          "base_uri": "https://localhost:8080/"
        },
        "id": "4xDQgqRHuiwH",
        "outputId": "6c553914-e689-49c8-86e6-e76aff2a97dd"
      },
      "execution_count": null,
      "outputs": [
        {
          "output_type": "stream",
          "name": "stdout",
          "text": [
            "['M', 'O', 'N', 'T', 'Y']\n"
          ]
        }
      ]
    },
    {
      "cell_type": "code",
      "source": [
        "print(texto[::-1])"
      ],
      "metadata": {
        "colab": {
          "base_uri": "https://localhost:8080/"
        },
        "id": "mniPiZhcupOQ",
        "outputId": "0eca95e0-0db5-4d9f-d231-67d153e7f6d1"
      },
      "execution_count": null,
      "outputs": [
        {
          "output_type": "stream",
          "name": "stdout",
          "text": [
            "['N', 'O', 'H', 'T', 'Y', 'P', ' ', 'Y', 'T', 'N', 'O', 'M']\n"
          ]
        }
      ]
    },
    {
      "cell_type": "code",
      "source": [
        "texto[2:8:2]"
      ],
      "metadata": {
        "colab": {
          "base_uri": "https://localhost:8080/"
        },
        "id": "TlSUOue4u4wo",
        "outputId": "6c55455f-f5a3-4717-b73c-a19a6915001b"
      },
      "execution_count": null,
      "outputs": [
        {
          "output_type": "execute_result",
          "data": {
            "text/plain": [
              "['N', 'Y', 'P']"
            ]
          },
          "metadata": {},
          "execution_count": 14
        }
      ]
    },
    {
      "cell_type": "markdown",
      "source": [
        "## Similitudes entre String y Listas\n",
        "\n",
        "Como habrás notado, tanto las cadenas de caracteres como las listas tienen algunos comportamientos similares, podemos obtener el tamaño de ambos podemos usar la función `len`, ambas tienen una estructura ordenada y podemos acceder a sus datos con la notación de corchetes `[ ]` y de este mismo modo, podemos recorrer los strings con un ciclo for:\n",
        "\n",
        "```python\n",
        "for s in string\n",
        "    intrucción \n",
        "\n",
        "```\n",
        "\n",
        "En este caso, la variable s recibirá en cada iteración uno a uno los caracteres que conforman el string.\n",
        "\n"
      ],
      "metadata": {
        "id": "FiVThh3KEQDD"
      }
    },
    {
      "cell_type": "code",
      "source": [
        "%%debug_cell_with_pytutor\n",
        "cadena = 'parangaricutirimícuaro'\n",
        "for s in cadena:\n",
        "    print(s)"
      ],
      "metadata": {
        "id": "x8SN4EvPGqZq"
      },
      "execution_count": null,
      "outputs": []
    },
    {
      "cell_type": "code",
      "source": [
        "%%debug_cell_with_pytutor\n",
        "cadena = 'parangaricutirimícuaro'\n",
        "for i in range(len(cadena)):\n",
        "    print(cadena[i])"
      ],
      "metadata": {
        "id": "y8mt162zHmDc"
      },
      "execution_count": null,
      "outputs": []
    }
  ]
}