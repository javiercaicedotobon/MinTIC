{
  "nbformat": 4,
  "nbformat_minor": 0,
  "metadata": {
    "colab": {
      "name": "1R-Tuplas y Sets.ipynb",
      "provenance": [],
      "collapsed_sections": []
    },
    "kernelspec": {
      "name": "python3",
      "display_name": "Python 3"
    },
    "language_info": {
      "name": "python"
    }
  },
  "cells": [
    {
      "cell_type": "markdown",
      "source": [
        "**Ejecuta el siguiente bloque de código siempre antes de ejecutar el resto del notebook.**"
      ],
      "metadata": {
        "id": "UM8jTpWputus"
      }
    },
    {
      "cell_type": "code",
      "source": [
        "from IPython.core.magic import  Magics, magics_class, cell_magic, line_magic\n",
        "\n",
        "@magics_class\n",
        "class Helper(Magics):\n",
        "\n",
        "  def __init__(self, shell=None,  **kwargs):\n",
        "    super().__init__(shell=shell, **kwargs)\n",
        "\n",
        "  @cell_magic\n",
        "  def debug_cell_with_pytutor(self, line, cell):\n",
        "    import urllib.parse\n",
        "    url_src = urllib.parse.quote(cell)\n",
        "    str_begin = '<iframe width=\"1000\" height=\"500\" frameborder=\"0\" src=\"https://pythontutor.com/iframe-embed.html#code='\n",
        "    str_end   = '&cumulative=false&py=3&curInstr=0\"></iframe>'\n",
        "    import IPython\n",
        "    from google.colab import output\n",
        "    display(IPython.display.HTML(str_begin+url_src+str_end))\n",
        "\n",
        "get_ipython().register_magics(Helper)"
      ],
      "metadata": {
        "id": "_Q9U0xfAuvta"
      },
      "execution_count": null,
      "outputs": []
    },
    {
      "cell_type": "markdown",
      "source": [
        "#Estructuras de datos 2\n",
        "\n"
      ],
      "metadata": {
        "id": "6lX81dV7IjCH"
      }
    },
    {
      "cell_type": "markdown",
      "source": [
        "## Tuplas\n",
        "La tupla es una colección de objetos de Python muy parecida a una lista. La secuencia de valores almacenados en una tupla puede ser de cualquier tipo, incluyendo también todas las estructuras de datos, además, están indexados por enteros, nuevamente partiendo por el `0`. \n",
        "\n",
        "Al definir la tupla, sus valores se separan mediante \"comas\". Aunque no es necesario, es más común definir una tupla cerrando la secuencia de valores entre paréntesis. Esto ayuda a entender las tuplas de Python más fácilmente.\n",
        "\n",
        "```python\n",
        "tupla = (1,2,3,'a','b','c')\n",
        "\n",
        "```\n",
        "\n",
        "> **Nota**: La creación de tuplas en Python sin el uso de paréntesis se conoce como empaquetamiento de tuplas.  \n",
        "\n",
        "\n"
      ],
      "metadata": {
        "id": "zEWXupTNv-68"
      }
    },
    {
      "cell_type": "code",
      "execution_count": null,
      "metadata": {
        "id": "3i38H8PuIW5T",
        "colab": {
          "base_uri": "https://localhost:8080/"
        },
        "outputId": "dc6f6ac2-b5da-496e-fd59-309463a207a5"
      },
      "outputs": [
        {
          "output_type": "stream",
          "name": "stdout",
          "text": [
            "('manzana', 1234, 'fresa', [1, 2, 3, 4, 5], (5, 9, 7, 5, 4))\n"
          ]
        }
      ],
      "source": [
        "tupla = (\"manzana\", 1234, \"fresa\", [1,2,3,4,5], (5,9,7,5,4))\n",
        "print(tupla)"
      ]
    },
    {
      "cell_type": "markdown",
      "source": [
        "###Longitud de la tupla\n",
        "Para determinar cuántos elementos tiene una tupla, utilice la función `len()`:"
      ],
      "metadata": {
        "id": "zQ6b_KQNu0ib"
      }
    },
    {
      "cell_type": "code",
      "source": [
        "print(len(tupla))"
      ],
      "metadata": {
        "colab": {
          "base_uri": "https://localhost:8080/"
        },
        "id": "gskH3XqSu841",
        "outputId": "2a8d9099-7a93-41bb-d151-831d46bc95a7"
      },
      "execution_count": null,
      "outputs": [
        {
          "output_type": "stream",
          "name": "stdout",
          "text": [
            "5\n"
          ]
        }
      ]
    },
    {
      "cell_type": "markdown",
      "source": [
        "Para crear una tupla de un único dato, es necesario añadir una coma al final del dato, de lo contrario, Python no lo reconocerá como tupla. Es posible crear tuplas vacías, pero no son de mucha utilidad."
      ],
      "metadata": {
        "id": "QqQ8XUnkvTBl"
      }
    },
    {
      "cell_type": "code",
      "source": [
        "print(type(()))"
      ],
      "metadata": {
        "colab": {
          "base_uri": "https://localhost:8080/"
        },
        "id": "xH0JnDbHvFhp",
        "outputId": "b6997686-1cd2-45cd-983f-7a0cca4ac27e"
      },
      "execution_count": null,
      "outputs": [
        {
          "output_type": "stream",
          "name": "stdout",
          "text": [
            "<class 'tuple'>\n"
          ]
        }
      ]
    },
    {
      "cell_type": "code",
      "source": [
        "print(type((1)))"
      ],
      "metadata": {
        "colab": {
          "base_uri": "https://localhost:8080/"
        },
        "id": "88dEfe2avoPD",
        "outputId": "eadaeb6c-bf85-47dd-8510-6e450c8dc574"
      },
      "execution_count": null,
      "outputs": [
        {
          "output_type": "stream",
          "name": "stdout",
          "text": [
            "<class 'int'>\n"
          ]
        }
      ]
    },
    {
      "cell_type": "code",
      "source": [
        "print(type((1,)))"
      ],
      "metadata": {
        "colab": {
          "base_uri": "https://localhost:8080/"
        },
        "id": "8qIL-vsDqQhp",
        "outputId": "285b1af6-7d9b-48da-9aaf-0ec7551f951a"
      },
      "execution_count": null,
      "outputs": [
        {
          "output_type": "stream",
          "name": "stdout",
          "text": [
            "<class 'tuple'>\n"
          ]
        }
      ]
    },
    {
      "cell_type": "markdown",
      "source": [
        "### Inmutabilidad\n",
        "Las tuplas son inmodificables, lo que significa que no podemos cambiar, añadir o eliminar elementos después de la creación de la tupla. Sin embargo podemos acceder a los datos internos de ella usando la notación de corchetes `[ ]`"
      ],
      "metadata": {
        "id": "QeIXqM49vw7E"
      }
    },
    {
      "cell_type": "code",
      "source": [
        "print(tupla[1])"
      ],
      "metadata": {
        "colab": {
          "base_uri": "https://localhost:8080/"
        },
        "id": "ztg5-QVVwOSA",
        "outputId": "af5ef2cd-0a02-4f6d-9024-538fa24f03a7"
      },
      "execution_count": null,
      "outputs": [
        {
          "output_type": "stream",
          "name": "stdout",
          "text": [
            "1234\n"
          ]
        }
      ]
    },
    {
      "cell_type": "code",
      "source": [
        "tupla[1] = 5432"
      ],
      "metadata": {
        "colab": {
          "base_uri": "https://localhost:8080/",
          "height": 165
        },
        "id": "YRziuXxLwT9k",
        "outputId": "45489c94-4bfa-4e02-f2ea-4f37aae6feac"
      },
      "execution_count": null,
      "outputs": [
        {
          "output_type": "error",
          "ename": "TypeError",
          "evalue": "ignored",
          "traceback": [
            "\u001b[0;31m---------------------------------------------------------------------------\u001b[0m",
            "\u001b[0;31mTypeError\u001b[0m                                 Traceback (most recent call last)",
            "\u001b[0;32m<ipython-input-11-ed49bfb97abe>\u001b[0m in \u001b[0;36m<module>\u001b[0;34m()\u001b[0m\n\u001b[0;32m----> 1\u001b[0;31m \u001b[0mtupla\u001b[0m\u001b[0;34m[\u001b[0m\u001b[0;36m1\u001b[0m\u001b[0;34m]\u001b[0m \u001b[0;34m=\u001b[0m \u001b[0;36m5432\u001b[0m\u001b[0;34m\u001b[0m\u001b[0;34m\u001b[0m\u001b[0m\n\u001b[0m",
            "\u001b[0;31mTypeError\u001b[0m: 'tuple' object does not support item assignment"
          ]
        }
      ]
    },
    {
      "cell_type": "code",
      "source": [
        "del tupla[1]"
      ],
      "metadata": {
        "colab": {
          "base_uri": "https://localhost:8080/",
          "height": 165
        },
        "id": "zg1oDf06wXmV",
        "outputId": "61a4f722-5c79-4d39-d9a0-3033bd877830"
      },
      "execution_count": null,
      "outputs": [
        {
          "output_type": "error",
          "ename": "TypeError",
          "evalue": "ignored",
          "traceback": [
            "\u001b[0;31m---------------------------------------------------------------------------\u001b[0m",
            "\u001b[0;31mTypeError\u001b[0m                                 Traceback (most recent call last)",
            "\u001b[0;32m<ipython-input-12-093aa513d8c6>\u001b[0m in \u001b[0;36m<module>\u001b[0;34m()\u001b[0m\n\u001b[0;32m----> 1\u001b[0;31m \u001b[0;32mdel\u001b[0m \u001b[0mtupla\u001b[0m\u001b[0;34m[\u001b[0m\u001b[0;36m1\u001b[0m\u001b[0;34m]\u001b[0m\u001b[0;34m\u001b[0m\u001b[0;34m\u001b[0m\u001b[0m\n\u001b[0m",
            "\u001b[0;31mTypeError\u001b[0m: 'tuple' object doesn't support item deletion"
          ]
        }
      ]
    },
    {
      "cell_type": "markdown",
      "source": [
        "### Iteración en tuplas\n",
        "Podemos recorrer las tuplas con ciclos del mismo modo que se recorren las listas. "
      ],
      "metadata": {
        "id": "Y4FT7ZA1NoS3"
      }
    },
    {
      "cell_type": "code",
      "source": [
        "%%debug_cell_with_pytutor\n",
        "#creemos una tupla\n",
        "tupla = (1,2,3,4,5,9,6,4,7,11,55,24,85,34)\n",
        "#recorramos con range\n",
        "for i in range(len(tupla)):\n",
        "    print(tupla[i], end=\" \")"
      ],
      "metadata": {
        "id": "-3-t1h3AOJ3G"
      },
      "execution_count": null,
      "outputs": []
    },
    {
      "cell_type": "code",
      "source": [
        "%%debug_cell_with_pytutor\n",
        "#creemos una tupla\n",
        "tupla = (1,2,3,4,5,9,6,4,7,11,55,24,85,34)\n",
        "#recorramos iterando directamente sobre la tupla\n",
        "for i in tupla:\n",
        "    print(i, end=\" \")"
      ],
      "metadata": {
        "colab": {
          "base_uri": "https://localhost:8080/"
        },
        "id": "LUo3XrMUPOqv",
        "outputId": "8809d62c-aee5-4454-8749-9e7288a27947"
      },
      "execution_count": null,
      "outputs": [
        {
          "output_type": "stream",
          "name": "stdout",
          "text": [
            "1 2 3 4 5 9 6 4 7 11 55 24 85 34 "
          ]
        }
      ]
    },
    {
      "cell_type": "markdown",
      "source": [
        "### ¿Para qué es útil una tupla?\n",
        "\n",
        "De momento puede parecer que una tupla no tiene mucha utilidad si no se puede modificar su contenido, sin embargo, esta característica las hace brillar en dos de los temas que veremos más adelante, como claves de diccionarios ya que al no poderse modificar, podemos garantizar que un dato siempre sea representado por la misma clave y para retornar más de un resultado en una función, su uso más común. En este [enlace](https://towardsdatascience.com/python-tuples-when-to-use-them-over-lists-75e443f9dcd7) discuten un poco más sobre su utilidad. De momento no nos preocuparemos por explicar los usos que mencionamos, ya que muy pronto entraremos más en detalle en ellos."
      ],
      "metadata": {
        "id": "6xeQ0l59w4NR"
      }
    },
    {
      "cell_type": "markdown",
      "source": [
        "## Sets\n",
        "Los conjuntos o sets se utilizan para almacenar múltiples elementos en una sola variable. Un conjunto es una colección no ordenada, no modificable y no indexada, por lo tanto no es posible usar la notación de corchetes `[ ]` para acceder a su contenido.\n",
        "\n",
        "> **Nota**: \n",
        "* Los elementos de un conjunto son inmutables, pero se pueden eliminar elementos y añadir otros nuevos.\n",
        "* Los conjuntos no están ordenados, por lo que no se puede asegurar en qué orden aparecerán los elementos.\n",
        "* Un set no puede almacenar listas u otros sets en su interior, si requerimos almacenar un paquete de datos en una sola posición, debemos usar tuplas\n",
        "\n",
        "```python\n",
        "conjunto = {} # set vacío\n",
        "conjunto = {1,3,'banana'} \n",
        "\n",
        "```"
      ],
      "metadata": {
        "id": "8GB5qrvtyScl"
      }
    },
    {
      "cell_type": "code",
      "source": [
        "conjunto = {1121,'a',85,(1,2,3),[45.51,85,6]}"
      ],
      "metadata": {
        "colab": {
          "base_uri": "https://localhost:8080/",
          "height": 165
        },
        "id": "8lbuytCQzDA7",
        "outputId": "1b987534-ba36-4d93-8566-e66ed3cecb4b"
      },
      "execution_count": null,
      "outputs": [
        {
          "output_type": "error",
          "ename": "TypeError",
          "evalue": "ignored",
          "traceback": [
            "\u001b[0;31m---------------------------------------------------------------------------\u001b[0m",
            "\u001b[0;31mTypeError\u001b[0m                                 Traceback (most recent call last)",
            "\u001b[0;32m<ipython-input-17-4ae67b010b1c>\u001b[0m in \u001b[0;36m<module>\u001b[0;34m()\u001b[0m\n\u001b[0;32m----> 1\u001b[0;31m \u001b[0mconjunto\u001b[0m \u001b[0;34m=\u001b[0m \u001b[0;34m{\u001b[0m\u001b[0;36m1121\u001b[0m\u001b[0;34m,\u001b[0m\u001b[0;34m'a'\u001b[0m\u001b[0;34m,\u001b[0m\u001b[0;36m85\u001b[0m\u001b[0;34m,\u001b[0m\u001b[0;34m(\u001b[0m\u001b[0;36m1\u001b[0m\u001b[0;34m,\u001b[0m\u001b[0;36m2\u001b[0m\u001b[0;34m,\u001b[0m\u001b[0;36m3\u001b[0m\u001b[0;34m)\u001b[0m\u001b[0;34m,\u001b[0m\u001b[0;34m[\u001b[0m\u001b[0;36m45.51\u001b[0m\u001b[0;34m,\u001b[0m\u001b[0;36m85\u001b[0m\u001b[0;34m,\u001b[0m\u001b[0;36m6\u001b[0m\u001b[0;34m]\u001b[0m\u001b[0;34m}\u001b[0m\u001b[0;34m\u001b[0m\u001b[0;34m\u001b[0m\u001b[0m\n\u001b[0m",
            "\u001b[0;31mTypeError\u001b[0m: unhashable type: 'list'"
          ]
        }
      ]
    },
    {
      "cell_type": "code",
      "source": [
        "conjunto = {1121,'a',85,(1,2,3),{45.51,85,6}}"
      ],
      "metadata": {
        "colab": {
          "base_uri": "https://localhost:8080/",
          "height": 165
        },
        "id": "jaiBIpNbz2dw",
        "outputId": "8b419838-f4b3-4a91-b69f-070ccbc39e42"
      },
      "execution_count": null,
      "outputs": [
        {
          "output_type": "error",
          "ename": "TypeError",
          "evalue": "ignored",
          "traceback": [
            "\u001b[0;31m---------------------------------------------------------------------------\u001b[0m",
            "\u001b[0;31mTypeError\u001b[0m                                 Traceback (most recent call last)",
            "\u001b[0;32m<ipython-input-19-fce6b9b0cd4a>\u001b[0m in \u001b[0;36m<module>\u001b[0;34m()\u001b[0m\n\u001b[0;32m----> 1\u001b[0;31m \u001b[0mconjunto\u001b[0m \u001b[0;34m=\u001b[0m \u001b[0;34m{\u001b[0m\u001b[0;36m1121\u001b[0m\u001b[0;34m,\u001b[0m\u001b[0;34m'a'\u001b[0m\u001b[0;34m,\u001b[0m\u001b[0;36m85\u001b[0m\u001b[0;34m,\u001b[0m\u001b[0;34m(\u001b[0m\u001b[0;36m1\u001b[0m\u001b[0;34m,\u001b[0m\u001b[0;36m2\u001b[0m\u001b[0;34m,\u001b[0m\u001b[0;36m3\u001b[0m\u001b[0;34m)\u001b[0m\u001b[0;34m,\u001b[0m\u001b[0;34m{\u001b[0m\u001b[0;36m45.51\u001b[0m\u001b[0;34m,\u001b[0m\u001b[0;36m85\u001b[0m\u001b[0;34m,\u001b[0m\u001b[0;36m6\u001b[0m\u001b[0;34m}\u001b[0m\u001b[0;34m}\u001b[0m\u001b[0;34m\u001b[0m\u001b[0;34m\u001b[0m\u001b[0m\n\u001b[0m",
            "\u001b[0;31mTypeError\u001b[0m: unhashable type: 'set'"
          ]
        }
      ]
    },
    {
      "cell_type": "code",
      "source": [
        "conjunto = {1121,'a',85,(1,2,3),(45.51,85,6)}\n",
        "print(type(conjunto),conjunto)"
      ],
      "metadata": {
        "colab": {
          "base_uri": "https://localhost:8080/"
        },
        "id": "VU_U4h0E0BPl",
        "outputId": "acc63abe-7379-46de-a08b-b9c7207a1474"
      },
      "execution_count": null,
      "outputs": [
        {
          "output_type": "stream",
          "name": "stdout",
          "text": [
            "<class 'set'> {1121, (45.51, 85, 6), 'a', (1, 2, 3), 85}\n"
          ]
        }
      ]
    },
    {
      "cell_type": "markdown",
      "source": [
        "### No se permiten duplicados\n",
        "Los conjuntos no pueden tener dos elementos con el mismo valor. Los duplicados simplemente se ignorarán"
      ],
      "metadata": {
        "id": "8jXXQ3XG0TZ7"
      }
    },
    {
      "cell_type": "code",
      "source": [
        "c = {1,2,3,1}\n",
        "print(c)"
      ],
      "metadata": {
        "colab": {
          "base_uri": "https://localhost:8080/"
        },
        "id": "VLS1n9dY0jPw",
        "outputId": "ea399ee4-e1e6-4d83-96c6-c7635b9ca76b"
      },
      "execution_count": null,
      "outputs": [
        {
          "output_type": "stream",
          "name": "stdout",
          "text": [
            "{1, 2, 3}\n"
          ]
        }
      ]
    },
    {
      "cell_type": "markdown",
      "source": [
        "### Obtener la longitud de un set\n",
        "Para determinar cuántos elementos tiene un conjunto, utilice la función `len()`."
      ],
      "metadata": {
        "id": "uMfrjFm309LM"
      }
    },
    {
      "cell_type": "code",
      "source": [
        "print(f'{c} tiene {len(c)} elementos')\n",
        "print(f'{conjunto} tiene {len(conjunto)} elementos')"
      ],
      "metadata": {
        "colab": {
          "base_uri": "https://localhost:8080/"
        },
        "id": "KMAAaGF71BLI",
        "outputId": "3875e58f-d55a-49d9-9e3b-e47e3c67e1d6"
      },
      "execution_count": null,
      "outputs": [
        {
          "output_type": "stream",
          "name": "stdout",
          "text": [
            "{1, 2, 3} tiene 3 elementos\n",
            "{1121, (45.51, 85, 6), 'a', (1, 2, 3), 85} tiene 5 elementos\n"
          ]
        }
      ]
    },
    {
      "cell_type": "markdown",
      "source": [
        "###Añadir elementos a un conjunto\n",
        "#### Utilizando el método `add`\n",
        "Los elementos pueden ser añadidos al Conjunto utilizando la función incorporada `add()`. Sólo se puede añadir un elemento a la vez al conjunto utilizando el método add(), los bucles se utilizan para añadir múltiples elementos a la vez con el uso del método `add()`."
      ],
      "metadata": {
        "id": "oPrIVbDtHfe5"
      }
    },
    {
      "cell_type": "code",
      "source": [
        "%%debug_cell_with_pytutor\n",
        "# Creamos un  set\n",
        "set1 = set()\n",
        "print(\"Set en blanco: \")\n",
        "print(set1)\n",
        "  \n",
        "# Añadimos elementos y una tupla al set\n",
        "set1.add(8)\n",
        "set1.add(9)\n",
        "set1.add((6,7))\n",
        "print(\"\\nSet luego de añadir 3 elementos: \")\n",
        "print(set1)\n",
        "  \n",
        "# Añadimos elementos al set\n",
        "# usando ciclos\n",
        "for i in range(1, 6):\n",
        "    set1.add(i)\n",
        "print(\"\\nSet luego de añadir los números del 1 al 5: \")\n",
        "print(set1)"
      ],
      "metadata": {
        "id": "t2i8om-3HvDc"
      },
      "execution_count": null,
      "outputs": []
    },
    {
      "cell_type": "markdown",
      "source": [
        "#### Uso del método `update`\n",
        "Para añadir dos o más elementos se utiliza el método `Update()`. El método `update()` acepta como argumentos listas, cadenas, tuplas y otros conjuntos. En todos estos casos, se evitan los elementos duplicados.\n",
        "\n"
      ],
      "metadata": {
        "id": "Uec_T-twJVwb"
      }
    },
    {
      "cell_type": "code",
      "source": [
        "# Añadimos elementos al set\n",
        "# usando la función update\n",
        "set1 = set([ 4, 5, (6, 7)])\n",
        "print('Set inicial\\n',set1,sep=\"\")\n",
        "set1.update([10, 11])\n",
        "print(\"\\nSet luego de añadir elementos con update: \")\n",
        "print(set1)"
      ],
      "metadata": {
        "colab": {
          "base_uri": "https://localhost:8080/"
        },
        "id": "2kBY42OMJsXi",
        "outputId": "86175c5b-4cce-46d3-d98d-7a9227021d18"
      },
      "execution_count": null,
      "outputs": [
        {
          "output_type": "stream",
          "name": "stdout",
          "text": [
            "Set inicial\n",
            "{4, 5, (6, 7)}\n",
            "\n",
            "Set luego de añadir elementos con update: \n",
            "{4, 5, (6, 7), 10, 11}\n"
          ]
        }
      ]
    },
    {
      "cell_type": "markdown",
      "source": [
        "### Eliminación de elementos del conjunto\n",
        "####Utilizando el método `remove` o el método `discard`\n",
        "Los elementos pueden ser eliminados del conjunto utilizando la función incorporada `remove()` pero se produce un `KeyError` si el elemento no existe en el conjunto. Para eliminar elementos de un conjunto sin `KeyError`, utilice `discard()`, si el elemento no existe en el conjunto, permanece sin cambios.\n",
        "\n"
      ],
      "metadata": {
        "id": "HVV_SiuBKccH"
      }
    },
    {
      "cell_type": "code",
      "source": [
        "# creamos un set\n",
        "set1 = set([1, 2, 3, 4, 5, 6, \n",
        "            7, 8, 9, 10, 11, 12])\n",
        "print(\"Set inicial: \")\n",
        "print(set1)"
      ],
      "metadata": {
        "colab": {
          "base_uri": "https://localhost:8080/"
        },
        "id": "7hSfxKWDLaaQ",
        "outputId": "a4fc232c-05fc-457a-c9da-10653a5a33b9"
      },
      "execution_count": null,
      "outputs": [
        {
          "output_type": "stream",
          "name": "stdout",
          "text": [
            "Set inicial: \n",
            "{1, 2, 3, 4, 5, 6, 7, 8, 9, 10, 11, 12}\n"
          ]
        }
      ]
    },
    {
      "cell_type": "code",
      "source": [
        "# Removemos elementos\n",
        "# usando remove()\n",
        "set1.remove(5)\n",
        "set1.remove(6)\n",
        "print(\"\\nSet luego de eliminar 2 elementos: \")\n",
        "print(set1)"
      ],
      "metadata": {
        "colab": {
          "base_uri": "https://localhost:8080/"
        },
        "id": "TqtIq8B9LoCq",
        "outputId": "a98fcdd8-9174-4223-c2ea-12c3664a70ed"
      },
      "execution_count": null,
      "outputs": [
        {
          "output_type": "stream",
          "name": "stdout",
          "text": [
            "\n",
            "Set luego de eliminar 2 elementos: \n",
            "{1, 2, 3, 4, 7, 8, 9, 10, 11, 12}\n"
          ]
        }
      ]
    },
    {
      "cell_type": "code",
      "source": [
        "#generemos un keyerror\n",
        "set1.remove(15)\n",
        "print(set1)"
      ],
      "metadata": {
        "colab": {
          "base_uri": "https://localhost:8080/",
          "height": 200
        },
        "id": "uZIumfDmL0Hk",
        "outputId": "bcfb05a5-2421-4405-8852-a6e97c2023ae"
      },
      "execution_count": null,
      "outputs": [
        {
          "output_type": "error",
          "ename": "KeyError",
          "evalue": "ignored",
          "traceback": [
            "\u001b[0;31m---------------------------------------------------------------------------\u001b[0m",
            "\u001b[0;31mKeyError\u001b[0m                                  Traceback (most recent call last)",
            "\u001b[0;32m<ipython-input-8-5dbb28a3a77c>\u001b[0m in \u001b[0;36m<module>\u001b[0;34m()\u001b[0m\n\u001b[1;32m      1\u001b[0m \u001b[0;31m#generemos un keyerror\u001b[0m\u001b[0;34m\u001b[0m\u001b[0;34m\u001b[0m\u001b[0;34m\u001b[0m\u001b[0m\n\u001b[0;32m----> 2\u001b[0;31m \u001b[0mset1\u001b[0m\u001b[0;34m.\u001b[0m\u001b[0mremove\u001b[0m\u001b[0;34m(\u001b[0m\u001b[0;36m15\u001b[0m\u001b[0;34m)\u001b[0m\u001b[0;34m\u001b[0m\u001b[0;34m\u001b[0m\u001b[0m\n\u001b[0m\u001b[1;32m      3\u001b[0m \u001b[0mprint\u001b[0m\u001b[0;34m(\u001b[0m\u001b[0mset1\u001b[0m\u001b[0;34m)\u001b[0m\u001b[0;34m\u001b[0m\u001b[0;34m\u001b[0m\u001b[0m\n",
            "\u001b[0;31mKeyError\u001b[0m: 15"
          ]
        }
      ]
    },
    {
      "cell_type": "code",
      "source": [
        "# usando discard()\n",
        "set1.discard(8)\n",
        "set1.discard(9)\n",
        "print(\"\\nSet luego de eliminar 2 elementos: \")\n",
        "print(set1)\n"
      ],
      "metadata": {
        "colab": {
          "base_uri": "https://localhost:8080/"
        },
        "id": "Pn5QbcosLqF7",
        "outputId": "6f53e289-8e7f-42e9-818f-7b6c5dbfdb1c"
      },
      "execution_count": null,
      "outputs": [
        {
          "output_type": "stream",
          "name": "stdout",
          "text": [
            "\n",
            "Set luego de eliminar 2 elementos: \n",
            "{1, 2, 3, 4, 7, 10, 11, 12}\n"
          ]
        }
      ]
    },
    {
      "cell_type": "code",
      "source": [
        "# usando un ciclo\n",
        "for i in range(1, 5):\n",
        "    set1.remove(i)\n",
        "print(\"\\nSet luego de eliminar elementos con un ciclo: \")\n",
        "print(set1)"
      ],
      "metadata": {
        "colab": {
          "base_uri": "https://localhost:8080/"
        },
        "id": "ePYwoTc7NSnv",
        "outputId": "89776f66-d0f0-4a37-f465-7c0652af4eb5"
      },
      "execution_count": null,
      "outputs": [
        {
          "output_type": "stream",
          "name": "stdout",
          "text": [
            "\n",
            "Set luego de eliminar elementos con un ciclo: \n",
            "{7, 10, 11, 12}\n"
          ]
        }
      ]
    },
    {
      "cell_type": "markdown",
      "source": [
        "### Acceder a un conjunto\n",
        "Como no se puede acceder a los elementos de un conjunto haciendo referencia a un índice, ya que los conjuntos no están ordenados y los elementos no tienen índice. Sin embargo, es posible recorrer los elementos del conjunto mediante un ciclo `for` o preguntar si un valor específico está incluído en un conjunto utilizando el operador `in`."
      ],
      "metadata": {
        "id": "3Mkg5atDPcw4"
      }
    },
    {
      "cell_type": "code",
      "source": [
        "%%debug_cell_with_pytutor\n",
        "# Creating a set\n",
        "set1 = set() #set vacío\n",
        "for i in range(0,100,10):\n",
        "    set1.add(i)\n",
        "print(\"set inicial\")\n",
        "print(set1)\n",
        "  \n",
        "# acceso mediante ciclo for\n",
        "print(\"\\nElementos del set: \")\n",
        "for i in set1:\n",
        "    print(i, end=\" \")\n",
        "print()  \n",
        "# Verificar si un elemento pertenece\n",
        "#usando el operador in\n",
        "print(\"10 en set?: \",10 in set1)\n",
        "print(\"15 en set?: \",15 in set1)"
      ],
      "metadata": {
        "id": "S69dDhvEhjZx"
      },
      "execution_count": null,
      "outputs": []
    }
  ]
}