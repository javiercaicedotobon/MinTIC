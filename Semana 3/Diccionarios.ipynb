{
  "nbformat": 4,
  "nbformat_minor": 0,
  "metadata": {
    "colab": {
      "name": "Diccionarios.ipynb",
      "provenance": [],
      "collapsed_sections": []
    },
    "kernelspec": {
      "name": "python3",
      "display_name": "Python 3"
    },
    "language_info": {
      "name": "python"
    }
  },
  "cells": [
    {
      "cell_type": "markdown",
      "source": [
        "**Ejecuta el siguiente bloque de código siempre antes de ejecutar el resto del notebook.**"
      ],
      "metadata": {
        "id": "lvBFkxkcM1km"
      }
    },
    {
      "cell_type": "code",
      "execution_count": null,
      "metadata": {
        "id": "biAeXFW6-FtV"
      },
      "outputs": [],
      "source": [
        "from IPython.core.magic import  Magics, magics_class, cell_magic, line_magic\n",
        "\n",
        "@magics_class\n",
        "class Helper(Magics):\n",
        "\n",
        "  def __init__(self, shell=None,  **kwargs):\n",
        "    super().__init__(shell=shell, **kwargs)\n",
        "\n",
        "  @cell_magic\n",
        "  def debug_cell_with_pytutor(self, line, cell):\n",
        "    import urllib.parse\n",
        "    url_src = urllib.parse.quote(cell)\n",
        "    str_begin = '<iframe width=\"1000\" height=\"500\" frameborder=\"0\" src=\"https://pythontutor.com/iframe-embed.html#code='\n",
        "    str_end   = '&cumulative=false&py=3&curInstr=0\"></iframe>'\n",
        "    import IPython\n",
        "    from google.colab import output\n",
        "    display(IPython.display.HTML(str_begin+url_src+str_end))\n",
        "\n",
        "get_ipython().register_magics(Helper)"
      ]
    },
    {
      "cell_type": "markdown",
      "source": [
        "# Estructuras de datos 3"
      ],
      "metadata": {
        "id": "DhS5ykyWNDtv"
      }
    },
    {
      "cell_type": "markdown",
      "source": [
        "## Diccionarios\n",
        "\n",
        "El diccionario en Python es una colección ordenada de valores de datos utilizada para almacenarlos como un mapa, a diferencia de otros tipos de datos que mantienen un solo valor como elemento, mantiene un par `clave:valor`. Esta pareja `clave:valor` se proporciona en el diccionario para hacerlo más optimizado. \n",
        "\n",
        "\n",
        "Crear un diccionario es tan sencillo como colocar la clave y el valor dentro de llaves (`{}`) y separarlos con una coma. Un elemento del diccionario tendrá una clave y un valor correspondiente expresados como un par `clave: valor`.\n",
        "\n",
        "Mientras que los valores pueden ser de cualquier tipo de datos y pueden repetirse, las claves deben ser de tipo inmutable (**cadena, número o tupla**) y deben ser únicas.\n",
        "\n",
        "\n",
        "> **Nota**: Las claves del diccionario distinguen entre mayúsculas y minúsculas, un mismo nombre capitalizado o no (ej: `Carlos` o `carlos`) será tratado de forma distinta. \n",
        "\n",
        "```python\n",
        "diccionario = {} #dict vacío\n",
        "\n",
        "diccionario = {\n",
        "    \"clave\":valor, #clave string\n",
        "    1 : valor #clave numerica,\n",
        "    (1,2) : valor #clave en tupla\n",
        "}\n",
        "\n",
        "```\n"
      ],
      "metadata": {
        "id": "UmC_GWvPNG7W"
      }
    },
    {
      "cell_type": "markdown",
      "source": [
        "### Elementos del diccionario\n",
        "Los elementos del diccionario están ordenados, son modificables y no admiten duplicados. Como vimos, los elementos del diccionario se presentan en pares `clave:valor`, y se puede hacer referencia a ellos utilizando el nombre de la clave, usando la notación de corchetes`[ ]`."
      ],
      "metadata": {
        "id": "VX0M4_jeO7GK"
      }
    },
    {
      "cell_type": "code",
      "source": [
        "%%debug_cell_with_pytutor\n",
        "#creemos un diccionario que simule una libreta de contactos\n",
        "libreta = {\n",
        "    \"carlos\" : 5486710,\n",
        "    \"hugo\"   : 2483675,\n",
        "    \"paco\"   : 4215876,\n",
        "    \"luis\"   : 3658741\n",
        "}\n",
        "#accedamos al número de paco\n",
        "print(libreta[\"paco\"])"
      ],
      "metadata": {
        "id": "EPs6bThZNAO6"
      },
      "execution_count": null,
      "outputs": []
    },
    {
      "cell_type": "markdown",
      "source": [
        "Al igual que las otras estructuras de datos que hemos visto, los diccionarios también pueden almacenar las demás estructuras en su interior y podemos acceder a sus datos internos con la notación corchetes `[ ]` (excepto los sets):"
      ],
      "metadata": {
        "id": "0kNjpYLkQst5"
      }
    },
    {
      "cell_type": "code",
      "source": [
        "%%debug_cell_with_pytutor\n",
        "dic_anidado = {\n",
        "    \"tupla\" : (1,2,3,4,5),\n",
        "    \"lista\" : [55.2,41.7,658.3],\n",
        "    \"dict\"  : {\n",
        "        1 : \"hola\",\n",
        "        2 : \"mundo\"\n",
        "    },\n",
        "    \"set\": set([3,3.14,4])\n",
        "}\n",
        "print(\"tupla\",dic_anidado[\"tupla\"], dic_anidado[\"tupla\"][1])\n",
        "print(\"lista\",dic_anidado[\"lista\"], dic_anidado[\"lista\"][0])\n",
        "print(\"dict\",dic_anidado[\"dict\"], dic_anidado[\"dict\"][1])"
      ],
      "metadata": {
        "id": "u4xiRJTzQ9o_"
      },
      "execution_count": null,
      "outputs": []
    },
    {
      "cell_type": "markdown",
      "source": [
        "Además de la notación de corchetes, es posible acceder a los datos del diccionario con la función `get`. Al usar corchetes, si la clave no existe, el programa retornará error; si usamos get, el programa retornará `None`"
      ],
      "metadata": {
        "id": "sJEPfa8ZTl2W"
      }
    },
    {
      "cell_type": "code",
      "source": [
        "libreta = {\n",
        "    \"carlos\" : 5486710,\n",
        "    \"hugo\"   : 2483675,\n",
        "    \"paco\"   : 4215876,\n",
        "    \"luis\"   : 3658741\n",
        "}\n"
      ],
      "metadata": {
        "id": "JoZDHuw3T5od"
      },
      "execution_count": null,
      "outputs": []
    },
    {
      "cell_type": "code",
      "source": [
        "print(libreta.get(\"hugo\"))"
      ],
      "metadata": {
        "colab": {
          "base_uri": "https://localhost:8080/"
        },
        "id": "09BYEMEyT7ou",
        "outputId": "ad34e4da-625c-438b-8899-053049adaa88"
      },
      "execution_count": null,
      "outputs": [
        {
          "output_type": "stream",
          "name": "stdout",
          "text": [
            "2483675\n"
          ]
        }
      ]
    },
    {
      "cell_type": "code",
      "source": [
        "print(libreta.get(\"rodolfo\"))"
      ],
      "metadata": {
        "colab": {
          "base_uri": "https://localhost:8080/"
        },
        "id": "g8iISbAHUCg-",
        "outputId": "0ba07a76-947f-4fc9-a27a-5cb1ca6b5063"
      },
      "execution_count": null,
      "outputs": [
        {
          "output_type": "stream",
          "name": "stdout",
          "text": [
            "None\n"
          ]
        }
      ]
    },
    {
      "cell_type": "code",
      "source": [
        "print(libreta[\"rodolfo\"])"
      ],
      "metadata": {
        "colab": {
          "base_uri": "https://localhost:8080/",
          "height": 165
        },
        "id": "KhzRgBWiUEhv",
        "outputId": "d6cd8686-d178-409a-b02c-f24ff582f509"
      },
      "execution_count": null,
      "outputs": [
        {
          "output_type": "error",
          "ename": "KeyError",
          "evalue": "ignored",
          "traceback": [
            "\u001b[0;31m---------------------------------------------------------------------------\u001b[0m",
            "\u001b[0;31mKeyError\u001b[0m                                  Traceback (most recent call last)",
            "\u001b[0;32m<ipython-input-10-04e6b231bfa5>\u001b[0m in \u001b[0;36m<module>\u001b[0;34m()\u001b[0m\n\u001b[0;32m----> 1\u001b[0;31m \u001b[0mprint\u001b[0m\u001b[0;34m(\u001b[0m\u001b[0mlibreta\u001b[0m\u001b[0;34m[\u001b[0m\u001b[0;34m\"rodolfo\"\u001b[0m\u001b[0;34m]\u001b[0m\u001b[0;34m)\u001b[0m\u001b[0;34m\u001b[0m\u001b[0;34m\u001b[0m\u001b[0m\n\u001b[0m",
            "\u001b[0;31mKeyError\u001b[0m: 'rodolfo'"
          ]
        }
      ]
    },
    {
      "cell_type": "markdown",
      "source": [
        "### Adición de elementos a un Diccionario\n",
        "La adición de elementos se puede hacer de múltiples maneras. Se puede añadir un valor a la vez a un diccionario definiendo el valor junto con la clave, por ejemplo, `diccionario[key] = 'Value'`. También se pueden añadir valores de clave anidados a un Diccionario existente. \n",
        " \n",
        "> **Nota**: Al añadir un valor, si la `clave:valor` ya existe, el valor se actualiza, de lo contrario se añade una nueva clave con el valor al diccionario. Recordemos que en Python, los diccionarios no admiten claves duplicadas.\n"
      ],
      "metadata": {
        "id": "zH1p9dYdVi0j"
      }
    },
    {
      "cell_type": "code",
      "source": [
        "%%debug_cell_with_pytutor\n",
        "#creemos un diccionario que simule una libreta de contactos\n",
        "libreta = {\n",
        "    \"carlos\" : 5486710,\n",
        "    \"hugo\"   : 2483675,\n",
        "    \"paco\"   : 4215876,\n",
        "    \"luis\"   : 3658741\n",
        "}\n",
        "\n",
        "libreta['rodolfo'] = 8452165\n",
        "libreta[\"carlos\"]  = 6542138"
      ],
      "metadata": {
        "id": "w9OWRerZWBuv"
      },
      "execution_count": null,
      "outputs": []
    },
    {
      "cell_type": "markdown",
      "source": [
        "### Eliminación de elementos del diccionario\n",
        "#### Usando la palabra clave `del`\n",
        "La eliminación de datos se puede hacer utilizando la sentencia `del`. Con ella, se pueden borrar valores específicos de un diccionario, así como todo el diccionario. Los elementos de un diccionario anidado también pueden ser borrados usando la sentencia `del` y proporcionando la clave completa del dato a eliminar.\n"
      ],
      "metadata": {
        "id": "h5HYbqEZXVIb"
      }
    },
    {
      "cell_type": "code",
      "source": [
        "# diccionario de cuadrados de números\n",
        "cuadrados = {1: 1, 2: 4, 3: 9, 4: 16, 5: 25}\n",
        "print(\"antes\",cuadrados)\n",
        "del cuadrados[3]\n",
        "print(\"después\",cuadrados)"
      ],
      "metadata": {
        "colab": {
          "base_uri": "https://localhost:8080/"
        },
        "id": "JS-KLyCnXUJw",
        "outputId": "f7a478ab-8685-4545-9aea-63bdf47541d1"
      },
      "execution_count": null,
      "outputs": [
        {
          "output_type": "stream",
          "name": "stdout",
          "text": [
            "antes {1: 1, 2: 4, 3: 9, 4: 16, 5: 25}\n",
            "despues {1: 1, 2: 4, 4: 16, 5: 25}\n"
          ]
        }
      ]
    },
    {
      "cell_type": "code",
      "source": [
        "# diccionario con cuadrados y cubos de números\n",
        "numeros = {\n",
        "    \"cuadrados\" : {1: 1, 2: 4, 3: 9, 4: 16, 5: 25},\n",
        "    \"cubos\"     : {1: 1, 2: 8, 3: 27, 4: 64, 5: 125}\n",
        "}\n",
        "print('antes', numeros)\n",
        "del numeros[\"cubos\"][1]\n",
        "print('después', numeros)"
      ],
      "metadata": {
        "colab": {
          "base_uri": "https://localhost:8080/"
        },
        "id": "SEULDpOQYnUR",
        "outputId": "c2df852b-085a-4fd4-8da9-229147fdfec2"
      },
      "execution_count": null,
      "outputs": [
        {
          "output_type": "stream",
          "name": "stdout",
          "text": [
            "antes {'cuadrados': {1: 1, 2: 4, 3: 9, 4: 16, 5: 25}, 'cubos': {1: 1, 2: 8, 3: 27, 4: 64, 5: 125}}\n",
            "despues {'cuadrados': {1: 1, 2: 4, 3: 9, 4: 16, 5: 25}, 'cubos': {2: 8, 3: 27, 4: 64, 5: 125}}\n"
          ]
        }
      ]
    },
    {
      "cell_type": "markdown",
      "source": [
        "#### Usando la función `pop`\n",
        "La función `pop()` se utiliza para devolver y eliminar el valor de la clave especificada."
      ],
      "metadata": {
        "id": "5Go4Rrm8c8rs"
      }
    },
    {
      "cell_type": "code",
      "source": [
        "print('antes',libreta)\n",
        "eliminado = libreta.pop('hugo')\n",
        "print('después',libreta)\n",
        "print('elemento eliminado:',eliminado)"
      ],
      "metadata": {
        "colab": {
          "base_uri": "https://localhost:8080/"
        },
        "id": "2nuG7Sufds5r",
        "outputId": "20c51bc2-2e38-425d-a3d2-fff665ede187"
      },
      "execution_count": null,
      "outputs": [
        {
          "output_type": "stream",
          "name": "stdout",
          "text": [
            "antes {'carlos': 5486710, 'hugo': 2483675, 'paco': 4215876, 'luis': 3658741}\n",
            "despues {'carlos': 5486710, 'paco': 4215876, 'luis': 3658741}\n",
            "elemento eliminado: 2483675\n"
          ]
        }
      ]
    },
    {
      "cell_type": "markdown",
      "source": [
        "### Iterar a través de un diccionario\n",
        "Podemos iterar a través de cada clave de un diccionario utilizando un ciclo `for`. En este caso, el ciclo le entrega a nuestra variable contadora (en el ejemplo es `i`) cada una de las claves del diccionario:\n",
        "\n",
        "```python\n",
        "for i in diccionario:\n",
        "    print(diccionario[i]) #acceso al valor a través de la i-ésima clave\n",
        "\n",
        "```"
      ],
      "metadata": {
        "id": "s21iEaMSeBOl"
      }
    },
    {
      "cell_type": "code",
      "source": [
        "for tel in libreta:\n",
        "    print(f\"{tel}, tel: {libreta[tel]}\")"
      ],
      "metadata": {
        "colab": {
          "base_uri": "https://localhost:8080/"
        },
        "id": "8bpDdf1mesYI",
        "outputId": "60dcfe21-c793-4d0e-9791-e455ac8ece6f"
      },
      "execution_count": null,
      "outputs": [
        {
          "output_type": "stream",
          "name": "stdout",
          "text": [
            "carlos, tel: 5486710\n",
            "paco, tel: 4215876\n",
            "luis, tel: 3658741\n"
          ]
        }
      ]
    },
    {
      "cell_type": "code",
      "source": [
        "print(libreta)"
      ],
      "metadata": {
        "colab": {
          "base_uri": "https://localhost:8080/"
        },
        "id": "1KXA-3weesZN",
        "outputId": "dab50153-d7f8-4c48-8dae-11d129ec08fb"
      },
      "execution_count": null,
      "outputs": [
        {
          "output_type": "stream",
          "name": "stdout",
          "text": [
            "{'carlos': 5486710, 'paco': 4215876, 'luis': 3658741}\n"
          ]
        }
      ]
    }
  ]
}