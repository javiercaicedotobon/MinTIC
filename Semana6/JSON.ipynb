{
  "nbformat": 4,
  "nbformat_minor": 0,
  "metadata": {
    "colab": {
      "name": "2R-JSON.ipynb",
      "provenance": [],
      "collapsed_sections": []
    },
    "kernelspec": {
      "name": "python3",
      "display_name": "Python 3"
    },
    "language_info": {
      "name": "python"
    }
  },
  "cells": [
    {
      "cell_type": "markdown",
      "source": [
        "**Ejecuta esta línea para cargar los archivos necesarios para el notebook**"
      ],
      "metadata": {
        "id": "1hb_2XCnJIj5"
      }
    },
    {
      "cell_type": "code",
      "source": [
        "!wget https://raw.githubusercontent.com/dduril/Movies-JSON/master/marvel-cinematic-universe.json"
      ],
      "metadata": {
        "colab": {
          "base_uri": "https://localhost:8080/"
        },
        "id": "rvHz3x-vJJJv",
        "outputId": "55634987-ee73-42b7-d382-dead079c2ced"
      },
      "execution_count": null,
      "outputs": [
        {
          "output_type": "stream",
          "name": "stdout",
          "text": [
            "--2022-03-16 00:33:51--  https://raw.githubusercontent.com/dduril/Movies-JSON/master/marvel-cinematic-universe.json\n",
            "Resolving raw.githubusercontent.com (raw.githubusercontent.com)... 185.199.108.133, 185.199.110.133, 185.199.111.133, ...\n",
            "Connecting to raw.githubusercontent.com (raw.githubusercontent.com)|185.199.108.133|:443... connected.\n",
            "HTTP request sent, awaiting response... 200 OK\n",
            "Length: 10199 (10.0K) [text/plain]\n",
            "Saving to: ‘marvel-cinematic-universe.json’\n",
            "\n",
            "\r          marvel-ci   0%[                    ]       0  --.-KB/s               \rmarvel-cinematic-un 100%[===================>]   9.96K  --.-KB/s    in 0s      \n",
            "\n",
            "2022-03-16 00:33:51 (62.7 MB/s) - ‘marvel-cinematic-universe.json’ saved [10199/10199]\n",
            "\n"
          ]
        }
      ]
    },
    {
      "cell_type": "markdown",
      "source": [
        "# Manejo de archivos 2\n",
        "Estudiemos el manejo de tipos especiales de archivos, estos están diseñados para almacenar de forma estructurada la información, facilitando su procesamiento con lenguajes de programación. Iniciaremos con los archivos en formato ***JSON***."
      ],
      "metadata": {
        "id": "7uK2LcHjDVir"
      }
    },
    {
      "cell_type": "markdown",
      "source": [
        "## ¿Qué es JSON?\n",
        "JSON o JavaScript Object Notation es un formato para estructurar datos. Este formato de datos es especialmente utilizado por las aplicaciones web para comunicarse entre sí. Todos los archivos con este formato deben tener la extensión `.json` para diferenciarlos.\n",
        "\n"
      ],
      "metadata": {
        "id": "2qakrW5zExbZ"
      }
    },
    {
      "cell_type": "markdown",
      "source": [
        "###Características\n",
        "\n",
        "* Es legible y escribible por humanos.\n",
        "* Es un formato de intercambio de datos basado en texto ligero, lo que significa que es más sencillo de leer y escribir en comparación con XML.\n",
        "* Se utiliza ampliamente como formato de almacenamiento y comunicación de datos en la web.\n",
        "* Aunque se deriva de un subconjunto de JavaScript, es independiente del lenguaje. Por lo tanto, el código para generar y analizar los datos JSON puede ser escrito en cualquier otro lenguaje de programación.\n"
      ],
      "metadata": {
        "id": "QemgOctzF1WU"
      }
    },
    {
      "cell_type": "markdown",
      "source": [
        "###Reglas de la **sintaxis**\n",
        "La sintaxis de los JSON se deriva de la sintaxis de la notación de objetos de JavaScript:\n",
        "\n",
        "* Los datos están en pares `nombre:valor` y cada paquete de datos está rodeado por llaves `{ }`\n",
        "\n",
        "```\n",
        "{ \"nombre\":\"Thanos\" }\n",
        "```\n",
        "\n",
        "¿Te recuerda a alguna estructura que ya hemos estudiado?\n",
        "\n",
        "* Los datos están separados por comas\n",
        "```\n",
        "{ \n",
        "    \"nombre\":\"Thanos\",\n",
        "    \"ocupación\":\"Destruir la mitad del universo\"\n",
        "}\n",
        "```\n",
        "\n",
        "* Los corchetes contienen listas \n",
        "\n",
        "```\n",
        "{ \n",
        "    \"nombre\":\"Thanos\",\n",
        "    \"ocupación\":\"Destruir la mitad del universo\",\n",
        "    \"poderes\":[\n",
        "        \"Puede destruir cualquier cosa con un chasquido de dedos\",\n",
        "        \"Resistencia al daño\", \n",
        "        \"Reflejos sobrehumanos\"\n",
        "    ] \n",
        "}\n",
        "\n",
        "```\n",
        "* Es posible tener arreglos de objetos JSON.\n",
        "\n",
        "```\n",
        "{\n",
        "    \"Avengers\": [\n",
        "  \n",
        "        {\n",
        "          \"nombre\" : \"Tony stark\",\n",
        "          \"A.K.A\" : \"Iron man\",\n",
        "          \"habilidades\" : [ \"Genio\", \"Billonario\",\n",
        "                        \"Playboy\", \"Filántropo\" ]\n",
        "        },\n",
        "  \n",
        "        {\n",
        "          \"nombre\" : \"Peter parker\",\n",
        "          \"A.K.A\" : \"Spider man\",\n",
        "          \"habilidades\" : [ \"Telarañas\", \"Sentido Arácnido\" ]\n",
        "        }\n",
        "    ]\n",
        "}\n",
        "\n",
        "```"
      ],
      "metadata": {
        "id": "5l2iW2aFGEFP"
      }
    },
    {
      "cell_type": "markdown",
      "source": [
        "## Lectura de archivos JSON\n",
        "\n",
        "Intentemos primero abrir un archivo como aprendimos en la sección pasada, ¿cómo leería Python su interior? Para este notebook usaremos una base de datos en formato JSON, que contiene información variada sobre las películas del universo cinematográfico de Marvel. Tenemos una clave principal `Marvel Cinematic Universe` que almacena en su interior cada película como objetos JSON, así, cada película tendrá por clave su nombre (ej: `Iron Man` o `Marvel's The Avengers`) y en su interior hay información como la fecha de estreno o las ganancias de la película."
      ],
      "metadata": {
        "id": "KF2dGI_-JVsr"
      }
    },
    {
      "cell_type": "code",
      "execution_count": null,
      "metadata": {
        "colab": {
          "base_uri": "https://localhost:8080/"
        },
        "id": "lUz5DGzF0eHr",
        "outputId": "ffd2afb6-55e2-47c9-dc05-d69cd2f3cc9b"
      },
      "outputs": [
        {
          "output_type": "stream",
          "name": "stdout",
          "text": [
            "{\n",
            "\t\"Marvel Cinematic Universe\" : {\n",
            "\t\t\"Iron Man\": {\n",
            "\t\t\t\"movie_id\" : 1,\n",
            "\t\t\t\"title\" : \"Iron Man\",\n",
            "\t\t\t\"phase\" : \"Phase One: Avengers Assembled\",\n",
            "\t\t\t\"category_name\" : \"Action\",\n",
            "\t\t\t\"release_year\" : 2015,\n",
            "\t\t\t\"running_time\" : 126,\n",
            "\t\t\t\"rating_name\" : \"PG-13\",\n",
            "\t\t\t\"disc_format_name\" : \"Blu-ray\",\n",
            "\t\t\t\"number_discs\" : 1,\n",
            "\t\t\t\"viewing_format_name\" : \"Widescreen\",\n",
            "\t\t\t\"aspect_ratio_name\" : \"2.35:1\",\n",
            "\t\t\t\"status\" : 1,\n",
            "\t\t\t\"release_date\" : \"May 2, 2008\",\n",
            "\t\t\t\"budget\" : \"140,000,000\",\n",
            "\t\t\t\"gross\" : \"318,298,180\",\n",
            "\t\t\t\"time_stamp\" : \"2015-05-03\"\n",
            "\t\t},\n",
            "\t\t\"The Incredible Hulk\": {\n",
            "\t\t\t\"movie_id\" : 2,\n",
            "\t\t\t\"title\" : \"The Incredible Hulk\",\n",
            "\t\t\t\"phase\" : \"Phase One: Avengers Assembled\",\n",
            "\t\t\t\"category_name\" : \"Action\",\n",
            "\t\t\t\"release_year\" : 2008,\n",
            "\t\t\t\"running_time\" : 112,\n",
            "\t\t\t\"rating_name\" : \"PG-13\",\n",
            "\t\t\t\"disc_format_name\" : \"DVD\",\n",
            "\t\t\t\"number_discs\" : 3,\n",
            "\t\t\t\"viewing_format_name\" : \"Widescreen\",\n",
            "\t\t\t\"aspect_ratio_name\" : \"2.35:1\",\n",
            "\t\t\t\"status\" : 1,\n",
            "\t\t\t\"release_date\" : \"June 13, 2008\",\n",
            "\t\t\t\"budget\" : \"150,000,000\",\n",
            "\t\t\t\"gross\" : \"134,518,390\",\n",
            "\t\t\t\"time_stamp\" : \"2008-10-21\"\n",
            "\t\t},\n",
            "\t\t\"Iron Man 2\": {\n",
            "\t\t\t\"movie_id\" : 3,\n",
            "\t\t\t\"title\" : \"Iron Man 2\",\n",
            "\t\t\t\"phase\" : \"Phase One: Avengers Assembled\",\n",
            "\t\t\t\"category_name\" : \"Action\",\n",
            "\t\t\t\"release_year\" : 2015,\n",
            "\t\t\t\"running_time\" : 124,\n",
            "\t\t\t\"rating_name\" : \"PG-13\",\n",
            "\t\t\t\"disc_format_name\" : \"Blu-ray\",\n",
            "\t\t\t\"number_discs\" : 1,\n",
            "\t\t\t\"viewing_format_name\" : \"Widescreen\",\n",
            "\t\t\t\"aspect_ratio_name\" : \"2.35:1\",\n",
            "\t\t\t\"status\" : 1,\n",
            "\t\t\t\"release_date\" : \"May 7, 2010\",\n",
            "\t\t\t\"budget\" : \"200,000,000\",\n",
            "\t\t\t\"gross\" : \"312,057,433\",\n",
            "\t\t\t\"time_stamp\" : \"2015-05-03\"\n",
            "\t\t},\n",
            "\t\t\"Thor\": {\n",
            "\t\t\t\"movie_id\" : 4,\n",
            "\t\t\t\"title\" : \"Thor\",\n",
            "\t\t\t\"phase\" : \"Phase One: Avengers Assembled\",\n",
            "\t\t\t\"category_name\" : \"Action\",\n",
            "\t\t\t\"release_year\" : 2011,\n",
            "\t\t\t\"running_time\" : 115,\n",
            "\t\t\t\"rating_name\" : \"PG-13\",\n",
            "\t\t\t\"disc_format_name\" : \"Blu-ray + DVD\",\n",
            "\t\t\t\"number_discs\" : 2,\n",
            "\t\t\t\"viewing_format_name\" : \"Widescreen\",\n",
            "\t\t\t\"aspect_ratio_name\" : \"2.35:1\",\n",
            "\t\t\t\"status\" : 1,\n",
            "\t\t\t\"release_date\" : \"May 6, 2011\",\n",
            "\t\t\t\"budget\" : \"150,000,000\",\n",
            "\t\t\t\"gross\" : \"181,015,141\",\n",
            "\t\t\t\"time_stamp\" : \"2011-10-30\"\n",
            "\t\t},\n",
            "\t\t\"Captain America: The First Avenger\": {\n",
            "\t\t\t\"movie_id\" : 5,\n",
            "\t\t\t\"title\" : \"Captain America\",\n",
            "\t\t\t\"phase\" : \"Phase One: Avengers Assembled\",\n",
            "\t\t\t\"category_name\" : \"Action\",\n",
            "\t\t\t\"release_year\" : 2011,\n",
            "\t\t\t\"running_time\" : 124,\n",
            "\t\t\t\"rating_name\" : \"PG-13\",\n",
            "\t\t\t\"disc_format_name\" : \"Blu-ray + DVD\",\n",
            "\t\t\t\"number_discs\" : 2,\n",
            "\t\t\t\"viewing_format_name\" : \"Widescreen\",\n",
            "\t\t\t\"aspect_ratio_name\" : \"2.35:1\",\n",
            "\t\t\t\"status\" : 1,\n",
            "\t\t\t\"release_date\" : \"July 22, 2011\",\n",
            "\t\t\t\"budget\" : \"140,000,000\",\n",
            "\t\t\t\"gross\" : \"176,636,816\",\n",
            "\t\t\t\"time_stamp\" : \"2011-10-30\"\n",
            "\t\t},\n",
            "\t\t\"Marvel's The Avengers\": {\n",
            "\t\t\t\"movie_id\" : 6,\n",
            "\t\t\t\"title\" : \"Avengers, The\",\n",
            "\t\t\t\"phase\" : \"Phase One: Avengers Assembled\",\n",
            "\t\t\t\"category_name\" : \"Science Fiction\",\n",
            "\t\t\t\"release_year\" : 2012,\n",
            "\t\t\t\"running_time\" : 143,\n",
            "\t\t\t\"rating_name\" : \"PG-13\",\n",
            "\t\t\t\"disc_format_name\" : \"Blu-ray + DVD\",\n",
            "\t\t\t\"number_discs\" : 2,\n",
            "\t\t\t\"viewing_format_name\" : \"Widescreen\",\n",
            "\t\t\t\"aspect_ratio_name\" : \"1.85:1\",\n",
            "\t\t\t\"status\" : 1,\n",
            "\t\t\t\"release_date\" : \"May 4, 2012\",\n",
            "\t\t\t\"budget\" : \"220,000,000\",\n",
            "\t\t\t\"gross\" : \"623,279,547\",\n",
            "\t\t\t\"time_stamp\" : \"2012-10-20\"\n",
            "\t\t},\n",
            "\t\t\"Iron Man 3\": {\n",
            "\t\t\t\"movie_id\" : 7,\n",
            "\t\t\t\"title\" : \"Iron Man 3\",\n",
            "\t\t\t\"phase\" : \"Phase Two\",\n",
            "\t\t\t\"category_name\" : \"Action\",\n",
            "\t\t\t\"release_year\" : 2015,\n",
            "\t\t\t\"running_time\" : 130,\n",
            "\t\t\t\"rating_name\" : \"PG-13\",\n",
            "\t\t\t\"disc_format_name\" : \"Blu-ray + DVD\",\n",
            "\t\t\t\"number_discs\" : 2,\n",
            "\t\t\t\"viewing_format_name\" : \"Widescreen\",\n",
            "\t\t\t\"aspect_ratio_name\" : \"2.35:1\",\n",
            "\t\t\t\"status\" : 1,\n",
            "\t\t\t\"release_date\" : \"May 3, 2013\",\n",
            "\t\t\t\"budget\" : \"200,000,000\",\n",
            "\t\t\t\"gross\" : \"408,992,272\",\n",
            "\t\t\t\"time_stamp\" : \"2015-05-03\"\n",
            "\t\t},\n",
            "\t\t\"Thor: The Dark World\": {\n",
            "\t\t\t\"movie_id\" : 8,\n",
            "\t\t\t\"title\" : \"Thor: The Dark World\",\n",
            "\t\t\t\"phase\" : \"Phase Two\",\n",
            "\t\t\t\"category_name\" : \"Science Fiction\",\n",
            "\t\t\t\"release_year\" : 2013,\n",
            "\t\t\t\"running_time\" : 112,\n",
            "\t\t\t\"rating_name\" : \"PG-13\",\n",
            "\t\t\t\"disc_format_name\" : \"Blu-ray\",\n",
            "\t\t\t\"number_discs\" : 2,\n",
            "\t\t\t\"viewing_format_name\" : \"Widescreen\",\n",
            "\t\t\t\"aspect_ratio_name\" : \"2.35:1\",\n",
            "\t\t\t\"status\" : 1,\n",
            "\t\t\t\"release_date\" : \"November 8, 2013\",\n",
            "\t\t\t\"budget\" : \"170,000,000\",\n",
            "\t\t\t\"gross\" : \"206,360,018\",\n",
            "\t\t\t\"time_stamp\" : \"2014-03-04\"\n",
            "\t\t},\n",
            "\t\t\"Captain America: The Winter Soldier\": {\n",
            "\t\t\t\"movie_id\" : 9,\n",
            "\t\t\t\"title\" : \"Captain America: The Winter Soldier\",\n",
            "\t\t\t\"phase\" : \"Phase Two\",\n",
            "\t\t\t\"edition\" : \"Blu-ray Edition\",\n",
            "\t\t\t\"release_year\" : 2014,\n",
            "\t\t\t\"running_time\" : 136,\n",
            "\t\t\t\"rating_name\" : \"PG-13\",\n",
            "\t\t\t\"disc_format_name\" : \"Blu-ray\",\n",
            "\t\t\t\"number_discs\" : 1,\n",
            "\t\t\t\"viewing_format_name\" : \"Widescreen\",\n",
            "\t\t\t\"aspect_ratio_name\" : \"2.35:1\",\n",
            "\t\t\t\"status\" : 1,\n",
            "\t\t\t\"release_date\" : \"April 4, 2014\",\n",
            "\t\t\t\"budget\" : \"170,000,000\",\n",
            "\t\t\t\"gross\" : \"259,746,958\",\n",
            "\t\t\t\"time_stamp\" : \"2014-09-19\"\n",
            "\t\t},\n",
            "\t\t\"Guardians of the Galaxy\": {\n",
            "\t\t\t\"movie_id\" : 10,\n",
            "\t\t\t\"title\" : \"Guardians of the Galaxy\",\n",
            "\t\t\t\"phase\" : \"Phase Two\",\n",
            "\t\t\t\"category_name\" : \"Science Fiction\",\n",
            "\t\t\t\"release_year\" : 2014,\n",
            "\t\t\t\"running_time\" : 121,\n",
            "\t\t\t\"rating_name\" : \"PG-13\",\n",
            "\t\t\t\"disc_format_name\" : \"Blu-ray\",\n",
            "\t\t\t\"number_discs\" : 1,\n",
            "\t\t\t\"viewing_format_name\" : \"Widescreen\",\n",
            "\t\t\t\"aspect_ratio_name\" : \"2.35:1\",\n",
            "\t\t\t\"status\" : 1,\n",
            "\t\t\t\"release_date\" : \"August 1, 2014\",\n",
            "\t\t\t\"budget\" : \"170,000,000\",\n",
            "\t\t\t\"gross\" : \"333,130,696\",\n",
            "\t\t\t\"time_stamp\" : \"2014-12-07\"\n",
            "\t\t},\n",
            "\t\t\"Avengers: Age of Ultron\": {\n",
            "\t\t\t\"movie_id\" : 11,\n",
            "\t\t\t\"title\" : \"Avengers: Age of Ultron\",\n",
            "\t\t\t\"phase\" : \"Phase Two\",\n",
            "\t\t\t\"category_name\" : \"Science Fiction\",\n",
            "\t\t\t\"release_year\" : 2015,\n",
            "\t\t\t\"running_time\" : 141,\n",
            "\t\t\t\"rating_name\" : \"PG-13\",\n",
            "\t\t\t\"disc_format_name\" : \"Blu-ray\",\n",
            "\t\t\t\"number_discs\" : 1,\n",
            "\t\t\t\"viewing_format_name\" : \"Widescreen\",\n",
            "\t\t\t\"aspect_ratio_name\" : \"2.35:1\",\n",
            "\t\t\t\"status\" : 1,\n",
            "\t\t\t\"release_date\" : \"May 1, 2015\",\n",
            "\t\t\t\"budget\" : \"250,000,000\",\n",
            "\t\t\t\"gross\" : \"458,991,599\",\n",
            "\t\t\t\"time_stamp\" : \"2015-12-07\"\n",
            "\t\t},\n",
            "\t\t\"Ant-Man\": {\n",
            "\t\t\t\"movie_id\" : 12,\n",
            "\t\t\t\"title\" : \"Ant-Man\",\n",
            "\t\t\t\"phase\" : \"Phase Two\",\n",
            "\t\t\t\"category_name\" : \"Science Fiction\",\n",
            "\t\t\t\"release_year\" : 2015,\n",
            "\t\t\t\"running_time\" : 132,\n",
            "\t\t\t\"rating_name\" : \"PG-13\",\n",
            "\t\t\t\"disc_format_name\" : \"Blu-ray\",\n",
            "\t\t\t\"number_discs\" : 1,\n",
            "\t\t\t\"viewing_format_name\" : \"Widescreen\",\n",
            "\t\t\t\"aspect_ratio_name\" : \"1.85:1\",\n",
            "\t\t\t\"status\" : 1,\n",
            "\t\t\t\"release_date\" : \"July 17, 2015\",\n",
            "\t\t\t\"budget\" : \"130,000,000\",\n",
            "\t\t\t\"gross\" : \"179,017,481\",\n",
            "\t\t\t\"time_stamp\" : \"2015-12-07\"\n",
            "\t\t},\n",
            "\t\t\"Captain America: Civil War\": {\n",
            "\t\t\t\"movie_id\" : 13,\n",
            "\t\t\t\"title\" : \"Captain America: Civil War\",\n",
            "\t\t\t\"phase\" : \"Phase Three\",\n",
            "\t\t\t\"category_name\" : \"Science Fiction\",\n",
            "\t\t\t\"release_year\" : 2016,\n",
            "\t\t\t\"running_time\" : 147,\n",
            "\t\t\t\"rating_name\" : \"PG-13\",\n",
            "\t\t\t\"disc_format_name\" : \"Blu-ray\",\n",
            "\t\t\t\"number_discs\" : 1,\n",
            "\t\t\t\"viewing_format_name\" : \"Widescreen\",\n",
            "\t\t\t\"aspect_ratio_name\" : \"2.39:1\",\n",
            "\t\t\t\"status\" : 1,\n",
            "\t\t\t\"release_date\" : \"May 6, 2016\",\n",
            "\t\t\t\"budget\" : \"250,00,000\",\n",
            "\t\t\t\"gross\" : \"408,084,349\",\n",
            "\t\t\t\"time_stamp\" : \"2017-11-09\"\n",
            "\t\t},\n",
            "\t\t\"Doctor Strange\": {\n",
            "\t\t\t\"movie_id\" : 14,\n",
            "\t\t\t\"title\" : \"Doctor Strange\",\n",
            "\t\t\t\"phase\" : \"Phase Three\",\n",
            "\t\t\t\"category_name\" : \"Science Fiction\",\n",
            "\t\t\t\"release_year\" : 2016,\n",
            "\t\t\t\"running_time\" : 115,\n",
            "\t\t\t\"rating_name\" : \"PG-13\",\n",
            "\t\t\t\"disc_format_name\" : \"Blu-ray\",\n",
            "\t\t\t\"number_discs\" : 1,\n",
            "\t\t\t\"viewing_format_name\" : \"Widescreen\",\n",
            "\t\t\t\"aspect_ratio_name\" : \"2.39:1\",\n",
            "\t\t\t\"status\" : 1,\n",
            "\t\t\t\"release_date\" : \"November 4, 2016\",\n",
            "\t\t\t\"budget\" : \"165,000,000\",\n",
            "\t\t\t\"gross\" : \"232,641,920\",\n",
            "\t\t\t\"time_stamp\" : \"2017-11-09\"\n",
            "\t\t},\n",
            "\t\t\"Guardians of the Galaxy Vol. 2\": {\n",
            "\t\t\t\"movie_id\" : 15,\n",
            "\t\t\t\"title\" : \"Guardians of the Galaxy Vol. 2\",\n",
            "\t\t\t\"phase\" : \"Phase Three\",\n",
            "\t\t\t\"category_name\" : \"Science Fiction\",\n",
            "\t\t\t\"release_year\" : 2017,\n",
            "\t\t\t\"running_time\" : 136,\n",
            "\t\t\t\"rating_name\" : \"PG-13\",\n",
            "\t\t\t\"disc_format_name\" : \"Blu-ray\",\n",
            "\t\t\t\"number_discs\" : 1,\n",
            "\t\t\t\"viewing_format_name\" : \"Widescreen\",\n",
            "\t\t\t\"aspect_ratio_name\" : \"2.39:1\",\n",
            "\t\t\t\"status\" : 1,\n",
            "\t\t\t\"release_date\" : \"May 5, 2017\",\n",
            "\t\t\t\"budget\" : \"200,000,000\",\n",
            "\t\t\t\"gross\" : \"389,213,281\",\n",
            "\t\t\t\"time_stamp\" : \"2017-11-09\"\n",
            "\t\t},\n",
            "\t\t\"Spider-Man: Homecoming\": {\n",
            "\t\t\t\"movie_id\" : 16,\n",
            "\t\t\t\"title\" : \"Spider-Man: Homecoming\",\n",
            "\t\t\t\"phase\" : \"Phase Three\",\n",
            "\t\t\t\"category_name\" : \"Science Fiction\",\n",
            "\t\t\t\"release_year\" : 2017,\n",
            "\t\t\t\"running_time\" : 133,\n",
            "\t\t\t\"rating_name\" : \"PG-13\",\n",
            "\t\t\t\"disc_format_name\" : \"Blu-ray\",\n",
            "\t\t\t\"number_discs\" : 1,\n",
            "\t\t\t\"viewing_format_name\" : \"Widescreen\",\n",
            "\t\t\t\"aspect_ratio_name\" : \"2.35:1\",\n",
            "\t\t\t\"status\" : 1,\n",
            "\t\t\t\"release_date\" : \"July 7, 2017\",\n",
            "\t\t\t\"budget\" : \"175,000,000\",\n",
            "\t\t\t\"gross\" : \"314,057,748\",\n",
            "\t\t\t\"time_stamp\" : \"2017-11-09\"\n",
            "\t\t},\n",
            "\t\t\"Thor: Ragnarok\": {\n",
            "\t\t\t\"movie_id\" : 17,\n",
            "\t\t\t\"title\" : \"Thor: Ragnarok\",\n",
            "\t\t\t\"phase\" : \"Phase Three\",\n",
            "\t\t\t\"category_name\" : \"Science Fiction\",\n",
            "\t\t\t\"release_year\" : 2017,\n",
            "\t\t\t\"running_time\" : 130,\n",
            "\t\t\t\"rating_name\" : \"PG-13\",\n",
            "\t\t\t\"disc_format_name\" : \"Blu-ray\",\n",
            "\t\t\t\"number_discs\" : 1,\n",
            "\t\t\t\"viewing_format_name\" : \"Widescreen\",\n",
            "\t\t\t\"aspect_ratio_name\" : \"2.35:1\",\n",
            "\t\t\t\"status\" : 1,\n",
            "\t\t\t\"release_date\" : \"November 3, 2017\",\n",
            "\t\t\t\"budget\" : \"180,000,000\",\n",
            "\t\t\t\"gross\" : \"tbd\",\n",
            "\t\t\t\"time_stamp\" : \"2017-11-09\"\n",
            "\t\t},\n",
            "\t\t\"Black Panther\": {\n",
            "\t\t\t\"movie_id\" : 18,\n",
            "\t\t\t\"title\" : \"Black Panther\",\n",
            "\t\t\t\"phase\" : \"Phase Three\",\n",
            "\t\t\t\"category_name\" : \"Science Fiction\",\n",
            "\t\t\t\"release_year\" : 2018,\n",
            "\t\t\t\"running_time\" : 0,\n",
            "\t\t\t\"rating_name\" : \"PG-13\",\n",
            "\t\t\t\"disc_format_name\" : \"Blu-ray\",\n",
            "\t\t\t\"number_discs\" : 1,\n",
            "\t\t\t\"viewing_format_name\" : \"Widescreen\",\n",
            "\t\t\t\"aspect_ratio_name\" : \"2.39:1\",\n",
            "\t\t\t\"status\" : 1,\n",
            "\t\t\t\"release_date\" : \"February 16, 2018\",\n",
            "\t\t\t\"budget\" : \"tbd\",\n",
            "\t\t\t\"gross\" : \"tbd\",\n",
            "\t\t\t\"time_stamp\" : \"2018-01-09\"\n",
            "\t\t},\n",
            "\t\t\"Avengers: Infinity War\": {\n",
            "\t\t\t\"movie_id\" : 19,\n",
            "\t\t\t\"title\" : \"Avengers: Infinity War\",\n",
            "\t\t\t\"phase\" : \"Phase Three\",\n",
            "\t\t\t\"category_name\" : \"Science Fiction\",\n",
            "\t\t\t\"release_year\" : 2018,\n",
            "\t\t\t\"running_time\" : 0,\n",
            "\t\t\t\"rating_name\" : \"PG-13\",\n",
            "\t\t\t\"disc_format_name\" : \"Blu-ray\",\n",
            "\t\t\t\"number_discs\" : 1,\n",
            "\t\t\t\"viewing_format_name\" : \"Widescreen\",\n",
            "\t\t\t\"aspect_ratio_name\" : \"2.39:1\",\n",
            "\t\t\t\"status\" : 1,\n",
            "\t\t\t\"release_date\" : \"May 4, 2018\",\n",
            "\t\t\t\"budget\" : \"tbd\",\n",
            "\t\t\t\"gross\" : \"tbd\",\n",
            "\t\t\t\"time_stamp\" : \"2018-01-09\"\n",
            "\t\t},\n",
            "\t\t\"Ant-Man and the Wasp\": {\n",
            "\t\t\t\"movie_id\" : 20,\n",
            "\t\t\t\"title\" : \"Ant-Man and the Wasp\",\n",
            "\t\t\t\"phase\" : \"Phase Three\",\n",
            "\t\t\t\"category_name\" : \"Science Fiction\",\n",
            "\t\t\t\"release_year\" : 2018,\n",
            "\t\t\t\"running_time\" : 0,\n",
            "\t\t\t\"rating_name\" : \"PG-13\",\n",
            "\t\t\t\"disc_format_name\" : \"Blu-ray\",\n",
            "\t\t\t\"number_discs\" : 1,\n",
            "\t\t\t\"viewing_format_name\" : \"Widescreen\",\n",
            "\t\t\t\"aspect_ratio_name\" : \"2.39:1\",\n",
            "\t\t\t\"status\" : 1,\n",
            "\t\t\t\"release_date\" : \"July 6, 2018\",\n",
            "\t\t\t\"budget\" : \"tbd\",\n",
            "\t\t\t\"gross\" : \"tbd\",\n",
            "\t\t\t\"time_stamp\" : \"2018-01-09\"\n",
            "\t\t}\n",
            "\t}\n",
            "}\n"
          ]
        }
      ],
      "source": [
        "#Carguemos el archivo que descargamos en la primera línea de código\n",
        "\n",
        "with open(\"marvel-cinematic-universe.json\") as marvel:\n",
        "    print(marvel.read())"
      ]
    },
    {
      "cell_type": "markdown",
      "source": [
        "Como vemos, procesar este archivo para extraer la información, con las técnicas que conocemos sería un trabajo bastante tedioso. Por suerte, Python cuenta con una librería que nos simplifica todo este trabajo.\n"
      ],
      "metadata": {
        "id": "L6DJGD1DKPNK"
      }
    },
    {
      "cell_type": "markdown",
      "source": [
        "## Trabajar con datos JSON en Python \n",
        "\n",
        "El primer paso que debemos realizar para leer nuestro archivo es importar la librería."
      ],
      "metadata": {
        "id": "7wMjYmmwKjtE"
      }
    },
    {
      "cell_type": "code",
      "source": [
        "import json"
      ],
      "metadata": {
        "id": "rhWCv7aCLSjc"
      },
      "execution_count": null,
      "outputs": []
    },
    {
      "cell_type": "markdown",
      "source": [
        "Luego, usando la sentencia `with` abrimos el archivo y lo usamos como argumento en la función `load` que hace parte de la librería."
      ],
      "metadata": {
        "id": "kOoqiT6DLXbf"
      }
    },
    {
      "cell_type": "code",
      "source": [
        "with open(\"marvel-cinematic-universe.json\") as marvel:\n",
        "    data = json.load(marvel)\n",
        "print(type(data),data)"
      ],
      "metadata": {
        "colab": {
          "base_uri": "https://localhost:8080/"
        },
        "id": "6wkxCWW6Lm5s",
        "outputId": "1af2197d-1c6e-425c-87f7-c6af570e76dc"
      },
      "execution_count": null,
      "outputs": [
        {
          "output_type": "stream",
          "name": "stdout",
          "text": [
            "<class 'dict'> {'Marvel Cinematic Universe': {'Iron Man': {'movie_id': 1, 'title': 'Iron Man', 'phase': 'Phase One: Avengers Assembled', 'category_name': 'Action', 'release_year': 2015, 'running_time': 126, 'rating_name': 'PG-13', 'disc_format_name': 'Blu-ray', 'number_discs': 1, 'viewing_format_name': 'Widescreen', 'aspect_ratio_name': '2.35:1', 'status': 1, 'release_date': 'May 2, 2008', 'budget': '140,000,000', 'gross': '318,298,180', 'time_stamp': '2015-05-03'}, 'The Incredible Hulk': {'movie_id': 2, 'title': 'The Incredible Hulk', 'phase': 'Phase One: Avengers Assembled', 'category_name': 'Action', 'release_year': 2008, 'running_time': 112, 'rating_name': 'PG-13', 'disc_format_name': 'DVD', 'number_discs': 3, 'viewing_format_name': 'Widescreen', 'aspect_ratio_name': '2.35:1', 'status': 1, 'release_date': 'June 13, 2008', 'budget': '150,000,000', 'gross': '134,518,390', 'time_stamp': '2008-10-21'}, 'Iron Man 2': {'movie_id': 3, 'title': 'Iron Man 2', 'phase': 'Phase One: Avengers Assembled', 'category_name': 'Action', 'release_year': 2015, 'running_time': 124, 'rating_name': 'PG-13', 'disc_format_name': 'Blu-ray', 'number_discs': 1, 'viewing_format_name': 'Widescreen', 'aspect_ratio_name': '2.35:1', 'status': 1, 'release_date': 'May 7, 2010', 'budget': '200,000,000', 'gross': '312,057,433', 'time_stamp': '2015-05-03'}, 'Thor': {'movie_id': 4, 'title': 'Thor', 'phase': 'Phase One: Avengers Assembled', 'category_name': 'Action', 'release_year': 2011, 'running_time': 115, 'rating_name': 'PG-13', 'disc_format_name': 'Blu-ray + DVD', 'number_discs': 2, 'viewing_format_name': 'Widescreen', 'aspect_ratio_name': '2.35:1', 'status': 1, 'release_date': 'May 6, 2011', 'budget': '150,000,000', 'gross': '181,015,141', 'time_stamp': '2011-10-30'}, 'Captain America: The First Avenger': {'movie_id': 5, 'title': 'Captain America', 'phase': 'Phase One: Avengers Assembled', 'category_name': 'Action', 'release_year': 2011, 'running_time': 124, 'rating_name': 'PG-13', 'disc_format_name': 'Blu-ray + DVD', 'number_discs': 2, 'viewing_format_name': 'Widescreen', 'aspect_ratio_name': '2.35:1', 'status': 1, 'release_date': 'July 22, 2011', 'budget': '140,000,000', 'gross': '176,636,816', 'time_stamp': '2011-10-30'}, \"Marvel's The Avengers\": {'movie_id': 6, 'title': 'Avengers, The', 'phase': 'Phase One: Avengers Assembled', 'category_name': 'Science Fiction', 'release_year': 2012, 'running_time': 143, 'rating_name': 'PG-13', 'disc_format_name': 'Blu-ray + DVD', 'number_discs': 2, 'viewing_format_name': 'Widescreen', 'aspect_ratio_name': '1.85:1', 'status': 1, 'release_date': 'May 4, 2012', 'budget': '220,000,000', 'gross': '623,279,547', 'time_stamp': '2012-10-20'}, 'Iron Man 3': {'movie_id': 7, 'title': 'Iron Man 3', 'phase': 'Phase Two', 'category_name': 'Action', 'release_year': 2015, 'running_time': 130, 'rating_name': 'PG-13', 'disc_format_name': 'Blu-ray + DVD', 'number_discs': 2, 'viewing_format_name': 'Widescreen', 'aspect_ratio_name': '2.35:1', 'status': 1, 'release_date': 'May 3, 2013', 'budget': '200,000,000', 'gross': '408,992,272', 'time_stamp': '2015-05-03'}, 'Thor: The Dark World': {'movie_id': 8, 'title': 'Thor: The Dark World', 'phase': 'Phase Two', 'category_name': 'Science Fiction', 'release_year': 2013, 'running_time': 112, 'rating_name': 'PG-13', 'disc_format_name': 'Blu-ray', 'number_discs': 2, 'viewing_format_name': 'Widescreen', 'aspect_ratio_name': '2.35:1', 'status': 1, 'release_date': 'November 8, 2013', 'budget': '170,000,000', 'gross': '206,360,018', 'time_stamp': '2014-03-04'}, 'Captain America: The Winter Soldier': {'movie_id': 9, 'title': 'Captain America: The Winter Soldier', 'phase': 'Phase Two', 'edition': 'Blu-ray Edition', 'release_year': 2014, 'running_time': 136, 'rating_name': 'PG-13', 'disc_format_name': 'Blu-ray', 'number_discs': 1, 'viewing_format_name': 'Widescreen', 'aspect_ratio_name': '2.35:1', 'status': 1, 'release_date': 'April 4, 2014', 'budget': '170,000,000', 'gross': '259,746,958', 'time_stamp': '2014-09-19'}, 'Guardians of the Galaxy': {'movie_id': 10, 'title': 'Guardians of the Galaxy', 'phase': 'Phase Two', 'category_name': 'Science Fiction', 'release_year': 2014, 'running_time': 121, 'rating_name': 'PG-13', 'disc_format_name': 'Blu-ray', 'number_discs': 1, 'viewing_format_name': 'Widescreen', 'aspect_ratio_name': '2.35:1', 'status': 1, 'release_date': 'August 1, 2014', 'budget': '170,000,000', 'gross': '333,130,696', 'time_stamp': '2014-12-07'}, 'Avengers: Age of Ultron': {'movie_id': 11, 'title': 'Avengers: Age of Ultron', 'phase': 'Phase Two', 'category_name': 'Science Fiction', 'release_year': 2015, 'running_time': 141, 'rating_name': 'PG-13', 'disc_format_name': 'Blu-ray', 'number_discs': 1, 'viewing_format_name': 'Widescreen', 'aspect_ratio_name': '2.35:1', 'status': 1, 'release_date': 'May 1, 2015', 'budget': '250,000,000', 'gross': '458,991,599', 'time_stamp': '2015-12-07'}, 'Ant-Man': {'movie_id': 12, 'title': 'Ant-Man', 'phase': 'Phase Two', 'category_name': 'Science Fiction', 'release_year': 2015, 'running_time': 132, 'rating_name': 'PG-13', 'disc_format_name': 'Blu-ray', 'number_discs': 1, 'viewing_format_name': 'Widescreen', 'aspect_ratio_name': '1.85:1', 'status': 1, 'release_date': 'July 17, 2015', 'budget': '130,000,000', 'gross': '179,017,481', 'time_stamp': '2015-12-07'}, 'Captain America: Civil War': {'movie_id': 13, 'title': 'Captain America: Civil War', 'phase': 'Phase Three', 'category_name': 'Science Fiction', 'release_year': 2016, 'running_time': 147, 'rating_name': 'PG-13', 'disc_format_name': 'Blu-ray', 'number_discs': 1, 'viewing_format_name': 'Widescreen', 'aspect_ratio_name': '2.39:1', 'status': 1, 'release_date': 'May 6, 2016', 'budget': '250,00,000', 'gross': '408,084,349', 'time_stamp': '2017-11-09'}, 'Doctor Strange': {'movie_id': 14, 'title': 'Doctor Strange', 'phase': 'Phase Three', 'category_name': 'Science Fiction', 'release_year': 2016, 'running_time': 115, 'rating_name': 'PG-13', 'disc_format_name': 'Blu-ray', 'number_discs': 1, 'viewing_format_name': 'Widescreen', 'aspect_ratio_name': '2.39:1', 'status': 1, 'release_date': 'November 4, 2016', 'budget': '165,000,000', 'gross': '232,641,920', 'time_stamp': '2017-11-09'}, 'Guardians of the Galaxy Vol. 2': {'movie_id': 15, 'title': 'Guardians of the Galaxy Vol. 2', 'phase': 'Phase Three', 'category_name': 'Science Fiction', 'release_year': 2017, 'running_time': 136, 'rating_name': 'PG-13', 'disc_format_name': 'Blu-ray', 'number_discs': 1, 'viewing_format_name': 'Widescreen', 'aspect_ratio_name': '2.39:1', 'status': 1, 'release_date': 'May 5, 2017', 'budget': '200,000,000', 'gross': '389,213,281', 'time_stamp': '2017-11-09'}, 'Spider-Man: Homecoming': {'movie_id': 16, 'title': 'Spider-Man: Homecoming', 'phase': 'Phase Three', 'category_name': 'Science Fiction', 'release_year': 2017, 'running_time': 133, 'rating_name': 'PG-13', 'disc_format_name': 'Blu-ray', 'number_discs': 1, 'viewing_format_name': 'Widescreen', 'aspect_ratio_name': '2.35:1', 'status': 1, 'release_date': 'July 7, 2017', 'budget': '175,000,000', 'gross': '314,057,748', 'time_stamp': '2017-11-09'}, 'Thor: Ragnarok': {'movie_id': 17, 'title': 'Thor: Ragnarok', 'phase': 'Phase Three', 'category_name': 'Science Fiction', 'release_year': 2017, 'running_time': 130, 'rating_name': 'PG-13', 'disc_format_name': 'Blu-ray', 'number_discs': 1, 'viewing_format_name': 'Widescreen', 'aspect_ratio_name': '2.35:1', 'status': 1, 'release_date': 'November 3, 2017', 'budget': '180,000,000', 'gross': 'tbd', 'time_stamp': '2017-11-09'}, 'Black Panther': {'movie_id': 18, 'title': 'Black Panther', 'phase': 'Phase Three', 'category_name': 'Science Fiction', 'release_year': 2018, 'running_time': 0, 'rating_name': 'PG-13', 'disc_format_name': 'Blu-ray', 'number_discs': 1, 'viewing_format_name': 'Widescreen', 'aspect_ratio_name': '2.39:1', 'status': 1, 'release_date': 'February 16, 2018', 'budget': 'tbd', 'gross': 'tbd', 'time_stamp': '2018-01-09'}, 'Avengers: Infinity War': {'movie_id': 19, 'title': 'Avengers: Infinity War', 'phase': 'Phase Three', 'category_name': 'Science Fiction', 'release_year': 2018, 'running_time': 0, 'rating_name': 'PG-13', 'disc_format_name': 'Blu-ray', 'number_discs': 1, 'viewing_format_name': 'Widescreen', 'aspect_ratio_name': '2.39:1', 'status': 1, 'release_date': 'May 4, 2018', 'budget': 'tbd', 'gross': 'tbd', 'time_stamp': '2018-01-09'}, 'Ant-Man and the Wasp': {'movie_id': 20, 'title': 'Ant-Man and the Wasp', 'phase': 'Phase Three', 'category_name': 'Science Fiction', 'release_year': 2018, 'running_time': 0, 'rating_name': 'PG-13', 'disc_format_name': 'Blu-ray', 'number_discs': 1, 'viewing_format_name': 'Widescreen', 'aspect_ratio_name': '2.39:1', 'status': 1, 'release_date': 'July 6, 2018', 'budget': 'tbd', 'gross': 'tbd', 'time_stamp': '2018-01-09'}}}\n"
          ]
        }
      ]
    },
    {
      "cell_type": "markdown",
      "source": [
        "La librería `json` ha convertido el archivo en un diccionario de Python y por lo tanto podemos acceder a sus datos como aprendimos en las clases pasadas."
      ],
      "metadata": {
        "id": "RbtMDBIvL7sz"
      }
    },
    {
      "cell_type": "code",
      "source": [
        "for k in data['Marvel Cinematic Universe']['Iron Man']:\n",
        "    print(f\"{k} : {data['Marvel Cinematic Universe']['Iron Man'][k]} \")\n",
        "    #recordemos que debemos usar comillas dobles para usar comillas sencillas \n",
        "    #dentro de un string"
      ],
      "metadata": {
        "colab": {
          "base_uri": "https://localhost:8080/"
        },
        "id": "5bItHaoWL4P2",
        "outputId": "22d4cd18-7431-4e8b-e6b6-da335729fe3b"
      },
      "execution_count": null,
      "outputs": [
        {
          "output_type": "stream",
          "name": "stdout",
          "text": [
            "movie_id : 1 \n",
            "title : Iron Man \n",
            "phase : Phase One: Avengers Assembled \n",
            "category_name : Action \n",
            "release_year : 2015 \n",
            "running_time : 126 \n",
            "rating_name : PG-13 \n",
            "disc_format_name : Blu-ray \n",
            "number_discs : 1 \n",
            "viewing_format_name : Widescreen \n",
            "aspect_ratio_name : 2.35:1 \n",
            "status : 1 \n",
            "release_date : May 2, 2008 \n",
            "budget : 140,000,000 \n",
            "gross : 318,298,180 \n",
            "time_stamp : 2015-05-03 \n"
          ]
        }
      ]
    },
    {
      "cell_type": "code",
      "source": [
        "sub_diccionario = data['Marvel Cinematic Universe']['Doctor Strange']\n",
        "print(sub_diccionario)\n",
        "print(sub_diccionario['release_date'])"
      ],
      "metadata": {
        "colab": {
          "base_uri": "https://localhost:8080/"
        },
        "id": "fFD_zR7SNAV7",
        "outputId": "144117d8-2b28-4193-a93a-918109d4a997"
      },
      "execution_count": null,
      "outputs": [
        {
          "output_type": "stream",
          "name": "stdout",
          "text": [
            "{'movie_id': 14, 'title': 'Doctor Strange', 'phase': 'Phase Three', 'category_name': 'Science Fiction', 'release_year': 2016, 'running_time': 115, 'rating_name': 'PG-13', 'disc_format_name': 'Blu-ray', 'number_discs': 1, 'viewing_format_name': 'Widescreen', 'aspect_ratio_name': '2.39:1', 'status': 1, 'release_date': 'November 4, 2016', 'budget': '165,000,000', 'gross': '232,641,920', 'time_stamp': '2017-11-09'}\n",
            "November 4, 2016\n"
          ]
        }
      ]
    },
    {
      "cell_type": "markdown",
      "source": [
        "## Conversión de datos a JSON\n",
        "\n",
        "JSON al estar originalmente planteado como parte del lenguaje Java Script, cambia en su formato la sintaxis de algunos de los datos que usamos en Python.\n",
        "\n",
        "|Python object     |\tJSON object  |\n",
        "|:----------------:|:---------------:|\n",
        "|`dict`            |\t`object `    |\n",
        "|`list`, `tuple`   |\t`array`      |\n",
        "|`str `            |\t`string`     |\n",
        "|`int`, `float`    |\t`number`     |\n",
        "|`True`            |\t`true`       |\n",
        "|`False `          |\t`false `     |\n",
        "|`None`\t           |  `null`         |\n",
        "\n",
        "Para garantizar que a la hora de exportar nuestros datos al archivo JSON estén en el formato correcto, debemos usar las funciones `dump` o `dumps`.\n",
        "\n",
        "* El método `json.dump()` (sin \"s\" en \"dump\") se utiliza para escribir un objeto Python serializado como datos con formato JSON en un archivo.\n",
        "* El método `json.dumps()` codifica cualquier objeto Python en una cadena con formato JSON.\n",
        "\n",
        "Así pues, `dump` en singular puede convertir un diccionario completo directamente a un archivo en formato JSON, mientras que `dumps` en plural, permite guardar dentro de la memoria un string en formato JSON, con el cual podemos trabajar dentro del código del programa, si así lo quisiéramos.\n",
        "\n",
        "> la serialización consiste en un proceso de codificación de un objeto en un medio de almacenamiento con el fin de transmitirlo a través de una conexión en red como una serie de bytes o en un formato humanamente más legible como JSON.\n"
      ],
      "metadata": {
        "id": "6InAHuHBM3tb"
      }
    },
    {
      "cell_type": "code",
      "source": [
        "print('lista',json.dumps(['hugo', \"paco\", \"luis\"]))"
      ],
      "metadata": {
        "colab": {
          "base_uri": "https://localhost:8080/"
        },
        "id": "UTyTqR8TTyW6",
        "outputId": "486fb033-734e-4b33-cbdf-d1fbcde944aa"
      },
      "execution_count": null,
      "outputs": [
        {
          "output_type": "stream",
          "name": "stdout",
          "text": [
            "lista [\"hugo\", \"paco\", \"luis\"]\n"
          ]
        }
      ]
    },
    {
      "cell_type": "code",
      "source": [
        "print('tupla',json.dumps(('hugo', \"paco\", \"luis\")))"
      ],
      "metadata": {
        "colab": {
          "base_uri": "https://localhost:8080/"
        },
        "id": "xy78-WWPUXfr",
        "outputId": "88093f89-7e45-4420-bebd-0320330e4ec4"
      },
      "execution_count": null,
      "outputs": [
        {
          "output_type": "stream",
          "name": "stdout",
          "text": [
            "tupla [\"hugo\", \"paco\", \"luis\"]\n"
          ]
        }
      ]
    },
    {
      "cell_type": "code",
      "source": [
        "print(json.dumps(\"Hola\"))"
      ],
      "metadata": {
        "colab": {
          "base_uri": "https://localhost:8080/"
        },
        "id": "npOYm9_iUeaD",
        "outputId": "522ec772-1809-4888-815d-50e927e72e02"
      },
      "execution_count": null,
      "outputs": [
        {
          "output_type": "stream",
          "name": "stdout",
          "text": [
            "\"Hola\"\n"
          ]
        }
      ]
    },
    {
      "cell_type": "code",
      "source": [
        "print(json.dumps(123))\n",
        " "
      ],
      "metadata": {
        "colab": {
          "base_uri": "https://localhost:8080/"
        },
        "id": "pUnmXKd-Ukn1",
        "outputId": "041d20ec-003d-459d-ee83-109905904f40"
      },
      "execution_count": null,
      "outputs": [
        {
          "output_type": "stream",
          "name": "stdout",
          "text": [
            "123\n"
          ]
        }
      ]
    },
    {
      "cell_type": "code",
      "source": [
        "print(json.dumps(23.572))"
      ],
      "metadata": {
        "colab": {
          "base_uri": "https://localhost:8080/"
        },
        "id": "CupBR3fRUn3j",
        "outputId": "f4e49093-bab8-421d-d4f2-50045cbceb56"
      },
      "execution_count": null,
      "outputs": [
        {
          "output_type": "stream",
          "name": "stdout",
          "text": [
            "23.572\n"
          ]
        }
      ]
    },
    {
      "cell_type": "code",
      "source": [
        "print(json.dumps(True))\n",
        "print(json.dumps(False))"
      ],
      "metadata": {
        "colab": {
          "base_uri": "https://localhost:8080/"
        },
        "id": "EDpWbhCFUrqf",
        "outputId": "0a91dd7c-1f46-41b9-a039-3aa48f4d8505"
      },
      "execution_count": null,
      "outputs": [
        {
          "output_type": "stream",
          "name": "stdout",
          "text": [
            "true\n",
            "false\n"
          ]
        }
      ]
    },
    {
      "cell_type": "code",
      "source": [
        "print(json.dumps(None))"
      ],
      "metadata": {
        "colab": {
          "base_uri": "https://localhost:8080/"
        },
        "id": "UAn8KLBnUvMR",
        "outputId": "4cc373b3-5728-4199-cc44-4438c3291c84"
      },
      "execution_count": null,
      "outputs": [
        {
          "output_type": "stream",
          "name": "stdout",
          "text": [
            "null\n"
          ]
        }
      ]
    },
    {
      "cell_type": "markdown",
      "source": [
        "Ahora, exportemos el diccionario que creamos en sección anterior a un archivo JSON"
      ],
      "metadata": {
        "id": "LEGzGf3eUxZT"
      }
    },
    {
      "cell_type": "code",
      "source": [
        "with open('doctor_strange.json', 'w') as json_file:\n",
        "  json.dump(sub_diccionario, json_file) #usamos dump para serializar el dict \n",
        "                                        #como archivo JSON"
      ],
      "metadata": {
        "id": "UVRcq45LUwio"
      },
      "execution_count": null,
      "outputs": []
    },
    {
      "cell_type": "markdown",
      "source": [
        "Abramos el nuevo archivo para comprobar su contenido."
      ],
      "metadata": {
        "id": "2cG743RWVIAS"
      }
    },
    {
      "cell_type": "code",
      "source": [
        "with open('doctor_strange.json', 'r') as salida:\n",
        "    print(salida.read())"
      ],
      "metadata": {
        "colab": {
          "base_uri": "https://localhost:8080/"
        },
        "id": "v3z9yiCJVpx4",
        "outputId": "e90a8a47-c3ea-4ef4-d210-1117840370bc"
      },
      "execution_count": null,
      "outputs": [
        {
          "output_type": "stream",
          "name": "stdout",
          "text": [
            "{\"movie_id\": 14, \"title\": \"Doctor Strange\", \"phase\": \"Phase Three\", \"category_name\": \"Science Fiction\", \"release_year\": 2016, \"running_time\": 115, \"rating_name\": \"PG-13\", \"disc_format_name\": \"Blu-ray\", \"number_discs\": 1, \"viewing_format_name\": \"Widescreen\", \"aspect_ratio_name\": \"2.39:1\", \"status\": 1, \"release_date\": \"November 4, 2016\", \"budget\": \"165,000,000\", \"gross\": \"232,641,920\", \"time_stamp\": \"2017-11-09\"}\n"
          ]
        }
      ]
    }
  ]
}