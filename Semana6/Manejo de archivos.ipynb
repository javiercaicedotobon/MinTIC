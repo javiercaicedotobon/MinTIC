{
  "nbformat": 4,
  "nbformat_minor": 0,
  "metadata": {
    "colab": {
      "name": "2R-Manejo de archivos.ipynb",
      "provenance": [],
      "collapsed_sections": []
    },
    "kernelspec": {
      "name": "python3",
      "display_name": "Python 3"
    },
    "language_info": {
      "name": "python"
    }
  },
  "cells": [
    {
      "cell_type": "markdown",
      "source": [
        "**Ejecuta esta línea para cargar los archivos necesarios para el notebook**"
      ],
      "metadata": {
        "id": "DEfMJl-_lc6T"
      }
    },
    {
      "cell_type": "code",
      "source": [
        "!wget https://raw.githubusercontent.com/cosmolejo/dataRepo/master/Frankenstein.txt"
      ],
      "metadata": {
        "colab": {
          "base_uri": "https://localhost:8080/"
        },
        "id": "0OCMG-9JlaNv",
        "outputId": "8b50fd1c-62da-4208-8a8a-8e28402b26b3"
      },
      "execution_count": null,
      "outputs": [
        {
          "output_type": "stream",
          "name": "stdout",
          "text": [
            "--2022-03-15 22:26:37--  https://raw.githubusercontent.com/cosmolejo/dataRepo/master/Frankenstein.txt\n",
            "Resolving raw.githubusercontent.com (raw.githubusercontent.com)... 185.199.108.133, 185.199.109.133, 185.199.110.133, ...\n",
            "Connecting to raw.githubusercontent.com (raw.githubusercontent.com)|185.199.108.133|:443... connected.\n",
            "HTTP request sent, awaiting response... 200 OK\n",
            "Length: 2941 (2.9K) [text/plain]\n",
            "Saving to: ‘Frankenstein.txt’\n",
            "\n",
            "\rFrankenstein.txt      0%[                    ]       0  --.-KB/s               \rFrankenstein.txt    100%[===================>]   2.87K  --.-KB/s    in 0s      \n",
            "\n",
            "2022-03-15 22:26:37 (48.3 MB/s) - ‘Frankenstein.txt’ saved [2941/2941]\n",
            "\n"
          ]
        }
      ]
    },
    {
      "cell_type": "markdown",
      "source": [
        "# Manejo de archivos en Python\n",
        "\n",
        "En este punto del curso, hemos aprendido todo lo esencial  para poder programar en Python, variables, condiciones, ciclos, funciones y librerías. Con todas estas herramientas podemos crear programas que ejecuten cualquier tipo de instrucciones para resolver algún problema. Sin embargo, hasta ahora nuestros programas no tienen \"memoria\" no tenemos forma de recuperar la información procesada al volver a abrir nuestro programa. Aquí entra en juego el concepto de **persistencia**.\n",
        "\n",
        "La **persistencia** es la acción de preservar la información de un programa de forma permanente (guardado), pero a su vez también se refiere a poder recuperar la información del mismo (lectura) para que pueda ser nuevamente utilizado. En las aplicaciones profesionales y modernas es muy común que este proceso de persistencia se maneje a partir de bases de datos, estas herramientas se estudiarán en los próximos ciclos, por lo pronto (y para conocer los conceptos de los cuales parten dichas bases) estudiaremos una forma más sencilla de persistencia, el manejo de archivos.\n",
        "\n",
        "\n",
        "\n"
      ],
      "metadata": {
        "id": "GVHb25VnfUcx"
      }
    },
    {
      "cell_type": "markdown",
      "source": [
        "## Control genérico de archivos\n",
        "\n",
        "Iniciemos estudiando cómo Python nativamente puede operar con archivos. Python trata los archivos de forma diferente, como texto o binario y esto es importante. Cada línea de código incluye una secuencia de caracteres y forman un archivo de texto. Cada línea de un archivo se termina con un carácter especial, llamado `EOL` o caracteres de fin de línea como la coma `,` o el carácter de nueva línea `\\n`. Este termina la línea actual y le indica al intérprete que ha comenzado una nueva. Comencemos con la lectura y escritura de archivos. \n",
        "\n"
      ],
      "metadata": {
        "id": "7pAJeQxciGFu"
      }
    },
    {
      "cell_type": "markdown",
      "source": [
        "### Apertura de archivos con `open`\n",
        "\n",
        "Antes de realizar cualquier operación en el archivo como leer o escribir, primero tenemos que abrir ese archivo. Para ello, debemos utilizar la función incorporada de Python `open()`\n",
        "\n",
        "Pero en el momento de la apertura, tenemos que especificar el modo, que representa el propósito de la apertura del archivo.\n",
        "\n",
        "```python\n",
        "f = open(\"nombre_archivo\", \"modo\")\n",
        "\n",
        "```\n",
        "Donde tenemos los siguientes modos de apertura de archivo, si no especificamos un modo, Python usará `r` por defecto.\n",
        "<br>\n",
        "<br>\n",
        "\n",
        "|Modo|Comportamiento|\n",
        "|:--:|--------------|\n",
        "|`r`   | abrir un archivo existente para una operación de lectura.|\n",
        "|`w`   | abrir un archivo existente para una operación de escritura. Si el archivo ya contiene algunos datos, se sobre escribirá.|\n",
        "|`a`   | abrir un archivo existente para una operación de adición. No eliminará los datos existentes.|\n",
        "| `r+` |  Para leer y escribir datos en el archivo. Los datos anteriores en el archivo no serán borrados.|\n",
        "|`w+`  | Para escribir y leer datos. Anulará los datos existentes.|\n",
        "|`a+`  |Para añadir y leer datos del archivo. No anulará los datos existentes.|\n",
        "\n",
        "<br>\n",
        "<br>\n",
        "\n",
        "Abramos el archivo que cargamos en la primera celda."
      ],
      "metadata": {
        "id": "PQ-IlBYNjeWf"
      }
    },
    {
      "cell_type": "code",
      "execution_count": null,
      "metadata": {
        "colab": {
          "base_uri": "https://localhost:8080/"
        },
        "id": "vf0ceVOdfJRj",
        "outputId": "2d34b5d2-d69a-4469-9819-b9547f7ef8b0"
      },
      "outputs": [
        {
          "output_type": "stream",
          "name": "stdout",
          "text": [
            "<_io.TextIOWrapper name='Frankenstein.txt' mode='r+' encoding='UTF-8'> <class '_io.TextIOWrapper'>\n"
          ]
        }
      ],
      "source": [
        "file = open('Frankenstein.txt','r+')\n",
        "print(file, type(file))"
      ]
    },
    {
      "cell_type": "markdown",
      "source": [
        "Como vemos en el `print`, el comando `open` crea un objeto donde almacena toda la información existente en el archivo. ¿Cómo podemos leer los datos?"
      ],
      "metadata": {
        "id": "8r-W8GUBmUC6"
      }
    },
    {
      "cell_type": "markdown",
      "source": [
        "### Lectura de archivos\n",
        "\n",
        "Hay más de una forma de leer un archivo en Python. Si necesitamos extraer una cadena que contenga todos los caracteres del archivo entonces podemos usar la función interna `read`. El código completo funcionaría así:"
      ],
      "metadata": {
        "id": "m3ySaGhgmpMs"
      }
    },
    {
      "cell_type": "code",
      "source": [
        "print(file.read())"
      ],
      "metadata": {
        "colab": {
          "base_uri": "https://localhost:8080/"
        },
        "id": "fQKgGuqzncPD",
        "outputId": "71a2f499-9d89-405d-ae4b-41b34e51a230"
      },
      "execution_count": null,
      "outputs": [
        {
          "output_type": "stream",
          "name": "stdout",
          "text": [
            "﻿Frankenstein;\n",
            "\n",
            "or, the Modern Prometheus\n",
            "\n",
            "by Mary Wollstonecraft (Godwin) Shelley\n",
            "\n",
            "\n",
            "Chapter 1\n",
            "\n",
            "\n",
            "I am by birth a Genevese, and my family is one of the most\n",
            "distinguished of that republic. My ancestors had been for many years\n",
            "counsellors and syndics, and my father had filled several public\n",
            "situations with honour and reputation. He was respected by all who\n",
            "knew him for his integrity and indefatigable attention to public\n",
            "business. He passed his younger days perpetually occupied by the\n",
            "affairs of his country; a variety of circumstances had prevented his\n",
            "marrying early, nor was it until the decline of life that he became a\n",
            "husband and the father of a family.\n",
            "\n",
            "As the circumstances of his marriage illustrate his character, I cannot\n",
            "refrain from relating them. One of his most intimate friends was a\n",
            "merchant who, from a flourishing state, fell, through numerous\n",
            "mischances, into poverty. This man, whose name was Beaufort, was of a\n",
            "proud and unbending disposition and could not bear to live in poverty\n",
            "and oblivion in the same country where he had formerly been\n",
            "distinguished for his rank and magnificence. Having paid his debts,\n",
            "therefore, in the most honourable manner, he retreated with his\n",
            "daughter to the town of Lucerne, where he lived unknown and in\n",
            "wretchedness. My father loved Beaufort with the truest friendship and\n",
            "was deeply grieved by his retreat in these unfortunate circumstances.\n",
            "He bitterly deplored the false pride which led his friend to a conduct\n",
            "so little worthy of the affection that united them. He lost no time in\n",
            "endeavouring to seek him out, with the hope of persuading him to begin\n",
            "the world again through his credit and assistance.\n",
            "\n",
            "Beaufort had taken effectual measures to conceal himself, and it was ten\n",
            "months before my father discovered his abode. Overjoyed at this discovery,\n",
            "he hastened to the house, which was situated in a mean street near the\n",
            "Reuss. But when he entered, misery and despair alone welcomed him. Beaufort\n",
            "had saved but a very small sum of money from the wreck of his fortunes, but\n",
            "it was sufficient to provide him with sustenance for some months, and in\n",
            "the meantime he hoped to procure some respectable employment in a\n",
            "merchant’s house. The interval was, consequently, spent in inaction;\n",
            "his grief only became more deep and rankling when he had leisure for\n",
            "reflection, and at length it took so fast hold of his mind that at the end\n",
            "of three months he lay on a bed of sickness, incapable of any exertion.\n",
            "\n",
            "His daughter attended him with the greatest tenderness, but she saw\n",
            "with despair that their little fund was rapidly decreasing and that\n",
            "there was no other prospect of support. But Caroline Beaufort\n",
            "possessed a mind of an uncommon mould, and her courage rose to support\n",
            "her in her adversity. She procured plain work; she plaited straw and\n",
            "by various means contrived to earn a pittance scarcely sufficient to\n",
            "support life.\n",
            "\n"
          ]
        }
      ]
    },
    {
      "cell_type": "markdown",
      "source": [
        "Este método no es muy eficiente si queremos extraer línea por línea la información, en este caso, podemos separar el archivo por líneas usando la función `readlines`, esta función separa las líneas dentro de una lista:"
      ],
      "metadata": {
        "id": "jAe_OHLSsQ6A"
      }
    },
    {
      "cell_type": "code",
      "source": [
        "#la función read extrae toda la información del archivo\n",
        "#por este motivo debemos volverlo a abrir, de lo contrario\n",
        "#file.readlines() nos entregará una lista vacía\n",
        "file = open('Frankenstein.txt','r+') \n",
        "lineas = file.readlines()\n",
        "print(type(lineas),lineas)"
      ],
      "metadata": {
        "colab": {
          "base_uri": "https://localhost:8080/"
        },
        "id": "MfRI9f8SsnXz",
        "outputId": "cf928782-99ec-4254-8c9b-0ba283a14b3b"
      },
      "execution_count": null,
      "outputs": [
        {
          "output_type": "stream",
          "name": "stdout",
          "text": [
            "<class 'list'> ['\\ufeffFrankenstein;\\n', '\\n', 'or, the Modern Prometheus\\n', '\\n', 'by Mary Wollstonecraft (Godwin) Shelley\\n', '\\n', '\\n', 'Chapter 1\\n', '\\n', '\\n', 'I am by birth a Genevese, and my family is one of the most\\n', 'distinguished of that republic. My ancestors had been for many years\\n', 'counsellors and syndics, and my father had filled several public\\n', 'situations with honour and reputation. He was respected by all who\\n', 'knew him for his integrity and indefatigable attention to public\\n', 'business. He passed his younger days perpetually occupied by the\\n', 'affairs of his country; a variety of circumstances had prevented his\\n', 'marrying early, nor was it until the decline of life that he became a\\n', 'husband and the father of a family.\\n', '\\n', 'As the circumstances of his marriage illustrate his character, I cannot\\n', 'refrain from relating them. One of his most intimate friends was a\\n', 'merchant who, from a flourishing state, fell, through numerous\\n', 'mischances, into poverty. This man, whose name was Beaufort, was of a\\n', 'proud and unbending disposition and could not bear to live in poverty\\n', 'and oblivion in the same country where he had formerly been\\n', 'distinguished for his rank and magnificence. Having paid his debts,\\n', 'therefore, in the most honourable manner, he retreated with his\\n', 'daughter to the town of Lucerne, where he lived unknown and in\\n', 'wretchedness. My father loved Beaufort with the truest friendship and\\n', 'was deeply grieved by his retreat in these unfortunate circumstances.\\n', 'He bitterly deplored the false pride which led his friend to a conduct\\n', 'so little worthy of the affection that united them. He lost no time in\\n', 'endeavouring to seek him out, with the hope of persuading him to begin\\n', 'the world again through his credit and assistance.\\n', '\\n', 'Beaufort had taken effectual measures to conceal himself, and it was ten\\n', 'months before my father discovered his abode. Overjoyed at this discovery,\\n', 'he hastened to the house, which was situated in a mean street near the\\n', 'Reuss. But when he entered, misery and despair alone welcomed him. Beaufort\\n', 'had saved but a very small sum of money from the wreck of his fortunes, but\\n', 'it was sufficient to provide him with sustenance for some months, and in\\n', 'the meantime he hoped to procure some respectable employment in a\\n', 'merchant’s house. The interval was, consequently, spent in inaction;\\n', 'his grief only became more deep and rankling when he had leisure for\\n', 'reflection, and at length it took so fast hold of his mind that at the end\\n', 'of three months he lay on a bed of sickness, incapable of any exertion.\\n', '\\n', 'His daughter attended him with the greatest tenderness, but she saw\\n', 'with despair that their little fund was rapidly decreasing and that\\n', 'there was no other prospect of support. But Caroline Beaufort\\n', 'possessed a mind of an uncommon mould, and her courage rose to support\\n', 'her in her adversity. She procured plain work; she plaited straw and\\n', 'by various means contrived to earn a pittance scarcely sufficient to\\n', 'support life.\\n']\n"
          ]
        }
      ]
    },
    {
      "cell_type": "markdown",
      "source": [
        "Si quisiéramos separar cada línea en sus palabras, podemos usar el comando `split`que vimos en un ejemplo anteriormente, su resultado lo podríamos almacenar en una lista de listas para futuras operaciones.\n",
        "\n"
      ],
      "metadata": {
        "id": "kpFZmQZxt8XT"
      }
    },
    {
      "cell_type": "code",
      "source": [
        "stop = 0 #usaremos una variable para contar las líneas e interrumpir el ciclo\n",
        "for l in lineas:\n",
        "    print(l.split(\" \")) #creamos una lista por cada línea cortando por los espacios: \" \"\n",
        "    stop += 1\n",
        "    if stop==5: # Romperemos la ejecución luego de 5 iteraciones\n",
        "        break   # para hacer más simple la visualización de la salida\n",
        "                # ¿Qué pasaría si eliminas este condicional?"
      ],
      "metadata": {
        "colab": {
          "base_uri": "https://localhost:8080/"
        },
        "id": "RXd0XboguJF7",
        "outputId": "c1facb45-4a96-4ffa-fcb7-d4d41c834bbc"
      },
      "execution_count": null,
      "outputs": [
        {
          "output_type": "stream",
          "name": "stdout",
          "text": [
            "['\\ufeffFrankenstein;\\n']\n",
            "['\\n']\n",
            "['or,', 'the', 'Modern', 'Prometheus\\n']\n",
            "['\\n']\n",
            "['by', 'Mary', 'Wollstonecraft', '(Godwin)', 'Shelley\\n']\n"
          ]
        }
      ]
    },
    {
      "cell_type": "markdown",
      "source": [
        "### Cierre de archivos\n",
        "Una vez terminemos de trabajar con nuestro archivo, es necesario usar la función `close` para que python libere la memoria, esto nos permitirá reabrir un archivo que teníamos de escritura para lectura o simplemente para mejorar el rendimiento de nuestro programa en las instrucciones restantes. Siempre es una buena práctica cerrar los archivos que abramos.\n",
        "\n",
        "\n",
        "\n"
      ],
      "metadata": {
        "id": "1wbLG25WvOoD"
      }
    },
    {
      "cell_type": "code",
      "source": [
        "file.close() #liberamos la memoria"
      ],
      "metadata": {
        "id": "jjDb72IDwJbD"
      },
      "execution_count": null,
      "outputs": []
    },
    {
      "cell_type": "markdown",
      "source": [
        "### Creación de un archivo utilizando el modo escritura\n",
        "\n",
        "Es posible también crear archivos de cero en caso de que no existan dentro de nuestro ordenador, en el siguiente ejemplo crearemos un archivo y escribiremos en él."
      ],
      "metadata": {
        "id": "m_mQyVBBwQC3"
      }
    },
    {
      "cell_type": "code",
      "source": [
        "archivo = open('numeros.txt','w')\n",
        "archivo.write(\"cuadrados y cubos de los números del 1 al 15\\n\")\n",
        "for i in range(1,16): #es importante añadir el salto de línea al final de cada write\n",
        "    archivo.write(f'{i}^2 = {i**2}, {i}^3 = {i**3}\\n') \n",
        "archivo.close()"
      ],
      "metadata": {
        "id": "6zl2z5hQwsBx"
      },
      "execution_count": null,
      "outputs": []
    },
    {
      "cell_type": "markdown",
      "source": [
        "Leamos el archivo que creamos"
      ],
      "metadata": {
        "id": "Qq5ZFHiKxYZH"
      }
    },
    {
      "cell_type": "code",
      "source": [
        "resultado = open('numeros.txt','r')\n",
        "print(resultado.read())\n",
        "resultado.close()"
      ],
      "metadata": {
        "colab": {
          "base_uri": "https://localhost:8080/"
        },
        "id": "M5yfd3DMxabM",
        "outputId": "92c5e55e-b5d2-437b-c552-04ba984e41db"
      },
      "execution_count": null,
      "outputs": [
        {
          "output_type": "stream",
          "name": "stdout",
          "text": [
            "cuadrados y cubos de los números del 1 al 15\n",
            "1^2 = 1, 1^3 = 1\n",
            "2^2 = 4, 2^3 = 8\n",
            "3^2 = 9, 3^3 = 27\n",
            "4^2 = 16, 4^3 = 64\n",
            "5^2 = 25, 5^3 = 125\n",
            "6^2 = 36, 6^3 = 216\n",
            "7^2 = 49, 7^3 = 343\n",
            "8^2 = 64, 8^3 = 512\n",
            "9^2 = 81, 9^3 = 729\n",
            "10^2 = 100, 10^3 = 1000\n",
            "11^2 = 121, 11^3 = 1331\n",
            "12^2 = 144, 12^3 = 1728\n",
            "13^2 = 169, 13^3 = 2197\n",
            "14^2 = 196, 14^3 = 2744\n",
            "15^2 = 225, 15^3 = 3375\n",
            "\n"
          ]
        }
      ]
    },
    {
      "cell_type": "markdown",
      "source": [
        "También, si queremos, podemos visualizarlo línea por línea usando el ciclo `for`"
      ],
      "metadata": {
        "id": "ACQ3DJWG8UyU"
      }
    },
    {
      "cell_type": "code",
      "source": [
        "texto = open('numeros.txt','r')\n",
        "for l in texto.readlines():\n",
        "    print(l) \n",
        "texto.close()"
      ],
      "metadata": {
        "colab": {
          "base_uri": "https://localhost:8080/"
        },
        "id": "7LFyDRvXF5PF",
        "outputId": "a4490c01-bce9-4a90-9743-ecaecbcd5fcf"
      },
      "execution_count": null,
      "outputs": [
        {
          "output_type": "stream",
          "name": "stdout",
          "text": [
            "cuadrados y cubos de los números del 1 al 15\n",
            "\n",
            "1^2 = 1, 1^3 = 1\n",
            "\n",
            "2^2 = 4, 2^3 = 8\n",
            "\n",
            "3^2 = 9, 3^3 = 27\n",
            "\n",
            "4^2 = 16, 4^3 = 64\n",
            "\n",
            "5^2 = 25, 5^3 = 125\n",
            "\n",
            "6^2 = 36, 6^3 = 216\n",
            "\n",
            "7^2 = 49, 7^3 = 343\n",
            "\n",
            "8^2 = 64, 8^3 = 512\n",
            "\n",
            "9^2 = 81, 9^3 = 729\n",
            "\n",
            "10^2 = 100, 10^3 = 1000\n",
            "\n",
            "11^2 = 121, 11^3 = 1331\n",
            "\n",
            "12^2 = 144, 12^3 = 1728\n",
            "\n",
            "13^2 = 169, 13^3 = 2197\n",
            "\n",
            "14^2 = 196, 14^3 = 2744\n",
            "\n",
            "15^2 = 225, 15^3 = 3375\n",
            "\n"
          ]
        }
      ]
    },
    {
      "cell_type": "markdown",
      "source": [
        "## Uso de la sentencia `with`\n",
        "\n",
        "La sentencia `with` nos permite crear un bloque de código donde se puedan ejecutar algunos comandos y liberar la memoria luego de terminar su ejecución, en el caso del manejo de archivos, esto nos permite abrir temporalmente un archivo y cerrarlo tan pronto como se acabe el bloque de código, esto nos ahorra el uso de la función `close`\n",
        "\n",
        "```python\n",
        "with operación as variable:\n",
        "    instrucciones\n",
        "\n",
        "```\n",
        "la sentencia `as` nos permite asignarle una variable a la operación que invocamos, por ejemplo, un `open`. El siguiente bloque de código es equivalente al ejemplo anterior."
      ],
      "metadata": {
        "id": "8xfLRHdOx8-D"
      }
    },
    {
      "cell_type": "code",
      "source": [
        "with open('numeros.txt','r') as texto:\n",
        "    for l in texto.readlines():\n",
        "        print(l) "
      ],
      "metadata": {
        "colab": {
          "base_uri": "https://localhost:8080/"
        },
        "id": "dWLG1vb8x7oT",
        "outputId": "7bff2ef4-f75f-487a-fda9-68dfdf8bdcb8"
      },
      "execution_count": null,
      "outputs": [
        {
          "output_type": "stream",
          "name": "stdout",
          "text": [
            "cuadrados y cubos de los números del 1 al 15\n",
            "\n",
            "1^2 = 1, 1^3 = 1\n",
            "\n",
            "2^2 = 4, 2^3 = 8\n",
            "\n",
            "3^2 = 9, 3^3 = 27\n",
            "\n",
            "4^2 = 16, 4^3 = 64\n",
            "\n",
            "5^2 = 25, 5^3 = 125\n",
            "\n",
            "6^2 = 36, 6^3 = 216\n",
            "\n",
            "7^2 = 49, 7^3 = 343\n",
            "\n",
            "8^2 = 64, 8^3 = 512\n",
            "\n",
            "9^2 = 81, 9^3 = 729\n",
            "\n",
            "10^2 = 100, 10^3 = 1000\n",
            "\n",
            "11^2 = 121, 11^3 = 1331\n",
            "\n",
            "12^2 = 144, 12^3 = 1728\n",
            "\n",
            "13^2 = 169, 13^3 = 2197\n",
            "\n",
            "14^2 = 196, 14^3 = 2744\n",
            "\n",
            "15^2 = 225, 15^3 = 3375\n",
            "\n"
          ]
        }
      ]
    }
  ]
}