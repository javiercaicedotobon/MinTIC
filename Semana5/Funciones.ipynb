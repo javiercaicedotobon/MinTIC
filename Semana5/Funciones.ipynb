{
  "nbformat": 4,
  "nbformat_minor": 0,
  "metadata": {
    "colab": {
      "name": "3R-Funciones.ipynb",
      "provenance": [],
      "collapsed_sections": []
    },
    "kernelspec": {
      "name": "python3",
      "display_name": "Python 3"
    },
    "language_info": {
      "name": "python"
    }
  },
  "cells": [
    {
      "cell_type": "markdown",
      "source": [
        "**Ejecuta el siguiente bloque de código siempre antes de ejecutar el resto del notebook.**"
      ],
      "metadata": {
        "id": "mmgIU8rTvhtQ"
      }
    },
    {
      "cell_type": "code",
      "execution_count": null,
      "metadata": {
        "id": "6tDFWLhtvWKX"
      },
      "outputs": [],
      "source": [
        "from IPython.core.magic import  Magics, magics_class, cell_magic, line_magic\n",
        "\n",
        "@magics_class\n",
        "class Helper(Magics):\n",
        "\n",
        "  def __init__(self, shell=None,  **kwargs):\n",
        "    super().__init__(shell=shell, **kwargs)\n",
        "\n",
        "  @cell_magic\n",
        "  def debug_cell_with_pytutor(self, line, cell):\n",
        "    import urllib.parse\n",
        "    url_src = urllib.parse.quote(cell)\n",
        "    str_begin = '<iframe width=\"1000\" height=\"500\" frameborder=\"0\" src=\"https://pythontutor.com/iframe-embed.html#code='\n",
        "    str_end   = '&cumulative=false&py=3&curInstr=0\"></iframe>'\n",
        "    import IPython\n",
        "    from google.colab import output\n",
        "    display(IPython.display.HTML(str_begin+url_src+str_end))\n",
        "\n",
        "get_ipython().register_magics(Helper)"
      ]
    },
    {
      "cell_type": "markdown",
      "source": [
        "# Funciones\n",
        "\n",
        "Hasta ahora, todas las instrucciones que hemos estudiado nos permiten resolver cualquier problema, pero debemos ejecutar el programa entero para obtener un resultado; si queremos llamar bloques de código dentro de otro programa, debemos usar funciones. Las funciones de Python son un bloque de sentencias relacionadas, diseñadas para realizar una tarea computacional, lógica o evaluativa. La idea es juntar algunas tareas que se hacen común o repetidamente y construir una función para \"invocarla\" cada vez que se requiera sin tener que recurrir a la reescritura de código en aquellas partes del programa donde se vuelva a necesitar. \n",
        "\n",
        "Existen funciones incorporadas en Python y en sus librerías (ya hemos usado varias dentro del curso, por ejemplo, `len`) y también existen las funciones definidas por el usuario. Todas ellas ayudan a que el programa sea conciso, no repetitivo y organizado. Una estructura más o menos general de una función en Python es así:\n",
        "\n",
        "```python\n",
        "def funcion(parámetros):\n",
        "    \"\"\"documentación\"\"\"\n",
        "    instrucciones\n",
        "    return resultado\n",
        "```"
      ],
      "metadata": {
        "id": "wLt_zzeGvjFh"
      }
    },
    {
      "cell_type": "markdown",
      "source": [
        "## Creación de una función\n",
        "Podemos crear una función de Python utilizando la sentencia `def`, seguido de un nombre que identifique la función y un par de paréntesis `()` rodeando los parámetros que pudiera tener (a continuación definiremos qué es un parámetro, estos son opcionales, una función se puede definir perfectamente sin recurrir a estos) y finalmente, puesto que la función también representa un bloque de código, agregamos al final dos puntos `:`. Después de crear una función podemos invocarla utilizando el nombre de la función seguido de paréntesis `()` que, dado el caso, contendrá los parámetros de esa función en particular. Es importante resaltar que toda función se debe definir antes de llamarla, de lo contrario Python mostrará un mensaje de error.\n"
      ],
      "metadata": {
        "id": "5Fy6xjumfUz3"
      }
    },
    {
      "cell_type": "code",
      "source": [
        "%%debug_cell_with_pytutor\n",
        "def saludar():\n",
        "    print('hola mundo')\n",
        "\n",
        "saludar()"
      ],
      "metadata": {
        "id": "p0VW8MdGfajQ"
      },
      "execution_count": null,
      "outputs": []
    },
    {
      "cell_type": "markdown",
      "source": [
        "## Argumentos y parámetros de una función\n",
        "Los argumentos son los valores que se pasan dentro del paréntesis de la función.  Estos argumentos se corresponden uno a uno con los parámetros de la función, que son las variables que usará la función para capturar los valores del usuario y luego operar para obtener el resultado requerido. Una función puede tener cualquier número de parámetros separados por una coma."
      ],
      "metadata": {
        "id": "T64jWbzYjLOf"
      }
    },
    {
      "cell_type": "code",
      "source": [
        "#función para definir si un número es par o impar\n",
        "\n",
        "def paridad(x): #recibimos el número del usuario en x\n",
        "    if x%2 == 0: #evaluamos la paridad de x con el módulo\n",
        "        print(f'{x} es par')\n",
        "    else:\n",
        "        print(f'{x} es impar')"
      ],
      "metadata": {
        "id": "-eZOf299lnbJ"
      },
      "execution_count": null,
      "outputs": []
    },
    {
      "cell_type": "code",
      "source": [
        "paridad(2) #aquí x=2\n",
        "paridad(5) #aquí x=5\n",
        "paridad(84) #aquí x=84\n",
        "paridad(33) #aquí x=33"
      ],
      "metadata": {
        "colab": {
          "base_uri": "https://localhost:8080/"
        },
        "id": "7FsIG1urmNOa",
        "outputId": "0aa735cd-5f10-437f-c7a9-849cb5e155b0"
      },
      "execution_count": null,
      "outputs": [
        {
          "output_type": "stream",
          "name": "stdout",
          "text": [
            "2 es par\n",
            "5 es impar\n",
            "84 es par\n",
            "33 es impar\n"
          ]
        }
      ]
    },
    {
      "cell_type": "markdown",
      "source": [
        "###Tipos de parámetros\n",
        "Python soporta varios tipos de parámetros que pueden ser pasados en el momento de la llamada a la función. \n",
        "\n",
        "**Parámetros por defecto**\n",
        "Es un parámetro que asume un valor por defecto si no se proporciona un valor en la llamada a la función. El siguiente ejemplo ilustra los parámetros por defecto. "
      ],
      "metadata": {
        "id": "BovpRFtvt5ht"
      }
    },
    {
      "cell_type": "code",
      "source": [
        "%%debug_cell_with_pytutor\n",
        "#función para multiplicar números\n",
        "\n",
        "def multiplicar(x,y=2):\n",
        "    print(f'x = {x}, y = {y}')\n",
        "    print('x*y=',x*y)\n",
        "\n",
        "\n",
        "multiplicar(5)\n",
        "multiplicar(5,5)"
      ],
      "metadata": {
        "id": "dOJTA_SnuZrG"
      },
      "execution_count": null,
      "outputs": []
    },
    {
      "cell_type": "markdown",
      "source": [
        "Como vimos, si no se le entrega un argumento al parámetro que tiene un valor por defecto, la función tomará este valor, de lo contrario, usará el valor que le entregamos. Podemos poner la cantidad de parámetros con valor por defecto que queramos, esto estará más ceñido al diseño de la aplicación que estemos implementando."
      ],
      "metadata": {
        "id": "vHBoxWZSvq5y"
      }
    },
    {
      "cell_type": "markdown",
      "source": [
        "## Parámetros con palabras clave (keyword)\n",
        "La idea es permitir que la persona que llama la función especifique el nombre del argumento con valores a ingresar, esto es útil, ya que nos ahorra el tener que recordar el orden de los parámetros, si el usuario ingresa en desorden los argumentos, pero los pasa por palabra clave, el programa usará correctamente cada valor."
      ],
      "metadata": {
        "id": "WZff3pMYxdJ8"
      }
    },
    {
      "cell_type": "code",
      "source": [
        "# Programa para demostrar el paso por palabras clave.\n",
        "def estudiante(nombre, apellido):\n",
        "    print(nombre, apellido)\n",
        " \n",
        " \n",
        "# argumentos por palabra clave\n",
        "estudiante(nombre='Pepe', apellido='Mujica')\n",
        "estudiante(apellido='Tapias', nombre='Armando')"
      ],
      "metadata": {
        "colab": {
          "base_uri": "https://localhost:8080/"
        },
        "id": "A_5yFIeNx_Q4",
        "outputId": "bad3e9d4-eea3-4ef8-95f9-0c9c1b4549c9"
      },
      "execution_count": null,
      "outputs": [
        {
          "output_type": "stream",
          "name": "stdout",
          "text": [
            "Pepe Mujica\n",
            "Armando Tapias\n"
          ]
        }
      ]
    },
    {
      "cell_type": "markdown",
      "source": [
        "Pero ¿cómo podemos garantizar que el usuario sepa qué valores debe ingresar como argumentos en la función?"
      ],
      "metadata": {
        "id": "orSsp0X6yrxv"
      }
    },
    {
      "cell_type": "markdown",
      "source": [
        "## Docstring\n",
        "La primera cadena después de la función se denomina cadena de documento o Docstring en forma abreviada. Se utiliza para describir la funcionalidad de la función. El uso del docstring en las funciones es **opcional** pero se considera una **buena práctica**. Este string suele ir siempre rodeado de 3 comillas, sean sencillas `'` o dobles `\"`, ya que esto permite realizar la documentación en varias líneas, mejorando su legibilidad. Esta documentación debería ser breve, describir los parámetros, explicando el tipo de dato que se espera recibir y también cuál será la salida de nuestra función. \n",
        "\n",
        "La siguiente sintaxis se puede utilizar para imprimir el docstring de una función:\n",
        "```python\n",
        "print(nombre_funcion.__doc__)\n",
        "```\n",
        "\n",
        "Regresemos al ejemplo de los números pares, añadamos un docstring e imprimámoslo.\n"
      ],
      "metadata": {
        "id": "AWbuBNKXzcgO"
      }
    },
    {
      "cell_type": "code",
      "source": [
        "#función para definir si un número es par o impar\n",
        "\n",
        "def paridad(x): #recibimos el número del usuario en x\n",
        "    \"\"\"Función para comprobar si el número es par o impar.\n",
        "    Entrada:\n",
        "        x -> int: número a verificar\n",
        "    Salida\n",
        "        None. En la función se imprime el resultado\n",
        "    \"\"\"\n",
        "    if x%2 == 0: #evaluamos la paridad de x con el módulo\n",
        "        print(f'{x} es par')\n",
        "    else:\n",
        "        print(f'{x} es impar')"
      ],
      "metadata": {
        "id": "nfmf57bT0OQx"
      },
      "execution_count": null,
      "outputs": []
    },
    {
      "cell_type": "code",
      "source": [
        "print(paridad.__doc__)"
      ],
      "metadata": {
        "colab": {
          "base_uri": "https://localhost:8080/"
        },
        "id": "j-aGIz9Z0QnK",
        "outputId": "ac853f80-f824-489b-f9a0-f92ac4172051"
      },
      "execution_count": null,
      "outputs": [
        {
          "output_type": "stream",
          "name": "stdout",
          "text": [
            "Función para comprobar si el número es par o impar.\n",
            "    Entrada:\n",
            "        x -> int: número a verificar\n",
            "    Salida\n",
            "        None. En la función se imprime el resultado\n",
            "    \n"
          ]
        }
      ]
    },
    {
      "cell_type": "markdown",
      "source": [
        "## La sentencia `return`\n",
        "La sentencia `return` de una función se utiliza para salir de la misma, volver a la línea donde se llama la función y devolverle el valor o dato especificado.\n",
        "\n",
        "```python\n",
        "return salida1,salida2,salida3\n",
        "```\n",
        "La sentencia return puede consistir en una variable, una expresión o una tupla (como habíamos mencionado antes) que se retorna al final de la ejecución de la función. Si no se añade ninguna de estas a la sentencia return, ésta devuelve por defecto un objeto `None`.\n",
        "\n",
        "La palabra reservada `None` se utiliza para definir un valor nulo, o literalmente \"ningún valor\".\n",
        "\n",
        "`None` no es lo mismo que `0`, `False`, o una cadena vacía. `None` es un tipo de dato propio (`NoneType`) y sólo `None` puede ser igual a `None`."
      ],
      "metadata": {
        "id": "otcwj19e1ywn"
      }
    },
    {
      "cell_type": "code",
      "source": [
        "# Creemon una función que calcule potencias o el cuadrado de un número por defecto y lo retorne\n",
        "def potencias(a,b=2):\n",
        "    \"\"\"\n",
        "    Función para calcular la potencia de un número (a^b)\n",
        "    Entradas:\n",
        "        a -> int o float: base de la potencia\n",
        "        b -> int o float: exponente, valor por defecto: 2\n",
        "    Salidas:\n",
        "        p -> int o float: a**b\n",
        "    \"\"\"\n",
        "    return a**b\n",
        "\n",
        "print(potencias(2))\n",
        "print(potencias(3,5))\n",
        "x = potencias(2,8) # podemos almacenar los resultados en variables\n",
        "print('x:',x)"
      ],
      "metadata": {
        "colab": {
          "base_uri": "https://localhost:8080/"
        },
        "id": "Vi-qxA993RyF",
        "outputId": "94d3e68e-69b2-4975-acf4-4bf7d2d7284a"
      },
      "execution_count": null,
      "outputs": [
        {
          "output_type": "stream",
          "name": "stdout",
          "text": [
            "4\n",
            "243\n",
            "x: 256\n"
          ]
        }
      ]
    },
    {
      "cell_type": "code",
      "source": [
        "# función para separar nombre y apellido a partir de un solo string separado por espacios\n",
        "\n",
        "def separador(texto):\n",
        "    \"\"\"\n",
        "    Función para separar nombre y apellido a partir de un solo string separado por espacios\n",
        "    Entrada:\n",
        "        texto -> string: cadena con nombre y apellido\n",
        "    Salida:\n",
        "        nombre,apellido -> string: nombre y apellido separados\n",
        "    \"\"\"\n",
        "    aux = texto.split(\" \") #la función split permite separar en una lista strings\n",
        "                           #según el argumento que se le pase.\n",
        "    nombre = aux[0]        #esperamos solo un nombre y apellido, el nombre estará\n",
        "    apellido = aux[1]      #en la primera posición de aux, el apellido en la segunda\n",
        "\n",
        "    return nombre,apellido\n",
        "\n"
      ],
      "metadata": {
        "id": "Kl9TCa5A51Hj"
      },
      "execution_count": null,
      "outputs": []
    },
    {
      "cell_type": "code",
      "source": [
        "print(separador(\"Fulanito DeTal\"))"
      ],
      "metadata": {
        "colab": {
          "base_uri": "https://localhost:8080/"
        },
        "id": "xc0tqIsL7OfV",
        "outputId": "b7e8457f-067d-4097-9444-2fbae7b33f4e"
      },
      "execution_count": null,
      "outputs": [
        {
          "output_type": "stream",
          "name": "stdout",
          "text": [
            "('Fulanito', 'DeTal')\n"
          ]
        }
      ]
    },
    {
      "cell_type": "code",
      "source": [
        "print(type(separador(\"Fulanito DeTal\")))"
      ],
      "metadata": {
        "colab": {
          "base_uri": "https://localhost:8080/"
        },
        "id": "-p2hcdXm7QeF",
        "outputId": "8ab4ea1a-cf93-485d-b7ff-9f934c662bba"
      },
      "execution_count": null,
      "outputs": [
        {
          "output_type": "stream",
          "name": "stdout",
          "text": [
            "<class 'tuple'>\n"
          ]
        }
      ]
    },
    {
      "cell_type": "code",
      "source": [
        "nombre,apellido = separador(\"Fulanito DeTal\") #podemos guardar las salidas en distintas variables\n",
        "                                              #separando cada una con comas\n",
        "\n",
        "print(nombre)\n",
        "print(apellido)"
      ],
      "metadata": {
        "colab": {
          "base_uri": "https://localhost:8080/"
        },
        "id": "A0NDweao7UA0",
        "outputId": "1bc89e2a-a1ef-46ce-ae7a-862c9b47dd3a"
      },
      "execution_count": null,
      "outputs": [
        {
          "output_type": "stream",
          "name": "stdout",
          "text": [
            "Fulanito\n",
            "DeTal\n"
          ]
        }
      ]
    },
    {
      "cell_type": "markdown",
      "source": [
        "## Alcance y vida útil de las variables\n",
        "El alcance (***scope***) de una variable es la parte de un programa donde se reconoce la variable. Los parámetros y variables definidos dentro de una función no son visibles desde fuera de la misma. Por lo tanto, tienen un alcance local.\n",
        "\n",
        "El tiempo de vida de una variable es el periodo durante el cual la variable existe en la memoria. El tiempo de vida de las variables dentro de una función es tan largo como la función que se ejecuta. Se destruyen una vez que regresamos de la función. Por lo tanto, una función no recuerda el valor de una variable de sus llamadas anteriores.\n",
        "\n",
        "Este es un ejemplo para ilustrar el alcance de una variable dentro de una función."
      ],
      "metadata": {
        "id": "UFLakC7O7mev"
      }
    },
    {
      "cell_type": "code",
      "source": [
        "def func():\n",
        "\tx = 10\n",
        "\tprint(\"Valor dentro de la función:\",x)\n",
        "\n",
        "x = 20\n",
        "func()\n",
        "print(\"Valor fuera de la función\",x)"
      ],
      "metadata": {
        "colab": {
          "base_uri": "https://localhost:8080/"
        },
        "id": "SxNr0C2g8Q-e",
        "outputId": "21e3ad78-25de-4756-cb96-99daf58425e4"
      },
      "execution_count": null,
      "outputs": [
        {
          "output_type": "stream",
          "name": "stdout",
          "text": [
            "Valor dentro de la función: 10\n",
            "Valor fuera de la función 20\n"
          ]
        }
      ]
    },
    {
      "cell_type": "markdown",
      "source": [
        "Veamos este manejo de memoria dentro de Python Tutor:"
      ],
      "metadata": {
        "id": "OYShWpBf8sy7"
      }
    },
    {
      "cell_type": "code",
      "source": [
        "%%debug_cell_with_pytutor\n",
        "def func():\n",
        "\tx = 10\n",
        "\tprint(\"Valor dentro de la función:\",x)\n",
        "\n",
        "x = 20\n",
        "func()\n",
        "print(\"Valor fuera de la función\",x)"
      ],
      "metadata": {
        "id": "hFEK9Vut8zGH"
      },
      "execution_count": null,
      "outputs": []
    },
    {
      "cell_type": "markdown",
      "source": [
        "Aquí, podemos ver que el valor de x es 20 inicialmente. Aunque la función `func()` cambió el valor de x a 10, no afectó al valor fuera de la función.\n",
        "\n",
        "Esto se debe a que la variable x dentro de la función es diferente (local a la función) de la que está fuera. Aunque tengan los mismos nombres, son dos variables diferentes con alcances distintos.\n",
        "\n",
        "Por otro lado, las variables fuera de la función son visibles desde dentro. Tienen un ámbito global.\n",
        "\n",
        "Podemos leer estos valores desde dentro de la función, pero no podemos modificarlos (sobrescribirlos). Para modificar el valor de las variables definidas fuera de la función, estas se deben definir como variables globales escribiendo la palabra reservada `global` antes del nombre de la variable, sin embargo, esto suele ser una muy mala práctica."
      ],
      "metadata": {
        "id": "aTPMOEiX8_vC"
      }
    }
  ]
}